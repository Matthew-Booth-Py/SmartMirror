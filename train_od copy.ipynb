{
 "cells": [
  {
   "cell_type": "code",
   "execution_count": null,
   "metadata": {},
   "outputs": [],
   "source": [
    "import os, sys\n",
    "from imageai.Detection import ObjectDetection\n",
    "from imageai.Detection.Custom import DetectionModelTrainer\n"
   ]
  },
  {
   "cell_type": "code",
   "execution_count": null,
   "metadata": {},
   "outputs": [],
   "source": [
    "train = DetectionModelTrainer()\n",
    "train.setModelTypeAsTinyYOLOv3()\n",
    "train.setDataDirectory(data_directory=r\"C:\\Users\\Matt\\OneDrive\\GitHub\\SmartMirror\\SmartMirror\\pics\")\n",
    "train.setTrainConfig(\n",
    "    object_names_array=['matt'],\n",
    "    batch_size=4,\n",
    "    train_from_pretrained_model='./models/yolov3.pt',\n",
    "    num_experiments=1000,\n",
    "    \n",
    "    )"
   ]
  },
  {
   "cell_type": "code",
   "execution_count": null,
   "metadata": {},
   "outputs": [],
   "source": [
    "train.trainModel()"
   ]
  },
  {
   "cell_type": "code",
   "execution_count": null,
   "metadata": {},
   "outputs": [],
   "source": [
    "from imageai.Detection.Custom import CustomObjectDetection\n",
    "\n",
    "detector = CustomObjectDetection()\n",
    "detector.setModelTypeAsTinyYOLOv3()\n",
    "detector.setModelPath(\"./pics/models/tiny-yolov3_pics_last.pt\")\n",
    "detector.setJsonPath(\"./pics/json/pics_tiny-yolov3_detection_config.json\")\n",
    "detector.loadModel()\n",
    "input_image = r\"C:\\Users\\Matt\\Desktop\\imgs\\julia\\IMG_2681.JPEG\"\n",
    "detections = detector.detectObjectsFromImage(\n",
    "    objectness_treshold=.5,\n",
    "    minimum_percentage_probability=.5,\n",
    "    input_image=input_image, \n",
    "    output_image_path='image2.jpg')\n"
   ]
  },
  {
   "cell_type": "code",
   "execution_count": null,
   "metadata": {},
   "outputs": [],
   "source": [
    "print(detections)"
   ]
  },
  {
   "cell_type": "code",
   "execution_count": null,
   "metadata": {},
   "outputs": [],
   "source": [
    "for detection in detections:\n",
    "    print(detection[\"name\"], \" : \", detection[\"percentage_probability\"], \" : \", detection[\"box_points\"])"
   ]
  },
  {
   "cell_type": "code",
   "execution_count": null,
   "metadata": {},
   "outputs": [],
   "source": [
    "print(\"HELLO WRODL\")"
   ]
  },
  {
   "cell_type": "code",
   "execution_count": null,
   "metadata": {},
   "outputs": [],
   "source": []
  }
 ],
 "metadata": {
  "kernelspec": {
   "display_name": "nlp",
   "language": "python",
   "name": "python3"
  },
  "language_info": {
   "codemirror_mode": {
    "name": "ipython",
    "version": 3
   },
   "file_extension": ".py",
   "mimetype": "text/x-python",
   "name": "python",
   "nbconvert_exporter": "python",
   "pygments_lexer": "ipython3",
   "version": "3.10.8"
  },
  "orig_nbformat": 4,
  "vscode": {
   "interpreter": {
    "hash": "fb4c56a0391368e6ecc204d5e2c1a0c83bc4d2562e1657dcef0b2a9ce3227154"
   }
  }
 },
 "nbformat": 4,
 "nbformat_minor": 2
}

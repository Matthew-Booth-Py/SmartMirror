{
 "cells": [
  {
   "cell_type": "code",
   "execution_count": 1,
   "metadata": {},
   "outputs": [
    {
     "name": "stderr",
     "output_type": "stream",
     "text": [
      "c:\\Users\\Matt\\anaconda3\\envs\\SmartMirror\\lib\\site-packages\\tqdm\\auto.py:22: TqdmWarning: IProgress not found. Please update jupyter and ipywidgets. See https://ipywidgets.readthedocs.io/en/stable/user_install.html\n",
      "  from .autonotebook import tqdm as notebook_tqdm\n"
     ]
    }
   ],
   "source": [
    "import os, sys\n",
    "from imageai.Detection import ObjectDetection\n",
    "from imageai.Detection.Custom import DetectionModelTrainer\n"
   ]
  },
  {
   "cell_type": "code",
   "execution_count": 2,
   "metadata": {},
   "outputs": [],
   "source": [
    "train = DetectionModelTrainer()\n",
    "train.setModelTypeAsTinyYOLOv3()\n",
    "train.setDataDirectory(data_directory=r\"C:\\Users\\Matt\\OneDrive\\GitHub\\SmartMirror\\SmartMirror\\pics\")\n",
    "train.setTrainConfig(\n",
    "    object_names_array=['matt'],\n",
    "    batch_size=4,\n",
    "    train_from_pretrained_model='./models/yolov3.pt',\n",
    "    num_experiments=1000,\n",
    "    \n",
    "    )"
   ]
  },
  {
   "cell_type": "code",
   "execution_count": 12,
   "metadata": {},
   "outputs": [
    {
     "name": "stdout",
     "output_type": "stream",
     "text": [
      "Generating anchor boxes for training images...\n",
      "thr=0.25: 1.0000 best possible recall, 6.00 anchors past thr\n",
      "n=6, img_size=416, metric_all=0.559/0.941-mean/best, past_thr=0.559-mean: \n",
      "====================\n",
      "Pretrained YOLOv3 model loaded to initialize weights\n",
      "====================\n",
      "Epoch 1/1000\n",
      "----------\n",
      "Train: \n"
     ]
    },
    {
     "name": "stderr",
     "output_type": "stream",
     "text": [
      "3it [00:00,  3.49it/s]\n"
     ]
    },
    {
     "name": "stdout",
     "output_type": "stream",
     "text": [
      "    box loss-> 0.06271, object loss-> 1.24474, class loss-> 0.00000\n",
      "Validation:\n"
     ]
    },
    {
     "name": "stderr",
     "output_type": "stream",
     "text": [
      "1it [00:00,  2.52it/s]\n"
     ]
    },
    {
     "name": "stdout",
     "output_type": "stream",
     "text": [
      "    recall: 0.000000 precision: 0.000000 mAP@0.5: 0.000000, mAP@0.5-0.95: 0.000000\n",
      "\n",
      "Epoch 2/1000\n",
      "----------\n",
      "Train: \n"
     ]
    },
    {
     "name": "stderr",
     "output_type": "stream",
     "text": [
      "3it [00:00,  3.57it/s]\n"
     ]
    },
    {
     "name": "stdout",
     "output_type": "stream",
     "text": [
      "    box loss-> 0.06247, object loss-> 0.75557, class loss-> 0.00000\n",
      "Validation:\n"
     ]
    },
    {
     "name": "stderr",
     "output_type": "stream",
     "text": [
      "1it [00:00,  2.53it/s]\n"
     ]
    },
    {
     "name": "stdout",
     "output_type": "stream",
     "text": [
      "    recall: 0.000000 precision: 0.000000 mAP@0.5: 0.000000, mAP@0.5-0.95: 0.000000\n",
      "\n",
      "Epoch 3/1000\n",
      "----------\n",
      "Train: \n"
     ]
    },
    {
     "name": "stderr",
     "output_type": "stream",
     "text": [
      "3it [00:00,  3.59it/s]\n"
     ]
    },
    {
     "name": "stdout",
     "output_type": "stream",
     "text": [
      "    box loss-> 0.06174, object loss-> 0.46643, class loss-> 0.00000\n",
      "Validation:\n"
     ]
    },
    {
     "name": "stderr",
     "output_type": "stream",
     "text": [
      "1it [00:00,  2.70it/s]\n"
     ]
    },
    {
     "name": "stdout",
     "output_type": "stream",
     "text": [
      "    recall: 0.000000 precision: 0.000000 mAP@0.5: 0.000000, mAP@0.5-0.95: 0.000000\n",
      "\n",
      "Epoch 4/1000\n",
      "----------\n",
      "Train: \n"
     ]
    },
    {
     "name": "stderr",
     "output_type": "stream",
     "text": [
      "3it [00:00,  3.58it/s]\n"
     ]
    },
    {
     "name": "stdout",
     "output_type": "stream",
     "text": [
      "    box loss-> 0.06058, object loss-> 0.32755, class loss-> 0.00000\n",
      "Validation:\n"
     ]
    },
    {
     "name": "stderr",
     "output_type": "stream",
     "text": [
      "1it [00:00,  2.64it/s]\n"
     ]
    },
    {
     "name": "stdout",
     "output_type": "stream",
     "text": [
      "    recall: 0.000000 precision: 0.000000 mAP@0.5: 0.000000, mAP@0.5-0.95: 0.000000\n",
      "\n",
      "Epoch 5/1000\n",
      "----------\n",
      "Train: \n"
     ]
    },
    {
     "name": "stderr",
     "output_type": "stream",
     "text": [
      "3it [00:00,  3.55it/s]\n"
     ]
    },
    {
     "name": "stdout",
     "output_type": "stream",
     "text": [
      "    box loss-> 0.05985, object loss-> 0.25744, class loss-> 0.00000\n",
      "Validation:\n"
     ]
    },
    {
     "name": "stderr",
     "output_type": "stream",
     "text": [
      "1it [00:00,  2.59it/s]\n"
     ]
    },
    {
     "name": "stdout",
     "output_type": "stream",
     "text": [
      "    recall: 0.000000 precision: 0.000000 mAP@0.5: 0.000000, mAP@0.5-0.95: 0.000000\n",
      "\n",
      "Epoch 6/1000\n",
      "----------\n",
      "Train: \n"
     ]
    },
    {
     "name": "stderr",
     "output_type": "stream",
     "text": [
      "3it [00:00,  3.60it/s]\n"
     ]
    },
    {
     "name": "stdout",
     "output_type": "stream",
     "text": [
      "    box loss-> 0.05869, object loss-> 0.21740, class loss-> 0.00000\n",
      "Validation:\n"
     ]
    },
    {
     "name": "stderr",
     "output_type": "stream",
     "text": [
      "1it [00:00,  2.84it/s]\n"
     ]
    },
    {
     "name": "stdout",
     "output_type": "stream",
     "text": [
      "    recall: 0.500000 precision: 0.001667 mAP@0.5: 0.001276, mAP@0.5-0.95: 0.000255\n",
      "\n",
      "Epoch 7/1000\n",
      "----------\n",
      "Train: \n"
     ]
    },
    {
     "name": "stderr",
     "output_type": "stream",
     "text": [
      "3it [00:00,  3.62it/s]\n"
     ]
    },
    {
     "name": "stdout",
     "output_type": "stream",
     "text": [
      "    box loss-> 0.05807, object loss-> 0.19156, class loss-> 0.00000\n",
      "Validation:\n"
     ]
    },
    {
     "name": "stderr",
     "output_type": "stream",
     "text": [
      "1it [00:00,  2.86it/s]\n"
     ]
    },
    {
     "name": "stdout",
     "output_type": "stream",
     "text": [
      "    recall: 0.500000 precision: 0.001860 mAP@0.5: 0.001349, mAP@0.5-0.95: 0.000135\n",
      "\n",
      "Epoch 8/1000\n",
      "----------\n",
      "Train: \n"
     ]
    },
    {
     "name": "stderr",
     "output_type": "stream",
     "text": [
      "3it [00:00,  3.58it/s]\n"
     ]
    },
    {
     "name": "stdout",
     "output_type": "stream",
     "text": [
      "    box loss-> 0.05661, object loss-> 0.17500, class loss-> 0.00000\n",
      "Validation:\n"
     ]
    },
    {
     "name": "stderr",
     "output_type": "stream",
     "text": [
      "1it [00:00,  2.85it/s]\n"
     ]
    },
    {
     "name": "stdout",
     "output_type": "stream",
     "text": [
      "    recall: 0.500000 precision: 0.002996 mAP@0.5: 0.001943, mAP@0.5-0.95: 0.000194\n",
      "\n",
      "Epoch 9/1000\n",
      "----------\n",
      "Train: \n"
     ]
    },
    {
     "name": "stderr",
     "output_type": "stream",
     "text": [
      "3it [00:00,  3.58it/s]\n"
     ]
    },
    {
     "name": "stdout",
     "output_type": "stream",
     "text": [
      "    box loss-> 0.05570, object loss-> 0.16340, class loss-> 0.00000\n",
      "Validation:\n"
     ]
    },
    {
     "name": "stderr",
     "output_type": "stream",
     "text": [
      "1it [00:00,  2.89it/s]\n"
     ]
    },
    {
     "name": "stdout",
     "output_type": "stream",
     "text": [
      "    recall: 0.500000 precision: 0.002673 mAP@0.5: 0.002344, mAP@0.5-0.95: 0.000234\n",
      "\n",
      "Epoch 10/1000\n",
      "----------\n",
      "Train: \n"
     ]
    },
    {
     "name": "stderr",
     "output_type": "stream",
     "text": [
      "3it [00:00,  3.62it/s]\n"
     ]
    },
    {
     "name": "stdout",
     "output_type": "stream",
     "text": [
      "    box loss-> 0.05504, object loss-> 0.15443, class loss-> 0.00000\n",
      "Validation:\n"
     ]
    },
    {
     "name": "stderr",
     "output_type": "stream",
     "text": [
      "1it [00:00,  2.90it/s]\n"
     ]
    },
    {
     "name": "stdout",
     "output_type": "stream",
     "text": [
      "    recall: 0.500000 precision: 0.002630 mAP@0.5: 0.001823, mAP@0.5-0.95: 0.000547\n",
      "\n",
      "Epoch 11/1000\n",
      "----------\n",
      "Train: \n"
     ]
    },
    {
     "name": "stderr",
     "output_type": "stream",
     "text": [
      "3it [00:00,  3.65it/s]\n"
     ]
    },
    {
     "name": "stdout",
     "output_type": "stream",
     "text": [
      "    box loss-> 0.05501, object loss-> 0.14633, class loss-> 0.00000\n",
      "Validation:\n"
     ]
    },
    {
     "name": "stderr",
     "output_type": "stream",
     "text": [
      "1it [00:00,  2.88it/s]\n"
     ]
    },
    {
     "name": "stdout",
     "output_type": "stream",
     "text": [
      "    recall: 0.500000 precision: 0.002279 mAP@0.5: 0.001752, mAP@0.5-0.95: 0.000526\n",
      "\n",
      "Epoch 12/1000\n",
      "----------\n",
      "Train: \n"
     ]
    },
    {
     "name": "stderr",
     "output_type": "stream",
     "text": [
      "3it [00:00,  3.69it/s]\n"
     ]
    },
    {
     "name": "stdout",
     "output_type": "stream",
     "text": [
      "    box loss-> 0.05284, object loss-> 0.14507, class loss-> 0.00000\n",
      "Validation:\n"
     ]
    },
    {
     "name": "stderr",
     "output_type": "stream",
     "text": [
      "1it [00:00,  2.82it/s]\n"
     ]
    },
    {
     "name": "stdout",
     "output_type": "stream",
     "text": [
      "    recall: 0.500000 precision: 0.004345 mAP@0.5: 0.003500, mAP@0.5-0.95: 0.000350\n",
      "\n",
      "Epoch 13/1000\n",
      "----------\n",
      "Train: \n"
     ]
    },
    {
     "name": "stderr",
     "output_type": "stream",
     "text": [
      "3it [00:00,  3.62it/s]\n"
     ]
    },
    {
     "name": "stdout",
     "output_type": "stream",
     "text": [
      "    box loss-> 0.05217, object loss-> 0.14232, class loss-> 0.00000\n",
      "Validation:\n"
     ]
    },
    {
     "name": "stderr",
     "output_type": "stream",
     "text": [
      "1it [00:00,  2.89it/s]\n"
     ]
    },
    {
     "name": "stdout",
     "output_type": "stream",
     "text": [
      "    recall: 0.500000 precision: 0.003957 mAP@0.5: 0.002951, mAP@0.5-0.95: 0.000295\n",
      "\n",
      "Epoch 14/1000\n",
      "----------\n",
      "Train: \n"
     ]
    },
    {
     "name": "stderr",
     "output_type": "stream",
     "text": [
      "3it [00:00,  3.75it/s]\n"
     ]
    },
    {
     "name": "stdout",
     "output_type": "stream",
     "text": [
      "    box loss-> 0.05146, object loss-> 0.13715, class loss-> 0.00000\n",
      "Validation:\n"
     ]
    },
    {
     "name": "stderr",
     "output_type": "stream",
     "text": [
      "1it [00:00,  2.85it/s]\n"
     ]
    },
    {
     "name": "stdout",
     "output_type": "stream",
     "text": [
      "    recall: 0.500000 precision: 0.003229 mAP@0.5: 0.002351, mAP@0.5-0.95: 0.000235\n",
      "\n",
      "Epoch 15/1000\n",
      "----------\n",
      "Train: \n"
     ]
    },
    {
     "name": "stderr",
     "output_type": "stream",
     "text": [
      "3it [00:00,  3.67it/s]\n"
     ]
    },
    {
     "name": "stdout",
     "output_type": "stream",
     "text": [
      "    box loss-> 0.05134, object loss-> 0.13460, class loss-> 0.00000\n",
      "Validation:\n"
     ]
    },
    {
     "name": "stderr",
     "output_type": "stream",
     "text": [
      "1it [00:00,  2.87it/s]\n"
     ]
    },
    {
     "name": "stdout",
     "output_type": "stream",
     "text": [
      "    recall: 0.500000 precision: 0.001967 mAP@0.5: 0.001537, mAP@0.5-0.95: 0.000615\n",
      "\n",
      "Epoch 16/1000\n",
      "----------\n",
      "Train: \n"
     ]
    },
    {
     "name": "stderr",
     "output_type": "stream",
     "text": [
      "3it [00:00,  3.75it/s]\n"
     ]
    },
    {
     "name": "stdout",
     "output_type": "stream",
     "text": [
      "    box loss-> 0.05130, object loss-> 0.12937, class loss-> 0.00000\n",
      "Validation:\n"
     ]
    },
    {
     "name": "stderr",
     "output_type": "stream",
     "text": [
      "1it [00:00,  2.98it/s]\n"
     ]
    },
    {
     "name": "stdout",
     "output_type": "stream",
     "text": [
      "    recall: 0.500000 precision: 0.009280 mAP@0.5: 0.005581, mAP@0.5-0.95: 0.000558\n",
      "\n",
      "Epoch 17/1000\n",
      "----------\n",
      "Train: \n"
     ]
    },
    {
     "name": "stderr",
     "output_type": "stream",
     "text": [
      "3it [00:00,  3.65it/s]\n"
     ]
    },
    {
     "name": "stdout",
     "output_type": "stream",
     "text": [
      "    box loss-> 0.05209, object loss-> 0.12395, class loss-> 0.00000\n",
      "Validation:\n"
     ]
    },
    {
     "name": "stderr",
     "output_type": "stream",
     "text": [
      "1it [00:00,  2.98it/s]\n"
     ]
    },
    {
     "name": "stdout",
     "output_type": "stream",
     "text": [
      "    recall: 0.500000 precision: 0.006848 mAP@0.5: 0.004482, mAP@0.5-0.95: 0.000896\n",
      "\n",
      "Epoch 18/1000\n",
      "----------\n",
      "Train: \n"
     ]
    },
    {
     "name": "stderr",
     "output_type": "stream",
     "text": [
      "3it [00:00,  3.73it/s]\n"
     ]
    },
    {
     "name": "stdout",
     "output_type": "stream",
     "text": [
      "    box loss-> 0.04997, object loss-> 0.12407, class loss-> 0.00000\n",
      "Validation:\n"
     ]
    },
    {
     "name": "stderr",
     "output_type": "stream",
     "text": [
      "1it [00:00,  3.04it/s]\n"
     ]
    },
    {
     "name": "stdout",
     "output_type": "stream",
     "text": [
      "    recall: 0.500000 precision: 0.006919 mAP@0.5: 0.004516, mAP@0.5-0.95: 0.000903\n",
      "\n",
      "Epoch 19/1000\n",
      "----------\n",
      "Train: \n"
     ]
    },
    {
     "name": "stderr",
     "output_type": "stream",
     "text": [
      "3it [00:00,  3.63it/s]\n"
     ]
    },
    {
     "name": "stdout",
     "output_type": "stream",
     "text": [
      "    box loss-> 0.04937, object loss-> 0.12056, class loss-> 0.00000\n",
      "Validation:\n"
     ]
    },
    {
     "name": "stderr",
     "output_type": "stream",
     "text": [
      "1it [00:00,  3.03it/s]\n"
     ]
    },
    {
     "name": "stdout",
     "output_type": "stream",
     "text": [
      "    recall: 0.500000 precision: 0.008544 mAP@0.5: 0.005185, mAP@0.5-0.95: 0.001555\n",
      "\n",
      "Epoch 20/1000\n",
      "----------\n",
      "Train: \n"
     ]
    },
    {
     "name": "stderr",
     "output_type": "stream",
     "text": [
      "3it [00:00,  3.75it/s]\n"
     ]
    },
    {
     "name": "stdout",
     "output_type": "stream",
     "text": [
      "    box loss-> 0.04730, object loss-> 0.12023, class loss-> 0.00000\n",
      "Validation:\n"
     ]
    },
    {
     "name": "stderr",
     "output_type": "stream",
     "text": [
      "1it [00:00,  3.09it/s]\n"
     ]
    },
    {
     "name": "stdout",
     "output_type": "stream",
     "text": [
      "    recall: 0.500000 precision: 0.005685 mAP@0.5: 0.004012, mAP@0.5-0.95: 0.001204\n",
      "\n",
      "Epoch 21/1000\n",
      "----------\n",
      "Train: \n"
     ]
    },
    {
     "name": "stderr",
     "output_type": "stream",
     "text": [
      "3it [00:00,  3.68it/s]\n"
     ]
    },
    {
     "name": "stdout",
     "output_type": "stream",
     "text": [
      "    box loss-> 0.04798, object loss-> 0.11554, class loss-> 0.00000\n",
      "Validation:\n"
     ]
    },
    {
     "name": "stderr",
     "output_type": "stream",
     "text": [
      "1it [00:00,  3.12it/s]\n"
     ]
    },
    {
     "name": "stdout",
     "output_type": "stream",
     "text": [
      "    recall: 0.500000 precision: 0.010166 mAP@0.5: 0.005805, mAP@0.5-0.95: 0.000581\n",
      "\n",
      "Epoch 22/1000\n",
      "----------\n",
      "Train: \n"
     ]
    },
    {
     "name": "stderr",
     "output_type": "stream",
     "text": [
      "3it [00:00,  3.74it/s]\n"
     ]
    },
    {
     "name": "stdout",
     "output_type": "stream",
     "text": [
      "    box loss-> 0.04728, object loss-> 0.11410, class loss-> 0.00000\n",
      "Validation:\n"
     ]
    },
    {
     "name": "stderr",
     "output_type": "stream",
     "text": [
      "1it [00:00,  3.06it/s]\n"
     ]
    },
    {
     "name": "stdout",
     "output_type": "stream",
     "text": [
      "    recall: 0.500000 precision: 0.009887 mAP@0.5: 0.006050, mAP@0.5-0.95: 0.000605\n",
      "\n",
      "Epoch 23/1000\n",
      "----------\n",
      "Train: \n"
     ]
    },
    {
     "name": "stderr",
     "output_type": "stream",
     "text": [
      "3it [00:00,  3.66it/s]\n"
     ]
    },
    {
     "name": "stdout",
     "output_type": "stream",
     "text": [
      "    box loss-> 0.04632, object loss-> 0.11017, class loss-> 0.00000\n",
      "Validation:\n"
     ]
    },
    {
     "name": "stderr",
     "output_type": "stream",
     "text": [
      "1it [00:00,  3.07it/s]\n"
     ]
    },
    {
     "name": "stdout",
     "output_type": "stream",
     "text": [
      "    recall: 0.500000 precision: 0.012206 mAP@0.5: 0.006854, mAP@0.5-0.95: 0.000685\n",
      "\n",
      "Epoch 24/1000\n",
      "----------\n",
      "Train: \n"
     ]
    },
    {
     "name": "stderr",
     "output_type": "stream",
     "text": [
      "3it [00:00,  3.71it/s]\n"
     ]
    },
    {
     "name": "stdout",
     "output_type": "stream",
     "text": [
      "    box loss-> 0.04586, object loss-> 0.10588, class loss-> 0.00000\n",
      "Validation:\n"
     ]
    },
    {
     "name": "stderr",
     "output_type": "stream",
     "text": [
      "1it [00:00,  3.13it/s]\n"
     ]
    },
    {
     "name": "stdout",
     "output_type": "stream",
     "text": [
      "    recall: 0.500000 precision: 0.011806 mAP@0.5: 0.007206, mAP@0.5-0.95: 0.001441\n",
      "\n",
      "Epoch 25/1000\n",
      "----------\n",
      "Train: \n"
     ]
    },
    {
     "name": "stderr",
     "output_type": "stream",
     "text": [
      "3it [00:00,  3.69it/s]\n"
     ]
    },
    {
     "name": "stdout",
     "output_type": "stream",
     "text": [
      "    box loss-> 0.04597, object loss-> 0.10355, class loss-> 0.00000\n",
      "Validation:\n"
     ]
    },
    {
     "name": "stderr",
     "output_type": "stream",
     "text": [
      "1it [00:00,  3.13it/s]\n"
     ]
    },
    {
     "name": "stdout",
     "output_type": "stream",
     "text": [
      "    recall: 0.500000 precision: 0.014673 mAP@0.5: 0.007925, mAP@0.5-0.95: 0.001585\n",
      "\n",
      "Epoch 26/1000\n",
      "----------\n",
      "Train: \n"
     ]
    },
    {
     "name": "stderr",
     "output_type": "stream",
     "text": [
      "3it [00:00,  3.70it/s]\n"
     ]
    },
    {
     "name": "stdout",
     "output_type": "stream",
     "text": [
      "    box loss-> 0.04380, object loss-> 0.10193, class loss-> 0.00000\n",
      "Validation:\n"
     ]
    },
    {
     "name": "stderr",
     "output_type": "stream",
     "text": [
      "1it [00:00,  3.13it/s]\n"
     ]
    },
    {
     "name": "stdout",
     "output_type": "stream",
     "text": [
      "    recall: 0.500000 precision: 0.015248 mAP@0.5: 0.008409, mAP@0.5-0.95: 0.002523\n",
      "\n",
      "Epoch 27/1000\n",
      "----------\n",
      "Train: \n"
     ]
    },
    {
     "name": "stderr",
     "output_type": "stream",
     "text": [
      "3it [00:00,  3.68it/s]\n"
     ]
    },
    {
     "name": "stdout",
     "output_type": "stream",
     "text": [
      "    box loss-> 0.04528, object loss-> 0.09887, class loss-> 0.00000\n",
      "Validation:\n"
     ]
    },
    {
     "name": "stderr",
     "output_type": "stream",
     "text": [
      "1it [00:00,  3.22it/s]\n"
     ]
    },
    {
     "name": "stdout",
     "output_type": "stream",
     "text": [
      "    recall: 0.500000 precision: 0.013989 mAP@0.5: 0.007704, mAP@0.5-0.95: 0.002311\n",
      "\n",
      "Epoch 28/1000\n",
      "----------\n",
      "Train: \n"
     ]
    },
    {
     "name": "stderr",
     "output_type": "stream",
     "text": [
      "3it [00:00,  3.67it/s]\n"
     ]
    },
    {
     "name": "stdout",
     "output_type": "stream",
     "text": [
      "    box loss-> 0.04293, object loss-> 0.09674, class loss-> 0.00000\n",
      "Validation:\n"
     ]
    },
    {
     "name": "stderr",
     "output_type": "stream",
     "text": [
      "1it [00:00,  3.04it/s]\n"
     ]
    },
    {
     "name": "stdout",
     "output_type": "stream",
     "text": [
      "    recall: 0.500000 precision: 0.012476 mAP@0.5: 0.007704, mAP@0.5-0.95: 0.002311\n",
      "\n",
      "Epoch 29/1000\n",
      "----------\n",
      "Train: \n"
     ]
    },
    {
     "name": "stderr",
     "output_type": "stream",
     "text": [
      "3it [00:00,  3.58it/s]\n"
     ]
    },
    {
     "name": "stdout",
     "output_type": "stream",
     "text": [
      "    box loss-> 0.04353, object loss-> 0.09296, class loss-> 0.00000\n",
      "Validation:\n"
     ]
    },
    {
     "name": "stderr",
     "output_type": "stream",
     "text": [
      "1it [00:00,  3.20it/s]\n"
     ]
    },
    {
     "name": "stdout",
     "output_type": "stream",
     "text": [
      "    recall: 0.500000 precision: 0.058499 mAP@0.5: 0.038502, mAP@0.5-0.95: 0.011551\n",
      "\n",
      "Epoch 30/1000\n",
      "----------\n",
      "Train: \n"
     ]
    },
    {
     "name": "stderr",
     "output_type": "stream",
     "text": [
      "3it [00:00,  3.67it/s]\n"
     ]
    },
    {
     "name": "stdout",
     "output_type": "stream",
     "text": [
      "    box loss-> 0.04200, object loss-> 0.09166, class loss-> 0.00000\n",
      "Validation:\n"
     ]
    },
    {
     "name": "stderr",
     "output_type": "stream",
     "text": [
      "1it [00:00,  3.18it/s]\n"
     ]
    },
    {
     "name": "stdout",
     "output_type": "stream",
     "text": [
      "    recall: 0.500000 precision: 0.801657 mAP@0.5: 0.495425, mAP@0.5-0.95: 0.148627\n",
      "\n",
      "Epoch 31/1000\n",
      "----------\n",
      "Train: \n"
     ]
    },
    {
     "name": "stderr",
     "output_type": "stream",
     "text": [
      "3it [00:00,  3.62it/s]\n"
     ]
    },
    {
     "name": "stdout",
     "output_type": "stream",
     "text": [
      "    box loss-> 0.04199, object loss-> 0.08878, class loss-> 0.00000\n",
      "Validation:\n"
     ]
    },
    {
     "name": "stderr",
     "output_type": "stream",
     "text": [
      "1it [00:00,  3.16it/s]\n"
     ]
    },
    {
     "name": "stdout",
     "output_type": "stream",
     "text": [
      "    recall: 0.500000 precision: 0.977736 mAP@0.5: 0.495425, mAP@0.5-0.95: 0.148627\n",
      "\n",
      "Epoch 32/1000\n",
      "----------\n",
      "Train: \n"
     ]
    },
    {
     "name": "stderr",
     "output_type": "stream",
     "text": [
      "3it [00:00,  3.68it/s]\n"
     ]
    },
    {
     "name": "stdout",
     "output_type": "stream",
     "text": [
      "    box loss-> 0.04193, object loss-> 0.08515, class loss-> 0.00000\n",
      "Validation:\n"
     ]
    },
    {
     "name": "stderr",
     "output_type": "stream",
     "text": [
      "1it [00:00,  3.40it/s]\n"
     ]
    },
    {
     "name": "stdout",
     "output_type": "stream",
     "text": [
      "    recall: 0.500000 precision: 0.994246 mAP@0.5: 0.495425, mAP@0.5-0.95: 0.247713\n",
      "\n",
      "Epoch 33/1000\n",
      "----------\n",
      "Train: \n"
     ]
    },
    {
     "name": "stderr",
     "output_type": "stream",
     "text": [
      "3it [00:00,  3.78it/s]\n"
     ]
    },
    {
     "name": "stdout",
     "output_type": "stream",
     "text": [
      "    box loss-> 0.03988, object loss-> 0.08347, class loss-> 0.00000\n",
      "Validation:\n"
     ]
    },
    {
     "name": "stderr",
     "output_type": "stream",
     "text": [
      "1it [00:00,  3.25it/s]\n"
     ]
    },
    {
     "name": "stdout",
     "output_type": "stream",
     "text": [
      "    recall: 0.500000 precision: 0.995064 mAP@0.5: 0.495425, mAP@0.5-0.95: 0.247713\n",
      "\n",
      "Epoch 34/1000\n",
      "----------\n",
      "Train: \n"
     ]
    },
    {
     "name": "stderr",
     "output_type": "stream",
     "text": [
      "3it [00:00,  3.71it/s]\n"
     ]
    },
    {
     "name": "stdout",
     "output_type": "stream",
     "text": [
      "    box loss-> 0.04164, object loss-> 0.08119, class loss-> 0.00000\n",
      "Validation:\n"
     ]
    },
    {
     "name": "stderr",
     "output_type": "stream",
     "text": [
      "1it [00:00,  3.31it/s]\n"
     ]
    },
    {
     "name": "stdout",
     "output_type": "stream",
     "text": [
      "    recall: 0.500000 precision: 0.983899 mAP@0.5: 0.495425, mAP@0.5-0.95: 0.247713\n",
      "\n",
      "Epoch 35/1000\n",
      "----------\n",
      "Train: \n"
     ]
    },
    {
     "name": "stderr",
     "output_type": "stream",
     "text": [
      "3it [00:00,  3.68it/s]\n"
     ]
    },
    {
     "name": "stdout",
     "output_type": "stream",
     "text": [
      "    box loss-> 0.04110, object loss-> 0.08158, class loss-> 0.00000\n",
      "Validation:\n"
     ]
    },
    {
     "name": "stderr",
     "output_type": "stream",
     "text": [
      "1it [00:00,  3.40it/s]\n"
     ]
    },
    {
     "name": "stdout",
     "output_type": "stream",
     "text": [
      "    recall: 0.500000 precision: 0.994020 mAP@0.5: 0.495425, mAP@0.5-0.95: 0.247713\n",
      "\n",
      "Epoch 36/1000\n",
      "----------\n",
      "Train: \n"
     ]
    },
    {
     "name": "stderr",
     "output_type": "stream",
     "text": [
      "3it [00:00,  3.75it/s]\n"
     ]
    },
    {
     "name": "stdout",
     "output_type": "stream",
     "text": [
      "    box loss-> 0.04108, object loss-> 0.07844, class loss-> 0.00000\n",
      "Validation:\n"
     ]
    },
    {
     "name": "stderr",
     "output_type": "stream",
     "text": [
      "1it [00:00,  3.40it/s]\n"
     ]
    },
    {
     "name": "stdout",
     "output_type": "stream",
     "text": [
      "    recall: 0.500000 precision: 0.984595 mAP@0.5: 0.495425, mAP@0.5-0.95: 0.247713\n",
      "\n",
      "Epoch 37/1000\n",
      "----------\n",
      "Train: \n"
     ]
    },
    {
     "name": "stderr",
     "output_type": "stream",
     "text": [
      "3it [00:00,  3.72it/s]\n"
     ]
    },
    {
     "name": "stdout",
     "output_type": "stream",
     "text": [
      "    box loss-> 0.04038, object loss-> 0.07802, class loss-> 0.00000\n",
      "Validation:\n"
     ]
    },
    {
     "name": "stderr",
     "output_type": "stream",
     "text": [
      "1it [00:00,  3.55it/s]\n"
     ]
    },
    {
     "name": "stdout",
     "output_type": "stream",
     "text": [
      "    recall: 0.500000 precision: 0.995932 mAP@0.5: 0.495425, mAP@0.5-0.95: 0.247713\n",
      "\n",
      "Epoch 38/1000\n",
      "----------\n",
      "Train: \n"
     ]
    },
    {
     "name": "stderr",
     "output_type": "stream",
     "text": [
      "3it [00:00,  3.73it/s]\n"
     ]
    },
    {
     "name": "stdout",
     "output_type": "stream",
     "text": [
      "    box loss-> 0.04084, object loss-> 0.07651, class loss-> 0.00000\n",
      "Validation:\n"
     ]
    },
    {
     "name": "stderr",
     "output_type": "stream",
     "text": [
      "1it [00:00,  3.59it/s]\n"
     ]
    },
    {
     "name": "stdout",
     "output_type": "stream",
     "text": [
      "    recall: 0.500000 precision: 0.989990 mAP@0.5: 0.495425, mAP@0.5-0.95: 0.247713\n",
      "\n",
      "Epoch 39/1000\n",
      "----------\n",
      "Train: \n"
     ]
    },
    {
     "name": "stderr",
     "output_type": "stream",
     "text": [
      "3it [00:00,  3.72it/s]\n"
     ]
    },
    {
     "name": "stdout",
     "output_type": "stream",
     "text": [
      "    box loss-> 0.04130, object loss-> 0.07499, class loss-> 0.00000\n",
      "Validation:\n"
     ]
    },
    {
     "name": "stderr",
     "output_type": "stream",
     "text": [
      "1it [00:00,  3.58it/s]\n"
     ]
    },
    {
     "name": "stdout",
     "output_type": "stream",
     "text": [
      "    recall: 0.500000 precision: 0.986079 mAP@0.5: 0.495425, mAP@0.5-0.95: 0.247713\n",
      "\n",
      "Epoch 40/1000\n",
      "----------\n",
      "Train: \n"
     ]
    },
    {
     "name": "stderr",
     "output_type": "stream",
     "text": [
      "3it [00:00,  3.76it/s]\n"
     ]
    },
    {
     "name": "stdout",
     "output_type": "stream",
     "text": [
      "    box loss-> 0.04019, object loss-> 0.07591, class loss-> 0.00000\n",
      "Validation:\n"
     ]
    },
    {
     "name": "stderr",
     "output_type": "stream",
     "text": [
      "1it [00:00,  3.58it/s]\n"
     ]
    },
    {
     "name": "stdout",
     "output_type": "stream",
     "text": [
      "    recall: 0.500000 precision: 0.999249 mAP@0.5: 0.495425, mAP@0.5-0.95: 0.247713\n",
      "\n",
      "Epoch 41/1000\n",
      "----------\n",
      "Train: \n"
     ]
    },
    {
     "name": "stderr",
     "output_type": "stream",
     "text": [
      "3it [00:00,  3.76it/s]\n"
     ]
    },
    {
     "name": "stdout",
     "output_type": "stream",
     "text": [
      "    box loss-> 0.04001, object loss-> 0.07338, class loss-> 0.00000\n",
      "Validation:\n"
     ]
    },
    {
     "name": "stderr",
     "output_type": "stream",
     "text": [
      "1it [00:00,  3.62it/s]\n"
     ]
    },
    {
     "name": "stdout",
     "output_type": "stream",
     "text": [
      "    recall: 0.500000 precision: 0.997254 mAP@0.5: 0.495425, mAP@0.5-0.95: 0.247713\n",
      "\n",
      "Epoch 42/1000\n",
      "----------\n",
      "Train: \n"
     ]
    },
    {
     "name": "stderr",
     "output_type": "stream",
     "text": [
      "3it [00:00,  3.72it/s]\n"
     ]
    },
    {
     "name": "stdout",
     "output_type": "stream",
     "text": [
      "    box loss-> 0.04035, object loss-> 0.07177, class loss-> 0.00000\n",
      "Validation:\n"
     ]
    },
    {
     "name": "stderr",
     "output_type": "stream",
     "text": [
      "1it [00:00,  3.69it/s]\n"
     ]
    },
    {
     "name": "stdout",
     "output_type": "stream",
     "text": [
      "    recall: 0.500000 precision: 0.989886 mAP@0.5: 0.495425, mAP@0.5-0.95: 0.247713\n",
      "\n",
      "Epoch 43/1000\n",
      "----------\n",
      "Train: \n"
     ]
    },
    {
     "name": "stderr",
     "output_type": "stream",
     "text": [
      "3it [00:00,  3.75it/s]\n"
     ]
    },
    {
     "name": "stdout",
     "output_type": "stream",
     "text": [
      "    box loss-> 0.03911, object loss-> 0.07165, class loss-> 0.00000\n",
      "Validation:\n"
     ]
    },
    {
     "name": "stderr",
     "output_type": "stream",
     "text": [
      "1it [00:00,  3.59it/s]\n"
     ]
    },
    {
     "name": "stdout",
     "output_type": "stream",
     "text": [
      "    recall: 0.500000 precision: 0.990188 mAP@0.5: 0.495425, mAP@0.5-0.95: 0.198170\n",
      "\n",
      "Epoch 44/1000\n",
      "----------\n",
      "Train: \n"
     ]
    },
    {
     "name": "stderr",
     "output_type": "stream",
     "text": [
      "3it [00:00,  3.71it/s]\n"
     ]
    },
    {
     "name": "stdout",
     "output_type": "stream",
     "text": [
      "    box loss-> 0.03918, object loss-> 0.07220, class loss-> 0.00000\n",
      "Validation:\n"
     ]
    },
    {
     "name": "stderr",
     "output_type": "stream",
     "text": [
      "1it [00:00,  3.74it/s]\n"
     ]
    },
    {
     "name": "stdout",
     "output_type": "stream",
     "text": [
      "    recall: 0.500000 precision: 0.998157 mAP@0.5: 0.495425, mAP@0.5-0.95: 0.198170\n",
      "\n",
      "Epoch 45/1000\n",
      "----------\n",
      "Train: \n"
     ]
    },
    {
     "name": "stderr",
     "output_type": "stream",
     "text": [
      "3it [00:00,  3.69it/s]\n"
     ]
    },
    {
     "name": "stdout",
     "output_type": "stream",
     "text": [
      "    box loss-> 0.03902, object loss-> 0.06924, class loss-> 0.00000\n",
      "Validation:\n"
     ]
    },
    {
     "name": "stderr",
     "output_type": "stream",
     "text": [
      "1it [00:00,  3.69it/s]\n"
     ]
    },
    {
     "name": "stdout",
     "output_type": "stream",
     "text": [
      "    recall: 0.500000 precision: 0.992536 mAP@0.5: 0.495425, mAP@0.5-0.95: 0.247713\n",
      "\n",
      "Epoch 46/1000\n",
      "----------\n",
      "Train: \n"
     ]
    },
    {
     "name": "stderr",
     "output_type": "stream",
     "text": [
      "3it [00:00,  3.73it/s]\n"
     ]
    },
    {
     "name": "stdout",
     "output_type": "stream",
     "text": [
      "    box loss-> 0.03780, object loss-> 0.06914, class loss-> 0.00000\n",
      "Validation:\n"
     ]
    },
    {
     "name": "stderr",
     "output_type": "stream",
     "text": [
      "1it [00:00,  3.73it/s]\n"
     ]
    },
    {
     "name": "stdout",
     "output_type": "stream",
     "text": [
      "    recall: 0.500000 precision: 0.998725 mAP@0.5: 0.495425, mAP@0.5-0.95: 0.247713\n",
      "\n",
      "Epoch 47/1000\n",
      "----------\n",
      "Train: \n"
     ]
    },
    {
     "name": "stderr",
     "output_type": "stream",
     "text": [
      "3it [00:00,  3.71it/s]\n"
     ]
    },
    {
     "name": "stdout",
     "output_type": "stream",
     "text": [
      "    box loss-> 0.04040, object loss-> 0.06884, class loss-> 0.00000\n",
      "Validation:\n"
     ]
    },
    {
     "name": "stderr",
     "output_type": "stream",
     "text": [
      "1it [00:00,  3.73it/s]\n"
     ]
    },
    {
     "name": "stdout",
     "output_type": "stream",
     "text": [
      "    recall: 0.500000 precision: 0.987965 mAP@0.5: 0.495425, mAP@0.5-0.95: 0.247713\n",
      "\n",
      "Epoch 48/1000\n",
      "----------\n",
      "Train: \n"
     ]
    },
    {
     "name": "stderr",
     "output_type": "stream",
     "text": [
      "3it [00:00,  3.73it/s]\n"
     ]
    },
    {
     "name": "stdout",
     "output_type": "stream",
     "text": [
      "    box loss-> 0.03840, object loss-> 0.06813, class loss-> 0.00000\n",
      "Validation:\n"
     ]
    },
    {
     "name": "stderr",
     "output_type": "stream",
     "text": [
      "1it [00:00,  3.59it/s]\n"
     ]
    },
    {
     "name": "stdout",
     "output_type": "stream",
     "text": [
      "    recall: 0.500000 precision: 0.994278 mAP@0.5: 0.495425, mAP@0.5-0.95: 0.247713\n",
      "\n",
      "Epoch 49/1000\n",
      "----------\n",
      "Train: \n"
     ]
    },
    {
     "name": "stderr",
     "output_type": "stream",
     "text": [
      "3it [00:00,  3.75it/s]\n"
     ]
    },
    {
     "name": "stdout",
     "output_type": "stream",
     "text": [
      "    box loss-> 0.03923, object loss-> 0.06556, class loss-> 0.00000\n",
      "Validation:\n"
     ]
    },
    {
     "name": "stderr",
     "output_type": "stream",
     "text": [
      "1it [00:00,  3.77it/s]\n"
     ]
    },
    {
     "name": "stdout",
     "output_type": "stream",
     "text": [
      "    recall: 0.500000 precision: 0.992580 mAP@0.5: 0.495425, mAP@0.5-0.95: 0.247713\n",
      "\n",
      "Epoch 50/1000\n",
      "----------\n",
      "Train: \n"
     ]
    },
    {
     "name": "stderr",
     "output_type": "stream",
     "text": [
      "3it [00:00,  3.75it/s]\n"
     ]
    },
    {
     "name": "stdout",
     "output_type": "stream",
     "text": [
      "    box loss-> 0.03745, object loss-> 0.06674, class loss-> 0.00000\n",
      "Validation:\n"
     ]
    },
    {
     "name": "stderr",
     "output_type": "stream",
     "text": [
      "1it [00:00,  3.76it/s]\n"
     ]
    },
    {
     "name": "stdout",
     "output_type": "stream",
     "text": [
      "    recall: 0.500000 precision: 0.994957 mAP@0.5: 0.495425, mAP@0.5-0.95: 0.247713\n",
      "\n",
      "Epoch 51/1000\n",
      "----------\n",
      "Train: \n"
     ]
    },
    {
     "name": "stderr",
     "output_type": "stream",
     "text": [
      "3it [00:00,  3.75it/s]\n"
     ]
    },
    {
     "name": "stdout",
     "output_type": "stream",
     "text": [
      "    box loss-> 0.03694, object loss-> 0.06505, class loss-> 0.00000\n",
      "Validation:\n"
     ]
    },
    {
     "name": "stderr",
     "output_type": "stream",
     "text": [
      "1it [00:00,  3.70it/s]\n"
     ]
    },
    {
     "name": "stdout",
     "output_type": "stream",
     "text": [
      "    recall: 0.500000 precision: 0.991815 mAP@0.5: 0.495425, mAP@0.5-0.95: 0.148627\n",
      "\n",
      "Epoch 52/1000\n",
      "----------\n",
      "Train: \n"
     ]
    },
    {
     "name": "stderr",
     "output_type": "stream",
     "text": [
      "3it [00:00,  3.72it/s]\n"
     ]
    },
    {
     "name": "stdout",
     "output_type": "stream",
     "text": [
      "    box loss-> 0.03638, object loss-> 0.06524, class loss-> 0.00000\n",
      "Validation:\n"
     ]
    },
    {
     "name": "stderr",
     "output_type": "stream",
     "text": [
      "1it [00:00,  3.71it/s]\n"
     ]
    },
    {
     "name": "stdout",
     "output_type": "stream",
     "text": [
      "    recall: 0.500000 precision: 0.986783 mAP@0.5: 0.495425, mAP@0.5-0.95: 0.148627\n",
      "\n",
      "Epoch 53/1000\n",
      "----------\n",
      "Train: \n"
     ]
    },
    {
     "name": "stderr",
     "output_type": "stream",
     "text": [
      "3it [00:00,  3.76it/s]\n"
     ]
    },
    {
     "name": "stdout",
     "output_type": "stream",
     "text": [
      "    box loss-> 0.03556, object loss-> 0.06326, class loss-> 0.00000\n",
      "Validation:\n"
     ]
    },
    {
     "name": "stderr",
     "output_type": "stream",
     "text": [
      "1it [00:00,  3.72it/s]\n"
     ]
    },
    {
     "name": "stdout",
     "output_type": "stream",
     "text": [
      "    recall: 0.500000 precision: 0.986624 mAP@0.5: 0.495425, mAP@0.5-0.95: 0.247713\n",
      "\n",
      "Epoch 54/1000\n",
      "----------\n",
      "Train: \n"
     ]
    },
    {
     "name": "stderr",
     "output_type": "stream",
     "text": [
      "3it [00:00,  3.77it/s]\n"
     ]
    },
    {
     "name": "stdout",
     "output_type": "stream",
     "text": [
      "    box loss-> 0.03694, object loss-> 0.06252, class loss-> 0.00000\n",
      "Validation:\n"
     ]
    },
    {
     "name": "stderr",
     "output_type": "stream",
     "text": [
      "1it [00:00,  3.49it/s]\n"
     ]
    },
    {
     "name": "stdout",
     "output_type": "stream",
     "text": [
      "    recall: 0.500000 precision: 0.994573 mAP@0.5: 0.495425, mAP@0.5-0.95: 0.247713\n",
      "\n",
      "Epoch 55/1000\n",
      "----------\n",
      "Train: \n"
     ]
    },
    {
     "name": "stderr",
     "output_type": "stream",
     "text": [
      "3it [00:00,  3.68it/s]\n"
     ]
    },
    {
     "name": "stdout",
     "output_type": "stream",
     "text": [
      "    box loss-> 0.03615, object loss-> 0.06227, class loss-> 0.00000\n",
      "Validation:\n"
     ]
    },
    {
     "name": "stderr",
     "output_type": "stream",
     "text": [
      "1it [00:00,  3.65it/s]\n"
     ]
    },
    {
     "name": "stdout",
     "output_type": "stream",
     "text": [
      "    recall: 0.500000 precision: 0.999023 mAP@0.5: 0.495425, mAP@0.5-0.95: 0.297255\n",
      "\n",
      "Epoch 56/1000\n",
      "----------\n",
      "Train: \n"
     ]
    },
    {
     "name": "stderr",
     "output_type": "stream",
     "text": [
      "3it [00:00,  3.70it/s]\n"
     ]
    },
    {
     "name": "stdout",
     "output_type": "stream",
     "text": [
      "    box loss-> 0.03659, object loss-> 0.06287, class loss-> 0.00000\n",
      "Validation:\n"
     ]
    },
    {
     "name": "stderr",
     "output_type": "stream",
     "text": [
      "1it [00:00,  3.66it/s]\n"
     ]
    },
    {
     "name": "stdout",
     "output_type": "stream",
     "text": [
      "    recall: 0.500000 precision: 0.993620 mAP@0.5: 0.495425, mAP@0.5-0.95: 0.198170\n",
      "\n",
      "Epoch 57/1000\n",
      "----------\n",
      "Train: \n"
     ]
    },
    {
     "name": "stderr",
     "output_type": "stream",
     "text": [
      "3it [00:00,  3.69it/s]\n"
     ]
    },
    {
     "name": "stdout",
     "output_type": "stream",
     "text": [
      "    box loss-> 0.03475, object loss-> 0.06211, class loss-> 0.00000\n",
      "Validation:\n"
     ]
    },
    {
     "name": "stderr",
     "output_type": "stream",
     "text": [
      "1it [00:00,  3.71it/s]\n"
     ]
    },
    {
     "name": "stdout",
     "output_type": "stream",
     "text": [
      "    recall: 0.500000 precision: 0.991530 mAP@0.5: 0.495425, mAP@0.5-0.95: 0.148627\n",
      "\n",
      "Epoch 58/1000\n",
      "----------\n",
      "Train: \n"
     ]
    },
    {
     "name": "stderr",
     "output_type": "stream",
     "text": [
      "3it [00:00,  3.77it/s]\n"
     ]
    },
    {
     "name": "stdout",
     "output_type": "stream",
     "text": [
      "    box loss-> 0.03595, object loss-> 0.06027, class loss-> 0.00000\n",
      "Validation:\n"
     ]
    },
    {
     "name": "stderr",
     "output_type": "stream",
     "text": [
      "1it [00:00,  3.69it/s]\n"
     ]
    },
    {
     "name": "stdout",
     "output_type": "stream",
     "text": [
      "    recall: 0.500000 precision: 0.994197 mAP@0.5: 0.495425, mAP@0.5-0.95: 0.148627\n",
      "\n",
      "Epoch 59/1000\n",
      "----------\n",
      "Train: \n"
     ]
    },
    {
     "name": "stderr",
     "output_type": "stream",
     "text": [
      "3it [00:00,  3.73it/s]\n"
     ]
    },
    {
     "name": "stdout",
     "output_type": "stream",
     "text": [
      "    box loss-> 0.03605, object loss-> 0.05907, class loss-> 0.00000\n",
      "Validation:\n"
     ]
    },
    {
     "name": "stderr",
     "output_type": "stream",
     "text": [
      "1it [00:00,  3.77it/s]\n"
     ]
    },
    {
     "name": "stdout",
     "output_type": "stream",
     "text": [
      "    recall: 0.500000 precision: 0.993786 mAP@0.5: 0.495425, mAP@0.5-0.95: 0.198170\n",
      "\n",
      "Epoch 60/1000\n",
      "----------\n",
      "Train: \n"
     ]
    },
    {
     "name": "stderr",
     "output_type": "stream",
     "text": [
      "3it [00:00,  3.74it/s]\n"
     ]
    },
    {
     "name": "stdout",
     "output_type": "stream",
     "text": [
      "    box loss-> 0.03532, object loss-> 0.05933, class loss-> 0.00000\n",
      "Validation:\n"
     ]
    },
    {
     "name": "stderr",
     "output_type": "stream",
     "text": [
      "1it [00:00,  3.71it/s]\n"
     ]
    },
    {
     "name": "stdout",
     "output_type": "stream",
     "text": [
      "    recall: 0.500000 precision: 0.986522 mAP@0.5: 0.495425, mAP@0.5-0.95: 0.297255\n",
      "\n",
      "Epoch 61/1000\n",
      "----------\n",
      "Train: \n"
     ]
    },
    {
     "name": "stderr",
     "output_type": "stream",
     "text": [
      "3it [00:00,  3.70it/s]\n"
     ]
    },
    {
     "name": "stdout",
     "output_type": "stream",
     "text": [
      "    box loss-> 0.03424, object loss-> 0.05757, class loss-> 0.00000\n",
      "Validation:\n"
     ]
    },
    {
     "name": "stderr",
     "output_type": "stream",
     "text": [
      "1it [00:00,  3.74it/s]\n"
     ]
    },
    {
     "name": "stdout",
     "output_type": "stream",
     "text": [
      "    recall: 0.500000 precision: 0.976078 mAP@0.5: 0.495425, mAP@0.5-0.95: 0.049543\n",
      "\n",
      "Epoch 62/1000\n",
      "----------\n",
      "Train: \n"
     ]
    },
    {
     "name": "stderr",
     "output_type": "stream",
     "text": [
      "3it [00:00,  3.80it/s]\n"
     ]
    },
    {
     "name": "stdout",
     "output_type": "stream",
     "text": [
      "    box loss-> 0.03601, object loss-> 0.05730, class loss-> 0.00000\n",
      "Validation:\n"
     ]
    },
    {
     "name": "stderr",
     "output_type": "stream",
     "text": [
      "1it [00:00,  3.89it/s]\n"
     ]
    },
    {
     "name": "stdout",
     "output_type": "stream",
     "text": [
      "    recall: 0.500000 precision: 0.497376 mAP@0.5: 0.495425, mAP@0.5-0.95: 0.049543\n",
      "\n",
      "Epoch 63/1000\n",
      "----------\n",
      "Train: \n"
     ]
    },
    {
     "name": "stderr",
     "output_type": "stream",
     "text": [
      "3it [00:00,  3.73it/s]\n"
     ]
    },
    {
     "name": "stdout",
     "output_type": "stream",
     "text": [
      "    box loss-> 0.03609, object loss-> 0.05691, class loss-> 0.00000\n",
      "Validation:\n"
     ]
    },
    {
     "name": "stderr",
     "output_type": "stream",
     "text": [
      "1it [00:00,  3.91it/s]\n"
     ]
    },
    {
     "name": "stdout",
     "output_type": "stream",
     "text": [
      "    recall: 0.500000 precision: 0.993879 mAP@0.5: 0.495425, mAP@0.5-0.95: 0.099085\n",
      "\n",
      "Epoch 64/1000\n",
      "----------\n",
      "Train: \n"
     ]
    },
    {
     "name": "stderr",
     "output_type": "stream",
     "text": [
      "3it [00:00,  3.75it/s]\n"
     ]
    },
    {
     "name": "stdout",
     "output_type": "stream",
     "text": [
      "    box loss-> 0.03481, object loss-> 0.05679, class loss-> 0.00000\n",
      "Validation:\n"
     ]
    },
    {
     "name": "stderr",
     "output_type": "stream",
     "text": [
      "1it [00:00,  3.82it/s]\n"
     ]
    },
    {
     "name": "stdout",
     "output_type": "stream",
     "text": [
      "    recall: 0.500000 precision: 0.990678 mAP@0.5: 0.495425, mAP@0.5-0.95: 0.247713\n",
      "\n",
      "Epoch 65/1000\n",
      "----------\n",
      "Train: \n"
     ]
    },
    {
     "name": "stderr",
     "output_type": "stream",
     "text": [
      "3it [00:00,  3.75it/s]\n"
     ]
    },
    {
     "name": "stdout",
     "output_type": "stream",
     "text": [
      "    box loss-> 0.03253, object loss-> 0.05474, class loss-> 0.00000\n",
      "Validation:\n"
     ]
    },
    {
     "name": "stderr",
     "output_type": "stream",
     "text": [
      "1it [00:00,  3.88it/s]\n"
     ]
    },
    {
     "name": "stdout",
     "output_type": "stream",
     "text": [
      "    recall: 0.500000 precision: 0.999528 mAP@0.5: 0.495425, mAP@0.5-0.95: 0.297255\n",
      "\n",
      "Epoch 66/1000\n",
      "----------\n",
      "Train: \n"
     ]
    },
    {
     "name": "stderr",
     "output_type": "stream",
     "text": [
      "3it [00:00,  3.80it/s]\n"
     ]
    },
    {
     "name": "stdout",
     "output_type": "stream",
     "text": [
      "    box loss-> 0.03473, object loss-> 0.05452, class loss-> 0.00000\n",
      "Validation:\n"
     ]
    },
    {
     "name": "stderr",
     "output_type": "stream",
     "text": [
      "1it [00:00,  3.88it/s]\n"
     ]
    },
    {
     "name": "stdout",
     "output_type": "stream",
     "text": [
      "    recall: 0.500000 precision: 0.996294 mAP@0.5: 0.495425, mAP@0.5-0.95: 0.297255\n",
      "\n",
      "Epoch 67/1000\n",
      "----------\n",
      "Train: \n"
     ]
    },
    {
     "name": "stderr",
     "output_type": "stream",
     "text": [
      "3it [00:00,  3.68it/s]\n"
     ]
    },
    {
     "name": "stdout",
     "output_type": "stream",
     "text": [
      "    box loss-> 0.03420, object loss-> 0.05373, class loss-> 0.00000\n",
      "Validation:\n"
     ]
    },
    {
     "name": "stderr",
     "output_type": "stream",
     "text": [
      "1it [00:00,  3.90it/s]\n"
     ]
    },
    {
     "name": "stdout",
     "output_type": "stream",
     "text": [
      "    recall: 0.500000 precision: 0.997906 mAP@0.5: 0.495425, mAP@0.5-0.95: 0.247713\n",
      "\n",
      "Epoch 68/1000\n",
      "----------\n",
      "Train: \n"
     ]
    },
    {
     "name": "stderr",
     "output_type": "stream",
     "text": [
      "3it [00:00,  3.71it/s]\n"
     ]
    },
    {
     "name": "stdout",
     "output_type": "stream",
     "text": [
      "    box loss-> 0.03448, object loss-> 0.05469, class loss-> 0.00000\n",
      "Validation:\n"
     ]
    },
    {
     "name": "stderr",
     "output_type": "stream",
     "text": [
      "1it [00:00,  4.01it/s]\n"
     ]
    },
    {
     "name": "stdout",
     "output_type": "stream",
     "text": [
      "    recall: 0.500000 precision: 0.998848 mAP@0.5: 0.495425, mAP@0.5-0.95: 0.247713\n",
      "\n",
      "Epoch 69/1000\n",
      "----------\n",
      "Train: \n"
     ]
    },
    {
     "name": "stderr",
     "output_type": "stream",
     "text": [
      "3it [00:00,  3.74it/s]\n"
     ]
    },
    {
     "name": "stdout",
     "output_type": "stream",
     "text": [
      "    box loss-> 0.03201, object loss-> 0.05248, class loss-> 0.00000\n",
      "Validation:\n"
     ]
    },
    {
     "name": "stderr",
     "output_type": "stream",
     "text": [
      "1it [00:00,  4.00it/s]\n"
     ]
    },
    {
     "name": "stdout",
     "output_type": "stream",
     "text": [
      "    recall: 0.500000 precision: 0.998120 mAP@0.5: 0.495425, mAP@0.5-0.95: 0.198170\n",
      "\n",
      "Epoch 70/1000\n",
      "----------\n",
      "Train: \n"
     ]
    },
    {
     "name": "stderr",
     "output_type": "stream",
     "text": [
      "3it [00:00,  3.82it/s]\n"
     ]
    },
    {
     "name": "stdout",
     "output_type": "stream",
     "text": [
      "    box loss-> 0.03265, object loss-> 0.05215, class loss-> 0.00000\n",
      "Validation:\n"
     ]
    },
    {
     "name": "stderr",
     "output_type": "stream",
     "text": [
      "1it [00:00,  4.02it/s]\n"
     ]
    },
    {
     "name": "stdout",
     "output_type": "stream",
     "text": [
      "    recall: 0.500000 precision: 0.988711 mAP@0.5: 0.495425, mAP@0.5-0.95: 0.148627\n",
      "\n",
      "Epoch 71/1000\n",
      "----------\n",
      "Train: \n"
     ]
    },
    {
     "name": "stderr",
     "output_type": "stream",
     "text": [
      "3it [00:00,  3.73it/s]\n"
     ]
    },
    {
     "name": "stdout",
     "output_type": "stream",
     "text": [
      "    box loss-> 0.03342, object loss-> 0.05147, class loss-> 0.00000\n",
      "Validation:\n"
     ]
    },
    {
     "name": "stderr",
     "output_type": "stream",
     "text": [
      "1it [00:00,  3.96it/s]\n"
     ]
    },
    {
     "name": "stdout",
     "output_type": "stream",
     "text": [
      "    recall: 0.500000 precision: 0.980760 mAP@0.5: 0.495425, mAP@0.5-0.95: 0.198170\n",
      "\n",
      "Epoch 72/1000\n",
      "----------\n",
      "Train: \n"
     ]
    },
    {
     "name": "stderr",
     "output_type": "stream",
     "text": [
      "3it [00:00,  3.73it/s]\n"
     ]
    },
    {
     "name": "stdout",
     "output_type": "stream",
     "text": [
      "    box loss-> 0.03124, object loss-> 0.05028, class loss-> 0.00000\n",
      "Validation:\n"
     ]
    },
    {
     "name": "stderr",
     "output_type": "stream",
     "text": [
      "1it [00:00,  3.89it/s]\n"
     ]
    },
    {
     "name": "stdout",
     "output_type": "stream",
     "text": [
      "    recall: 0.500000 precision: 0.498281 mAP@0.5: 0.247925, mAP@0.5-0.95: 0.123963\n",
      "\n",
      "Epoch 73/1000\n",
      "----------\n",
      "Train: \n"
     ]
    },
    {
     "name": "stderr",
     "output_type": "stream",
     "text": [
      "3it [00:00,  3.73it/s]\n"
     ]
    },
    {
     "name": "stdout",
     "output_type": "stream",
     "text": [
      "    box loss-> 0.03138, object loss-> 0.04984, class loss-> 0.00000\n",
      "Validation:\n"
     ]
    },
    {
     "name": "stderr",
     "output_type": "stream",
     "text": [
      "1it [00:00,  3.95it/s]\n"
     ]
    },
    {
     "name": "stdout",
     "output_type": "stream",
     "text": [
      "    recall: 0.500000 precision: 0.987751 mAP@0.5: 0.495425, mAP@0.5-0.95: 0.099085\n",
      "\n",
      "Epoch 74/1000\n",
      "----------\n",
      "Train: \n"
     ]
    },
    {
     "name": "stderr",
     "output_type": "stream",
     "text": [
      "3it [00:00,  3.80it/s]\n"
     ]
    },
    {
     "name": "stdout",
     "output_type": "stream",
     "text": [
      "    box loss-> 0.03111, object loss-> 0.04955, class loss-> 0.00000\n",
      "Validation:\n"
     ]
    },
    {
     "name": "stderr",
     "output_type": "stream",
     "text": [
      "1it [00:00,  3.88it/s]\n"
     ]
    },
    {
     "name": "stdout",
     "output_type": "stream",
     "text": [
      "    recall: 0.500000 precision: 0.772158 mAP@0.5: 0.495425, mAP@0.5-0.95: 0.099085\n",
      "\n",
      "Epoch 75/1000\n",
      "----------\n",
      "Train: \n"
     ]
    },
    {
     "name": "stderr",
     "output_type": "stream",
     "text": [
      "3it [00:00,  3.76it/s]\n"
     ]
    },
    {
     "name": "stdout",
     "output_type": "stream",
     "text": [
      "    box loss-> 0.03183, object loss-> 0.04922, class loss-> 0.00000\n",
      "Validation:\n"
     ]
    },
    {
     "name": "stderr",
     "output_type": "stream",
     "text": [
      "1it [00:00,  3.89it/s]\n"
     ]
    },
    {
     "name": "stdout",
     "output_type": "stream",
     "text": [
      "    recall: 0.500000 precision: 0.476707 mAP@0.5: 0.247925, mAP@0.5-0.95: 0.049585\n",
      "\n",
      "Epoch 76/1000\n",
      "----------\n",
      "Train: \n"
     ]
    },
    {
     "name": "stderr",
     "output_type": "stream",
     "text": [
      "3it [00:00,  3.74it/s]\n"
     ]
    },
    {
     "name": "stdout",
     "output_type": "stream",
     "text": [
      "    box loss-> 0.03069, object loss-> 0.04891, class loss-> 0.00000\n",
      "Validation:\n"
     ]
    },
    {
     "name": "stderr",
     "output_type": "stream",
     "text": [
      "1it [00:00,  3.97it/s]\n"
     ]
    },
    {
     "name": "stdout",
     "output_type": "stream",
     "text": [
      "    recall: 0.500000 precision: 0.964374 mAP@0.5: 0.495425, mAP@0.5-0.95: 0.247713\n",
      "\n",
      "Epoch 77/1000\n",
      "----------\n",
      "Train: \n"
     ]
    },
    {
     "name": "stderr",
     "output_type": "stream",
     "text": [
      "3it [00:00,  3.75it/s]\n"
     ]
    },
    {
     "name": "stdout",
     "output_type": "stream",
     "text": [
      "    box loss-> 0.03415, object loss-> 0.04909, class loss-> 0.00000\n",
      "Validation:\n"
     ]
    },
    {
     "name": "stderr",
     "output_type": "stream",
     "text": [
      "1it [00:00,  4.00it/s]\n"
     ]
    },
    {
     "name": "stdout",
     "output_type": "stream",
     "text": [
      "    recall: 0.500000 precision: 0.498989 mAP@0.5: 0.247925, mAP@0.5-0.95: 0.148755\n",
      "\n",
      "Epoch 78/1000\n",
      "----------\n",
      "Train: \n"
     ]
    },
    {
     "name": "stderr",
     "output_type": "stream",
     "text": [
      "3it [00:00,  3.79it/s]\n"
     ]
    },
    {
     "name": "stdout",
     "output_type": "stream",
     "text": [
      "    box loss-> 0.03647, object loss-> 0.04880, class loss-> 0.00000\n",
      "Validation:\n"
     ]
    },
    {
     "name": "stderr",
     "output_type": "stream",
     "text": [
      "1it [00:00,  4.06it/s]\n"
     ]
    },
    {
     "name": "stdout",
     "output_type": "stream",
     "text": [
      "    recall: 0.500000 precision: 0.497995 mAP@0.5: 0.247925, mAP@0.5-0.95: 0.148755\n",
      "\n",
      "Epoch 79/1000\n",
      "----------\n",
      "Train: \n"
     ]
    },
    {
     "name": "stderr",
     "output_type": "stream",
     "text": [
      "3it [00:00,  3.76it/s]\n"
     ]
    },
    {
     "name": "stdout",
     "output_type": "stream",
     "text": [
      "    box loss-> 0.03550, object loss-> 0.04910, class loss-> 0.00000\n",
      "Validation:\n"
     ]
    },
    {
     "name": "stderr",
     "output_type": "stream",
     "text": [
      "1it [00:00,  4.05it/s]\n"
     ]
    },
    {
     "name": "stdout",
     "output_type": "stream",
     "text": [
      "    recall: 0.500000 precision: 0.498772 mAP@0.5: 0.247925, mAP@0.5-0.95: 0.099170\n",
      "\n",
      "Epoch 80/1000\n",
      "----------\n",
      "Train: \n"
     ]
    },
    {
     "name": "stderr",
     "output_type": "stream",
     "text": [
      "3it [00:00,  3.84it/s]\n"
     ]
    },
    {
     "name": "stdout",
     "output_type": "stream",
     "text": [
      "    box loss-> 0.03225, object loss-> 0.04825, class loss-> 0.00000\n",
      "Validation:\n"
     ]
    },
    {
     "name": "stderr",
     "output_type": "stream",
     "text": [
      "1it [00:00,  4.08it/s]\n"
     ]
    },
    {
     "name": "stdout",
     "output_type": "stream",
     "text": [
      "    recall: 0.500000 precision: 0.890458 mAP@0.5: 0.495425, mAP@0.5-0.95: 0.198170\n",
      "\n",
      "Epoch 81/1000\n",
      "----------\n",
      "Train: \n"
     ]
    },
    {
     "name": "stderr",
     "output_type": "stream",
     "text": [
      "3it [00:00,  3.72it/s]\n"
     ]
    },
    {
     "name": "stdout",
     "output_type": "stream",
     "text": [
      "    box loss-> 0.03152, object loss-> 0.04745, class loss-> 0.00000\n",
      "Validation:\n"
     ]
    },
    {
     "name": "stderr",
     "output_type": "stream",
     "text": [
      "1it [00:00,  4.02it/s]\n"
     ]
    },
    {
     "name": "stdout",
     "output_type": "stream",
     "text": [
      "    recall: 0.500000 precision: 0.992243 mAP@0.5: 0.495425, mAP@0.5-0.95: 0.198170\n",
      "\n",
      "Epoch 82/1000\n",
      "----------\n",
      "Train: \n"
     ]
    },
    {
     "name": "stderr",
     "output_type": "stream",
     "text": [
      "3it [00:00,  3.76it/s]\n"
     ]
    },
    {
     "name": "stdout",
     "output_type": "stream",
     "text": [
      "    box loss-> 0.03266, object loss-> 0.04745, class loss-> 0.00000\n",
      "Validation:\n"
     ]
    },
    {
     "name": "stderr",
     "output_type": "stream",
     "text": [
      "1it [00:00,  4.06it/s]\n"
     ]
    },
    {
     "name": "stdout",
     "output_type": "stream",
     "text": [
      "    recall: 0.500000 precision: 0.991460 mAP@0.5: 0.495425, mAP@0.5-0.95: 0.198170\n",
      "\n",
      "Epoch 83/1000\n",
      "----------\n",
      "Train: \n"
     ]
    },
    {
     "name": "stderr",
     "output_type": "stream",
     "text": [
      "3it [00:00,  3.80it/s]\n"
     ]
    },
    {
     "name": "stdout",
     "output_type": "stream",
     "text": [
      "    box loss-> 0.03345, object loss-> 0.04640, class loss-> 0.00000\n",
      "Validation:\n"
     ]
    },
    {
     "name": "stderr",
     "output_type": "stream",
     "text": [
      "1it [00:00,  3.90it/s]\n"
     ]
    },
    {
     "name": "stdout",
     "output_type": "stream",
     "text": [
      "    recall: 0.500000 precision: 0.993831 mAP@0.5: 0.495425, mAP@0.5-0.95: 0.198170\n",
      "\n",
      "Epoch 84/1000\n",
      "----------\n",
      "Train: \n"
     ]
    },
    {
     "name": "stderr",
     "output_type": "stream",
     "text": [
      "3it [00:00,  3.72it/s]\n"
     ]
    },
    {
     "name": "stdout",
     "output_type": "stream",
     "text": [
      "    box loss-> 0.03367, object loss-> 0.04638, class loss-> 0.00000\n",
      "Validation:\n"
     ]
    },
    {
     "name": "stderr",
     "output_type": "stream",
     "text": [
      "1it [00:00,  4.03it/s]\n"
     ]
    },
    {
     "name": "stdout",
     "output_type": "stream",
     "text": [
      "    recall: 0.500000 precision: 0.997262 mAP@0.5: 0.495425, mAP@0.5-0.95: 0.247713\n",
      "\n",
      "Epoch 85/1000\n",
      "----------\n",
      "Train: \n"
     ]
    },
    {
     "name": "stderr",
     "output_type": "stream",
     "text": [
      "3it [00:00,  3.76it/s]\n"
     ]
    },
    {
     "name": "stdout",
     "output_type": "stream",
     "text": [
      "    box loss-> 0.03222, object loss-> 0.04571, class loss-> 0.00000\n",
      "Validation:\n"
     ]
    },
    {
     "name": "stderr",
     "output_type": "stream",
     "text": [
      "1it [00:00,  3.97it/s]\n"
     ]
    },
    {
     "name": "stdout",
     "output_type": "stream",
     "text": [
      "    recall: 0.500000 precision: 0.969246 mAP@0.5: 0.495425, mAP@0.5-0.95: 0.297255\n",
      "\n",
      "Epoch 86/1000\n",
      "----------\n",
      "Train: \n"
     ]
    },
    {
     "name": "stderr",
     "output_type": "stream",
     "text": [
      "3it [00:00,  3.73it/s]\n"
     ]
    },
    {
     "name": "stdout",
     "output_type": "stream",
     "text": [
      "    box loss-> 0.03244, object loss-> 0.04567, class loss-> 0.00000\n",
      "Validation:\n"
     ]
    },
    {
     "name": "stderr",
     "output_type": "stream",
     "text": [
      "1it [00:00,  4.02it/s]\n"
     ]
    },
    {
     "name": "stdout",
     "output_type": "stream",
     "text": [
      "    recall: 0.500000 precision: 0.990239 mAP@0.5: 0.495425, mAP@0.5-0.95: 0.247713\n",
      "\n",
      "Epoch 87/1000\n",
      "----------\n",
      "Train: \n"
     ]
    },
    {
     "name": "stderr",
     "output_type": "stream",
     "text": [
      "3it [00:00,  3.73it/s]\n"
     ]
    },
    {
     "name": "stdout",
     "output_type": "stream",
     "text": [
      "    box loss-> 0.02984, object loss-> 0.04604, class loss-> 0.00000\n",
      "Validation:\n"
     ]
    },
    {
     "name": "stderr",
     "output_type": "stream",
     "text": [
      "1it [00:00,  4.30it/s]\n"
     ]
    },
    {
     "name": "stdout",
     "output_type": "stream",
     "text": [
      "    recall: 0.500000 precision: 0.871542 mAP@0.5: 0.495425, mAP@0.5-0.95: 0.099085\n",
      "\n",
      "Epoch 88/1000\n",
      "----------\n",
      "Train: \n"
     ]
    },
    {
     "name": "stderr",
     "output_type": "stream",
     "text": [
      "3it [00:00,  3.76it/s]\n"
     ]
    },
    {
     "name": "stdout",
     "output_type": "stream",
     "text": [
      "    box loss-> 0.03255, object loss-> 0.04535, class loss-> 0.00000\n",
      "Validation:\n"
     ]
    },
    {
     "name": "stderr",
     "output_type": "stream",
     "text": [
      "1it [00:00,  4.23it/s]\n"
     ]
    },
    {
     "name": "stdout",
     "output_type": "stream",
     "text": [
      "    recall: 0.500000 precision: 0.905115 mAP@0.5: 0.495425, mAP@0.5-0.95: 0.148627\n",
      "\n",
      "Epoch 89/1000\n",
      "----------\n",
      "Train: \n"
     ]
    },
    {
     "name": "stderr",
     "output_type": "stream",
     "text": [
      "3it [00:00,  3.71it/s]\n"
     ]
    },
    {
     "name": "stdout",
     "output_type": "stream",
     "text": [
      "    box loss-> 0.03121, object loss-> 0.04436, class loss-> 0.00000\n",
      "Validation:\n"
     ]
    },
    {
     "name": "stderr",
     "output_type": "stream",
     "text": [
      "1it [00:00,  4.24it/s]\n"
     ]
    },
    {
     "name": "stdout",
     "output_type": "stream",
     "text": [
      "    recall: 0.500000 precision: 0.499699 mAP@0.5: 0.247925, mAP@0.5-0.95: 0.123963\n",
      "\n",
      "Epoch 90/1000\n",
      "----------\n",
      "Train: \n"
     ]
    },
    {
     "name": "stderr",
     "output_type": "stream",
     "text": [
      "3it [00:00,  3.81it/s]\n"
     ]
    },
    {
     "name": "stdout",
     "output_type": "stream",
     "text": [
      "    box loss-> 0.02902, object loss-> 0.04451, class loss-> 0.00000\n",
      "Validation:\n"
     ]
    },
    {
     "name": "stderr",
     "output_type": "stream",
     "text": [
      "1it [00:00,  4.20it/s]\n"
     ]
    },
    {
     "name": "stdout",
     "output_type": "stream",
     "text": [
      "    recall: 0.500000 precision: 0.494943 mAP@0.5: 0.247925, mAP@0.5-0.95: 0.148755\n",
      "\n",
      "Epoch 91/1000\n",
      "----------\n",
      "Train: \n"
     ]
    },
    {
     "name": "stderr",
     "output_type": "stream",
     "text": [
      "3it [00:00,  3.74it/s]\n"
     ]
    },
    {
     "name": "stdout",
     "output_type": "stream",
     "text": [
      "    box loss-> 0.03186, object loss-> 0.04475, class loss-> 0.00000\n",
      "Validation:\n"
     ]
    },
    {
     "name": "stderr",
     "output_type": "stream",
     "text": [
      "1it [00:00,  4.22it/s]\n"
     ]
    },
    {
     "name": "stdout",
     "output_type": "stream",
     "text": [
      "    recall: 0.500000 precision: 0.329516 mAP@0.5: 0.165425, mAP@0.5-0.95: 0.049627\n",
      "\n",
      "Epoch 92/1000\n",
      "----------\n",
      "Train: \n"
     ]
    },
    {
     "name": "stderr",
     "output_type": "stream",
     "text": [
      "3it [00:00,  3.74it/s]\n"
     ]
    },
    {
     "name": "stdout",
     "output_type": "stream",
     "text": [
      "    box loss-> 0.02972, object loss-> 0.04440, class loss-> 0.00000\n",
      "Validation:\n"
     ]
    },
    {
     "name": "stderr",
     "output_type": "stream",
     "text": [
      "1it [00:00,  4.17it/s]\n"
     ]
    },
    {
     "name": "stdout",
     "output_type": "stream",
     "text": [
      "    recall: 0.500000 precision: 0.952594 mAP@0.5: 0.495425, mAP@0.5-0.95: 0.346797\n",
      "\n",
      "Epoch 93/1000\n",
      "----------\n",
      "Train: \n"
     ]
    },
    {
     "name": "stderr",
     "output_type": "stream",
     "text": [
      "3it [00:00,  3.79it/s]\n"
     ]
    },
    {
     "name": "stdout",
     "output_type": "stream",
     "text": [
      "    box loss-> 0.03166, object loss-> 0.04410, class loss-> 0.00000\n",
      "Validation:\n"
     ]
    },
    {
     "name": "stderr",
     "output_type": "stream",
     "text": [
      "1it [00:00,  4.23it/s]\n"
     ]
    },
    {
     "name": "stdout",
     "output_type": "stream",
     "text": [
      "    recall: 0.500000 precision: 0.999401 mAP@0.5: 0.495425, mAP@0.5-0.95: 0.346797\n",
      "\n",
      "Epoch 94/1000\n",
      "----------\n",
      "Train: \n"
     ]
    },
    {
     "name": "stderr",
     "output_type": "stream",
     "text": [
      "3it [00:00,  3.77it/s]\n"
     ]
    },
    {
     "name": "stdout",
     "output_type": "stream",
     "text": [
      "    box loss-> 0.03081, object loss-> 0.04439, class loss-> 0.00000\n",
      "Validation:\n"
     ]
    },
    {
     "name": "stderr",
     "output_type": "stream",
     "text": [
      "1it [00:00,  3.97it/s]\n"
     ]
    },
    {
     "name": "stdout",
     "output_type": "stream",
     "text": [
      "    recall: 0.500000 precision: 0.998070 mAP@0.5: 0.495425, mAP@0.5-0.95: 0.247713\n",
      "\n",
      "Epoch 95/1000\n",
      "----------\n",
      "Train: \n"
     ]
    },
    {
     "name": "stderr",
     "output_type": "stream",
     "text": [
      "3it [00:00,  3.82it/s]\n"
     ]
    },
    {
     "name": "stdout",
     "output_type": "stream",
     "text": [
      "    box loss-> 0.03271, object loss-> 0.04398, class loss-> 0.00000\n",
      "Validation:\n"
     ]
    },
    {
     "name": "stderr",
     "output_type": "stream",
     "text": [
      "1it [00:00,  4.06it/s]\n"
     ]
    },
    {
     "name": "stdout",
     "output_type": "stream",
     "text": [
      "    recall: 0.500000 precision: 0.982390 mAP@0.5: 0.495425, mAP@0.5-0.95: 0.247713\n",
      "\n",
      "Epoch 96/1000\n",
      "----------\n",
      "Train: \n"
     ]
    },
    {
     "name": "stderr",
     "output_type": "stream",
     "text": [
      "3it [00:00,  3.73it/s]\n"
     ]
    },
    {
     "name": "stdout",
     "output_type": "stream",
     "text": [
      "    box loss-> 0.03269, object loss-> 0.04391, class loss-> 0.00000\n",
      "Validation:\n"
     ]
    },
    {
     "name": "stderr",
     "output_type": "stream",
     "text": [
      "1it [00:00,  4.06it/s]\n"
     ]
    },
    {
     "name": "stdout",
     "output_type": "stream",
     "text": [
      "    recall: 0.500000 precision: 0.990819 mAP@0.5: 0.495425, mAP@0.5-0.95: 0.297255\n",
      "\n",
      "Epoch 97/1000\n",
      "----------\n",
      "Train: \n"
     ]
    },
    {
     "name": "stderr",
     "output_type": "stream",
     "text": [
      "3it [00:00,  3.76it/s]\n"
     ]
    },
    {
     "name": "stdout",
     "output_type": "stream",
     "text": [
      "    box loss-> 0.03283, object loss-> 0.04407, class loss-> 0.00000\n",
      "Validation:\n"
     ]
    },
    {
     "name": "stderr",
     "output_type": "stream",
     "text": [
      "1it [00:00,  4.00it/s]\n"
     ]
    },
    {
     "name": "stdout",
     "output_type": "stream",
     "text": [
      "    recall: 0.500000 precision: 0.996194 mAP@0.5: 0.495425, mAP@0.5-0.95: 0.099085\n",
      "\n",
      "Epoch 98/1000\n",
      "----------\n",
      "Train: \n"
     ]
    },
    {
     "name": "stderr",
     "output_type": "stream",
     "text": [
      "3it [00:00,  3.78it/s]\n"
     ]
    },
    {
     "name": "stdout",
     "output_type": "stream",
     "text": [
      "    box loss-> 0.03406, object loss-> 0.04440, class loss-> 0.00000\n",
      "Validation:\n"
     ]
    },
    {
     "name": "stderr",
     "output_type": "stream",
     "text": [
      "1it [00:00,  3.91it/s]\n"
     ]
    },
    {
     "name": "stdout",
     "output_type": "stream",
     "text": [
      "    recall: 0.500000 precision: 0.984054 mAP@0.5: 0.495425, mAP@0.5-0.95: 0.148627\n",
      "\n",
      "Epoch 99/1000\n",
      "----------\n",
      "Train: \n"
     ]
    },
    {
     "name": "stderr",
     "output_type": "stream",
     "text": [
      "3it [00:00,  3.77it/s]\n"
     ]
    },
    {
     "name": "stdout",
     "output_type": "stream",
     "text": [
      "    box loss-> 0.03391, object loss-> 0.04441, class loss-> 0.00000\n",
      "Validation:\n"
     ]
    },
    {
     "name": "stderr",
     "output_type": "stream",
     "text": [
      "1it [00:00,  4.08it/s]\n"
     ]
    },
    {
     "name": "stdout",
     "output_type": "stream",
     "text": [
      "    recall: 0.500000 precision: 0.975340 mAP@0.5: 0.495425, mAP@0.5-0.95: 0.247713\n",
      "\n",
      "Epoch 100/1000\n",
      "----------\n",
      "Train: \n"
     ]
    },
    {
     "name": "stderr",
     "output_type": "stream",
     "text": [
      "3it [00:00,  3.78it/s]\n"
     ]
    },
    {
     "name": "stdout",
     "output_type": "stream",
     "text": [
      "    box loss-> 0.03050, object loss-> 0.04332, class loss-> 0.00000\n",
      "Validation:\n"
     ]
    },
    {
     "name": "stderr",
     "output_type": "stream",
     "text": [
      "1it [00:00,  4.01it/s]\n"
     ]
    },
    {
     "name": "stdout",
     "output_type": "stream",
     "text": [
      "    recall: 0.500000 precision: 0.998562 mAP@0.5: 0.495425, mAP@0.5-0.95: 0.297255\n",
      "\n",
      "Epoch 101/1000\n",
      "----------\n",
      "Train: \n"
     ]
    },
    {
     "name": "stderr",
     "output_type": "stream",
     "text": [
      "3it [00:00,  3.72it/s]\n"
     ]
    },
    {
     "name": "stdout",
     "output_type": "stream",
     "text": [
      "    box loss-> 0.03046, object loss-> 0.04340, class loss-> 0.00000\n",
      "Validation:\n"
     ]
    },
    {
     "name": "stderr",
     "output_type": "stream",
     "text": [
      "1it [00:00,  4.09it/s]\n"
     ]
    },
    {
     "name": "stdout",
     "output_type": "stream",
     "text": [
      "    recall: 0.500000 precision: 0.985037 mAP@0.5: 0.495425, mAP@0.5-0.95: 0.247713\n",
      "\n",
      "Epoch 102/1000\n",
      "----------\n",
      "Train: \n"
     ]
    },
    {
     "name": "stderr",
     "output_type": "stream",
     "text": [
      "3it [00:00,  3.82it/s]\n"
     ]
    },
    {
     "name": "stdout",
     "output_type": "stream",
     "text": [
      "    box loss-> 0.02905, object loss-> 0.04291, class loss-> 0.00000\n",
      "Validation:\n"
     ]
    },
    {
     "name": "stderr",
     "output_type": "stream",
     "text": [
      "1it [00:00,  4.16it/s]\n"
     ]
    },
    {
     "name": "stdout",
     "output_type": "stream",
     "text": [
      "    recall: 0.500000 precision: 0.993399 mAP@0.5: 0.495425, mAP@0.5-0.95: 0.247713\n",
      "\n",
      "Epoch 103/1000\n",
      "----------\n",
      "Train: \n"
     ]
    },
    {
     "name": "stderr",
     "output_type": "stream",
     "text": [
      "3it [00:00,  3.71it/s]\n"
     ]
    },
    {
     "name": "stdout",
     "output_type": "stream",
     "text": [
      "    box loss-> 0.03052, object loss-> 0.04218, class loss-> 0.00000\n",
      "Validation:\n"
     ]
    },
    {
     "name": "stderr",
     "output_type": "stream",
     "text": [
      "1it [00:00,  4.12it/s]\n"
     ]
    },
    {
     "name": "stdout",
     "output_type": "stream",
     "text": [
      "    recall: 0.500000 precision: 0.988473 mAP@0.5: 0.495425, mAP@0.5-0.95: 0.297255\n",
      "\n",
      "Epoch 104/1000\n",
      "----------\n",
      "Train: \n"
     ]
    },
    {
     "name": "stderr",
     "output_type": "stream",
     "text": [
      "3it [00:00,  3.79it/s]\n"
     ]
    },
    {
     "name": "stdout",
     "output_type": "stream",
     "text": [
      "    box loss-> 0.02992, object loss-> 0.04209, class loss-> 0.00000\n",
      "Validation:\n"
     ]
    },
    {
     "name": "stderr",
     "output_type": "stream",
     "text": [
      "1it [00:00,  4.05it/s]\n"
     ]
    },
    {
     "name": "stdout",
     "output_type": "stream",
     "text": [
      "    recall: 0.500000 precision: 0.978682 mAP@0.5: 0.495425, mAP@0.5-0.95: 0.297255\n",
      "\n",
      "Epoch 105/1000\n",
      "----------\n",
      "Train: \n"
     ]
    },
    {
     "name": "stderr",
     "output_type": "stream",
     "text": [
      "3it [00:00,  3.70it/s]\n"
     ]
    },
    {
     "name": "stdout",
     "output_type": "stream",
     "text": [
      "    box loss-> 0.03032, object loss-> 0.04216, class loss-> 0.00000\n",
      "Validation:\n"
     ]
    },
    {
     "name": "stderr",
     "output_type": "stream",
     "text": [
      "1it [00:00,  4.03it/s]\n"
     ]
    },
    {
     "name": "stdout",
     "output_type": "stream",
     "text": [
      "    recall: 0.500000 precision: 0.973067 mAP@0.5: 0.495425, mAP@0.5-0.95: 0.247713\n",
      "\n",
      "Epoch 106/1000\n",
      "----------\n",
      "Train: \n"
     ]
    },
    {
     "name": "stderr",
     "output_type": "stream",
     "text": [
      "3it [00:00,  3.81it/s]\n"
     ]
    },
    {
     "name": "stdout",
     "output_type": "stream",
     "text": [
      "    box loss-> 0.02941, object loss-> 0.04263, class loss-> 0.00000\n",
      "Validation:\n"
     ]
    },
    {
     "name": "stderr",
     "output_type": "stream",
     "text": [
      "1it [00:00,  4.06it/s]\n"
     ]
    },
    {
     "name": "stdout",
     "output_type": "stream",
     "text": [
      "    recall: 0.500000 precision: 0.980115 mAP@0.5: 0.495425, mAP@0.5-0.95: 0.247713\n",
      "\n",
      "Epoch 107/1000\n",
      "----------\n",
      "Train: \n"
     ]
    },
    {
     "name": "stderr",
     "output_type": "stream",
     "text": [
      "3it [00:00,  3.68it/s]\n"
     ]
    },
    {
     "name": "stdout",
     "output_type": "stream",
     "text": [
      "    box loss-> 0.02900, object loss-> 0.04111, class loss-> 0.00000\n",
      "Validation:\n"
     ]
    },
    {
     "name": "stderr",
     "output_type": "stream",
     "text": [
      "1it [00:00,  4.00it/s]\n"
     ]
    },
    {
     "name": "stdout",
     "output_type": "stream",
     "text": [
      "    recall: 0.500000 precision: 0.990820 mAP@0.5: 0.495425, mAP@0.5-0.95: 0.297255\n",
      "\n",
      "Epoch 108/1000\n",
      "----------\n",
      "Train: \n"
     ]
    },
    {
     "name": "stderr",
     "output_type": "stream",
     "text": [
      "3it [00:00,  3.75it/s]\n"
     ]
    },
    {
     "name": "stdout",
     "output_type": "stream",
     "text": [
      "    box loss-> 0.02900, object loss-> 0.04079, class loss-> 0.00000\n",
      "Validation:\n"
     ]
    },
    {
     "name": "stderr",
     "output_type": "stream",
     "text": [
      "1it [00:00,  3.95it/s]\n"
     ]
    },
    {
     "name": "stdout",
     "output_type": "stream",
     "text": [
      "    recall: 0.500000 precision: 0.989616 mAP@0.5: 0.495425, mAP@0.5-0.95: 0.297255\n",
      "\n",
      "Epoch 109/1000\n",
      "----------\n",
      "Train: \n"
     ]
    },
    {
     "name": "stderr",
     "output_type": "stream",
     "text": [
      "3it [00:00,  3.71it/s]\n"
     ]
    },
    {
     "name": "stdout",
     "output_type": "stream",
     "text": [
      "    box loss-> 0.02896, object loss-> 0.04087, class loss-> 0.00000\n",
      "Validation:\n"
     ]
    },
    {
     "name": "stderr",
     "output_type": "stream",
     "text": [
      "1it [00:00,  4.01it/s]\n"
     ]
    },
    {
     "name": "stdout",
     "output_type": "stream",
     "text": [
      "    recall: 0.500000 precision: 0.986674 mAP@0.5: 0.495425, mAP@0.5-0.95: 0.198170\n",
      "\n",
      "Epoch 110/1000\n",
      "----------\n",
      "Train: \n"
     ]
    },
    {
     "name": "stderr",
     "output_type": "stream",
     "text": [
      "3it [00:00,  3.78it/s]\n"
     ]
    },
    {
     "name": "stdout",
     "output_type": "stream",
     "text": [
      "    box loss-> 0.02883, object loss-> 0.04025, class loss-> 0.00000\n",
      "Validation:\n"
     ]
    },
    {
     "name": "stderr",
     "output_type": "stream",
     "text": [
      "1it [00:00,  3.99it/s]\n"
     ]
    },
    {
     "name": "stdout",
     "output_type": "stream",
     "text": [
      "    recall: 0.500000 precision: 0.999352 mAP@0.5: 0.495425, mAP@0.5-0.95: 0.198170\n",
      "\n",
      "Epoch 111/1000\n",
      "----------\n",
      "Train: \n"
     ]
    },
    {
     "name": "stderr",
     "output_type": "stream",
     "text": [
      "3it [00:00,  3.76it/s]\n"
     ]
    },
    {
     "name": "stdout",
     "output_type": "stream",
     "text": [
      "    box loss-> 0.02962, object loss-> 0.04058, class loss-> 0.00000\n",
      "Validation:\n"
     ]
    },
    {
     "name": "stderr",
     "output_type": "stream",
     "text": [
      "1it [00:00,  3.98it/s]\n"
     ]
    },
    {
     "name": "stdout",
     "output_type": "stream",
     "text": [
      "    recall: 0.500000 precision: 0.994389 mAP@0.5: 0.495425, mAP@0.5-0.95: 0.297255\n",
      "\n",
      "Epoch 112/1000\n",
      "----------\n",
      "Train: \n"
     ]
    },
    {
     "name": "stderr",
     "output_type": "stream",
     "text": [
      "3it [00:00,  3.77it/s]\n"
     ]
    },
    {
     "name": "stdout",
     "output_type": "stream",
     "text": [
      "    box loss-> 0.02946, object loss-> 0.04166, class loss-> 0.00000\n",
      "Validation:\n"
     ]
    },
    {
     "name": "stderr",
     "output_type": "stream",
     "text": [
      "1it [00:00,  3.98it/s]\n"
     ]
    },
    {
     "name": "stdout",
     "output_type": "stream",
     "text": [
      "    recall: 0.500000 precision: 0.975621 mAP@0.5: 0.495425, mAP@0.5-0.95: 0.297255\n",
      "\n",
      "Epoch 113/1000\n",
      "----------\n",
      "Train: \n"
     ]
    },
    {
     "name": "stderr",
     "output_type": "stream",
     "text": [
      "3it [00:00,  3.72it/s]\n"
     ]
    },
    {
     "name": "stdout",
     "output_type": "stream",
     "text": [
      "    box loss-> 0.02994, object loss-> 0.04111, class loss-> 0.00000\n",
      "Validation:\n"
     ]
    },
    {
     "name": "stderr",
     "output_type": "stream",
     "text": [
      "1it [00:00,  3.80it/s]\n"
     ]
    },
    {
     "name": "stdout",
     "output_type": "stream",
     "text": [
      "    recall: 0.500000 precision: 0.952961 mAP@0.5: 0.495425, mAP@0.5-0.95: 0.198170\n",
      "\n",
      "Epoch 114/1000\n",
      "----------\n",
      "Train: \n"
     ]
    },
    {
     "name": "stderr",
     "output_type": "stream",
     "text": [
      "3it [00:00,  3.73it/s]\n"
     ]
    },
    {
     "name": "stdout",
     "output_type": "stream",
     "text": [
      "    box loss-> 0.02764, object loss-> 0.04077, class loss-> 0.00000\n",
      "Validation:\n"
     ]
    },
    {
     "name": "stderr",
     "output_type": "stream",
     "text": [
      "1it [00:00,  3.84it/s]\n"
     ]
    },
    {
     "name": "stdout",
     "output_type": "stream",
     "text": [
      "    recall: 0.500000 precision: 0.994026 mAP@0.5: 0.495425, mAP@0.5-0.95: 0.247713\n",
      "\n",
      "Epoch 115/1000\n",
      "----------\n",
      "Train: \n"
     ]
    },
    {
     "name": "stderr",
     "output_type": "stream",
     "text": [
      "3it [00:00,  3.69it/s]\n"
     ]
    },
    {
     "name": "stdout",
     "output_type": "stream",
     "text": [
      "    box loss-> 0.02814, object loss-> 0.04101, class loss-> 0.00000\n",
      "Validation:\n"
     ]
    },
    {
     "name": "stderr",
     "output_type": "stream",
     "text": [
      "1it [00:00,  3.91it/s]\n"
     ]
    },
    {
     "name": "stdout",
     "output_type": "stream",
     "text": [
      "    recall: 0.500000 precision: 0.983237 mAP@0.5: 0.495425, mAP@0.5-0.95: 0.198170\n",
      "\n",
      "Epoch 116/1000\n",
      "----------\n",
      "Train: \n"
     ]
    },
    {
     "name": "stderr",
     "output_type": "stream",
     "text": [
      "3it [00:00,  3.78it/s]\n"
     ]
    },
    {
     "name": "stdout",
     "output_type": "stream",
     "text": [
      "    box loss-> 0.02897, object loss-> 0.04025, class loss-> 0.00000\n",
      "Validation:\n"
     ]
    },
    {
     "name": "stderr",
     "output_type": "stream",
     "text": [
      "1it [00:00,  3.78it/s]\n"
     ]
    },
    {
     "name": "stdout",
     "output_type": "stream",
     "text": [
      "    recall: 0.500000 precision: 0.999971 mAP@0.5: 0.495425, mAP@0.5-0.95: 0.198170\n",
      "\n",
      "Epoch 117/1000\n",
      "----------\n",
      "Train: \n"
     ]
    },
    {
     "name": "stderr",
     "output_type": "stream",
     "text": [
      "3it [00:00,  3.72it/s]\n"
     ]
    },
    {
     "name": "stdout",
     "output_type": "stream",
     "text": [
      "    box loss-> 0.02857, object loss-> 0.03966, class loss-> 0.00000\n",
      "Validation:\n"
     ]
    },
    {
     "name": "stderr",
     "output_type": "stream",
     "text": [
      "1it [00:00,  4.09it/s]\n"
     ]
    },
    {
     "name": "stdout",
     "output_type": "stream",
     "text": [
      "    recall: 0.500000 precision: 0.958902 mAP@0.5: 0.495425, mAP@0.5-0.95: 0.198170\n",
      "\n",
      "Epoch 118/1000\n",
      "----------\n",
      "Train: \n"
     ]
    },
    {
     "name": "stderr",
     "output_type": "stream",
     "text": [
      "3it [00:00,  3.81it/s]\n"
     ]
    },
    {
     "name": "stdout",
     "output_type": "stream",
     "text": [
      "    box loss-> 0.02908, object loss-> 0.04047, class loss-> 0.00000\n",
      "Validation:\n"
     ]
    },
    {
     "name": "stderr",
     "output_type": "stream",
     "text": [
      "1it [00:00,  4.08it/s]\n"
     ]
    },
    {
     "name": "stdout",
     "output_type": "stream",
     "text": [
      "    recall: 0.500000 precision: 0.984232 mAP@0.5: 0.495425, mAP@0.5-0.95: 0.198170\n",
      "\n",
      "Epoch 119/1000\n",
      "----------\n",
      "Train: \n"
     ]
    },
    {
     "name": "stderr",
     "output_type": "stream",
     "text": [
      "3it [00:00,  3.69it/s]\n"
     ]
    },
    {
     "name": "stdout",
     "output_type": "stream",
     "text": [
      "    box loss-> 0.02885, object loss-> 0.04074, class loss-> 0.00000\n",
      "Validation:\n"
     ]
    },
    {
     "name": "stderr",
     "output_type": "stream",
     "text": [
      "1it [00:00,  4.01it/s]\n"
     ]
    },
    {
     "name": "stdout",
     "output_type": "stream",
     "text": [
      "    recall: 0.500000 precision: 0.994560 mAP@0.5: 0.495425, mAP@0.5-0.95: 0.148627\n",
      "\n",
      "Epoch 120/1000\n",
      "----------\n",
      "Train: \n"
     ]
    },
    {
     "name": "stderr",
     "output_type": "stream",
     "text": [
      "3it [00:00,  3.74it/s]\n"
     ]
    },
    {
     "name": "stdout",
     "output_type": "stream",
     "text": [
      "    box loss-> 0.02717, object loss-> 0.03919, class loss-> 0.00000\n",
      "Validation:\n"
     ]
    },
    {
     "name": "stderr",
     "output_type": "stream",
     "text": [
      "1it [00:00,  3.96it/s]\n"
     ]
    },
    {
     "name": "stdout",
     "output_type": "stream",
     "text": [
      "    recall: 0.500000 precision: 0.978940 mAP@0.5: 0.495425, mAP@0.5-0.95: 0.198170\n",
      "\n",
      "Epoch 121/1000\n",
      "----------\n",
      "Train: \n"
     ]
    },
    {
     "name": "stderr",
     "output_type": "stream",
     "text": [
      "3it [00:00,  3.69it/s]\n"
     ]
    },
    {
     "name": "stdout",
     "output_type": "stream",
     "text": [
      "    box loss-> 0.02881, object loss-> 0.04029, class loss-> 0.00000\n",
      "Validation:\n"
     ]
    },
    {
     "name": "stderr",
     "output_type": "stream",
     "text": [
      "1it [00:00,  3.85it/s]\n"
     ]
    },
    {
     "name": "stdout",
     "output_type": "stream",
     "text": [
      "    recall: 0.500000 precision: 0.999688 mAP@0.5: 0.495425, mAP@0.5-0.95: 0.049543\n",
      "\n",
      "Epoch 122/1000\n",
      "----------\n",
      "Train: \n"
     ]
    },
    {
     "name": "stderr",
     "output_type": "stream",
     "text": [
      "3it [00:00,  3.76it/s]\n"
     ]
    },
    {
     "name": "stdout",
     "output_type": "stream",
     "text": [
      "    box loss-> 0.02796, object loss-> 0.03987, class loss-> 0.00000\n",
      "Validation:\n"
     ]
    },
    {
     "name": "stderr",
     "output_type": "stream",
     "text": [
      "1it [00:00,  3.97it/s]\n"
     ]
    },
    {
     "name": "stdout",
     "output_type": "stream",
     "text": [
      "    recall: 0.500000 precision: 0.996938 mAP@0.5: 0.495425, mAP@0.5-0.95: 0.099085\n",
      "\n",
      "Epoch 123/1000\n",
      "----------\n",
      "Train: \n"
     ]
    },
    {
     "name": "stderr",
     "output_type": "stream",
     "text": [
      "3it [00:00,  3.64it/s]\n"
     ]
    },
    {
     "name": "stdout",
     "output_type": "stream",
     "text": [
      "    box loss-> 0.02772, object loss-> 0.03986, class loss-> 0.00000\n",
      "Validation:\n"
     ]
    },
    {
     "name": "stderr",
     "output_type": "stream",
     "text": [
      "1it [00:00,  3.83it/s]\n"
     ]
    },
    {
     "name": "stdout",
     "output_type": "stream",
     "text": [
      "    recall: 0.500000 precision: 0.092944 mAP@0.5: 0.082925, mAP@0.5-0.95: 0.024878\n",
      "\n",
      "Epoch 124/1000\n",
      "----------\n",
      "Train: \n"
     ]
    },
    {
     "name": "stderr",
     "output_type": "stream",
     "text": [
      "3it [00:00,  3.75it/s]\n"
     ]
    },
    {
     "name": "stdout",
     "output_type": "stream",
     "text": [
      "    box loss-> 0.03012, object loss-> 0.03939, class loss-> 0.00000\n",
      "Validation:\n"
     ]
    },
    {
     "name": "stderr",
     "output_type": "stream",
     "text": [
      "1it [00:00,  3.96it/s]\n"
     ]
    },
    {
     "name": "stdout",
     "output_type": "stream",
     "text": [
      "    recall: 0.500000 precision: 0.896271 mAP@0.5: 0.495425, mAP@0.5-0.95: 0.148627\n",
      "\n",
      "Epoch 125/1000\n",
      "----------\n",
      "Train: \n"
     ]
    },
    {
     "name": "stderr",
     "output_type": "stream",
     "text": [
      "3it [00:00,  3.80it/s]\n"
     ]
    },
    {
     "name": "stdout",
     "output_type": "stream",
     "text": [
      "    box loss-> 0.03120, object loss-> 0.04003, class loss-> 0.00000\n",
      "Validation:\n"
     ]
    },
    {
     "name": "stderr",
     "output_type": "stream",
     "text": [
      "1it [00:00,  4.02it/s]\n"
     ]
    },
    {
     "name": "stdout",
     "output_type": "stream",
     "text": [
      "    recall: 0.500000 precision: 0.940827 mAP@0.5: 0.495425, mAP@0.5-0.95: 0.148627\n",
      "\n",
      "Epoch 126/1000\n",
      "----------\n",
      "Train: \n"
     ]
    },
    {
     "name": "stderr",
     "output_type": "stream",
     "text": [
      "3it [00:00,  3.74it/s]\n"
     ]
    },
    {
     "name": "stdout",
     "output_type": "stream",
     "text": [
      "    box loss-> 0.02904, object loss-> 0.03970, class loss-> 0.00000\n",
      "Validation:\n"
     ]
    },
    {
     "name": "stderr",
     "output_type": "stream",
     "text": [
      "1it [00:00,  3.88it/s]\n"
     ]
    },
    {
     "name": "stdout",
     "output_type": "stream",
     "text": [
      "    recall: 0.500000 precision: 0.172615 mAP@0.5: 0.124175, mAP@0.5-0.95: 0.037253\n",
      "\n",
      "Epoch 127/1000\n",
      "----------\n",
      "Train: \n"
     ]
    },
    {
     "name": "stderr",
     "output_type": "stream",
     "text": [
      "3it [00:00,  3.81it/s]\n"
     ]
    },
    {
     "name": "stdout",
     "output_type": "stream",
     "text": [
      "    box loss-> 0.02909, object loss-> 0.03940, class loss-> 0.00000\n",
      "Validation:\n"
     ]
    },
    {
     "name": "stderr",
     "output_type": "stream",
     "text": [
      "1it [00:00,  3.93it/s]\n"
     ]
    },
    {
     "name": "stdout",
     "output_type": "stream",
     "text": [
      "    recall: 0.500000 precision: 0.507985 mAP@0.5: 0.495425, mAP@0.5-0.95: 0.148627\n",
      "\n",
      "Epoch 128/1000\n",
      "----------\n",
      "Train: \n"
     ]
    },
    {
     "name": "stderr",
     "output_type": "stream",
     "text": [
      "3it [00:00,  3.72it/s]\n"
     ]
    },
    {
     "name": "stdout",
     "output_type": "stream",
     "text": [
      "    box loss-> 0.02922, object loss-> 0.03986, class loss-> 0.00000\n",
      "Validation:\n"
     ]
    },
    {
     "name": "stderr",
     "output_type": "stream",
     "text": [
      "1it [00:00,  4.01it/s]\n"
     ]
    },
    {
     "name": "stdout",
     "output_type": "stream",
     "text": [
      "    recall: 0.500000 precision: 0.945288 mAP@0.5: 0.495425, mAP@0.5-0.95: 0.148627\n",
      "\n",
      "Epoch 129/1000\n",
      "----------\n",
      "Train: \n"
     ]
    },
    {
     "name": "stderr",
     "output_type": "stream",
     "text": [
      "3it [00:00,  3.78it/s]\n"
     ]
    },
    {
     "name": "stdout",
     "output_type": "stream",
     "text": [
      "    box loss-> 0.02919, object loss-> 0.03890, class loss-> 0.00000\n",
      "Validation:\n"
     ]
    },
    {
     "name": "stderr",
     "output_type": "stream",
     "text": [
      "1it [00:00,  4.15it/s]\n"
     ]
    },
    {
     "name": "stdout",
     "output_type": "stream",
     "text": [
      "    recall: 0.500000 precision: 0.965898 mAP@0.5: 0.495425, mAP@0.5-0.95: 0.148627\n",
      "\n",
      "Epoch 130/1000\n",
      "----------\n",
      "Train: \n"
     ]
    },
    {
     "name": "stderr",
     "output_type": "stream",
     "text": [
      "3it [00:00,  3.76it/s]\n"
     ]
    },
    {
     "name": "stdout",
     "output_type": "stream",
     "text": [
      "    box loss-> 0.02869, object loss-> 0.03867, class loss-> 0.00000\n",
      "Validation:\n"
     ]
    },
    {
     "name": "stderr",
     "output_type": "stream",
     "text": [
      "1it [00:00,  4.12it/s]\n"
     ]
    },
    {
     "name": "stdout",
     "output_type": "stream",
     "text": [
      "    recall: 0.500000 precision: 0.994255 mAP@0.5: 0.495425, mAP@0.5-0.95: 0.198170\n",
      "\n",
      "Epoch 131/1000\n",
      "----------\n",
      "Train: \n"
     ]
    },
    {
     "name": "stderr",
     "output_type": "stream",
     "text": [
      "3it [00:00,  3.78it/s]\n"
     ]
    },
    {
     "name": "stdout",
     "output_type": "stream",
     "text": [
      "    box loss-> 0.03270, object loss-> 0.03985, class loss-> 0.00000\n",
      "Validation:\n"
     ]
    },
    {
     "name": "stderr",
     "output_type": "stream",
     "text": [
      "1it [00:00,  4.06it/s]\n"
     ]
    },
    {
     "name": "stdout",
     "output_type": "stream",
     "text": [
      "    recall: 0.500000 precision: 0.981032 mAP@0.5: 0.495425, mAP@0.5-0.95: 0.198170\n",
      "\n",
      "Epoch 132/1000\n",
      "----------\n",
      "Train: \n"
     ]
    },
    {
     "name": "stderr",
     "output_type": "stream",
     "text": [
      "3it [00:00,  3.78it/s]\n"
     ]
    },
    {
     "name": "stdout",
     "output_type": "stream",
     "text": [
      "    box loss-> 0.03349, object loss-> 0.04026, class loss-> 0.00000\n",
      "Validation:\n"
     ]
    },
    {
     "name": "stderr",
     "output_type": "stream",
     "text": [
      "1it [00:00,  4.04it/s]\n"
     ]
    },
    {
     "name": "stdout",
     "output_type": "stream",
     "text": [
      "    recall: 0.500000 precision: 0.967998 mAP@0.5: 0.495425, mAP@0.5-0.95: 0.198170\n",
      "\n",
      "Epoch 133/1000\n",
      "----------\n",
      "Train: \n"
     ]
    },
    {
     "name": "stderr",
     "output_type": "stream",
     "text": [
      "3it [00:00,  3.72it/s]\n"
     ]
    },
    {
     "name": "stdout",
     "output_type": "stream",
     "text": [
      "    box loss-> 0.03312, object loss-> 0.03913, class loss-> 0.00000\n",
      "Validation:\n"
     ]
    },
    {
     "name": "stderr",
     "output_type": "stream",
     "text": [
      "1it [00:00,  4.07it/s]\n"
     ]
    },
    {
     "name": "stdout",
     "output_type": "stream",
     "text": [
      "    recall: 0.500000 precision: 0.970758 mAP@0.5: 0.495425, mAP@0.5-0.95: 0.198170\n",
      "\n",
      "Epoch 134/1000\n",
      "----------\n",
      "Train: \n"
     ]
    },
    {
     "name": "stderr",
     "output_type": "stream",
     "text": [
      "3it [00:00,  3.79it/s]\n"
     ]
    },
    {
     "name": "stdout",
     "output_type": "stream",
     "text": [
      "    box loss-> 0.03185, object loss-> 0.03909, class loss-> 0.00000\n",
      "Validation:\n"
     ]
    },
    {
     "name": "stderr",
     "output_type": "stream",
     "text": [
      "1it [00:00,  4.08it/s]\n"
     ]
    },
    {
     "name": "stdout",
     "output_type": "stream",
     "text": [
      "    recall: 0.500000 precision: 0.979277 mAP@0.5: 0.495425, mAP@0.5-0.95: 0.198170\n",
      "\n",
      "Epoch 135/1000\n",
      "----------\n",
      "Train: \n"
     ]
    },
    {
     "name": "stderr",
     "output_type": "stream",
     "text": [
      "3it [00:00,  3.72it/s]\n"
     ]
    },
    {
     "name": "stdout",
     "output_type": "stream",
     "text": [
      "    box loss-> 0.02914, object loss-> 0.03873, class loss-> 0.00000\n",
      "Validation:\n"
     ]
    },
    {
     "name": "stderr",
     "output_type": "stream",
     "text": [
      "1it [00:00,  4.00it/s]\n"
     ]
    },
    {
     "name": "stdout",
     "output_type": "stream",
     "text": [
      "    recall: 0.500000 precision: 0.497345 mAP@0.5: 0.247925, mAP@0.5-0.95: 0.099170\n",
      "\n",
      "Epoch 136/1000\n",
      "----------\n",
      "Train: \n"
     ]
    },
    {
     "name": "stderr",
     "output_type": "stream",
     "text": [
      "3it [00:00,  3.78it/s]\n"
     ]
    },
    {
     "name": "stdout",
     "output_type": "stream",
     "text": [
      "    box loss-> 0.02758, object loss-> 0.03907, class loss-> 0.00000\n",
      "Validation:\n"
     ]
    },
    {
     "name": "stderr",
     "output_type": "stream",
     "text": [
      "1it [00:00,  4.05it/s]\n"
     ]
    },
    {
     "name": "stdout",
     "output_type": "stream",
     "text": [
      "    recall: 0.500000 precision: 0.491554 mAP@0.5: 0.247925, mAP@0.5-0.95: 0.099170\n",
      "\n",
      "Epoch 137/1000\n",
      "----------\n",
      "Train: \n"
     ]
    },
    {
     "name": "stderr",
     "output_type": "stream",
     "text": [
      "3it [00:00,  3.75it/s]\n"
     ]
    },
    {
     "name": "stdout",
     "output_type": "stream",
     "text": [
      "    box loss-> 0.02727, object loss-> 0.03863, class loss-> 0.00000\n",
      "Validation:\n"
     ]
    },
    {
     "name": "stderr",
     "output_type": "stream",
     "text": [
      "1it [00:00,  3.94it/s]\n"
     ]
    },
    {
     "name": "stdout",
     "output_type": "stream",
     "text": [
      "    recall: 0.500000 precision: 0.959722 mAP@0.5: 0.495425, mAP@0.5-0.95: 0.099085\n",
      "\n",
      "Epoch 138/1000\n",
      "----------\n",
      "Train: \n"
     ]
    },
    {
     "name": "stderr",
     "output_type": "stream",
     "text": [
      "3it [00:00,  3.80it/s]\n"
     ]
    },
    {
     "name": "stdout",
     "output_type": "stream",
     "text": [
      "    box loss-> 0.03070, object loss-> 0.03962, class loss-> 0.00000\n",
      "Validation:\n"
     ]
    },
    {
     "name": "stderr",
     "output_type": "stream",
     "text": [
      "1it [00:00,  4.08it/s]\n"
     ]
    },
    {
     "name": "stdout",
     "output_type": "stream",
     "text": [
      "    recall: 0.500000 precision: 0.915523 mAP@0.5: 0.495425, mAP@0.5-0.95: 0.148627\n",
      "\n",
      "Epoch 139/1000\n",
      "----------\n",
      "Train: \n"
     ]
    },
    {
     "name": "stderr",
     "output_type": "stream",
     "text": [
      "3it [00:00,  3.78it/s]\n"
     ]
    },
    {
     "name": "stdout",
     "output_type": "stream",
     "text": [
      "    box loss-> 0.03180, object loss-> 0.03920, class loss-> 0.00000\n",
      "Validation:\n"
     ]
    },
    {
     "name": "stderr",
     "output_type": "stream",
     "text": [
      "1it [00:00,  4.05it/s]\n"
     ]
    },
    {
     "name": "stdout",
     "output_type": "stream",
     "text": [
      "    recall: 0.500000 precision: 0.946540 mAP@0.5: 0.495425, mAP@0.5-0.95: 0.198170\n",
      "\n",
      "Epoch 140/1000\n",
      "----------\n",
      "Train: \n"
     ]
    },
    {
     "name": "stderr",
     "output_type": "stream",
     "text": [
      "3it [00:00,  3.75it/s]\n"
     ]
    },
    {
     "name": "stdout",
     "output_type": "stream",
     "text": [
      "    box loss-> 0.03115, object loss-> 0.03892, class loss-> 0.00000\n",
      "Validation:\n"
     ]
    },
    {
     "name": "stderr",
     "output_type": "stream",
     "text": [
      "1it [00:00,  4.02it/s]\n"
     ]
    },
    {
     "name": "stdout",
     "output_type": "stream",
     "text": [
      "    recall: 0.500000 precision: 0.481035 mAP@0.5: 0.247925, mAP@0.5-0.95: 0.099170\n",
      "\n",
      "Epoch 141/1000\n",
      "----------\n",
      "Train: \n"
     ]
    },
    {
     "name": "stderr",
     "output_type": "stream",
     "text": [
      "3it [00:00,  3.75it/s]\n"
     ]
    },
    {
     "name": "stdout",
     "output_type": "stream",
     "text": [
      "    box loss-> 0.02927, object loss-> 0.03838, class loss-> 0.00000\n",
      "Validation:\n"
     ]
    },
    {
     "name": "stderr",
     "output_type": "stream",
     "text": [
      "1it [00:00,  4.11it/s]\n"
     ]
    },
    {
     "name": "stdout",
     "output_type": "stream",
     "text": [
      "    recall: 0.500000 precision: 0.593157 mAP@0.5: 0.495425, mAP@0.5-0.95: 0.247713\n",
      "\n",
      "Epoch 142/1000\n",
      "----------\n",
      "Train: \n"
     ]
    },
    {
     "name": "stderr",
     "output_type": "stream",
     "text": [
      "3it [00:00,  3.68it/s]\n"
     ]
    },
    {
     "name": "stdout",
     "output_type": "stream",
     "text": [
      "    box loss-> 0.03023, object loss-> 0.03810, class loss-> 0.00000\n",
      "Validation:\n"
     ]
    },
    {
     "name": "stderr",
     "output_type": "stream",
     "text": [
      "1it [00:00,  4.09it/s]\n"
     ]
    },
    {
     "name": "stdout",
     "output_type": "stream",
     "text": [
      "    recall: 0.500000 precision: 0.954464 mAP@0.5: 0.495425, mAP@0.5-0.95: 0.297255\n",
      "\n",
      "Epoch 143/1000\n",
      "----------\n",
      "Train: \n"
     ]
    },
    {
     "name": "stderr",
     "output_type": "stream",
     "text": [
      "3it [00:00,  3.75it/s]\n"
     ]
    },
    {
     "name": "stdout",
     "output_type": "stream",
     "text": [
      "    box loss-> 0.03170, object loss-> 0.03955, class loss-> 0.00000\n",
      "Validation:\n"
     ]
    },
    {
     "name": "stderr",
     "output_type": "stream",
     "text": [
      "1it [00:00,  4.10it/s]\n"
     ]
    },
    {
     "name": "stdout",
     "output_type": "stream",
     "text": [
      "    recall: 0.500000 precision: 0.971608 mAP@0.5: 0.495425, mAP@0.5-0.95: 0.297255\n",
      "\n",
      "Epoch 144/1000\n",
      "----------\n",
      "Train: \n"
     ]
    },
    {
     "name": "stderr",
     "output_type": "stream",
     "text": [
      "3it [00:00,  3.77it/s]\n"
     ]
    },
    {
     "name": "stdout",
     "output_type": "stream",
     "text": [
      "    box loss-> 0.03186, object loss-> 0.03880, class loss-> 0.00000\n",
      "Validation:\n"
     ]
    },
    {
     "name": "stderr",
     "output_type": "stream",
     "text": [
      "1it [00:00,  4.16it/s]\n"
     ]
    },
    {
     "name": "stdout",
     "output_type": "stream",
     "text": [
      "    recall: 0.500000 precision: 0.932331 mAP@0.5: 0.495425, mAP@0.5-0.95: 0.297255\n",
      "\n",
      "Epoch 145/1000\n",
      "----------\n",
      "Train: \n"
     ]
    },
    {
     "name": "stderr",
     "output_type": "stream",
     "text": [
      "3it [00:00,  3.67it/s]\n"
     ]
    },
    {
     "name": "stdout",
     "output_type": "stream",
     "text": [
      "    box loss-> 0.03094, object loss-> 0.03896, class loss-> 0.00000\n",
      "Validation:\n"
     ]
    },
    {
     "name": "stderr",
     "output_type": "stream",
     "text": [
      "1it [00:00,  4.08it/s]\n"
     ]
    },
    {
     "name": "stdout",
     "output_type": "stream",
     "text": [
      "    recall: 0.500000 precision: 0.969256 mAP@0.5: 0.495425, mAP@0.5-0.95: 0.297255\n",
      "\n",
      "Epoch 146/1000\n",
      "----------\n",
      "Train: \n"
     ]
    },
    {
     "name": "stderr",
     "output_type": "stream",
     "text": [
      "3it [00:00,  3.81it/s]\n"
     ]
    },
    {
     "name": "stdout",
     "output_type": "stream",
     "text": [
      "    box loss-> 0.03069, object loss-> 0.03897, class loss-> 0.00000\n",
      "Validation:\n"
     ]
    },
    {
     "name": "stderr",
     "output_type": "stream",
     "text": [
      "1it [00:00,  4.07it/s]\n"
     ]
    },
    {
     "name": "stdout",
     "output_type": "stream",
     "text": [
      "    recall: 0.500000 precision: 0.969339 mAP@0.5: 0.495425, mAP@0.5-0.95: 0.297255\n",
      "\n",
      "Epoch 147/1000\n",
      "----------\n",
      "Train: \n"
     ]
    },
    {
     "name": "stderr",
     "output_type": "stream",
     "text": [
      "3it [00:00,  3.73it/s]\n"
     ]
    },
    {
     "name": "stdout",
     "output_type": "stream",
     "text": [
      "    box loss-> 0.03168, object loss-> 0.03910, class loss-> 0.00000\n",
      "Validation:\n"
     ]
    },
    {
     "name": "stderr",
     "output_type": "stream",
     "text": [
      "1it [00:00,  4.15it/s]\n"
     ]
    },
    {
     "name": "stdout",
     "output_type": "stream",
     "text": [
      "    recall: 0.500000 precision: 0.964646 mAP@0.5: 0.495425, mAP@0.5-0.95: 0.198170\n",
      "\n",
      "Epoch 148/1000\n",
      "----------\n",
      "Train: \n"
     ]
    },
    {
     "name": "stderr",
     "output_type": "stream",
     "text": [
      "3it [00:00,  3.79it/s]\n"
     ]
    },
    {
     "name": "stdout",
     "output_type": "stream",
     "text": [
      "    box loss-> 0.02944, object loss-> 0.03818, class loss-> 0.00000\n",
      "Validation:\n"
     ]
    },
    {
     "name": "stderr",
     "output_type": "stream",
     "text": [
      "1it [00:00,  4.13it/s]\n"
     ]
    },
    {
     "name": "stdout",
     "output_type": "stream",
     "text": [
      "    recall: 0.500000 precision: 0.953691 mAP@0.5: 0.495425, mAP@0.5-0.95: 0.198170\n",
      "\n",
      "Epoch 149/1000\n",
      "----------\n",
      "Train: \n"
     ]
    },
    {
     "name": "stderr",
     "output_type": "stream",
     "text": [
      "3it [00:00,  3.81it/s]\n"
     ]
    },
    {
     "name": "stdout",
     "output_type": "stream",
     "text": [
      "    box loss-> 0.02852, object loss-> 0.03750, class loss-> 0.00000\n",
      "Validation:\n"
     ]
    },
    {
     "name": "stderr",
     "output_type": "stream",
     "text": [
      "1it [00:00,  4.17it/s]\n"
     ]
    },
    {
     "name": "stdout",
     "output_type": "stream",
     "text": [
      "    recall: 0.500000 precision: 0.952219 mAP@0.5: 0.495425, mAP@0.5-0.95: 0.198170\n",
      "\n",
      "Epoch 150/1000\n",
      "----------\n",
      "Train: \n"
     ]
    },
    {
     "name": "stderr",
     "output_type": "stream",
     "text": [
      "3it [00:00,  3.75it/s]\n"
     ]
    },
    {
     "name": "stdout",
     "output_type": "stream",
     "text": [
      "    box loss-> 0.02901, object loss-> 0.03760, class loss-> 0.00000\n",
      "Validation:\n"
     ]
    },
    {
     "name": "stderr",
     "output_type": "stream",
     "text": [
      "1it [00:00,  4.17it/s]\n"
     ]
    },
    {
     "name": "stdout",
     "output_type": "stream",
     "text": [
      "    recall: 0.500000 precision: 0.995507 mAP@0.5: 0.495425, mAP@0.5-0.95: 0.297255\n",
      "\n",
      "Epoch 151/1000\n",
      "----------\n",
      "Train: \n"
     ]
    },
    {
     "name": "stderr",
     "output_type": "stream",
     "text": [
      "3it [00:00,  3.79it/s]\n"
     ]
    },
    {
     "name": "stdout",
     "output_type": "stream",
     "text": [
      "    box loss-> 0.02899, object loss-> 0.03799, class loss-> 0.00000\n",
      "Validation:\n"
     ]
    },
    {
     "name": "stderr",
     "output_type": "stream",
     "text": [
      "1it [00:00,  4.20it/s]\n"
     ]
    },
    {
     "name": "stdout",
     "output_type": "stream",
     "text": [
      "    recall: 0.500000 precision: 0.983357 mAP@0.5: 0.495425, mAP@0.5-0.95: 0.297255\n",
      "\n",
      "Epoch 152/1000\n",
      "----------\n",
      "Train: \n"
     ]
    },
    {
     "name": "stderr",
     "output_type": "stream",
     "text": [
      "3it [00:00,  3.82it/s]\n"
     ]
    },
    {
     "name": "stdout",
     "output_type": "stream",
     "text": [
      "    box loss-> 0.02864, object loss-> 0.03799, class loss-> 0.00000\n",
      "Validation:\n"
     ]
    },
    {
     "name": "stderr",
     "output_type": "stream",
     "text": [
      "1it [00:00,  4.11it/s]\n"
     ]
    },
    {
     "name": "stdout",
     "output_type": "stream",
     "text": [
      "    recall: 0.500000 precision: 0.983544 mAP@0.5: 0.495425, mAP@0.5-0.95: 0.297255\n",
      "\n",
      "Epoch 153/1000\n",
      "----------\n",
      "Train: \n"
     ]
    },
    {
     "name": "stderr",
     "output_type": "stream",
     "text": [
      "3it [00:00,  3.73it/s]\n"
     ]
    },
    {
     "name": "stdout",
     "output_type": "stream",
     "text": [
      "    box loss-> 0.02846, object loss-> 0.03796, class loss-> 0.00000\n",
      "Validation:\n"
     ]
    },
    {
     "name": "stderr",
     "output_type": "stream",
     "text": [
      "1it [00:00,  4.15it/s]\n"
     ]
    },
    {
     "name": "stdout",
     "output_type": "stream",
     "text": [
      "    recall: 0.500000 precision: 0.975970 mAP@0.5: 0.495425, mAP@0.5-0.95: 0.198170\n",
      "\n",
      "Epoch 154/1000\n",
      "----------\n",
      "Train: \n"
     ]
    },
    {
     "name": "stderr",
     "output_type": "stream",
     "text": [
      "3it [00:00,  3.76it/s]\n"
     ]
    },
    {
     "name": "stdout",
     "output_type": "stream",
     "text": [
      "    box loss-> 0.02748, object loss-> 0.03681, class loss-> 0.00000\n",
      "Validation:\n"
     ]
    },
    {
     "name": "stderr",
     "output_type": "stream",
     "text": [
      "1it [00:00,  4.14it/s]\n"
     ]
    },
    {
     "name": "stdout",
     "output_type": "stream",
     "text": [
      "    recall: 0.500000 precision: 0.995245 mAP@0.5: 0.495425, mAP@0.5-0.95: 0.198170\n",
      "\n",
      "Epoch 155/1000\n",
      "----------\n",
      "Train: \n"
     ]
    },
    {
     "name": "stderr",
     "output_type": "stream",
     "text": [
      "3it [00:00,  3.71it/s]\n"
     ]
    },
    {
     "name": "stdout",
     "output_type": "stream",
     "text": [
      "    box loss-> 0.02844, object loss-> 0.03730, class loss-> 0.00000\n",
      "Validation:\n"
     ]
    },
    {
     "name": "stderr",
     "output_type": "stream",
     "text": [
      "1it [00:00,  4.18it/s]\n"
     ]
    },
    {
     "name": "stdout",
     "output_type": "stream",
     "text": [
      "    recall: 0.500000 precision: 0.993265 mAP@0.5: 0.495425, mAP@0.5-0.95: 0.099085\n",
      "\n",
      "Epoch 156/1000\n",
      "----------\n",
      "Train: \n"
     ]
    },
    {
     "name": "stderr",
     "output_type": "stream",
     "text": [
      "3it [00:00,  3.80it/s]\n"
     ]
    },
    {
     "name": "stdout",
     "output_type": "stream",
     "text": [
      "    box loss-> 0.03418, object loss-> 0.03888, class loss-> 0.00000\n",
      "Validation:\n"
     ]
    },
    {
     "name": "stderr",
     "output_type": "stream",
     "text": [
      "1it [00:00,  4.15it/s]\n"
     ]
    },
    {
     "name": "stdout",
     "output_type": "stream",
     "text": [
      "    recall: 0.500000 precision: 0.992700 mAP@0.5: 0.495425, mAP@0.5-0.95: 0.148627\n",
      "\n",
      "Epoch 157/1000\n",
      "----------\n",
      "Train: \n"
     ]
    },
    {
     "name": "stderr",
     "output_type": "stream",
     "text": [
      "3it [00:00,  3.83it/s]\n"
     ]
    },
    {
     "name": "stdout",
     "output_type": "stream",
     "text": [
      "    box loss-> 0.03399, object loss-> 0.03917, class loss-> 0.00000\n",
      "Validation:\n"
     ]
    },
    {
     "name": "stderr",
     "output_type": "stream",
     "text": [
      "1it [00:00,  4.08it/s]\n"
     ]
    },
    {
     "name": "stdout",
     "output_type": "stream",
     "text": [
      "    recall: 0.500000 precision: 0.993310 mAP@0.5: 0.495425, mAP@0.5-0.95: 0.148627\n",
      "\n",
      "Epoch 158/1000\n",
      "----------\n",
      "Train: \n"
     ]
    },
    {
     "name": "stderr",
     "output_type": "stream",
     "text": [
      "3it [00:00,  3.76it/s]\n"
     ]
    },
    {
     "name": "stdout",
     "output_type": "stream",
     "text": [
      "    box loss-> 0.03390, object loss-> 0.03907, class loss-> 0.00000\n",
      "Validation:\n"
     ]
    },
    {
     "name": "stderr",
     "output_type": "stream",
     "text": [
      "1it [00:00,  4.30it/s]\n"
     ]
    },
    {
     "name": "stdout",
     "output_type": "stream",
     "text": [
      "    recall: 0.500000 precision: 0.973136 mAP@0.5: 0.495425, mAP@0.5-0.95: 0.297255\n",
      "\n",
      "Epoch 159/1000\n",
      "----------\n",
      "Train: \n"
     ]
    },
    {
     "name": "stderr",
     "output_type": "stream",
     "text": [
      "3it [00:00,  3.83it/s]\n"
     ]
    },
    {
     "name": "stdout",
     "output_type": "stream",
     "text": [
      "    box loss-> 0.03180, object loss-> 0.03881, class loss-> 0.00000\n",
      "Validation:\n"
     ]
    },
    {
     "name": "stderr",
     "output_type": "stream",
     "text": [
      "1it [00:00,  4.16it/s]\n"
     ]
    },
    {
     "name": "stdout",
     "output_type": "stream",
     "text": [
      "    recall: 0.500000 precision: 0.985974 mAP@0.5: 0.495425, mAP@0.5-0.95: 0.247713\n",
      "\n",
      "Epoch 160/1000\n",
      "----------\n",
      "Train: \n"
     ]
    },
    {
     "name": "stderr",
     "output_type": "stream",
     "text": [
      "3it [00:00,  3.80it/s]\n"
     ]
    },
    {
     "name": "stdout",
     "output_type": "stream",
     "text": [
      "    box loss-> 0.03152, object loss-> 0.03895, class loss-> 0.00000\n",
      "Validation:\n"
     ]
    },
    {
     "name": "stderr",
     "output_type": "stream",
     "text": [
      "1it [00:00,  4.23it/s]\n"
     ]
    },
    {
     "name": "stdout",
     "output_type": "stream",
     "text": [
      "    recall: 0.500000 precision: 0.969178 mAP@0.5: 0.495425, mAP@0.5-0.95: 0.247713\n",
      "\n",
      "Epoch 161/1000\n",
      "----------\n",
      "Train: \n"
     ]
    },
    {
     "name": "stderr",
     "output_type": "stream",
     "text": [
      "3it [00:00,  3.74it/s]\n"
     ]
    },
    {
     "name": "stdout",
     "output_type": "stream",
     "text": [
      "    box loss-> 0.03050, object loss-> 0.03850, class loss-> 0.00000\n",
      "Validation:\n"
     ]
    },
    {
     "name": "stderr",
     "output_type": "stream",
     "text": [
      "1it [00:00,  4.11it/s]\n"
     ]
    },
    {
     "name": "stdout",
     "output_type": "stream",
     "text": [
      "    recall: 0.500000 precision: 0.498166 mAP@0.5: 0.495425, mAP@0.5-0.95: 0.346797\n",
      "\n",
      "Epoch 162/1000\n",
      "----------\n",
      "Train: \n"
     ]
    },
    {
     "name": "stderr",
     "output_type": "stream",
     "text": [
      "3it [00:00,  3.77it/s]\n"
     ]
    },
    {
     "name": "stdout",
     "output_type": "stream",
     "text": [
      "    box loss-> 0.02922, object loss-> 0.03872, class loss-> 0.00000\n",
      "Validation:\n"
     ]
    },
    {
     "name": "stderr",
     "output_type": "stream",
     "text": [
      "1it [00:00,  4.16it/s]\n"
     ]
    },
    {
     "name": "stdout",
     "output_type": "stream",
     "text": [
      "    recall: 0.500000 precision: 0.494777 mAP@0.5: 0.495425, mAP@0.5-0.95: 0.346797\n",
      "\n",
      "Epoch 163/1000\n",
      "----------\n",
      "Train: \n"
     ]
    },
    {
     "name": "stderr",
     "output_type": "stream",
     "text": [
      "3it [00:00,  3.71it/s]\n"
     ]
    },
    {
     "name": "stdout",
     "output_type": "stream",
     "text": [
      "    box loss-> 0.03047, object loss-> 0.03829, class loss-> 0.00000\n",
      "Validation:\n"
     ]
    },
    {
     "name": "stderr",
     "output_type": "stream",
     "text": [
      "1it [00:00,  4.31it/s]\n"
     ]
    },
    {
     "name": "stdout",
     "output_type": "stream",
     "text": [
      "    recall: 0.500000 precision: 0.492386 mAP@0.5: 0.247925, mAP@0.5-0.95: 0.074377\n",
      "\n",
      "Epoch 164/1000\n",
      "----------\n",
      "Train: \n"
     ]
    },
    {
     "name": "stderr",
     "output_type": "stream",
     "text": [
      "3it [00:00,  3.82it/s]\n"
     ]
    },
    {
     "name": "stdout",
     "output_type": "stream",
     "text": [
      "    box loss-> 0.02872, object loss-> 0.03772, class loss-> 0.00000\n",
      "Validation:\n"
     ]
    },
    {
     "name": "stderr",
     "output_type": "stream",
     "text": [
      "1it [00:00,  4.24it/s]\n"
     ]
    },
    {
     "name": "stdout",
     "output_type": "stream",
     "text": [
      "    recall: 0.500000 precision: 0.857560 mAP@0.5: 0.495425, mAP@0.5-0.95: 0.198170\n",
      "\n",
      "Epoch 165/1000\n",
      "----------\n",
      "Train: \n"
     ]
    },
    {
     "name": "stderr",
     "output_type": "stream",
     "text": [
      "3it [00:00,  3.82it/s]\n"
     ]
    },
    {
     "name": "stdout",
     "output_type": "stream",
     "text": [
      "    box loss-> 0.02912, object loss-> 0.03765, class loss-> 0.00000\n",
      "Validation:\n"
     ]
    },
    {
     "name": "stderr",
     "output_type": "stream",
     "text": [
      "1it [00:00,  4.18it/s]\n"
     ]
    },
    {
     "name": "stdout",
     "output_type": "stream",
     "text": [
      "    recall: 0.500000 precision: 0.980613 mAP@0.5: 0.495425, mAP@0.5-0.95: 0.198170\n",
      "\n",
      "Epoch 166/1000\n",
      "----------\n",
      "Train: \n"
     ]
    },
    {
     "name": "stderr",
     "output_type": "stream",
     "text": [
      "3it [00:00,  3.72it/s]\n"
     ]
    },
    {
     "name": "stdout",
     "output_type": "stream",
     "text": [
      "    box loss-> 0.03053, object loss-> 0.03796, class loss-> 0.00000\n",
      "Validation:\n"
     ]
    },
    {
     "name": "stderr",
     "output_type": "stream",
     "text": [
      "1it [00:00,  4.29it/s]\n"
     ]
    },
    {
     "name": "stdout",
     "output_type": "stream",
     "text": [
      "    recall: 0.500000 precision: 0.495254 mAP@0.5: 0.247925, mAP@0.5-0.95: 0.173547\n",
      "\n",
      "Epoch 167/1000\n",
      "----------\n",
      "Train: \n"
     ]
    },
    {
     "name": "stderr",
     "output_type": "stream",
     "text": [
      "3it [00:00,  3.79it/s]\n"
     ]
    },
    {
     "name": "stdout",
     "output_type": "stream",
     "text": [
      "    box loss-> 0.03059, object loss-> 0.03742, class loss-> 0.00000\n",
      "Validation:\n"
     ]
    },
    {
     "name": "stderr",
     "output_type": "stream",
     "text": [
      "1it [00:00,  4.24it/s]\n"
     ]
    },
    {
     "name": "stdout",
     "output_type": "stream",
     "text": [
      "    recall: 0.500000 precision: 0.493689 mAP@0.5: 0.495425, mAP@0.5-0.95: 0.346797\n",
      "\n",
      "Epoch 168/1000\n",
      "----------\n",
      "Train: \n"
     ]
    },
    {
     "name": "stderr",
     "output_type": "stream",
     "text": [
      "3it [00:00,  3.76it/s]\n"
     ]
    },
    {
     "name": "stdout",
     "output_type": "stream",
     "text": [
      "    box loss-> 0.03007, object loss-> 0.03789, class loss-> 0.00000\n",
      "Validation:\n"
     ]
    },
    {
     "name": "stderr",
     "output_type": "stream",
     "text": [
      "1it [00:00,  4.20it/s]\n"
     ]
    },
    {
     "name": "stdout",
     "output_type": "stream",
     "text": [
      "    recall: 0.500000 precision: 0.896120 mAP@0.5: 0.495425, mAP@0.5-0.95: 0.297255\n",
      "\n",
      "Epoch 169/1000\n",
      "----------\n",
      "Train: \n"
     ]
    },
    {
     "name": "stderr",
     "output_type": "stream",
     "text": [
      "3it [00:00,  3.65it/s]\n"
     ]
    },
    {
     "name": "stdout",
     "output_type": "stream",
     "text": [
      "    box loss-> 0.03249, object loss-> 0.03748, class loss-> 0.00000\n",
      "Validation:\n"
     ]
    },
    {
     "name": "stderr",
     "output_type": "stream",
     "text": [
      "1it [00:00,  4.24it/s]\n"
     ]
    },
    {
     "name": "stdout",
     "output_type": "stream",
     "text": [
      "    recall: 0.500000 precision: 0.709270 mAP@0.5: 0.495425, mAP@0.5-0.95: 0.346797\n",
      "\n",
      "Epoch 170/1000\n",
      "----------\n",
      "Train: \n"
     ]
    },
    {
     "name": "stderr",
     "output_type": "stream",
     "text": [
      "3it [00:00,  3.77it/s]\n"
     ]
    },
    {
     "name": "stdout",
     "output_type": "stream",
     "text": [
      "    box loss-> 0.02772, object loss-> 0.03712, class loss-> 0.00000\n",
      "Validation:\n"
     ]
    },
    {
     "name": "stderr",
     "output_type": "stream",
     "text": [
      "1it [00:00,  4.24it/s]\n"
     ]
    },
    {
     "name": "stdout",
     "output_type": "stream",
     "text": [
      "    recall: 0.500000 precision: 0.953132 mAP@0.5: 0.495425, mAP@0.5-0.95: 0.346797\n",
      "\n",
      "Epoch 171/1000\n",
      "----------\n",
      "Train: \n"
     ]
    },
    {
     "name": "stderr",
     "output_type": "stream",
     "text": [
      "3it [00:00,  3.76it/s]\n"
     ]
    },
    {
     "name": "stdout",
     "output_type": "stream",
     "text": [
      "    box loss-> 0.02769, object loss-> 0.03695, class loss-> 0.00000\n",
      "Validation:\n"
     ]
    },
    {
     "name": "stderr",
     "output_type": "stream",
     "text": [
      "1it [00:00,  4.19it/s]\n"
     ]
    },
    {
     "name": "stdout",
     "output_type": "stream",
     "text": [
      "    recall: 0.500000 precision: 0.985887 mAP@0.5: 0.495425, mAP@0.5-0.95: 0.346797\n",
      "\n",
      "Epoch 172/1000\n",
      "----------\n",
      "Train: \n"
     ]
    },
    {
     "name": "stderr",
     "output_type": "stream",
     "text": [
      "3it [00:00,  3.68it/s]\n"
     ]
    },
    {
     "name": "stdout",
     "output_type": "stream",
     "text": [
      "    box loss-> 0.02690, object loss-> 0.03703, class loss-> 0.00000\n",
      "Validation:\n"
     ]
    },
    {
     "name": "stderr",
     "output_type": "stream",
     "text": [
      "1it [00:00,  4.19it/s]\n"
     ]
    },
    {
     "name": "stdout",
     "output_type": "stream",
     "text": [
      "    recall: 0.500000 precision: 0.498644 mAP@0.5: 0.247925, mAP@0.5-0.95: 0.074377\n",
      "\n",
      "Epoch 173/1000\n",
      "----------\n",
      "Train: \n"
     ]
    },
    {
     "name": "stderr",
     "output_type": "stream",
     "text": [
      "3it [00:00,  3.77it/s]\n"
     ]
    },
    {
     "name": "stdout",
     "output_type": "stream",
     "text": [
      "    box loss-> 0.02620, object loss-> 0.03604, class loss-> 0.00000\n",
      "Validation:\n"
     ]
    },
    {
     "name": "stderr",
     "output_type": "stream",
     "text": [
      "1it [00:00,  4.31it/s]\n"
     ]
    },
    {
     "name": "stdout",
     "output_type": "stream",
     "text": [
      "    recall: 0.500000 precision: 0.494958 mAP@0.5: 0.247925, mAP@0.5-0.95: 0.074377\n",
      "\n",
      "Epoch 174/1000\n",
      "----------\n",
      "Train: \n"
     ]
    },
    {
     "name": "stderr",
     "output_type": "stream",
     "text": [
      "3it [00:00,  3.80it/s]\n"
     ]
    },
    {
     "name": "stdout",
     "output_type": "stream",
     "text": [
      "    box loss-> 0.02668, object loss-> 0.03581, class loss-> 0.00000\n",
      "Validation:\n"
     ]
    },
    {
     "name": "stderr",
     "output_type": "stream",
     "text": [
      "1it [00:00,  4.16it/s]\n"
     ]
    },
    {
     "name": "stdout",
     "output_type": "stream",
     "text": [
      "    recall: 0.500000 precision: 0.497289 mAP@0.5: 0.247925, mAP@0.5-0.95: 0.173547\n",
      "\n",
      "Epoch 175/1000\n",
      "----------\n",
      "Train: \n"
     ]
    },
    {
     "name": "stderr",
     "output_type": "stream",
     "text": [
      "3it [00:00,  3.73it/s]\n"
     ]
    },
    {
     "name": "stdout",
     "output_type": "stream",
     "text": [
      "    box loss-> 0.02731, object loss-> 0.03624, class loss-> 0.00000\n",
      "Validation:\n"
     ]
    },
    {
     "name": "stderr",
     "output_type": "stream",
     "text": [
      "1it [00:00,  4.23it/s]\n"
     ]
    },
    {
     "name": "stdout",
     "output_type": "stream",
     "text": [
      "    recall: 0.500000 precision: 0.475264 mAP@0.5: 0.247925, mAP@0.5-0.95: 0.148755\n",
      "\n",
      "Epoch 176/1000\n",
      "----------\n",
      "Train: \n"
     ]
    },
    {
     "name": "stderr",
     "output_type": "stream",
     "text": [
      "3it [00:00,  3.82it/s]\n"
     ]
    },
    {
     "name": "stdout",
     "output_type": "stream",
     "text": [
      "    box loss-> 0.02669, object loss-> 0.03597, class loss-> 0.00000\n",
      "Validation:\n"
     ]
    },
    {
     "name": "stderr",
     "output_type": "stream",
     "text": [
      "1it [00:00,  4.29it/s]\n"
     ]
    },
    {
     "name": "stdout",
     "output_type": "stream",
     "text": [
      "    recall: 0.486329 precision: 0.486329 mAP@0.5: 0.247925, mAP@0.5-0.95: 0.148755\n",
      "\n",
      "Epoch 177/1000\n",
      "----------\n",
      "Train: \n"
     ]
    },
    {
     "name": "stderr",
     "output_type": "stream",
     "text": [
      "3it [00:00,  3.81it/s]\n"
     ]
    },
    {
     "name": "stdout",
     "output_type": "stream",
     "text": [
      "    box loss-> 0.02568, object loss-> 0.03628, class loss-> 0.00000\n",
      "Validation:\n"
     ]
    },
    {
     "name": "stderr",
     "output_type": "stream",
     "text": [
      "1it [00:00,  4.24it/s]\n"
     ]
    },
    {
     "name": "stdout",
     "output_type": "stream",
     "text": [
      "    recall: 0.500000 precision: 0.974959 mAP@0.5: 0.495425, mAP@0.5-0.95: 0.049543\n",
      "\n",
      "Epoch 178/1000\n",
      "----------\n",
      "Train: \n"
     ]
    },
    {
     "name": "stderr",
     "output_type": "stream",
     "text": [
      "3it [00:00,  3.78it/s]\n"
     ]
    },
    {
     "name": "stdout",
     "output_type": "stream",
     "text": [
      "    box loss-> 0.02775, object loss-> 0.03701, class loss-> 0.00000\n",
      "Validation:\n"
     ]
    },
    {
     "name": "stderr",
     "output_type": "stream",
     "text": [
      "1it [00:00,  4.23it/s]\n"
     ]
    },
    {
     "name": "stdout",
     "output_type": "stream",
     "text": [
      "    recall: 0.500000 precision: 0.997977 mAP@0.5: 0.495425, mAP@0.5-0.95: 0.049543\n",
      "\n",
      "Epoch 179/1000\n",
      "----------\n",
      "Train: \n"
     ]
    },
    {
     "name": "stderr",
     "output_type": "stream",
     "text": [
      "3it [00:00,  3.80it/s]\n"
     ]
    },
    {
     "name": "stdout",
     "output_type": "stream",
     "text": [
      "    box loss-> 0.02642, object loss-> 0.03645, class loss-> 0.00000\n",
      "Validation:\n"
     ]
    },
    {
     "name": "stderr",
     "output_type": "stream",
     "text": [
      "1it [00:00,  4.27it/s]\n"
     ]
    },
    {
     "name": "stdout",
     "output_type": "stream",
     "text": [
      "    recall: 0.500000 precision: 0.997015 mAP@0.5: 0.495425, mAP@0.5-0.95: 0.049543\n",
      "\n",
      "Epoch 180/1000\n",
      "----------\n",
      "Train: \n"
     ]
    },
    {
     "name": "stderr",
     "output_type": "stream",
     "text": [
      "3it [00:00,  3.80it/s]\n"
     ]
    },
    {
     "name": "stdout",
     "output_type": "stream",
     "text": [
      "    box loss-> 0.02615, object loss-> 0.03633, class loss-> 0.00000\n",
      "Validation:\n"
     ]
    },
    {
     "name": "stderr",
     "output_type": "stream",
     "text": [
      "1it [00:00,  4.18it/s]\n"
     ]
    },
    {
     "name": "stdout",
     "output_type": "stream",
     "text": [
      "    recall: 0.500000 precision: 0.971457 mAP@0.5: 0.495425, mAP@0.5-0.95: 0.049543\n",
      "\n",
      "Epoch 181/1000\n",
      "----------\n",
      "Train: \n"
     ]
    },
    {
     "name": "stderr",
     "output_type": "stream",
     "text": [
      "3it [00:00,  3.69it/s]\n"
     ]
    },
    {
     "name": "stdout",
     "output_type": "stream",
     "text": [
      "    box loss-> 0.02765, object loss-> 0.03683, class loss-> 0.00000\n",
      "Validation:\n"
     ]
    },
    {
     "name": "stderr",
     "output_type": "stream",
     "text": [
      "1it [00:00,  4.23it/s]\n"
     ]
    },
    {
     "name": "stdout",
     "output_type": "stream",
     "text": [
      "    recall: 0.500000 precision: 0.893378 mAP@0.5: 0.495425, mAP@0.5-0.95: 0.148627\n",
      "\n",
      "Epoch 182/1000\n",
      "----------\n",
      "Train: \n"
     ]
    },
    {
     "name": "stderr",
     "output_type": "stream",
     "text": [
      "3it [00:00,  3.81it/s]\n"
     ]
    },
    {
     "name": "stdout",
     "output_type": "stream",
     "text": [
      "    box loss-> 0.02753, object loss-> 0.03713, class loss-> 0.00000\n",
      "Validation:\n"
     ]
    },
    {
     "name": "stderr",
     "output_type": "stream",
     "text": [
      "1it [00:00,  4.28it/s]\n"
     ]
    },
    {
     "name": "stdout",
     "output_type": "stream",
     "text": [
      "    recall: 0.500000 precision: 0.760563 mAP@0.5: 0.495425, mAP@0.5-0.95: 0.247713\n",
      "\n",
      "Epoch 183/1000\n",
      "----------\n",
      "Train: \n"
     ]
    },
    {
     "name": "stderr",
     "output_type": "stream",
     "text": [
      "3it [00:00,  3.81it/s]\n"
     ]
    },
    {
     "name": "stdout",
     "output_type": "stream",
     "text": [
      "    box loss-> 0.02743, object loss-> 0.03762, class loss-> 0.00000\n",
      "Validation:\n"
     ]
    },
    {
     "name": "stderr",
     "output_type": "stream",
     "text": [
      "1it [00:00,  4.34it/s]\n"
     ]
    },
    {
     "name": "stdout",
     "output_type": "stream",
     "text": [
      "    recall: 0.500000 precision: 0.997693 mAP@0.5: 0.495425, mAP@0.5-0.95: 0.247713\n",
      "\n",
      "Epoch 184/1000\n",
      "----------\n",
      "Train: \n"
     ]
    },
    {
     "name": "stderr",
     "output_type": "stream",
     "text": [
      "3it [00:00,  3.74it/s]\n"
     ]
    },
    {
     "name": "stdout",
     "output_type": "stream",
     "text": [
      "    box loss-> 0.02792, object loss-> 0.03694, class loss-> 0.00000\n",
      "Validation:\n"
     ]
    },
    {
     "name": "stderr",
     "output_type": "stream",
     "text": [
      "1it [00:00,  4.27it/s]\n"
     ]
    },
    {
     "name": "stdout",
     "output_type": "stream",
     "text": [
      "    recall: 0.500000 precision: 0.982587 mAP@0.5: 0.495425, mAP@0.5-0.95: 0.099085\n",
      "\n",
      "Epoch 185/1000\n",
      "----------\n",
      "Train: \n"
     ]
    },
    {
     "name": "stderr",
     "output_type": "stream",
     "text": [
      "3it [00:00,  3.82it/s]\n"
     ]
    },
    {
     "name": "stdout",
     "output_type": "stream",
     "text": [
      "    box loss-> 0.02674, object loss-> 0.03575, class loss-> 0.00000\n",
      "Validation:\n"
     ]
    },
    {
     "name": "stderr",
     "output_type": "stream",
     "text": [
      "1it [00:00,  4.38it/s]\n"
     ]
    },
    {
     "name": "stdout",
     "output_type": "stream",
     "text": [
      "    recall: 0.500000 precision: 0.976282 mAP@0.5: 0.495425, mAP@0.5-0.95: 0.049543\n",
      "\n",
      "Epoch 186/1000\n",
      "----------\n",
      "Train: \n"
     ]
    },
    {
     "name": "stderr",
     "output_type": "stream",
     "text": [
      "3it [00:00,  3.78it/s]\n"
     ]
    },
    {
     "name": "stdout",
     "output_type": "stream",
     "text": [
      "    box loss-> 0.02730, object loss-> 0.03613, class loss-> 0.00000\n",
      "Validation:\n"
     ]
    },
    {
     "name": "stderr",
     "output_type": "stream",
     "text": [
      "1it [00:00,  4.34it/s]\n"
     ]
    },
    {
     "name": "stdout",
     "output_type": "stream",
     "text": [
      "    recall: 0.500000 precision: 0.989643 mAP@0.5: 0.495425, mAP@0.5-0.95: 0.049543\n",
      "\n",
      "Epoch 187/1000\n",
      "----------\n",
      "Train: \n"
     ]
    },
    {
     "name": "stderr",
     "output_type": "stream",
     "text": [
      "3it [00:00,  3.75it/s]\n"
     ]
    },
    {
     "name": "stdout",
     "output_type": "stream",
     "text": [
      "    box loss-> 0.02689, object loss-> 0.03618, class loss-> 0.00000\n",
      "Validation:\n"
     ]
    },
    {
     "name": "stderr",
     "output_type": "stream",
     "text": [
      "1it [00:00,  4.37it/s]\n"
     ]
    },
    {
     "name": "stdout",
     "output_type": "stream",
     "text": [
      "    recall: 0.500000 precision: 0.928536 mAP@0.5: 0.495425, mAP@0.5-0.95: 0.346797\n",
      "\n",
      "Epoch 188/1000\n",
      "----------\n",
      "Train: \n"
     ]
    },
    {
     "name": "stderr",
     "output_type": "stream",
     "text": [
      "3it [00:00,  3.80it/s]\n"
     ]
    },
    {
     "name": "stdout",
     "output_type": "stream",
     "text": [
      "    box loss-> 0.02534, object loss-> 0.03566, class loss-> 0.00000\n",
      "Validation:\n"
     ]
    },
    {
     "name": "stderr",
     "output_type": "stream",
     "text": [
      "1it [00:00,  4.30it/s]\n"
     ]
    },
    {
     "name": "stdout",
     "output_type": "stream",
     "text": [
      "    recall: 0.500000 precision: 0.768780 mAP@0.5: 0.495425, mAP@0.5-0.95: 0.148627\n",
      "\n",
      "Epoch 189/1000\n",
      "----------\n",
      "Train: \n"
     ]
    },
    {
     "name": "stderr",
     "output_type": "stream",
     "text": [
      "3it [00:00,  3.78it/s]\n"
     ]
    },
    {
     "name": "stdout",
     "output_type": "stream",
     "text": [
      "    box loss-> 0.02501, object loss-> 0.03575, class loss-> 0.00000\n",
      "Validation:\n"
     ]
    },
    {
     "name": "stderr",
     "output_type": "stream",
     "text": [
      "1it [00:00,  4.41it/s]\n"
     ]
    },
    {
     "name": "stdout",
     "output_type": "stream",
     "text": [
      "    recall: 0.500000 precision: 0.975244 mAP@0.5: 0.495425, mAP@0.5-0.95: 0.198170\n",
      "\n",
      "Epoch 190/1000\n",
      "----------\n",
      "Train: \n"
     ]
    },
    {
     "name": "stderr",
     "output_type": "stream",
     "text": [
      "3it [00:00,  3.72it/s]\n"
     ]
    },
    {
     "name": "stdout",
     "output_type": "stream",
     "text": [
      "    box loss-> 0.02472, object loss-> 0.03549, class loss-> 0.00000\n",
      "Validation:\n"
     ]
    },
    {
     "name": "stderr",
     "output_type": "stream",
     "text": [
      "1it [00:00,  4.40it/s]\n"
     ]
    },
    {
     "name": "stdout",
     "output_type": "stream",
     "text": [
      "    recall: 0.500000 precision: 0.497780 mAP@0.5: 0.247925, mAP@0.5-0.95: 0.148755\n",
      "\n",
      "Epoch 191/1000\n",
      "----------\n",
      "Train: \n"
     ]
    },
    {
     "name": "stderr",
     "output_type": "stream",
     "text": [
      "3it [00:00,  3.79it/s]\n"
     ]
    },
    {
     "name": "stdout",
     "output_type": "stream",
     "text": [
      "    box loss-> 0.03053, object loss-> 0.03652, class loss-> 0.00000\n",
      "Validation:\n"
     ]
    },
    {
     "name": "stderr",
     "output_type": "stream",
     "text": [
      "1it [00:00,  4.32it/s]\n"
     ]
    },
    {
     "name": "stdout",
     "output_type": "stream",
     "text": [
      "    recall: 0.500000 precision: 0.497743 mAP@0.5: 0.247925, mAP@0.5-0.95: 0.123963\n",
      "\n",
      "Epoch 192/1000\n",
      "----------\n",
      "Train: \n"
     ]
    },
    {
     "name": "stderr",
     "output_type": "stream",
     "text": [
      "3it [00:00,  3.77it/s]\n"
     ]
    },
    {
     "name": "stdout",
     "output_type": "stream",
     "text": [
      "    box loss-> 0.03078, object loss-> 0.03674, class loss-> 0.00000\n",
      "Validation:\n"
     ]
    },
    {
     "name": "stderr",
     "output_type": "stream",
     "text": [
      "1it [00:00,  4.38it/s]\n"
     ]
    },
    {
     "name": "stdout",
     "output_type": "stream",
     "text": [
      "    recall: 0.499542 precision: 0.499542 mAP@0.5: 0.247925, mAP@0.5-0.95: 0.123963\n",
      "\n",
      "Epoch 193/1000\n",
      "----------\n",
      "Train: \n"
     ]
    },
    {
     "name": "stderr",
     "output_type": "stream",
     "text": [
      "3it [00:00,  3.77it/s]\n"
     ]
    },
    {
     "name": "stdout",
     "output_type": "stream",
     "text": [
      "    box loss-> 0.03074, object loss-> 0.03705, class loss-> 0.00000\n",
      "Validation:\n"
     ]
    },
    {
     "name": "stderr",
     "output_type": "stream",
     "text": [
      "1it [00:00,  4.35it/s]\n"
     ]
    },
    {
     "name": "stdout",
     "output_type": "stream",
     "text": [
      "    recall: 0.500000 precision: 0.496336 mAP@0.5: 0.247925, mAP@0.5-0.95: 0.123963\n",
      "\n",
      "Epoch 194/1000\n",
      "----------\n",
      "Train: \n"
     ]
    },
    {
     "name": "stderr",
     "output_type": "stream",
     "text": [
      "3it [00:00,  3.77it/s]\n"
     ]
    },
    {
     "name": "stdout",
     "output_type": "stream",
     "text": [
      "    box loss-> 0.03054, object loss-> 0.03681, class loss-> 0.00000\n",
      "Validation:\n"
     ]
    },
    {
     "name": "stderr",
     "output_type": "stream",
     "text": [
      "1it [00:00,  4.33it/s]\n"
     ]
    },
    {
     "name": "stdout",
     "output_type": "stream",
     "text": [
      "    recall: 0.500000 precision: 0.927542 mAP@0.5: 0.495425, mAP@0.5-0.95: 0.297255\n",
      "\n",
      "Epoch 195/1000\n",
      "----------\n",
      "Train: \n"
     ]
    },
    {
     "name": "stderr",
     "output_type": "stream",
     "text": [
      "3it [00:00,  3.78it/s]\n"
     ]
    },
    {
     "name": "stdout",
     "output_type": "stream",
     "text": [
      "    box loss-> 0.02884, object loss-> 0.03652, class loss-> 0.00000\n",
      "Validation:\n"
     ]
    },
    {
     "name": "stderr",
     "output_type": "stream",
     "text": [
      "1it [00:00,  4.36it/s]\n"
     ]
    },
    {
     "name": "stdout",
     "output_type": "stream",
     "text": [
      "    recall: 0.500000 precision: 0.831297 mAP@0.5: 0.495425, mAP@0.5-0.95: 0.297255\n",
      "\n",
      "Epoch 196/1000\n",
      "----------\n",
      "Train: \n"
     ]
    },
    {
     "name": "stderr",
     "output_type": "stream",
     "text": [
      "3it [00:00,  3.81it/s]\n"
     ]
    },
    {
     "name": "stdout",
     "output_type": "stream",
     "text": [
      "    box loss-> 0.02835, object loss-> 0.03664, class loss-> 0.00000\n",
      "Validation:\n"
     ]
    },
    {
     "name": "stderr",
     "output_type": "stream",
     "text": [
      "1it [00:00,  4.33it/s]\n"
     ]
    },
    {
     "name": "stdout",
     "output_type": "stream",
     "text": [
      "    recall: 0.500000 precision: 0.992509 mAP@0.5: 0.495425, mAP@0.5-0.95: 0.297255\n",
      "\n",
      "Epoch 197/1000\n",
      "----------\n",
      "Train: \n"
     ]
    },
    {
     "name": "stderr",
     "output_type": "stream",
     "text": [
      "3it [00:00,  3.76it/s]\n"
     ]
    },
    {
     "name": "stdout",
     "output_type": "stream",
     "text": [
      "    box loss-> 0.02937, object loss-> 0.03693, class loss-> 0.00000\n",
      "Validation:\n"
     ]
    },
    {
     "name": "stderr",
     "output_type": "stream",
     "text": [
      "1it [00:00,  4.22it/s]\n"
     ]
    },
    {
     "name": "stdout",
     "output_type": "stream",
     "text": [
      "    recall: 0.500000 precision: 0.485648 mAP@0.5: 0.247925, mAP@0.5-0.95: 0.123963\n",
      "\n",
      "Epoch 198/1000\n",
      "----------\n",
      "Train: \n"
     ]
    },
    {
     "name": "stderr",
     "output_type": "stream",
     "text": [
      "3it [00:00,  3.80it/s]\n"
     ]
    },
    {
     "name": "stdout",
     "output_type": "stream",
     "text": [
      "    box loss-> 0.02872, object loss-> 0.03663, class loss-> 0.00000\n",
      "Validation:\n"
     ]
    },
    {
     "name": "stderr",
     "output_type": "stream",
     "text": [
      "1it [00:00,  4.29it/s]\n"
     ]
    },
    {
     "name": "stdout",
     "output_type": "stream",
     "text": [
      "    recall: 0.500000 precision: 0.669460 mAP@0.5: 0.495425, mAP@0.5-0.95: 0.297255\n",
      "\n",
      "Epoch 199/1000\n",
      "----------\n",
      "Train: \n"
     ]
    },
    {
     "name": "stderr",
     "output_type": "stream",
     "text": [
      "3it [00:00,  3.77it/s]\n"
     ]
    },
    {
     "name": "stdout",
     "output_type": "stream",
     "text": [
      "    box loss-> 0.02762, object loss-> 0.03611, class loss-> 0.00000\n",
      "Validation:\n"
     ]
    },
    {
     "name": "stderr",
     "output_type": "stream",
     "text": [
      "1it [00:00,  4.28it/s]\n"
     ]
    },
    {
     "name": "stdout",
     "output_type": "stream",
     "text": [
      "    recall: 0.500000 precision: 0.629958 mAP@0.5: 0.495425, mAP@0.5-0.95: 0.049543\n",
      "\n",
      "Epoch 200/1000\n",
      "----------\n",
      "Train: \n"
     ]
    },
    {
     "name": "stderr",
     "output_type": "stream",
     "text": [
      "3it [00:00,  3.75it/s]\n"
     ]
    },
    {
     "name": "stdout",
     "output_type": "stream",
     "text": [
      "    box loss-> 0.02804, object loss-> 0.03652, class loss-> 0.00000\n",
      "Validation:\n"
     ]
    },
    {
     "name": "stderr",
     "output_type": "stream",
     "text": [
      "1it [00:00,  3.99it/s]\n"
     ]
    },
    {
     "name": "stdout",
     "output_type": "stream",
     "text": [
      "    recall: 0.500000 precision: 0.929020 mAP@0.5: 0.495425, mAP@0.5-0.95: 0.198170\n",
      "\n",
      "Epoch 201/1000\n",
      "----------\n",
      "Train: \n"
     ]
    },
    {
     "name": "stderr",
     "output_type": "stream",
     "text": [
      "3it [00:00,  3.73it/s]\n"
     ]
    },
    {
     "name": "stdout",
     "output_type": "stream",
     "text": [
      "    box loss-> 0.02818, object loss-> 0.03609, class loss-> 0.00000\n",
      "Validation:\n"
     ]
    },
    {
     "name": "stderr",
     "output_type": "stream",
     "text": [
      "1it [00:00,  4.13it/s]\n"
     ]
    },
    {
     "name": "stdout",
     "output_type": "stream",
     "text": [
      "    recall: 0.500000 precision: 0.970992 mAP@0.5: 0.495425, mAP@0.5-0.95: 0.198170\n",
      "\n",
      "Epoch 202/1000\n",
      "----------\n",
      "Train: \n"
     ]
    },
    {
     "name": "stderr",
     "output_type": "stream",
     "text": [
      "3it [00:00,  3.73it/s]\n"
     ]
    },
    {
     "name": "stdout",
     "output_type": "stream",
     "text": [
      "    box loss-> 0.02857, object loss-> 0.03639, class loss-> 0.00000\n",
      "Validation:\n"
     ]
    },
    {
     "name": "stderr",
     "output_type": "stream",
     "text": [
      "1it [00:00,  4.36it/s]\n"
     ]
    },
    {
     "name": "stdout",
     "output_type": "stream",
     "text": [
      "    recall: 0.500000 precision: 0.951463 mAP@0.5: 0.495425, mAP@0.5-0.95: 0.198170\n",
      "\n",
      "Epoch 203/1000\n",
      "----------\n",
      "Train: \n"
     ]
    },
    {
     "name": "stderr",
     "output_type": "stream",
     "text": [
      "3it [00:00,  3.80it/s]\n"
     ]
    },
    {
     "name": "stdout",
     "output_type": "stream",
     "text": [
      "    box loss-> 0.02813, object loss-> 0.03603, class loss-> 0.00000\n",
      "Validation:\n"
     ]
    },
    {
     "name": "stderr",
     "output_type": "stream",
     "text": [
      "1it [00:00,  4.31it/s]\n"
     ]
    },
    {
     "name": "stdout",
     "output_type": "stream",
     "text": [
      "    recall: 0.500000 precision: 0.965064 mAP@0.5: 0.495425, mAP@0.5-0.95: 0.198170\n",
      "\n",
      "Epoch 204/1000\n",
      "----------\n",
      "Train: \n"
     ]
    },
    {
     "name": "stderr",
     "output_type": "stream",
     "text": [
      "3it [00:00,  3.75it/s]\n"
     ]
    },
    {
     "name": "stdout",
     "output_type": "stream",
     "text": [
      "    box loss-> 0.02748, object loss-> 0.03614, class loss-> 0.00000\n",
      "Validation:\n"
     ]
    },
    {
     "name": "stderr",
     "output_type": "stream",
     "text": [
      "1it [00:00,  4.28it/s]\n"
     ]
    },
    {
     "name": "stdout",
     "output_type": "stream",
     "text": [
      "    recall: 0.500000 precision: 0.977931 mAP@0.5: 0.495425, mAP@0.5-0.95: 0.346797\n",
      "\n",
      "Epoch 205/1000\n",
      "----------\n",
      "Train: \n"
     ]
    },
    {
     "name": "stderr",
     "output_type": "stream",
     "text": [
      "3it [00:00,  3.80it/s]\n"
     ]
    },
    {
     "name": "stdout",
     "output_type": "stream",
     "text": [
      "    box loss-> 0.02683, object loss-> 0.03571, class loss-> 0.00000\n",
      "Validation:\n"
     ]
    },
    {
     "name": "stderr",
     "output_type": "stream",
     "text": [
      "1it [00:00,  4.32it/s]\n"
     ]
    },
    {
     "name": "stdout",
     "output_type": "stream",
     "text": [
      "    recall: 0.500000 precision: 0.972975 mAP@0.5: 0.495425, mAP@0.5-0.95: 0.346797\n",
      "\n",
      "Epoch 206/1000\n",
      "----------\n",
      "Train: \n"
     ]
    },
    {
     "name": "stderr",
     "output_type": "stream",
     "text": [
      "3it [00:00,  3.81it/s]\n"
     ]
    },
    {
     "name": "stdout",
     "output_type": "stream",
     "text": [
      "    box loss-> 0.02595, object loss-> 0.03599, class loss-> 0.00000\n",
      "Validation:\n"
     ]
    },
    {
     "name": "stderr",
     "output_type": "stream",
     "text": [
      "1it [00:00,  4.20it/s]\n"
     ]
    },
    {
     "name": "stdout",
     "output_type": "stream",
     "text": [
      "    recall: 0.500000 precision: 0.960673 mAP@0.5: 0.495425, mAP@0.5-0.95: 0.346797\n",
      "\n",
      "Epoch 207/1000\n",
      "----------\n",
      "Train: \n"
     ]
    },
    {
     "name": "stderr",
     "output_type": "stream",
     "text": [
      "3it [00:00,  3.76it/s]\n"
     ]
    },
    {
     "name": "stdout",
     "output_type": "stream",
     "text": [
      "    box loss-> 0.02575, object loss-> 0.03526, class loss-> 0.00000\n",
      "Validation:\n"
     ]
    },
    {
     "name": "stderr",
     "output_type": "stream",
     "text": [
      "1it [00:00,  4.37it/s]\n"
     ]
    },
    {
     "name": "stdout",
     "output_type": "stream",
     "text": [
      "    recall: 0.500000 precision: 0.968903 mAP@0.5: 0.495425, mAP@0.5-0.95: 0.148627\n",
      "\n",
      "Epoch 208/1000\n",
      "----------\n",
      "Train: \n"
     ]
    },
    {
     "name": "stderr",
     "output_type": "stream",
     "text": [
      "3it [00:00,  3.75it/s]\n"
     ]
    },
    {
     "name": "stdout",
     "output_type": "stream",
     "text": [
      "    box loss-> 0.02898, object loss-> 0.03663, class loss-> 0.00000\n",
      "Validation:\n"
     ]
    },
    {
     "name": "stderr",
     "output_type": "stream",
     "text": [
      "1it [00:00,  4.15it/s]\n"
     ]
    },
    {
     "name": "stdout",
     "output_type": "stream",
     "text": [
      "    recall: 0.500000 precision: 0.976383 mAP@0.5: 0.495425, mAP@0.5-0.95: 0.198170\n",
      "\n",
      "Epoch 209/1000\n",
      "----------\n",
      "Train: \n"
     ]
    },
    {
     "name": "stderr",
     "output_type": "stream",
     "text": [
      "3it [00:00,  3.80it/s]\n"
     ]
    },
    {
     "name": "stdout",
     "output_type": "stream",
     "text": [
      "    box loss-> 0.03038, object loss-> 0.03778, class loss-> 0.00000\n",
      "Validation:\n"
     ]
    },
    {
     "name": "stderr",
     "output_type": "stream",
     "text": [
      "1it [00:00,  4.25it/s]\n"
     ]
    },
    {
     "name": "stdout",
     "output_type": "stream",
     "text": [
      "    recall: 0.500000 precision: 0.989079 mAP@0.5: 0.495425, mAP@0.5-0.95: 0.198170\n",
      "\n",
      "Epoch 210/1000\n",
      "----------\n",
      "Train: \n"
     ]
    },
    {
     "name": "stderr",
     "output_type": "stream",
     "text": [
      "3it [00:00,  3.75it/s]\n"
     ]
    },
    {
     "name": "stdout",
     "output_type": "stream",
     "text": [
      "    box loss-> 0.02939, object loss-> 0.03608, class loss-> 0.00000\n",
      "Validation:\n"
     ]
    },
    {
     "name": "stderr",
     "output_type": "stream",
     "text": [
      "1it [00:00,  4.21it/s]\n"
     ]
    },
    {
     "name": "stdout",
     "output_type": "stream",
     "text": [
      "    recall: 0.500000 precision: 0.985431 mAP@0.5: 0.495425, mAP@0.5-0.95: 0.297255\n",
      "\n",
      "Epoch 211/1000\n",
      "----------\n",
      "Train: \n"
     ]
    },
    {
     "name": "stderr",
     "output_type": "stream",
     "text": [
      "3it [00:00,  3.82it/s]\n"
     ]
    },
    {
     "name": "stdout",
     "output_type": "stream",
     "text": [
      "    box loss-> 0.02629, object loss-> 0.03635, class loss-> 0.00000\n",
      "Validation:\n"
     ]
    },
    {
     "name": "stderr",
     "output_type": "stream",
     "text": [
      "1it [00:00,  4.22it/s]\n"
     ]
    },
    {
     "name": "stdout",
     "output_type": "stream",
     "text": [
      "    recall: 0.500000 precision: 0.975980 mAP@0.5: 0.495425, mAP@0.5-0.95: 0.346797\n",
      "\n",
      "Epoch 212/1000\n",
      "----------\n",
      "Train: \n"
     ]
    },
    {
     "name": "stderr",
     "output_type": "stream",
     "text": [
      "3it [00:00,  3.83it/s]\n"
     ]
    },
    {
     "name": "stdout",
     "output_type": "stream",
     "text": [
      "    box loss-> 0.02574, object loss-> 0.03578, class loss-> 0.00000\n",
      "Validation:\n"
     ]
    },
    {
     "name": "stderr",
     "output_type": "stream",
     "text": [
      "1it [00:00,  4.32it/s]\n"
     ]
    },
    {
     "name": "stdout",
     "output_type": "stream",
     "text": [
      "    recall: 0.500000 precision: 0.971128 mAP@0.5: 0.495425, mAP@0.5-0.95: 0.346797\n",
      "\n",
      "Epoch 213/1000\n",
      "----------\n",
      "Train: \n"
     ]
    },
    {
     "name": "stderr",
     "output_type": "stream",
     "text": [
      "3it [00:00,  3.78it/s]\n"
     ]
    },
    {
     "name": "stdout",
     "output_type": "stream",
     "text": [
      "    box loss-> 0.02614, object loss-> 0.03627, class loss-> 0.00000\n",
      "Validation:\n"
     ]
    },
    {
     "name": "stderr",
     "output_type": "stream",
     "text": [
      "1it [00:00,  4.37it/s]\n"
     ]
    },
    {
     "name": "stdout",
     "output_type": "stream",
     "text": [
      "    recall: 0.500000 precision: 0.997854 mAP@0.5: 0.495425, mAP@0.5-0.95: 0.346797\n",
      "\n",
      "Epoch 214/1000\n",
      "----------\n",
      "Train: \n"
     ]
    },
    {
     "name": "stderr",
     "output_type": "stream",
     "text": [
      "3it [00:00,  3.74it/s]\n"
     ]
    },
    {
     "name": "stdout",
     "output_type": "stream",
     "text": [
      "    box loss-> 0.02733, object loss-> 0.03712, class loss-> 0.00000\n",
      "Validation:\n"
     ]
    },
    {
     "name": "stderr",
     "output_type": "stream",
     "text": [
      "1it [00:00,  4.36it/s]\n"
     ]
    },
    {
     "name": "stdout",
     "output_type": "stream",
     "text": [
      "    recall: 0.500000 precision: 0.983714 mAP@0.5: 0.495425, mAP@0.5-0.95: 0.198170\n",
      "\n",
      "Epoch 215/1000\n",
      "----------\n",
      "Train: \n"
     ]
    },
    {
     "name": "stderr",
     "output_type": "stream",
     "text": [
      "3it [00:00,  3.78it/s]\n"
     ]
    },
    {
     "name": "stdout",
     "output_type": "stream",
     "text": [
      "    box loss-> 0.03153, object loss-> 0.03666, class loss-> 0.00000\n",
      "Validation:\n"
     ]
    },
    {
     "name": "stderr",
     "output_type": "stream",
     "text": [
      "1it [00:00,  4.30it/s]\n"
     ]
    },
    {
     "name": "stdout",
     "output_type": "stream",
     "text": [
      "    recall: 0.500000 precision: 0.994506 mAP@0.5: 0.495425, mAP@0.5-0.95: 0.198170\n",
      "\n",
      "Epoch 216/1000\n",
      "----------\n",
      "Train: \n"
     ]
    },
    {
     "name": "stderr",
     "output_type": "stream",
     "text": [
      "3it [00:00,  3.81it/s]\n"
     ]
    },
    {
     "name": "stdout",
     "output_type": "stream",
     "text": [
      "    box loss-> 0.03099, object loss-> 0.03654, class loss-> 0.00000\n",
      "Validation:\n"
     ]
    },
    {
     "name": "stderr",
     "output_type": "stream",
     "text": [
      "1it [00:00,  4.27it/s]\n"
     ]
    },
    {
     "name": "stdout",
     "output_type": "stream",
     "text": [
      "    recall: 0.500000 precision: 0.985681 mAP@0.5: 0.495425, mAP@0.5-0.95: 0.198170\n",
      "\n",
      "Epoch 217/1000\n",
      "----------\n",
      "Train: \n"
     ]
    },
    {
     "name": "stderr",
     "output_type": "stream",
     "text": [
      "3it [00:00,  3.80it/s]\n"
     ]
    },
    {
     "name": "stdout",
     "output_type": "stream",
     "text": [
      "    box loss-> 0.03135, object loss-> 0.03675, class loss-> 0.00000\n",
      "Validation:\n"
     ]
    },
    {
     "name": "stderr",
     "output_type": "stream",
     "text": [
      "1it [00:00,  4.28it/s]\n"
     ]
    },
    {
     "name": "stdout",
     "output_type": "stream",
     "text": [
      "    recall: 0.500000 precision: 0.976743 mAP@0.5: 0.495425, mAP@0.5-0.95: 0.247713\n",
      "\n",
      "Epoch 218/1000\n",
      "----------\n",
      "Train: \n"
     ]
    },
    {
     "name": "stderr",
     "output_type": "stream",
     "text": [
      "3it [00:00,  3.76it/s]\n"
     ]
    },
    {
     "name": "stdout",
     "output_type": "stream",
     "text": [
      "    box loss-> 0.02983, object loss-> 0.03602, class loss-> 0.00000\n",
      "Validation:\n"
     ]
    },
    {
     "name": "stderr",
     "output_type": "stream",
     "text": [
      "1it [00:00,  4.22it/s]\n"
     ]
    },
    {
     "name": "stdout",
     "output_type": "stream",
     "text": [
      "    recall: 0.500000 precision: 0.950668 mAP@0.5: 0.495425, mAP@0.5-0.95: 0.247713\n",
      "\n",
      "Epoch 219/1000\n",
      "----------\n",
      "Train: \n"
     ]
    },
    {
     "name": "stderr",
     "output_type": "stream",
     "text": [
      "3it [00:00,  3.78it/s]\n"
     ]
    },
    {
     "name": "stdout",
     "output_type": "stream",
     "text": [
      "    box loss-> 0.02716, object loss-> 0.03440, class loss-> 0.00000\n",
      "Validation:\n"
     ]
    },
    {
     "name": "stderr",
     "output_type": "stream",
     "text": [
      "1it [00:00,  4.33it/s]\n"
     ]
    },
    {
     "name": "stdout",
     "output_type": "stream",
     "text": [
      "    recall: 0.500000 precision: 0.948502 mAP@0.5: 0.495425, mAP@0.5-0.95: 0.297255\n",
      "\n",
      "Epoch 220/1000\n",
      "----------\n",
      "Train: \n"
     ]
    },
    {
     "name": "stderr",
     "output_type": "stream",
     "text": [
      "3it [00:00,  3.81it/s]\n"
     ]
    },
    {
     "name": "stdout",
     "output_type": "stream",
     "text": [
      "    box loss-> 0.02717, object loss-> 0.03419, class loss-> 0.00000\n",
      "Validation:\n"
     ]
    },
    {
     "name": "stderr",
     "output_type": "stream",
     "text": [
      "1it [00:00,  4.28it/s]\n"
     ]
    },
    {
     "name": "stdout",
     "output_type": "stream",
     "text": [
      "    recall: 0.500000 precision: 0.987511 mAP@0.5: 0.495425, mAP@0.5-0.95: 0.297255\n",
      "\n",
      "Epoch 221/1000\n",
      "----------\n",
      "Train: \n"
     ]
    },
    {
     "name": "stderr",
     "output_type": "stream",
     "text": [
      "3it [00:00,  3.75it/s]\n"
     ]
    },
    {
     "name": "stdout",
     "output_type": "stream",
     "text": [
      "    box loss-> 0.02811, object loss-> 0.03492, class loss-> 0.00000\n",
      "Validation:\n"
     ]
    },
    {
     "name": "stderr",
     "output_type": "stream",
     "text": [
      "1it [00:00,  4.20it/s]\n"
     ]
    },
    {
     "name": "stdout",
     "output_type": "stream",
     "text": [
      "    recall: 0.500000 precision: 0.860448 mAP@0.5: 0.495425, mAP@0.5-0.95: 0.198170\n",
      "\n",
      "Epoch 222/1000\n",
      "----------\n",
      "Train: \n"
     ]
    },
    {
     "name": "stderr",
     "output_type": "stream",
     "text": [
      "3it [00:00,  3.78it/s]\n"
     ]
    },
    {
     "name": "stdout",
     "output_type": "stream",
     "text": [
      "    box loss-> 0.03291, object loss-> 0.03590, class loss-> 0.00000\n",
      "Validation:\n"
     ]
    },
    {
     "name": "stderr",
     "output_type": "stream",
     "text": [
      "1it [00:00,  4.21it/s]\n"
     ]
    },
    {
     "name": "stdout",
     "output_type": "stream",
     "text": [
      "    recall: 0.500000 precision: 0.972619 mAP@0.5: 0.495425, mAP@0.5-0.95: 0.247713\n",
      "\n",
      "Epoch 223/1000\n",
      "----------\n",
      "Train: \n"
     ]
    },
    {
     "name": "stderr",
     "output_type": "stream",
     "text": [
      "3it [00:00,  3.82it/s]\n"
     ]
    },
    {
     "name": "stdout",
     "output_type": "stream",
     "text": [
      "    box loss-> 0.03210, object loss-> 0.03595, class loss-> 0.00000\n",
      "Validation:\n"
     ]
    },
    {
     "name": "stderr",
     "output_type": "stream",
     "text": [
      "1it [00:00,  4.28it/s]\n"
     ]
    },
    {
     "name": "stdout",
     "output_type": "stream",
     "text": [
      "    recall: 0.500000 precision: 0.960537 mAP@0.5: 0.495425, mAP@0.5-0.95: 0.247713\n",
      "\n",
      "Epoch 224/1000\n",
      "----------\n",
      "Train: \n"
     ]
    },
    {
     "name": "stderr",
     "output_type": "stream",
     "text": [
      "3it [00:00,  3.77it/s]\n"
     ]
    },
    {
     "name": "stdout",
     "output_type": "stream",
     "text": [
      "    box loss-> 0.03283, object loss-> 0.03611, class loss-> 0.00000\n",
      "Validation:\n"
     ]
    },
    {
     "name": "stderr",
     "output_type": "stream",
     "text": [
      "1it [00:00,  4.15it/s]\n"
     ]
    },
    {
     "name": "stdout",
     "output_type": "stream",
     "text": [
      "    recall: 0.500000 precision: 0.983583 mAP@0.5: 0.495425, mAP@0.5-0.95: 0.247713\n",
      "\n",
      "Epoch 225/1000\n",
      "----------\n",
      "Train: \n"
     ]
    },
    {
     "name": "stderr",
     "output_type": "stream",
     "text": [
      "3it [00:00,  3.75it/s]\n"
     ]
    },
    {
     "name": "stdout",
     "output_type": "stream",
     "text": [
      "    box loss-> 0.03088, object loss-> 0.03584, class loss-> 0.00000\n",
      "Validation:\n"
     ]
    },
    {
     "name": "stderr",
     "output_type": "stream",
     "text": [
      "1it [00:00,  4.27it/s]\n"
     ]
    },
    {
     "name": "stdout",
     "output_type": "stream",
     "text": [
      "    recall: 0.500000 precision: 0.898693 mAP@0.5: 0.495425, mAP@0.5-0.95: 0.198170\n",
      "\n",
      "Epoch 226/1000\n",
      "----------\n",
      "Train: \n"
     ]
    },
    {
     "name": "stderr",
     "output_type": "stream",
     "text": [
      "3it [00:00,  3.78it/s]\n"
     ]
    },
    {
     "name": "stdout",
     "output_type": "stream",
     "text": [
      "    box loss-> 0.02640, object loss-> 0.03775, class loss-> 0.00000\n",
      "Validation:\n"
     ]
    },
    {
     "name": "stderr",
     "output_type": "stream",
     "text": [
      "1it [00:00,  4.07it/s]\n"
     ]
    },
    {
     "name": "stdout",
     "output_type": "stream",
     "text": [
      "    recall: 0.500000 precision: 0.867894 mAP@0.5: 0.495425, mAP@0.5-0.95: 0.148627\n",
      "\n",
      "Epoch 227/1000\n",
      "----------\n",
      "Train: \n"
     ]
    },
    {
     "name": "stderr",
     "output_type": "stream",
     "text": [
      "3it [00:00,  3.78it/s]\n"
     ]
    },
    {
     "name": "stdout",
     "output_type": "stream",
     "text": [
      "    box loss-> 0.02545, object loss-> 0.03617, class loss-> 0.00000\n",
      "Validation:\n"
     ]
    },
    {
     "name": "stderr",
     "output_type": "stream",
     "text": [
      "1it [00:00,  4.26it/s]\n"
     ]
    },
    {
     "name": "stdout",
     "output_type": "stream",
     "text": [
      "    recall: 0.500000 precision: 0.480121 mAP@0.5: 0.495425, mAP@0.5-0.95: 0.148627\n",
      "\n",
      "Epoch 228/1000\n",
      "----------\n",
      "Train: \n"
     ]
    },
    {
     "name": "stderr",
     "output_type": "stream",
     "text": [
      "3it [00:00,  3.74it/s]\n"
     ]
    },
    {
     "name": "stdout",
     "output_type": "stream",
     "text": [
      "    box loss-> 0.02517, object loss-> 0.03606, class loss-> 0.00000\n",
      "Validation:\n"
     ]
    },
    {
     "name": "stderr",
     "output_type": "stream",
     "text": [
      "1it [00:00,  4.21it/s]\n"
     ]
    },
    {
     "name": "stdout",
     "output_type": "stream",
     "text": [
      "    recall: 0.500000 precision: 0.955409 mAP@0.5: 0.495425, mAP@0.5-0.95: 0.148627\n",
      "\n",
      "Epoch 229/1000\n",
      "----------\n",
      "Train: \n"
     ]
    },
    {
     "name": "stderr",
     "output_type": "stream",
     "text": [
      "3it [00:00,  3.69it/s]\n"
     ]
    },
    {
     "name": "stdout",
     "output_type": "stream",
     "text": [
      "    box loss-> 0.02615, object loss-> 0.03670, class loss-> 0.00000\n",
      "Validation:\n"
     ]
    },
    {
     "name": "stderr",
     "output_type": "stream",
     "text": [
      "1it [00:00,  4.28it/s]\n"
     ]
    },
    {
     "name": "stdout",
     "output_type": "stream",
     "text": [
      "    recall: 0.500000 precision: 0.822308 mAP@0.5: 0.495425, mAP@0.5-0.95: 0.198170\n",
      "\n",
      "Epoch 230/1000\n",
      "----------\n",
      "Train: \n"
     ]
    },
    {
     "name": "stderr",
     "output_type": "stream",
     "text": [
      "3it [00:00,  3.76it/s]\n"
     ]
    },
    {
     "name": "stdout",
     "output_type": "stream",
     "text": [
      "    box loss-> 0.02434, object loss-> 0.03569, class loss-> 0.00000\n",
      "Validation:\n"
     ]
    },
    {
     "name": "stderr",
     "output_type": "stream",
     "text": [
      "1it [00:00,  4.30it/s]\n"
     ]
    },
    {
     "name": "stdout",
     "output_type": "stream",
     "text": [
      "    recall: 0.500000 precision: 0.942348 mAP@0.5: 0.495425, mAP@0.5-0.95: 0.148627\n",
      "\n",
      "Epoch 231/1000\n",
      "----------\n",
      "Train: \n"
     ]
    },
    {
     "name": "stderr",
     "output_type": "stream",
     "text": [
      "3it [00:00,  3.74it/s]\n"
     ]
    },
    {
     "name": "stdout",
     "output_type": "stream",
     "text": [
      "    box loss-> 0.02561, object loss-> 0.03645, class loss-> 0.00000\n",
      "Validation:\n"
     ]
    },
    {
     "name": "stderr",
     "output_type": "stream",
     "text": [
      "1it [00:00,  4.34it/s]\n"
     ]
    },
    {
     "name": "stdout",
     "output_type": "stream",
     "text": [
      "    recall: 0.500000 precision: 0.960060 mAP@0.5: 0.495425, mAP@0.5-0.95: 0.148627\n",
      "\n",
      "Epoch 232/1000\n",
      "----------\n",
      "Train: \n"
     ]
    },
    {
     "name": "stderr",
     "output_type": "stream",
     "text": [
      "3it [00:00,  3.72it/s]\n"
     ]
    },
    {
     "name": "stdout",
     "output_type": "stream",
     "text": [
      "    box loss-> 0.02501, object loss-> 0.03639, class loss-> 0.00000\n",
      "Validation:\n"
     ]
    },
    {
     "name": "stderr",
     "output_type": "stream",
     "text": [
      "1it [00:00,  4.51it/s]\n"
     ]
    },
    {
     "name": "stdout",
     "output_type": "stream",
     "text": [
      "    recall: 0.500000 precision: 0.997281 mAP@0.5: 0.495425, mAP@0.5-0.95: 0.148627\n",
      "\n",
      "Epoch 233/1000\n",
      "----------\n",
      "Train: \n"
     ]
    },
    {
     "name": "stderr",
     "output_type": "stream",
     "text": [
      "3it [00:00,  3.79it/s]\n"
     ]
    },
    {
     "name": "stdout",
     "output_type": "stream",
     "text": [
      "    box loss-> 0.02572, object loss-> 0.03451, class loss-> 0.00000\n",
      "Validation:\n"
     ]
    },
    {
     "name": "stderr",
     "output_type": "stream",
     "text": [
      "1it [00:00,  4.44it/s]\n"
     ]
    },
    {
     "name": "stdout",
     "output_type": "stream",
     "text": [
      "    recall: 0.500000 precision: 0.994088 mAP@0.5: 0.495425, mAP@0.5-0.95: 0.148627\n",
      "\n",
      "Epoch 234/1000\n",
      "----------\n",
      "Train: \n"
     ]
    },
    {
     "name": "stderr",
     "output_type": "stream",
     "text": [
      "3it [00:00,  3.79it/s]\n"
     ]
    },
    {
     "name": "stdout",
     "output_type": "stream",
     "text": [
      "    box loss-> 0.02485, object loss-> 0.03446, class loss-> 0.00000\n",
      "Validation:\n"
     ]
    },
    {
     "name": "stderr",
     "output_type": "stream",
     "text": [
      "1it [00:00,  4.50it/s]\n"
     ]
    },
    {
     "name": "stdout",
     "output_type": "stream",
     "text": [
      "    recall: 0.500000 precision: 0.986968 mAP@0.5: 0.495425, mAP@0.5-0.95: 0.148627\n",
      "\n",
      "Epoch 235/1000\n",
      "----------\n",
      "Train: \n"
     ]
    },
    {
     "name": "stderr",
     "output_type": "stream",
     "text": [
      "3it [00:00,  3.80it/s]\n"
     ]
    },
    {
     "name": "stdout",
     "output_type": "stream",
     "text": [
      "    box loss-> 0.02503, object loss-> 0.03486, class loss-> 0.00000\n",
      "Validation:\n"
     ]
    },
    {
     "name": "stderr",
     "output_type": "stream",
     "text": [
      "1it [00:00,  4.28it/s]\n"
     ]
    },
    {
     "name": "stdout",
     "output_type": "stream",
     "text": [
      "    recall: 0.500000 precision: 0.995059 mAP@0.5: 0.495425, mAP@0.5-0.95: 0.148627\n",
      "\n",
      "Epoch 236/1000\n",
      "----------\n",
      "Train: \n"
     ]
    },
    {
     "name": "stderr",
     "output_type": "stream",
     "text": [
      "3it [00:00,  3.73it/s]\n"
     ]
    },
    {
     "name": "stdout",
     "output_type": "stream",
     "text": [
      "    box loss-> 0.02422, object loss-> 0.03385, class loss-> 0.00000\n",
      "Validation:\n"
     ]
    },
    {
     "name": "stderr",
     "output_type": "stream",
     "text": [
      "1it [00:00,  4.49it/s]\n"
     ]
    },
    {
     "name": "stdout",
     "output_type": "stream",
     "text": [
      "    recall: 0.500000 precision: 0.968116 mAP@0.5: 0.495425, mAP@0.5-0.95: 0.198170\n",
      "\n",
      "Epoch 237/1000\n",
      "----------\n",
      "Train: \n"
     ]
    },
    {
     "name": "stderr",
     "output_type": "stream",
     "text": [
      "3it [00:00,  3.81it/s]\n"
     ]
    },
    {
     "name": "stdout",
     "output_type": "stream",
     "text": [
      "    box loss-> 0.02953, object loss-> 0.03703, class loss-> 0.00000\n",
      "Validation:\n"
     ]
    },
    {
     "name": "stderr",
     "output_type": "stream",
     "text": [
      "1it [00:00,  4.47it/s]\n"
     ]
    },
    {
     "name": "stdout",
     "output_type": "stream",
     "text": [
      "    recall: 0.500000 precision: 0.981733 mAP@0.5: 0.495425, mAP@0.5-0.95: 0.148627\n",
      "\n",
      "Epoch 238/1000\n",
      "----------\n",
      "Train: \n"
     ]
    },
    {
     "name": "stderr",
     "output_type": "stream",
     "text": [
      "3it [00:00,  3.81it/s]\n"
     ]
    },
    {
     "name": "stdout",
     "output_type": "stream",
     "text": [
      "    box loss-> 0.02918, object loss-> 0.03688, class loss-> 0.00000\n",
      "Validation:\n"
     ]
    },
    {
     "name": "stderr",
     "output_type": "stream",
     "text": [
      "1it [00:00,  4.38it/s]\n"
     ]
    },
    {
     "name": "stdout",
     "output_type": "stream",
     "text": [
      "    recall: 0.500000 precision: 0.958028 mAP@0.5: 0.495425, mAP@0.5-0.95: 0.148627\n",
      "\n",
      "Epoch 239/1000\n",
      "----------\n",
      "Train: \n"
     ]
    },
    {
     "name": "stderr",
     "output_type": "stream",
     "text": [
      "3it [00:00,  3.79it/s]\n"
     ]
    },
    {
     "name": "stdout",
     "output_type": "stream",
     "text": [
      "    box loss-> 0.03163, object loss-> 0.03712, class loss-> 0.00000\n",
      "Validation:\n"
     ]
    },
    {
     "name": "stderr",
     "output_type": "stream",
     "text": [
      "1it [00:00,  4.38it/s]\n"
     ]
    },
    {
     "name": "stdout",
     "output_type": "stream",
     "text": [
      "    recall: 0.500000 precision: 0.955780 mAP@0.5: 0.495425, mAP@0.5-0.95: 0.148627\n",
      "\n",
      "Epoch 240/1000\n",
      "----------\n",
      "Train: \n"
     ]
    },
    {
     "name": "stderr",
     "output_type": "stream",
     "text": [
      "3it [00:00,  3.75it/s]\n"
     ]
    },
    {
     "name": "stdout",
     "output_type": "stream",
     "text": [
      "    box loss-> 0.02989, object loss-> 0.03714, class loss-> 0.00000\n",
      "Validation:\n"
     ]
    },
    {
     "name": "stderr",
     "output_type": "stream",
     "text": [
      "1it [00:00,  4.52it/s]\n"
     ]
    },
    {
     "name": "stdout",
     "output_type": "stream",
     "text": [
      "    recall: 0.500000 precision: 0.028595 mAP@0.5: 0.016925, mAP@0.5-0.95: 0.006770\n",
      "\n",
      "Epoch 241/1000\n",
      "----------\n",
      "Train: \n"
     ]
    },
    {
     "name": "stderr",
     "output_type": "stream",
     "text": [
      "3it [00:00,  3.83it/s]\n"
     ]
    },
    {
     "name": "stdout",
     "output_type": "stream",
     "text": [
      "    box loss-> 0.03198, object loss-> 0.03659, class loss-> 0.00000\n",
      "Validation:\n"
     ]
    },
    {
     "name": "stderr",
     "output_type": "stream",
     "text": [
      "1it [00:00,  4.43it/s]\n"
     ]
    },
    {
     "name": "stdout",
     "output_type": "stream",
     "text": [
      "    recall: 0.500000 precision: 0.042626 mAP@0.5: 0.025175, mAP@0.5-0.95: 0.007552\n",
      "\n",
      "Epoch 242/1000\n",
      "----------\n",
      "Train: \n"
     ]
    },
    {
     "name": "stderr",
     "output_type": "stream",
     "text": [
      "3it [00:00,  3.75it/s]\n"
     ]
    },
    {
     "name": "stdout",
     "output_type": "stream",
     "text": [
      "    box loss-> 0.03376, object loss-> 0.03690, class loss-> 0.00000\n",
      "Validation:\n"
     ]
    },
    {
     "name": "stderr",
     "output_type": "stream",
     "text": [
      "1it [00:00,  4.40it/s]\n"
     ]
    },
    {
     "name": "stdout",
     "output_type": "stream",
     "text": [
      "    recall: 0.500000 precision: 0.061440 mAP@0.5: 0.049925, mAP@0.5-0.95: 0.029955\n",
      "\n",
      "Epoch 243/1000\n",
      "----------\n",
      "Train: \n"
     ]
    },
    {
     "name": "stderr",
     "output_type": "stream",
     "text": [
      "3it [00:00,  3.80it/s]\n"
     ]
    },
    {
     "name": "stdout",
     "output_type": "stream",
     "text": [
      "    box loss-> 0.03182, object loss-> 0.03682, class loss-> 0.00000\n",
      "Validation:\n"
     ]
    },
    {
     "name": "stderr",
     "output_type": "stream",
     "text": [
      "1it [00:00,  4.43it/s]\n"
     ]
    },
    {
     "name": "stdout",
     "output_type": "stream",
     "text": [
      "    recall: 0.415776 precision: 0.207888 mAP@0.5: 0.124175, mAP@0.5-0.95: 0.074505\n",
      "\n",
      "Epoch 244/1000\n",
      "----------\n",
      "Train: \n"
     ]
    },
    {
     "name": "stderr",
     "output_type": "stream",
     "text": [
      "3it [00:00,  3.77it/s]\n"
     ]
    },
    {
     "name": "stdout",
     "output_type": "stream",
     "text": [
      "    box loss-> 0.03275, object loss-> 0.03601, class loss-> 0.00000\n",
      "Validation:\n"
     ]
    },
    {
     "name": "stderr",
     "output_type": "stream",
     "text": [
      "1it [00:00,  4.53it/s]\n"
     ]
    },
    {
     "name": "stdout",
     "output_type": "stream",
     "text": [
      "    recall: 0.500000 precision: 0.990524 mAP@0.5: 0.495425, mAP@0.5-0.95: 0.099085\n",
      "\n",
      "Epoch 245/1000\n",
      "----------\n",
      "Train: \n"
     ]
    },
    {
     "name": "stderr",
     "output_type": "stream",
     "text": [
      "3it [00:00,  3.83it/s]\n"
     ]
    },
    {
     "name": "stdout",
     "output_type": "stream",
     "text": [
      "    box loss-> 0.03031, object loss-> 0.03536, class loss-> 0.00000\n",
      "Validation:\n"
     ]
    },
    {
     "name": "stderr",
     "output_type": "stream",
     "text": [
      "1it [00:00,  4.37it/s]\n"
     ]
    },
    {
     "name": "stdout",
     "output_type": "stream",
     "text": [
      "    recall: 0.500000 precision: 0.982081 mAP@0.5: 0.495425, mAP@0.5-0.95: 0.099085\n",
      "\n",
      "Epoch 246/1000\n",
      "----------\n",
      "Train: \n"
     ]
    },
    {
     "name": "stderr",
     "output_type": "stream",
     "text": [
      "3it [00:00,  3.82it/s]\n"
     ]
    },
    {
     "name": "stdout",
     "output_type": "stream",
     "text": [
      "    box loss-> 0.03014, object loss-> 0.03526, class loss-> 0.00000\n",
      "Validation:\n"
     ]
    },
    {
     "name": "stderr",
     "output_type": "stream",
     "text": [
      "1it [00:00,  4.45it/s]\n"
     ]
    },
    {
     "name": "stdout",
     "output_type": "stream",
     "text": [
      "    recall: 0.500000 precision: 0.495460 mAP@0.5: 0.495425, mAP@0.5-0.95: 0.297255\n",
      "\n",
      "Epoch 247/1000\n",
      "----------\n",
      "Train: \n"
     ]
    },
    {
     "name": "stderr",
     "output_type": "stream",
     "text": [
      "3it [00:00,  3.77it/s]\n"
     ]
    },
    {
     "name": "stdout",
     "output_type": "stream",
     "text": [
      "    box loss-> 0.03021, object loss-> 0.03527, class loss-> 0.00000\n",
      "Validation:\n"
     ]
    },
    {
     "name": "stderr",
     "output_type": "stream",
     "text": [
      "1it [00:00,  4.33it/s]\n"
     ]
    },
    {
     "name": "stdout",
     "output_type": "stream",
     "text": [
      "    recall: 0.500000 precision: 0.917377 mAP@0.5: 0.495425, mAP@0.5-0.95: 0.148627\n",
      "\n",
      "Epoch 248/1000\n",
      "----------\n",
      "Train: \n"
     ]
    },
    {
     "name": "stderr",
     "output_type": "stream",
     "text": [
      "3it [00:00,  3.73it/s]\n"
     ]
    },
    {
     "name": "stdout",
     "output_type": "stream",
     "text": [
      "    box loss-> 0.03026, object loss-> 0.03516, class loss-> 0.00000\n",
      "Validation:\n"
     ]
    },
    {
     "name": "stderr",
     "output_type": "stream",
     "text": [
      "1it [00:00,  4.47it/s]\n"
     ]
    },
    {
     "name": "stdout",
     "output_type": "stream",
     "text": [
      "    recall: 0.500000 precision: 0.984911 mAP@0.5: 0.495425, mAP@0.5-0.95: 0.148627\n",
      "\n",
      "Epoch 249/1000\n",
      "----------\n",
      "Train: \n"
     ]
    },
    {
     "name": "stderr",
     "output_type": "stream",
     "text": [
      "3it [00:00,  3.76it/s]\n"
     ]
    },
    {
     "name": "stdout",
     "output_type": "stream",
     "text": [
      "    box loss-> 0.02592, object loss-> 0.03588, class loss-> 0.00000\n",
      "Validation:\n"
     ]
    },
    {
     "name": "stderr",
     "output_type": "stream",
     "text": [
      "1it [00:00,  4.30it/s]\n"
     ]
    },
    {
     "name": "stdout",
     "output_type": "stream",
     "text": [
      "    recall: 0.500000 precision: 0.930100 mAP@0.5: 0.495425, mAP@0.5-0.95: 0.148627\n",
      "\n",
      "Epoch 250/1000\n",
      "----------\n",
      "Train: \n"
     ]
    },
    {
     "name": "stderr",
     "output_type": "stream",
     "text": [
      "3it [00:00,  3.79it/s]\n"
     ]
    },
    {
     "name": "stdout",
     "output_type": "stream",
     "text": [
      "    box loss-> 0.02589, object loss-> 0.03566, class loss-> 0.00000\n",
      "Validation:\n"
     ]
    },
    {
     "name": "stderr",
     "output_type": "stream",
     "text": [
      "1it [00:00,  4.35it/s]\n"
     ]
    },
    {
     "name": "stdout",
     "output_type": "stream",
     "text": [
      "    recall: 0.500000 precision: 0.965706 mAP@0.5: 0.495425, mAP@0.5-0.95: 0.148627\n",
      "\n",
      "Epoch 251/1000\n",
      "----------\n",
      "Train: \n"
     ]
    },
    {
     "name": "stderr",
     "output_type": "stream",
     "text": [
      "3it [00:00,  3.79it/s]\n"
     ]
    },
    {
     "name": "stdout",
     "output_type": "stream",
     "text": [
      "    box loss-> 0.02574, object loss-> 0.03570, class loss-> 0.00000\n",
      "Validation:\n"
     ]
    },
    {
     "name": "stderr",
     "output_type": "stream",
     "text": [
      "1it [00:00,  4.33it/s]\n"
     ]
    },
    {
     "name": "stdout",
     "output_type": "stream",
     "text": [
      "    recall: 0.500000 precision: 0.944317 mAP@0.5: 0.495425, mAP@0.5-0.95: 0.148627\n",
      "\n",
      "Epoch 252/1000\n",
      "----------\n",
      "Train: \n"
     ]
    },
    {
     "name": "stderr",
     "output_type": "stream",
     "text": [
      "3it [00:00,  3.73it/s]\n"
     ]
    },
    {
     "name": "stdout",
     "output_type": "stream",
     "text": [
      "    box loss-> 0.02571, object loss-> 0.03576, class loss-> 0.00000\n",
      "Validation:\n"
     ]
    },
    {
     "name": "stderr",
     "output_type": "stream",
     "text": [
      "1it [00:00,  4.54it/s]\n"
     ]
    },
    {
     "name": "stdout",
     "output_type": "stream",
     "text": [
      "    recall: 0.500000 precision: 0.999538 mAP@0.5: 0.495425, mAP@0.5-0.95: 0.148627\n",
      "\n",
      "Epoch 253/1000\n",
      "----------\n",
      "Train: \n"
     ]
    },
    {
     "name": "stderr",
     "output_type": "stream",
     "text": [
      "3it [00:00,  3.79it/s]\n"
     ]
    },
    {
     "name": "stdout",
     "output_type": "stream",
     "text": [
      "    box loss-> 0.02882, object loss-> 0.03468, class loss-> 0.00000\n",
      "Validation:\n"
     ]
    },
    {
     "name": "stderr",
     "output_type": "stream",
     "text": [
      "1it [00:00,  4.52it/s]\n"
     ]
    },
    {
     "name": "stdout",
     "output_type": "stream",
     "text": [
      "    recall: 0.500000 precision: 0.993193 mAP@0.5: 0.495425, mAP@0.5-0.95: 0.148627\n",
      "\n",
      "Epoch 254/1000\n",
      "----------\n",
      "Train: \n"
     ]
    },
    {
     "name": "stderr",
     "output_type": "stream",
     "text": [
      "3it [00:00,  3.78it/s]\n"
     ]
    },
    {
     "name": "stdout",
     "output_type": "stream",
     "text": [
      "    box loss-> 0.02911, object loss-> 0.03500, class loss-> 0.00000\n",
      "Validation:\n"
     ]
    },
    {
     "name": "stderr",
     "output_type": "stream",
     "text": [
      "1it [00:00,  4.39it/s]\n"
     ]
    },
    {
     "name": "stdout",
     "output_type": "stream",
     "text": [
      "    recall: 0.500000 precision: 0.974758 mAP@0.5: 0.495425, mAP@0.5-0.95: 0.148627\n",
      "\n",
      "Epoch 255/1000\n",
      "----------\n",
      "Train: \n"
     ]
    },
    {
     "name": "stderr",
     "output_type": "stream",
     "text": [
      "3it [00:00,  3.81it/s]\n"
     ]
    },
    {
     "name": "stdout",
     "output_type": "stream",
     "text": [
      "    box loss-> 0.02930, object loss-> 0.03535, class loss-> 0.00000\n",
      "Validation:\n"
     ]
    },
    {
     "name": "stderr",
     "output_type": "stream",
     "text": [
      "1it [00:00,  4.31it/s]\n"
     ]
    },
    {
     "name": "stdout",
     "output_type": "stream",
     "text": [
      "    recall: 0.500000 precision: 0.958706 mAP@0.5: 0.495425, mAP@0.5-0.95: 0.148627\n",
      "\n",
      "Epoch 256/1000\n",
      "----------\n",
      "Train: \n"
     ]
    },
    {
     "name": "stderr",
     "output_type": "stream",
     "text": [
      "3it [00:00,  3.77it/s]\n"
     ]
    },
    {
     "name": "stdout",
     "output_type": "stream",
     "text": [
      "    box loss-> 0.02872, object loss-> 0.03489, class loss-> 0.00000\n",
      "Validation:\n"
     ]
    },
    {
     "name": "stderr",
     "output_type": "stream",
     "text": [
      "1it [00:00,  4.09it/s]\n"
     ]
    },
    {
     "name": "stdout",
     "output_type": "stream",
     "text": [
      "    recall: 0.500000 precision: 0.983240 mAP@0.5: 0.495425, mAP@0.5-0.95: 0.148627\n",
      "\n",
      "Epoch 257/1000\n",
      "----------\n",
      "Train: \n"
     ]
    },
    {
     "name": "stderr",
     "output_type": "stream",
     "text": [
      "3it [00:00,  3.73it/s]\n"
     ]
    },
    {
     "name": "stdout",
     "output_type": "stream",
     "text": [
      "    box loss-> 0.02697, object loss-> 0.03464, class loss-> 0.00000\n",
      "Validation:\n"
     ]
    },
    {
     "name": "stderr",
     "output_type": "stream",
     "text": [
      "1it [00:00,  4.12it/s]\n"
     ]
    },
    {
     "name": "stdout",
     "output_type": "stream",
     "text": [
      "    recall: 0.500000 precision: 0.986124 mAP@0.5: 0.495425, mAP@0.5-0.95: 0.148627\n",
      "\n",
      "Epoch 258/1000\n",
      "----------\n",
      "Train: \n"
     ]
    },
    {
     "name": "stderr",
     "output_type": "stream",
     "text": [
      "3it [00:00,  3.76it/s]\n"
     ]
    },
    {
     "name": "stdout",
     "output_type": "stream",
     "text": [
      "    box loss-> 0.02583, object loss-> 0.03374, class loss-> 0.00000\n",
      "Validation:\n"
     ]
    },
    {
     "name": "stderr",
     "output_type": "stream",
     "text": [
      "1it [00:00,  4.43it/s]\n"
     ]
    },
    {
     "name": "stdout",
     "output_type": "stream",
     "text": [
      "    recall: 0.500000 precision: 0.997164 mAP@0.5: 0.495425, mAP@0.5-0.95: 0.148627\n",
      "\n",
      "Epoch 259/1000\n",
      "----------\n",
      "Train: \n"
     ]
    },
    {
     "name": "stderr",
     "output_type": "stream",
     "text": [
      "3it [00:00,  3.78it/s]\n"
     ]
    },
    {
     "name": "stdout",
     "output_type": "stream",
     "text": [
      "    box loss-> 0.02628, object loss-> 0.03437, class loss-> 0.00000\n",
      "Validation:\n"
     ]
    },
    {
     "name": "stderr",
     "output_type": "stream",
     "text": [
      "1it [00:00,  4.07it/s]\n"
     ]
    },
    {
     "name": "stdout",
     "output_type": "stream",
     "text": [
      "    recall: 0.500000 precision: 0.995866 mAP@0.5: 0.495425, mAP@0.5-0.95: 0.148627\n",
      "\n",
      "Epoch 260/1000\n",
      "----------\n",
      "Train: \n"
     ]
    },
    {
     "name": "stderr",
     "output_type": "stream",
     "text": [
      "3it [00:00,  3.78it/s]\n"
     ]
    },
    {
     "name": "stdout",
     "output_type": "stream",
     "text": [
      "    box loss-> 0.02566, object loss-> 0.03425, class loss-> 0.00000\n",
      "Validation:\n"
     ]
    },
    {
     "name": "stderr",
     "output_type": "stream",
     "text": [
      "1it [00:00,  4.41it/s]\n"
     ]
    },
    {
     "name": "stdout",
     "output_type": "stream",
     "text": [
      "    recall: 0.500000 precision: 0.999830 mAP@0.5: 0.495425, mAP@0.5-0.95: 0.148627\n",
      "\n",
      "Epoch 261/1000\n",
      "----------\n",
      "Train: \n"
     ]
    },
    {
     "name": "stderr",
     "output_type": "stream",
     "text": [
      "3it [00:00,  3.75it/s]\n"
     ]
    },
    {
     "name": "stdout",
     "output_type": "stream",
     "text": [
      "    box loss-> 0.02646, object loss-> 0.03437, class loss-> 0.00000\n",
      "Validation:\n"
     ]
    },
    {
     "name": "stderr",
     "output_type": "stream",
     "text": [
      "1it [00:00,  4.27it/s]\n"
     ]
    },
    {
     "name": "stdout",
     "output_type": "stream",
     "text": [
      "    recall: 0.500000 precision: 0.995640 mAP@0.5: 0.495425, mAP@0.5-0.95: 0.198170\n",
      "\n",
      "Epoch 262/1000\n",
      "----------\n",
      "Train: \n"
     ]
    },
    {
     "name": "stderr",
     "output_type": "stream",
     "text": [
      "3it [00:00,  3.79it/s]\n"
     ]
    },
    {
     "name": "stdout",
     "output_type": "stream",
     "text": [
      "    box loss-> 0.02789, object loss-> 0.03468, class loss-> 0.00000\n",
      "Validation:\n"
     ]
    },
    {
     "name": "stderr",
     "output_type": "stream",
     "text": [
      "1it [00:00,  4.16it/s]\n"
     ]
    },
    {
     "name": "stdout",
     "output_type": "stream",
     "text": [
      "    recall: 0.500000 precision: 0.987267 mAP@0.5: 0.495425, mAP@0.5-0.95: 0.198170\n",
      "\n",
      "Epoch 263/1000\n",
      "----------\n",
      "Train: \n"
     ]
    },
    {
     "name": "stderr",
     "output_type": "stream",
     "text": [
      "3it [00:00,  3.74it/s]\n"
     ]
    },
    {
     "name": "stdout",
     "output_type": "stream",
     "text": [
      "    box loss-> 0.02837, object loss-> 0.03416, class loss-> 0.00000\n",
      "Validation:\n"
     ]
    },
    {
     "name": "stderr",
     "output_type": "stream",
     "text": [
      "1it [00:00,  4.36it/s]\n"
     ]
    },
    {
     "name": "stdout",
     "output_type": "stream",
     "text": [
      "    recall: 0.500000 precision: 0.992897 mAP@0.5: 0.495425, mAP@0.5-0.95: 0.148627\n",
      "\n",
      "Epoch 264/1000\n",
      "----------\n",
      "Train: \n"
     ]
    },
    {
     "name": "stderr",
     "output_type": "stream",
     "text": [
      "3it [00:00,  3.76it/s]\n"
     ]
    },
    {
     "name": "stdout",
     "output_type": "stream",
     "text": [
      "    box loss-> 0.02781, object loss-> 0.03405, class loss-> 0.00000\n",
      "Validation:\n"
     ]
    },
    {
     "name": "stderr",
     "output_type": "stream",
     "text": [
      "1it [00:00,  4.30it/s]\n"
     ]
    },
    {
     "name": "stdout",
     "output_type": "stream",
     "text": [
      "    recall: 0.500000 precision: 0.986397 mAP@0.5: 0.495425, mAP@0.5-0.95: 0.148627\n",
      "\n",
      "Epoch 265/1000\n",
      "----------\n",
      "Train: \n"
     ]
    },
    {
     "name": "stderr",
     "output_type": "stream",
     "text": [
      "3it [00:00,  3.75it/s]\n"
     ]
    },
    {
     "name": "stdout",
     "output_type": "stream",
     "text": [
      "    box loss-> 0.02753, object loss-> 0.03390, class loss-> 0.00000\n",
      "Validation:\n"
     ]
    },
    {
     "name": "stderr",
     "output_type": "stream",
     "text": [
      "1it [00:00,  4.40it/s]\n"
     ]
    },
    {
     "name": "stdout",
     "output_type": "stream",
     "text": [
      "    recall: 0.500000 precision: 0.968978 mAP@0.5: 0.495425, mAP@0.5-0.95: 0.148627\n",
      "\n",
      "Epoch 266/1000\n",
      "----------\n",
      "Train: \n"
     ]
    },
    {
     "name": "stderr",
     "output_type": "stream",
     "text": [
      "3it [00:00,  3.83it/s]\n"
     ]
    },
    {
     "name": "stdout",
     "output_type": "stream",
     "text": [
      "    box loss-> 0.03137, object loss-> 0.03555, class loss-> 0.00000\n",
      "Validation:\n"
     ]
    },
    {
     "name": "stderr",
     "output_type": "stream",
     "text": [
      "1it [00:00,  4.35it/s]\n"
     ]
    },
    {
     "name": "stdout",
     "output_type": "stream",
     "text": [
      "    recall: 0.500000 precision: 0.986600 mAP@0.5: 0.495425, mAP@0.5-0.95: 0.148627\n",
      "\n",
      "Epoch 267/1000\n",
      "----------\n",
      "Train: \n"
     ]
    },
    {
     "name": "stderr",
     "output_type": "stream",
     "text": [
      "3it [00:00,  3.77it/s]\n"
     ]
    },
    {
     "name": "stdout",
     "output_type": "stream",
     "text": [
      "    box loss-> 0.03127, object loss-> 0.03602, class loss-> 0.00000\n",
      "Validation:\n"
     ]
    },
    {
     "name": "stderr",
     "output_type": "stream",
     "text": [
      "1it [00:00,  4.41it/s]\n"
     ]
    },
    {
     "name": "stdout",
     "output_type": "stream",
     "text": [
      "    recall: 0.500000 precision: 0.987097 mAP@0.5: 0.495425, mAP@0.5-0.95: 0.148627\n",
      "\n",
      "Epoch 268/1000\n",
      "----------\n",
      "Train: \n"
     ]
    },
    {
     "name": "stderr",
     "output_type": "stream",
     "text": [
      "3it [00:00,  3.79it/s]\n"
     ]
    },
    {
     "name": "stdout",
     "output_type": "stream",
     "text": [
      "    box loss-> 0.03209, object loss-> 0.03588, class loss-> 0.00000\n",
      "Validation:\n"
     ]
    },
    {
     "name": "stderr",
     "output_type": "stream",
     "text": [
      "1it [00:00,  4.37it/s]\n"
     ]
    },
    {
     "name": "stdout",
     "output_type": "stream",
     "text": [
      "    recall: 0.500000 precision: 0.971085 mAP@0.5: 0.495425, mAP@0.5-0.95: 0.148627\n",
      "\n",
      "Epoch 269/1000\n",
      "----------\n",
      "Train: \n"
     ]
    },
    {
     "name": "stderr",
     "output_type": "stream",
     "text": [
      "3it [00:00,  3.79it/s]\n"
     ]
    },
    {
     "name": "stdout",
     "output_type": "stream",
     "text": [
      "    box loss-> 0.03255, object loss-> 0.03621, class loss-> 0.00000\n",
      "Validation:\n"
     ]
    },
    {
     "name": "stderr",
     "output_type": "stream",
     "text": [
      "1it [00:00,  4.33it/s]\n"
     ]
    },
    {
     "name": "stdout",
     "output_type": "stream",
     "text": [
      "    recall: 0.500000 precision: 0.991656 mAP@0.5: 0.495425, mAP@0.5-0.95: 0.148627\n",
      "\n",
      "Epoch 270/1000\n",
      "----------\n",
      "Train: \n"
     ]
    },
    {
     "name": "stderr",
     "output_type": "stream",
     "text": [
      "3it [00:00,  3.71it/s]\n"
     ]
    },
    {
     "name": "stdout",
     "output_type": "stream",
     "text": [
      "    box loss-> 0.03136, object loss-> 0.03542, class loss-> 0.00000\n",
      "Validation:\n"
     ]
    },
    {
     "name": "stderr",
     "output_type": "stream",
     "text": [
      "1it [00:00,  4.43it/s]\n"
     ]
    },
    {
     "name": "stdout",
     "output_type": "stream",
     "text": [
      "    recall: 0.500000 precision: 0.988062 mAP@0.5: 0.495425, mAP@0.5-0.95: 0.198170\n",
      "\n",
      "Epoch 271/1000\n",
      "----------\n",
      "Train: \n"
     ]
    },
    {
     "name": "stderr",
     "output_type": "stream",
     "text": [
      "3it [00:00,  3.79it/s]\n"
     ]
    },
    {
     "name": "stdout",
     "output_type": "stream",
     "text": [
      "    box loss-> 0.03016, object loss-> 0.03500, class loss-> 0.00000\n",
      "Validation:\n"
     ]
    },
    {
     "name": "stderr",
     "output_type": "stream",
     "text": [
      "1it [00:00,  4.46it/s]\n"
     ]
    },
    {
     "name": "stdout",
     "output_type": "stream",
     "text": [
      "    recall: 0.500000 precision: 0.982020 mAP@0.5: 0.495425, mAP@0.5-0.95: 0.148627\n",
      "\n",
      "Epoch 272/1000\n",
      "----------\n",
      "Train: \n"
     ]
    },
    {
     "name": "stderr",
     "output_type": "stream",
     "text": [
      "3it [00:00,  3.76it/s]\n"
     ]
    },
    {
     "name": "stdout",
     "output_type": "stream",
     "text": [
      "    box loss-> 0.03000, object loss-> 0.03482, class loss-> 0.00000\n",
      "Validation:\n"
     ]
    },
    {
     "name": "stderr",
     "output_type": "stream",
     "text": [
      "1it [00:00,  4.40it/s]\n"
     ]
    },
    {
     "name": "stdout",
     "output_type": "stream",
     "text": [
      "    recall: 0.500000 precision: 0.996123 mAP@0.5: 0.495425, mAP@0.5-0.95: 0.148627\n",
      "\n",
      "Epoch 273/1000\n",
      "----------\n",
      "Train: \n"
     ]
    },
    {
     "name": "stderr",
     "output_type": "stream",
     "text": [
      "3it [00:00,  3.78it/s]\n"
     ]
    },
    {
     "name": "stdout",
     "output_type": "stream",
     "text": [
      "    box loss-> 0.02946, object loss-> 0.03503, class loss-> 0.00000\n",
      "Validation:\n"
     ]
    },
    {
     "name": "stderr",
     "output_type": "stream",
     "text": [
      "1it [00:00,  4.39it/s]\n"
     ]
    },
    {
     "name": "stdout",
     "output_type": "stream",
     "text": [
      "    recall: 0.500000 precision: 0.994458 mAP@0.5: 0.495425, mAP@0.5-0.95: 0.148627\n",
      "\n",
      "Epoch 274/1000\n",
      "----------\n",
      "Train: \n"
     ]
    },
    {
     "name": "stderr",
     "output_type": "stream",
     "text": [
      "3it [00:00,  3.75it/s]\n"
     ]
    },
    {
     "name": "stdout",
     "output_type": "stream",
     "text": [
      "    box loss-> 0.03244, object loss-> 0.03596, class loss-> 0.00000\n",
      "Validation:\n"
     ]
    },
    {
     "name": "stderr",
     "output_type": "stream",
     "text": [
      "1it [00:00,  4.42it/s]\n"
     ]
    },
    {
     "name": "stdout",
     "output_type": "stream",
     "text": [
      "    recall: 0.500000 precision: 0.988184 mAP@0.5: 0.495425, mAP@0.5-0.95: 0.148627\n",
      "\n",
      "Epoch 275/1000\n",
      "----------\n",
      "Train: \n"
     ]
    },
    {
     "name": "stderr",
     "output_type": "stream",
     "text": [
      "3it [00:00,  3.80it/s]\n"
     ]
    },
    {
     "name": "stdout",
     "output_type": "stream",
     "text": [
      "    box loss-> 0.02885, object loss-> 0.03619, class loss-> 0.00000\n",
      "Validation:\n"
     ]
    },
    {
     "name": "stderr",
     "output_type": "stream",
     "text": [
      "1it [00:00,  4.40it/s]\n"
     ]
    },
    {
     "name": "stdout",
     "output_type": "stream",
     "text": [
      "    recall: 0.500000 precision: 0.988409 mAP@0.5: 0.495425, mAP@0.5-0.95: 0.148627\n",
      "\n",
      "Epoch 276/1000\n",
      "----------\n",
      "Train: \n"
     ]
    },
    {
     "name": "stderr",
     "output_type": "stream",
     "text": [
      "3it [00:00,  3.83it/s]\n"
     ]
    },
    {
     "name": "stdout",
     "output_type": "stream",
     "text": [
      "    box loss-> 0.02929, object loss-> 0.03614, class loss-> 0.00000\n",
      "Validation:\n"
     ]
    },
    {
     "name": "stderr",
     "output_type": "stream",
     "text": [
      "1it [00:00,  4.30it/s]\n"
     ]
    },
    {
     "name": "stdout",
     "output_type": "stream",
     "text": [
      "    recall: 0.500000 precision: 0.992448 mAP@0.5: 0.495425, mAP@0.5-0.95: 0.148627\n",
      "\n",
      "Epoch 277/1000\n",
      "----------\n",
      "Train: \n"
     ]
    },
    {
     "name": "stderr",
     "output_type": "stream",
     "text": [
      "3it [00:00,  3.80it/s]\n"
     ]
    },
    {
     "name": "stdout",
     "output_type": "stream",
     "text": [
      "    box loss-> 0.02924, object loss-> 0.03556, class loss-> 0.00000\n",
      "Validation:\n"
     ]
    },
    {
     "name": "stderr",
     "output_type": "stream",
     "text": [
      "1it [00:00,  4.38it/s]\n"
     ]
    },
    {
     "name": "stdout",
     "output_type": "stream",
     "text": [
      "    recall: 0.500000 precision: 0.992665 mAP@0.5: 0.495425, mAP@0.5-0.95: 0.148627\n",
      "\n",
      "Epoch 278/1000\n",
      "----------\n",
      "Train: \n"
     ]
    },
    {
     "name": "stderr",
     "output_type": "stream",
     "text": [
      "3it [00:00,  3.81it/s]\n"
     ]
    },
    {
     "name": "stdout",
     "output_type": "stream",
     "text": [
      "    box loss-> 0.02964, object loss-> 0.03591, class loss-> 0.00000\n",
      "Validation:\n"
     ]
    },
    {
     "name": "stderr",
     "output_type": "stream",
     "text": [
      "1it [00:00,  4.38it/s]\n"
     ]
    },
    {
     "name": "stdout",
     "output_type": "stream",
     "text": [
      "    recall: 0.500000 precision: 0.997088 mAP@0.5: 0.495425, mAP@0.5-0.95: 0.148627\n",
      "\n",
      "Epoch 279/1000\n",
      "----------\n",
      "Train: \n"
     ]
    },
    {
     "name": "stderr",
     "output_type": "stream",
     "text": [
      "3it [00:00,  3.75it/s]\n"
     ]
    },
    {
     "name": "stdout",
     "output_type": "stream",
     "text": [
      "    box loss-> 0.03116, object loss-> 0.03615, class loss-> 0.00000\n",
      "Validation:\n"
     ]
    },
    {
     "name": "stderr",
     "output_type": "stream",
     "text": [
      "1it [00:00,  4.38it/s]\n"
     ]
    },
    {
     "name": "stdout",
     "output_type": "stream",
     "text": [
      "    recall: 0.500000 precision: 0.994767 mAP@0.5: 0.495425, mAP@0.5-0.95: 0.148627\n",
      "\n",
      "Epoch 280/1000\n",
      "----------\n",
      "Train: \n"
     ]
    },
    {
     "name": "stderr",
     "output_type": "stream",
     "text": [
      "3it [00:00,  3.76it/s]\n"
     ]
    },
    {
     "name": "stdout",
     "output_type": "stream",
     "text": [
      "    box loss-> 0.02949, object loss-> 0.03611, class loss-> 0.00000\n",
      "Validation:\n"
     ]
    },
    {
     "name": "stderr",
     "output_type": "stream",
     "text": [
      "1it [00:00,  4.39it/s]\n"
     ]
    },
    {
     "name": "stdout",
     "output_type": "stream",
     "text": [
      "    recall: 0.500000 precision: 0.994911 mAP@0.5: 0.495425, mAP@0.5-0.95: 0.148627\n",
      "\n",
      "Epoch 281/1000\n",
      "----------\n",
      "Train: \n"
     ]
    },
    {
     "name": "stderr",
     "output_type": "stream",
     "text": [
      "3it [00:00,  3.81it/s]\n"
     ]
    },
    {
     "name": "stdout",
     "output_type": "stream",
     "text": [
      "    box loss-> 0.03010, object loss-> 0.03547, class loss-> 0.00000\n",
      "Validation:\n"
     ]
    },
    {
     "name": "stderr",
     "output_type": "stream",
     "text": [
      "1it [00:00,  4.37it/s]\n"
     ]
    },
    {
     "name": "stdout",
     "output_type": "stream",
     "text": [
      "    recall: 0.500000 precision: 0.994023 mAP@0.5: 0.495425, mAP@0.5-0.95: 0.148627\n",
      "\n",
      "Epoch 282/1000\n",
      "----------\n",
      "Train: \n"
     ]
    },
    {
     "name": "stderr",
     "output_type": "stream",
     "text": [
      "3it [00:00,  3.81it/s]\n"
     ]
    },
    {
     "name": "stdout",
     "output_type": "stream",
     "text": [
      "    box loss-> 0.02914, object loss-> 0.03608, class loss-> 0.00000\n",
      "Validation:\n"
     ]
    },
    {
     "name": "stderr",
     "output_type": "stream",
     "text": [
      "1it [00:00,  4.34it/s]\n"
     ]
    },
    {
     "name": "stdout",
     "output_type": "stream",
     "text": [
      "    recall: 0.500000 precision: 0.996319 mAP@0.5: 0.495425, mAP@0.5-0.95: 0.148627\n",
      "\n",
      "Epoch 283/1000\n",
      "----------\n",
      "Train: \n"
     ]
    },
    {
     "name": "stderr",
     "output_type": "stream",
     "text": [
      "3it [00:00,  3.66it/s]\n"
     ]
    },
    {
     "name": "stdout",
     "output_type": "stream",
     "text": [
      "    box loss-> 0.02958, object loss-> 0.03600, class loss-> 0.00000\n",
      "Validation:\n"
     ]
    },
    {
     "name": "stderr",
     "output_type": "stream",
     "text": [
      "1it [00:00,  4.17it/s]\n"
     ]
    },
    {
     "name": "stdout",
     "output_type": "stream",
     "text": [
      "    recall: 0.500000 precision: 0.995371 mAP@0.5: 0.495425, mAP@0.5-0.95: 0.198170\n",
      "\n",
      "Epoch 284/1000\n",
      "----------\n",
      "Train: \n"
     ]
    },
    {
     "name": "stderr",
     "output_type": "stream",
     "text": [
      "3it [00:00,  3.80it/s]\n"
     ]
    },
    {
     "name": "stdout",
     "output_type": "stream",
     "text": [
      "    box loss-> 0.02797, object loss-> 0.03446, class loss-> 0.00000\n",
      "Validation:\n"
     ]
    },
    {
     "name": "stderr",
     "output_type": "stream",
     "text": [
      "1it [00:00,  4.26it/s]\n"
     ]
    },
    {
     "name": "stdout",
     "output_type": "stream",
     "text": [
      "    recall: 0.500000 precision: 0.996792 mAP@0.5: 0.495425, mAP@0.5-0.95: 0.198170\n",
      "\n",
      "Epoch 285/1000\n",
      "----------\n",
      "Train: \n"
     ]
    },
    {
     "name": "stderr",
     "output_type": "stream",
     "text": [
      "3it [00:00,  3.75it/s]\n"
     ]
    },
    {
     "name": "stdout",
     "output_type": "stream",
     "text": [
      "    box loss-> 0.02872, object loss-> 0.03494, class loss-> 0.00000\n",
      "Validation:\n"
     ]
    },
    {
     "name": "stderr",
     "output_type": "stream",
     "text": [
      "1it [00:00,  4.14it/s]\n"
     ]
    },
    {
     "name": "stdout",
     "output_type": "stream",
     "text": [
      "    recall: 0.500000 precision: 0.998671 mAP@0.5: 0.495425, mAP@0.5-0.95: 0.198170\n",
      "\n",
      "Epoch 286/1000\n",
      "----------\n",
      "Train: \n"
     ]
    },
    {
     "name": "stderr",
     "output_type": "stream",
     "text": [
      "3it [00:00,  3.70it/s]\n"
     ]
    },
    {
     "name": "stdout",
     "output_type": "stream",
     "text": [
      "    box loss-> 0.02770, object loss-> 0.03448, class loss-> 0.00000\n",
      "Validation:\n"
     ]
    },
    {
     "name": "stderr",
     "output_type": "stream",
     "text": [
      "1it [00:00,  4.38it/s]\n"
     ]
    },
    {
     "name": "stdout",
     "output_type": "stream",
     "text": [
      "    recall: 0.500000 precision: 0.997636 mAP@0.5: 0.495425, mAP@0.5-0.95: 0.198170\n",
      "\n",
      "Epoch 287/1000\n",
      "----------\n",
      "Train: \n"
     ]
    },
    {
     "name": "stderr",
     "output_type": "stream",
     "text": [
      "3it [00:00,  3.76it/s]\n"
     ]
    },
    {
     "name": "stdout",
     "output_type": "stream",
     "text": [
      "    box loss-> 0.02873, object loss-> 0.03543, class loss-> 0.00000\n",
      "Validation:\n"
     ]
    },
    {
     "name": "stderr",
     "output_type": "stream",
     "text": [
      "1it [00:00,  4.33it/s]\n"
     ]
    },
    {
     "name": "stdout",
     "output_type": "stream",
     "text": [
      "    recall: 0.500000 precision: 0.996951 mAP@0.5: 0.495425, mAP@0.5-0.95: 0.198170\n",
      "\n",
      "Epoch 288/1000\n",
      "----------\n",
      "Train: \n"
     ]
    },
    {
     "name": "stderr",
     "output_type": "stream",
     "text": [
      "3it [00:00,  3.71it/s]\n"
     ]
    },
    {
     "name": "stdout",
     "output_type": "stream",
     "text": [
      "    box loss-> 0.02831, object loss-> 0.03457, class loss-> 0.00000\n",
      "Validation:\n"
     ]
    },
    {
     "name": "stderr",
     "output_type": "stream",
     "text": [
      "1it [00:00,  4.31it/s]\n"
     ]
    },
    {
     "name": "stdout",
     "output_type": "stream",
     "text": [
      "    recall: 0.500000 precision: 0.985972 mAP@0.5: 0.495425, mAP@0.5-0.95: 0.148627\n",
      "\n",
      "Epoch 289/1000\n",
      "----------\n",
      "Train: \n"
     ]
    },
    {
     "name": "stderr",
     "output_type": "stream",
     "text": [
      "3it [00:00,  3.71it/s]\n"
     ]
    },
    {
     "name": "stdout",
     "output_type": "stream",
     "text": [
      "    box loss-> 0.02529, object loss-> 0.03368, class loss-> 0.00000\n",
      "Validation:\n"
     ]
    },
    {
     "name": "stderr",
     "output_type": "stream",
     "text": [
      "1it [00:00,  4.36it/s]\n"
     ]
    },
    {
     "name": "stdout",
     "output_type": "stream",
     "text": [
      "    recall: 0.500000 precision: 0.993901 mAP@0.5: 0.495425, mAP@0.5-0.95: 0.148627\n",
      "\n",
      "Epoch 290/1000\n",
      "----------\n",
      "Train: \n"
     ]
    },
    {
     "name": "stderr",
     "output_type": "stream",
     "text": [
      "3it [00:00,  3.75it/s]\n"
     ]
    },
    {
     "name": "stdout",
     "output_type": "stream",
     "text": [
      "    box loss-> 0.02412, object loss-> 0.03312, class loss-> 0.00000\n",
      "Validation:\n"
     ]
    },
    {
     "name": "stderr",
     "output_type": "stream",
     "text": [
      "1it [00:00,  4.36it/s]\n"
     ]
    },
    {
     "name": "stdout",
     "output_type": "stream",
     "text": [
      "    recall: 0.500000 precision: 0.991726 mAP@0.5: 0.495425, mAP@0.5-0.95: 0.148627\n",
      "\n",
      "Epoch 291/1000\n",
      "----------\n",
      "Train: \n"
     ]
    },
    {
     "name": "stderr",
     "output_type": "stream",
     "text": [
      "3it [00:00,  3.80it/s]\n"
     ]
    },
    {
     "name": "stdout",
     "output_type": "stream",
     "text": [
      "    box loss-> 0.02372, object loss-> 0.03337, class loss-> 0.00000\n",
      "Validation:\n"
     ]
    },
    {
     "name": "stderr",
     "output_type": "stream",
     "text": [
      "1it [00:00,  4.34it/s]\n"
     ]
    },
    {
     "name": "stdout",
     "output_type": "stream",
     "text": [
      "    recall: 0.500000 precision: 0.992289 mAP@0.5: 0.495425, mAP@0.5-0.95: 0.148627\n",
      "\n",
      "Epoch 292/1000\n",
      "----------\n",
      "Train: \n"
     ]
    },
    {
     "name": "stderr",
     "output_type": "stream",
     "text": [
      "3it [00:00,  3.83it/s]\n"
     ]
    },
    {
     "name": "stdout",
     "output_type": "stream",
     "text": [
      "    box loss-> 0.02446, object loss-> 0.03334, class loss-> 0.00000\n",
      "Validation:\n"
     ]
    },
    {
     "name": "stderr",
     "output_type": "stream",
     "text": [
      "1it [00:00,  4.44it/s]\n"
     ]
    },
    {
     "name": "stdout",
     "output_type": "stream",
     "text": [
      "    recall: 0.500000 precision: 0.993691 mAP@0.5: 0.495425, mAP@0.5-0.95: 0.148627\n",
      "\n",
      "Epoch 293/1000\n",
      "----------\n",
      "Train: \n"
     ]
    },
    {
     "name": "stderr",
     "output_type": "stream",
     "text": [
      "3it [00:00,  3.73it/s]\n"
     ]
    },
    {
     "name": "stdout",
     "output_type": "stream",
     "text": [
      "    box loss-> 0.02543, object loss-> 0.03295, class loss-> 0.00000\n",
      "Validation:\n"
     ]
    },
    {
     "name": "stderr",
     "output_type": "stream",
     "text": [
      "1it [00:00,  4.46it/s]\n"
     ]
    },
    {
     "name": "stdout",
     "output_type": "stream",
     "text": [
      "    recall: 0.500000 precision: 0.992942 mAP@0.5: 0.495425, mAP@0.5-0.95: 0.148627\n",
      "\n",
      "Epoch 294/1000\n",
      "----------\n",
      "Train: \n"
     ]
    },
    {
     "name": "stderr",
     "output_type": "stream",
     "text": [
      "3it [00:00,  3.79it/s]\n"
     ]
    },
    {
     "name": "stdout",
     "output_type": "stream",
     "text": [
      "    box loss-> 0.02502, object loss-> 0.03307, class loss-> 0.00000\n",
      "Validation:\n"
     ]
    },
    {
     "name": "stderr",
     "output_type": "stream",
     "text": [
      "1it [00:00,  4.42it/s]\n"
     ]
    },
    {
     "name": "stdout",
     "output_type": "stream",
     "text": [
      "    recall: 0.500000 precision: 0.996412 mAP@0.5: 0.495425, mAP@0.5-0.95: 0.148627\n",
      "\n",
      "Epoch 295/1000\n",
      "----------\n",
      "Train: \n"
     ]
    },
    {
     "name": "stderr",
     "output_type": "stream",
     "text": [
      "3it [00:00,  3.77it/s]\n"
     ]
    },
    {
     "name": "stdout",
     "output_type": "stream",
     "text": [
      "    box loss-> 0.02505, object loss-> 0.03281, class loss-> 0.00000\n",
      "Validation:\n"
     ]
    },
    {
     "name": "stderr",
     "output_type": "stream",
     "text": [
      "1it [00:00,  4.35it/s]\n"
     ]
    },
    {
     "name": "stdout",
     "output_type": "stream",
     "text": [
      "    recall: 0.500000 precision: 0.988000 mAP@0.5: 0.495425, mAP@0.5-0.95: 0.148627\n",
      "\n",
      "Epoch 296/1000\n",
      "----------\n",
      "Train: \n"
     ]
    },
    {
     "name": "stderr",
     "output_type": "stream",
     "text": [
      "3it [00:00,  3.76it/s]\n"
     ]
    },
    {
     "name": "stdout",
     "output_type": "stream",
     "text": [
      "    box loss-> 0.02493, object loss-> 0.03274, class loss-> 0.00000\n",
      "Validation:\n"
     ]
    },
    {
     "name": "stderr",
     "output_type": "stream",
     "text": [
      "1it [00:00,  4.15it/s]\n"
     ]
    },
    {
     "name": "stdout",
     "output_type": "stream",
     "text": [
      "    recall: 0.500000 precision: 0.989267 mAP@0.5: 0.495425, mAP@0.5-0.95: 0.148627\n",
      "\n",
      "Epoch 297/1000\n",
      "----------\n",
      "Train: \n"
     ]
    },
    {
     "name": "stderr",
     "output_type": "stream",
     "text": [
      "3it [00:00,  3.71it/s]\n"
     ]
    },
    {
     "name": "stdout",
     "output_type": "stream",
     "text": [
      "    box loss-> 0.02488, object loss-> 0.03319, class loss-> 0.00000\n",
      "Validation:\n"
     ]
    },
    {
     "name": "stderr",
     "output_type": "stream",
     "text": [
      "1it [00:00,  4.27it/s]\n"
     ]
    },
    {
     "name": "stdout",
     "output_type": "stream",
     "text": [
      "    recall: 0.500000 precision: 0.892973 mAP@0.5: 0.495425, mAP@0.5-0.95: 0.198170\n",
      "\n",
      "Epoch 298/1000\n",
      "----------\n",
      "Train: \n"
     ]
    },
    {
     "name": "stderr",
     "output_type": "stream",
     "text": [
      "3it [00:00,  3.82it/s]\n"
     ]
    },
    {
     "name": "stdout",
     "output_type": "stream",
     "text": [
      "    box loss-> 0.02472, object loss-> 0.03294, class loss-> 0.00000\n",
      "Validation:\n"
     ]
    },
    {
     "name": "stderr",
     "output_type": "stream",
     "text": [
      "1it [00:00,  4.49it/s]\n"
     ]
    },
    {
     "name": "stdout",
     "output_type": "stream",
     "text": [
      "    recall: 0.500000 precision: 0.994923 mAP@0.5: 0.495425, mAP@0.5-0.95: 0.148627\n",
      "\n",
      "Epoch 299/1000\n",
      "----------\n",
      "Train: \n"
     ]
    },
    {
     "name": "stderr",
     "output_type": "stream",
     "text": [
      "3it [00:00,  3.78it/s]\n"
     ]
    },
    {
     "name": "stdout",
     "output_type": "stream",
     "text": [
      "    box loss-> 0.02648, object loss-> 0.03340, class loss-> 0.00000\n",
      "Validation:\n"
     ]
    },
    {
     "name": "stderr",
     "output_type": "stream",
     "text": [
      "1it [00:00,  4.28it/s]\n"
     ]
    },
    {
     "name": "stdout",
     "output_type": "stream",
     "text": [
      "    recall: 0.500000 precision: 0.980355 mAP@0.5: 0.495425, mAP@0.5-0.95: 0.148627\n",
      "\n",
      "Epoch 300/1000\n",
      "----------\n",
      "Train: \n"
     ]
    },
    {
     "name": "stderr",
     "output_type": "stream",
     "text": [
      "3it [00:00,  3.78it/s]\n"
     ]
    },
    {
     "name": "stdout",
     "output_type": "stream",
     "text": [
      "    box loss-> 0.02583, object loss-> 0.03319, class loss-> 0.00000\n",
      "Validation:\n"
     ]
    },
    {
     "name": "stderr",
     "output_type": "stream",
     "text": [
      "1it [00:00,  4.23it/s]\n"
     ]
    },
    {
     "name": "stdout",
     "output_type": "stream",
     "text": [
      "    recall: 0.500000 precision: 0.981356 mAP@0.5: 0.495425, mAP@0.5-0.95: 0.148627\n",
      "\n",
      "Epoch 301/1000\n",
      "----------\n",
      "Train: \n"
     ]
    },
    {
     "name": "stderr",
     "output_type": "stream",
     "text": [
      "3it [00:00,  3.74it/s]\n"
     ]
    },
    {
     "name": "stdout",
     "output_type": "stream",
     "text": [
      "    box loss-> 0.02509, object loss-> 0.03319, class loss-> 0.00000\n",
      "Validation:\n"
     ]
    },
    {
     "name": "stderr",
     "output_type": "stream",
     "text": [
      "1it [00:00,  4.39it/s]\n"
     ]
    },
    {
     "name": "stdout",
     "output_type": "stream",
     "text": [
      "    recall: 0.500000 precision: 0.979448 mAP@0.5: 0.495425, mAP@0.5-0.95: 0.198170\n",
      "\n",
      "Epoch 302/1000\n",
      "----------\n",
      "Train: \n"
     ]
    },
    {
     "name": "stderr",
     "output_type": "stream",
     "text": [
      "3it [00:00,  3.78it/s]\n"
     ]
    },
    {
     "name": "stdout",
     "output_type": "stream",
     "text": [
      "    box loss-> 0.02636, object loss-> 0.03329, class loss-> 0.00000\n",
      "Validation:\n"
     ]
    },
    {
     "name": "stderr",
     "output_type": "stream",
     "text": [
      "1it [00:00,  4.66it/s]\n"
     ]
    },
    {
     "name": "stdout",
     "output_type": "stream",
     "text": [
      "    recall: 0.500000 precision: 0.495211 mAP@0.5: 0.247925, mAP@0.5-0.95: 0.148755\n",
      "\n",
      "Epoch 303/1000\n",
      "----------\n",
      "Train: \n"
     ]
    },
    {
     "name": "stderr",
     "output_type": "stream",
     "text": [
      "3it [00:00,  3.78it/s]\n"
     ]
    },
    {
     "name": "stdout",
     "output_type": "stream",
     "text": [
      "    box loss-> 0.02860, object loss-> 0.03372, class loss-> 0.00000\n",
      "Validation:\n"
     ]
    },
    {
     "name": "stderr",
     "output_type": "stream",
     "text": [
      "1it [00:00,  4.47it/s]\n"
     ]
    },
    {
     "name": "stdout",
     "output_type": "stream",
     "text": [
      "    recall: 0.500000 precision: 0.496334 mAP@0.5: 0.247925, mAP@0.5-0.95: 0.123963\n",
      "\n",
      "Epoch 304/1000\n",
      "----------\n",
      "Train: \n"
     ]
    },
    {
     "name": "stderr",
     "output_type": "stream",
     "text": [
      "3it [00:00,  3.78it/s]\n"
     ]
    },
    {
     "name": "stdout",
     "output_type": "stream",
     "text": [
      "    box loss-> 0.02793, object loss-> 0.03407, class loss-> 0.00000\n",
      "Validation:\n"
     ]
    },
    {
     "name": "stderr",
     "output_type": "stream",
     "text": [
      "1it [00:00,  4.56it/s]\n"
     ]
    },
    {
     "name": "stdout",
     "output_type": "stream",
     "text": [
      "    recall: 0.500000 precision: 0.491892 mAP@0.5: 0.247925, mAP@0.5-0.95: 0.123963\n",
      "\n",
      "Epoch 305/1000\n",
      "----------\n",
      "Train: \n"
     ]
    },
    {
     "name": "stderr",
     "output_type": "stream",
     "text": [
      "3it [00:00,  3.80it/s]\n"
     ]
    },
    {
     "name": "stdout",
     "output_type": "stream",
     "text": [
      "    box loss-> 0.02878, object loss-> 0.03429, class loss-> 0.00000\n",
      "Validation:\n"
     ]
    },
    {
     "name": "stderr",
     "output_type": "stream",
     "text": [
      "1it [00:00,  4.59it/s]\n"
     ]
    },
    {
     "name": "stdout",
     "output_type": "stream",
     "text": [
      "    recall: 0.500000 precision: 0.490325 mAP@0.5: 0.247925, mAP@0.5-0.95: 0.123963\n",
      "\n",
      "Epoch 306/1000\n",
      "----------\n",
      "Train: \n"
     ]
    },
    {
     "name": "stderr",
     "output_type": "stream",
     "text": [
      "3it [00:00,  3.80it/s]\n"
     ]
    },
    {
     "name": "stdout",
     "output_type": "stream",
     "text": [
      "    box loss-> 0.02796, object loss-> 0.03392, class loss-> 0.00000\n",
      "Validation:\n"
     ]
    },
    {
     "name": "stderr",
     "output_type": "stream",
     "text": [
      "1it [00:00,  4.62it/s]\n"
     ]
    },
    {
     "name": "stdout",
     "output_type": "stream",
     "text": [
      "    recall: 0.500000 precision: 0.498755 mAP@0.5: 0.247925, mAP@0.5-0.95: 0.123963\n",
      "\n",
      "Epoch 307/1000\n",
      "----------\n",
      "Train: \n"
     ]
    },
    {
     "name": "stderr",
     "output_type": "stream",
     "text": [
      "3it [00:00,  3.70it/s]\n"
     ]
    },
    {
     "name": "stdout",
     "output_type": "stream",
     "text": [
      "    box loss-> 0.02812, object loss-> 0.03423, class loss-> 0.00000\n",
      "Validation:\n"
     ]
    },
    {
     "name": "stderr",
     "output_type": "stream",
     "text": [
      "1it [00:00,  4.59it/s]\n"
     ]
    },
    {
     "name": "stdout",
     "output_type": "stream",
     "text": [
      "    recall: 0.500000 precision: 0.820891 mAP@0.5: 0.495425, mAP@0.5-0.95: 0.049543\n",
      "\n",
      "Epoch 308/1000\n",
      "----------\n",
      "Train: \n"
     ]
    },
    {
     "name": "stderr",
     "output_type": "stream",
     "text": [
      "3it [00:00,  3.79it/s]\n"
     ]
    },
    {
     "name": "stdout",
     "output_type": "stream",
     "text": [
      "    box loss-> 0.02487, object loss-> 0.03446, class loss-> 0.00000\n",
      "Validation:\n"
     ]
    },
    {
     "name": "stderr",
     "output_type": "stream",
     "text": [
      "1it [00:00,  4.59it/s]\n"
     ]
    },
    {
     "name": "stdout",
     "output_type": "stream",
     "text": [
      "    recall: 0.500000 precision: 0.931381 mAP@0.5: 0.495425, mAP@0.5-0.95: 0.049543\n",
      "\n",
      "Epoch 309/1000\n",
      "----------\n",
      "Train: \n"
     ]
    },
    {
     "name": "stderr",
     "output_type": "stream",
     "text": [
      "3it [00:00,  3.77it/s]\n"
     ]
    },
    {
     "name": "stdout",
     "output_type": "stream",
     "text": [
      "    box loss-> 0.02491, object loss-> 0.03458, class loss-> 0.00000\n",
      "Validation:\n"
     ]
    },
    {
     "name": "stderr",
     "output_type": "stream",
     "text": [
      "1it [00:00,  4.55it/s]\n"
     ]
    },
    {
     "name": "stdout",
     "output_type": "stream",
     "text": [
      "    recall: 0.500000 precision: 0.987012 mAP@0.5: 0.495425, mAP@0.5-0.95: 0.049543\n",
      "\n",
      "Epoch 310/1000\n",
      "----------\n",
      "Train: \n"
     ]
    },
    {
     "name": "stderr",
     "output_type": "stream",
     "text": [
      "3it [00:00,  3.78it/s]\n"
     ]
    },
    {
     "name": "stdout",
     "output_type": "stream",
     "text": [
      "    box loss-> 0.02533, object loss-> 0.03366, class loss-> 0.00000\n",
      "Validation:\n"
     ]
    },
    {
     "name": "stderr",
     "output_type": "stream",
     "text": [
      "1it [00:00,  4.43it/s]\n"
     ]
    },
    {
     "name": "stdout",
     "output_type": "stream",
     "text": [
      "    recall: 0.500000 precision: 0.967616 mAP@0.5: 0.495425, mAP@0.5-0.95: 0.049543\n",
      "\n",
      "Epoch 311/1000\n",
      "----------\n",
      "Train: \n"
     ]
    },
    {
     "name": "stderr",
     "output_type": "stream",
     "text": [
      "3it [00:00,  3.81it/s]\n"
     ]
    },
    {
     "name": "stdout",
     "output_type": "stream",
     "text": [
      "    box loss-> 0.02482, object loss-> 0.03463, class loss-> 0.00000\n",
      "Validation:\n"
     ]
    },
    {
     "name": "stderr",
     "output_type": "stream",
     "text": [
      "1it [00:00,  4.55it/s]\n"
     ]
    },
    {
     "name": "stdout",
     "output_type": "stream",
     "text": [
      "    recall: 0.500000 precision: 0.988265 mAP@0.5: 0.495425, mAP@0.5-0.95: 0.099085\n",
      "\n",
      "Epoch 312/1000\n",
      "----------\n",
      "Train: \n"
     ]
    },
    {
     "name": "stderr",
     "output_type": "stream",
     "text": [
      "3it [00:00,  3.73it/s]\n"
     ]
    },
    {
     "name": "stdout",
     "output_type": "stream",
     "text": [
      "    box loss-> 0.02515, object loss-> 0.03384, class loss-> 0.00000\n",
      "Validation:\n"
     ]
    },
    {
     "name": "stderr",
     "output_type": "stream",
     "text": [
      "1it [00:00,  4.59it/s]\n"
     ]
    },
    {
     "name": "stdout",
     "output_type": "stream",
     "text": [
      "    recall: 0.500000 precision: 0.961742 mAP@0.5: 0.495425, mAP@0.5-0.95: 0.148627\n",
      "\n",
      "Epoch 313/1000\n",
      "----------\n",
      "Train: \n"
     ]
    },
    {
     "name": "stderr",
     "output_type": "stream",
     "text": [
      "3it [00:00,  3.79it/s]\n"
     ]
    },
    {
     "name": "stdout",
     "output_type": "stream",
     "text": [
      "    box loss-> 0.02465, object loss-> 0.03330, class loss-> 0.00000\n",
      "Validation:\n"
     ]
    },
    {
     "name": "stderr",
     "output_type": "stream",
     "text": [
      "1it [00:00,  4.58it/s]\n"
     ]
    },
    {
     "name": "stdout",
     "output_type": "stream",
     "text": [
      "    recall: 0.500000 precision: 0.996627 mAP@0.5: 0.495425, mAP@0.5-0.95: 0.148627\n",
      "\n",
      "Epoch 314/1000\n",
      "----------\n",
      "Train: \n"
     ]
    },
    {
     "name": "stderr",
     "output_type": "stream",
     "text": [
      "3it [00:00,  3.79it/s]\n"
     ]
    },
    {
     "name": "stdout",
     "output_type": "stream",
     "text": [
      "    box loss-> 0.02397, object loss-> 0.03243, class loss-> 0.00000\n",
      "Validation:\n"
     ]
    },
    {
     "name": "stderr",
     "output_type": "stream",
     "text": [
      "1it [00:00,  4.42it/s]\n"
     ]
    },
    {
     "name": "stdout",
     "output_type": "stream",
     "text": [
      "    recall: 0.500000 precision: 0.999716 mAP@0.5: 0.495425, mAP@0.5-0.95: 0.148627\n",
      "\n",
      "Epoch 315/1000\n",
      "----------\n",
      "Train: \n"
     ]
    },
    {
     "name": "stderr",
     "output_type": "stream",
     "text": [
      "3it [00:00,  3.78it/s]\n"
     ]
    },
    {
     "name": "stdout",
     "output_type": "stream",
     "text": [
      "    box loss-> 0.02333, object loss-> 0.03300, class loss-> 0.00000\n",
      "Validation:\n"
     ]
    },
    {
     "name": "stderr",
     "output_type": "stream",
     "text": [
      "1it [00:00,  4.42it/s]\n"
     ]
    },
    {
     "name": "stdout",
     "output_type": "stream",
     "text": [
      "    recall: 0.500000 precision: 0.999478 mAP@0.5: 0.495425, mAP@0.5-0.95: 0.148627\n",
      "\n",
      "Epoch 316/1000\n",
      "----------\n",
      "Train: \n"
     ]
    },
    {
     "name": "stderr",
     "output_type": "stream",
     "text": [
      "3it [00:00,  3.77it/s]\n"
     ]
    },
    {
     "name": "stdout",
     "output_type": "stream",
     "text": [
      "    box loss-> 0.02323, object loss-> 0.03257, class loss-> 0.00000\n",
      "Validation:\n"
     ]
    },
    {
     "name": "stderr",
     "output_type": "stream",
     "text": [
      "1it [00:00,  4.38it/s]\n"
     ]
    },
    {
     "name": "stdout",
     "output_type": "stream",
     "text": [
      "    recall: 0.500000 precision: 0.997628 mAP@0.5: 0.495425, mAP@0.5-0.95: 0.148627\n",
      "\n",
      "Epoch 317/1000\n",
      "----------\n",
      "Train: \n"
     ]
    },
    {
     "name": "stderr",
     "output_type": "stream",
     "text": [
      "3it [00:00,  3.70it/s]\n"
     ]
    },
    {
     "name": "stdout",
     "output_type": "stream",
     "text": [
      "    box loss-> 0.02381, object loss-> 0.03248, class loss-> 0.00000\n",
      "Validation:\n"
     ]
    },
    {
     "name": "stderr",
     "output_type": "stream",
     "text": [
      "1it [00:00,  4.45it/s]\n"
     ]
    },
    {
     "name": "stdout",
     "output_type": "stream",
     "text": [
      "    recall: 0.491742 precision: 0.491742 mAP@0.5: 0.247925, mAP@0.5-0.95: 0.099170\n",
      "\n",
      "Epoch 318/1000\n",
      "----------\n",
      "Train: \n"
     ]
    },
    {
     "name": "stderr",
     "output_type": "stream",
     "text": [
      "3it [00:00,  3.73it/s]\n"
     ]
    },
    {
     "name": "stdout",
     "output_type": "stream",
     "text": [
      "    box loss-> 0.02925, object loss-> 0.03422, class loss-> 0.00000\n",
      "Validation:\n"
     ]
    },
    {
     "name": "stderr",
     "output_type": "stream",
     "text": [
      "1it [00:00,  4.48it/s]\n"
     ]
    },
    {
     "name": "stdout",
     "output_type": "stream",
     "text": [
      "    recall: 0.500000 precision: 0.487645 mAP@0.5: 0.247925, mAP@0.5-0.95: 0.099170\n",
      "\n",
      "Epoch 319/1000\n",
      "----------\n",
      "Train: \n"
     ]
    },
    {
     "name": "stderr",
     "output_type": "stream",
     "text": [
      "3it [00:00,  3.80it/s]\n"
     ]
    },
    {
     "name": "stdout",
     "output_type": "stream",
     "text": [
      "    box loss-> 0.03031, object loss-> 0.03431, class loss-> 0.00000\n",
      "Validation:\n"
     ]
    },
    {
     "name": "stderr",
     "output_type": "stream",
     "text": [
      "1it [00:00,  4.27it/s]\n"
     ]
    },
    {
     "name": "stdout",
     "output_type": "stream",
     "text": [
      "    recall: 0.500000 precision: 0.488721 mAP@0.5: 0.247925, mAP@0.5-0.95: 0.099170\n",
      "\n",
      "Epoch 320/1000\n",
      "----------\n",
      "Train: \n"
     ]
    },
    {
     "name": "stderr",
     "output_type": "stream",
     "text": [
      "3it [00:00,  3.79it/s]\n"
     ]
    },
    {
     "name": "stdout",
     "output_type": "stream",
     "text": [
      "    box loss-> 0.03044, object loss-> 0.03442, class loss-> 0.00000\n",
      "Validation:\n"
     ]
    },
    {
     "name": "stderr",
     "output_type": "stream",
     "text": [
      "1it [00:00,  4.58it/s]\n"
     ]
    },
    {
     "name": "stdout",
     "output_type": "stream",
     "text": [
      "    recall: 0.494888 precision: 0.494888 mAP@0.5: 0.247925, mAP@0.5-0.95: 0.099170\n",
      "\n",
      "Epoch 321/1000\n",
      "----------\n",
      "Train: \n"
     ]
    },
    {
     "name": "stderr",
     "output_type": "stream",
     "text": [
      "3it [00:00,  3.82it/s]\n"
     ]
    },
    {
     "name": "stdout",
     "output_type": "stream",
     "text": [
      "    box loss-> 0.02974, object loss-> 0.03419, class loss-> 0.00000\n",
      "Validation:\n"
     ]
    },
    {
     "name": "stderr",
     "output_type": "stream",
     "text": [
      "1it [00:00,  4.52it/s]\n"
     ]
    },
    {
     "name": "stdout",
     "output_type": "stream",
     "text": [
      "    recall: 0.495262 precision: 0.495262 mAP@0.5: 0.247925, mAP@0.5-0.95: 0.099170\n",
      "\n",
      "Epoch 322/1000\n",
      "----------\n",
      "Train: \n"
     ]
    },
    {
     "name": "stderr",
     "output_type": "stream",
     "text": [
      "3it [00:00,  3.82it/s]\n"
     ]
    },
    {
     "name": "stdout",
     "output_type": "stream",
     "text": [
      "    box loss-> 0.02908, object loss-> 0.03401, class loss-> 0.00000\n",
      "Validation:\n"
     ]
    },
    {
     "name": "stderr",
     "output_type": "stream",
     "text": [
      "1it [00:00,  4.37it/s]\n"
     ]
    },
    {
     "name": "stdout",
     "output_type": "stream",
     "text": [
      "    recall: 0.497903 precision: 0.497903 mAP@0.5: 0.247925, mAP@0.5-0.95: 0.099170\n",
      "\n",
      "Epoch 323/1000\n",
      "----------\n",
      "Train: \n"
     ]
    },
    {
     "name": "stderr",
     "output_type": "stream",
     "text": [
      "3it [00:00,  3.73it/s]\n"
     ]
    },
    {
     "name": "stdout",
     "output_type": "stream",
     "text": [
      "    box loss-> 0.02948, object loss-> 0.03413, class loss-> 0.00000\n",
      "Validation:\n"
     ]
    },
    {
     "name": "stderr",
     "output_type": "stream",
     "text": [
      "1it [00:00,  4.62it/s]\n"
     ]
    },
    {
     "name": "stdout",
     "output_type": "stream",
     "text": [
      "    recall: 0.496415 precision: 0.496415 mAP@0.5: 0.247925, mAP@0.5-0.95: 0.148755\n",
      "\n",
      "Epoch 324/1000\n",
      "----------\n",
      "Train: \n"
     ]
    },
    {
     "name": "stderr",
     "output_type": "stream",
     "text": [
      "3it [00:00,  3.79it/s]\n"
     ]
    },
    {
     "name": "stdout",
     "output_type": "stream",
     "text": [
      "    box loss-> 0.02837, object loss-> 0.03406, class loss-> 0.00000\n",
      "Validation:\n"
     ]
    },
    {
     "name": "stderr",
     "output_type": "stream",
     "text": [
      "1it [00:00,  4.30it/s]\n"
     ]
    },
    {
     "name": "stdout",
     "output_type": "stream",
     "text": [
      "    recall: 0.488695 precision: 0.488695 mAP@0.5: 0.247925, mAP@0.5-0.95: 0.123963\n",
      "\n",
      "Epoch 325/1000\n",
      "----------\n",
      "Train: \n"
     ]
    },
    {
     "name": "stderr",
     "output_type": "stream",
     "text": [
      "3it [00:00,  3.79it/s]\n"
     ]
    },
    {
     "name": "stdout",
     "output_type": "stream",
     "text": [
      "    box loss-> 0.02767, object loss-> 0.03342, class loss-> 0.00000\n",
      "Validation:\n"
     ]
    },
    {
     "name": "stderr",
     "output_type": "stream",
     "text": [
      "1it [00:00,  4.50it/s]\n"
     ]
    },
    {
     "name": "stdout",
     "output_type": "stream",
     "text": [
      "    recall: 0.500000 precision: 0.484208 mAP@0.5: 0.247925, mAP@0.5-0.95: 0.123963\n",
      "\n",
      "Epoch 326/1000\n",
      "----------\n",
      "Train: \n"
     ]
    },
    {
     "name": "stderr",
     "output_type": "stream",
     "text": [
      "3it [00:00,  3.80it/s]\n"
     ]
    },
    {
     "name": "stdout",
     "output_type": "stream",
     "text": [
      "    box loss-> 0.02847, object loss-> 0.03397, class loss-> 0.00000\n",
      "Validation:\n"
     ]
    },
    {
     "name": "stderr",
     "output_type": "stream",
     "text": [
      "1it [00:00,  4.50it/s]\n"
     ]
    },
    {
     "name": "stdout",
     "output_type": "stream",
     "text": [
      "    recall: 0.500000 precision: 0.497904 mAP@0.5: 0.247925, mAP@0.5-0.95: 0.123963\n",
      "\n",
      "Epoch 327/1000\n",
      "----------\n",
      "Train: \n"
     ]
    },
    {
     "name": "stderr",
     "output_type": "stream",
     "text": [
      "3it [00:00,  3.81it/s]\n"
     ]
    },
    {
     "name": "stdout",
     "output_type": "stream",
     "text": [
      "    box loss-> 0.02791, object loss-> 0.03400, class loss-> 0.00000\n",
      "Validation:\n"
     ]
    },
    {
     "name": "stderr",
     "output_type": "stream",
     "text": [
      "1it [00:00,  4.52it/s]\n"
     ]
    },
    {
     "name": "stdout",
     "output_type": "stream",
     "text": [
      "    recall: 0.500000 precision: 0.498304 mAP@0.5: 0.247925, mAP@0.5-0.95: 0.123963\n",
      "\n",
      "Epoch 328/1000\n",
      "----------\n",
      "Train: \n"
     ]
    },
    {
     "name": "stderr",
     "output_type": "stream",
     "text": [
      "3it [00:00,  3.77it/s]\n"
     ]
    },
    {
     "name": "stdout",
     "output_type": "stream",
     "text": [
      "    box loss-> 0.02613, object loss-> 0.03293, class loss-> 0.00000\n",
      "Validation:\n"
     ]
    },
    {
     "name": "stderr",
     "output_type": "stream",
     "text": [
      "1it [00:00,  4.62it/s]\n"
     ]
    },
    {
     "name": "stdout",
     "output_type": "stream",
     "text": [
      "    recall: 0.486921 precision: 0.486921 mAP@0.5: 0.247925, mAP@0.5-0.95: 0.074377\n",
      "\n",
      "Epoch 329/1000\n",
      "----------\n",
      "Train: \n"
     ]
    },
    {
     "name": "stderr",
     "output_type": "stream",
     "text": [
      "3it [00:00,  3.81it/s]\n"
     ]
    },
    {
     "name": "stdout",
     "output_type": "stream",
     "text": [
      "    box loss-> 0.02426, object loss-> 0.03323, class loss-> 0.00000\n",
      "Validation:\n"
     ]
    },
    {
     "name": "stderr",
     "output_type": "stream",
     "text": [
      "1it [00:00,  4.53it/s]\n"
     ]
    },
    {
     "name": "stdout",
     "output_type": "stream",
     "text": [
      "    recall: 0.500000 precision: 0.477065 mAP@0.5: 0.247925, mAP@0.5-0.95: 0.074377\n",
      "\n",
      "Epoch 330/1000\n",
      "----------\n",
      "Train: \n"
     ]
    },
    {
     "name": "stderr",
     "output_type": "stream",
     "text": [
      "3it [00:00,  3.80it/s]\n"
     ]
    },
    {
     "name": "stdout",
     "output_type": "stream",
     "text": [
      "    box loss-> 0.02345, object loss-> 0.03291, class loss-> 0.00000\n",
      "Validation:\n"
     ]
    },
    {
     "name": "stderr",
     "output_type": "stream",
     "text": [
      "1it [00:00,  4.64it/s]\n"
     ]
    },
    {
     "name": "stdout",
     "output_type": "stream",
     "text": [
      "    recall: 0.500000 precision: 0.464962 mAP@0.5: 0.247925, mAP@0.5-0.95: 0.074377\n",
      "\n",
      "Epoch 331/1000\n",
      "----------\n",
      "Train: \n"
     ]
    },
    {
     "name": "stderr",
     "output_type": "stream",
     "text": [
      "3it [00:00,  3.77it/s]\n"
     ]
    },
    {
     "name": "stdout",
     "output_type": "stream",
     "text": [
      "    box loss-> 0.02309, object loss-> 0.03267, class loss-> 0.00000\n",
      "Validation:\n"
     ]
    },
    {
     "name": "stderr",
     "output_type": "stream",
     "text": [
      "1it [00:00,  4.60it/s]\n"
     ]
    },
    {
     "name": "stdout",
     "output_type": "stream",
     "text": [
      "    recall: 0.500000 precision: 0.497190 mAP@0.5: 0.247925, mAP@0.5-0.95: 0.074377\n",
      "\n",
      "Epoch 332/1000\n",
      "----------\n",
      "Train: \n"
     ]
    },
    {
     "name": "stderr",
     "output_type": "stream",
     "text": [
      "3it [00:00,  3.81it/s]\n"
     ]
    },
    {
     "name": "stdout",
     "output_type": "stream",
     "text": [
      "    box loss-> 0.02235, object loss-> 0.03296, class loss-> 0.00000\n",
      "Validation:\n"
     ]
    },
    {
     "name": "stderr",
     "output_type": "stream",
     "text": [
      "1it [00:00,  4.59it/s]\n"
     ]
    },
    {
     "name": "stdout",
     "output_type": "stream",
     "text": [
      "    recall: 0.500000 precision: 0.459600 mAP@0.5: 0.247925, mAP@0.5-0.95: 0.074377\n",
      "\n",
      "Epoch 333/1000\n",
      "----------\n",
      "Train: \n"
     ]
    },
    {
     "name": "stderr",
     "output_type": "stream",
     "text": [
      "3it [00:00,  3.76it/s]\n"
     ]
    },
    {
     "name": "stdout",
     "output_type": "stream",
     "text": [
      "    box loss-> 0.02378, object loss-> 0.03367, class loss-> 0.00000\n",
      "Validation:\n"
     ]
    },
    {
     "name": "stderr",
     "output_type": "stream",
     "text": [
      "1it [00:00,  4.51it/s]\n"
     ]
    },
    {
     "name": "stdout",
     "output_type": "stream",
     "text": [
      "    recall: 0.500000 precision: 0.997678 mAP@0.5: 0.495425, mAP@0.5-0.95: 0.148627\n",
      "\n",
      "Epoch 334/1000\n",
      "----------\n",
      "Train: \n"
     ]
    },
    {
     "name": "stderr",
     "output_type": "stream",
     "text": [
      "3it [00:00,  3.81it/s]\n"
     ]
    },
    {
     "name": "stdout",
     "output_type": "stream",
     "text": [
      "    box loss-> 0.02370, object loss-> 0.03170, class loss-> 0.00000\n",
      "Validation:\n"
     ]
    },
    {
     "name": "stderr",
     "output_type": "stream",
     "text": [
      "1it [00:00,  4.59it/s]\n"
     ]
    },
    {
     "name": "stdout",
     "output_type": "stream",
     "text": [
      "    recall: 0.500000 precision: 0.992314 mAP@0.5: 0.495425, mAP@0.5-0.95: 0.099085\n",
      "\n",
      "Epoch 335/1000\n",
      "----------\n",
      "Train: \n"
     ]
    },
    {
     "name": "stderr",
     "output_type": "stream",
     "text": [
      "3it [00:00,  3.84it/s]\n"
     ]
    },
    {
     "name": "stdout",
     "output_type": "stream",
     "text": [
      "    box loss-> 0.02410, object loss-> 0.03181, class loss-> 0.00000\n",
      "Validation:\n"
     ]
    },
    {
     "name": "stderr",
     "output_type": "stream",
     "text": [
      "1it [00:00,  4.59it/s]\n"
     ]
    },
    {
     "name": "stdout",
     "output_type": "stream",
     "text": [
      "    recall: 0.500000 precision: 0.989123 mAP@0.5: 0.495425, mAP@0.5-0.95: 0.099085\n",
      "\n",
      "Epoch 336/1000\n",
      "----------\n",
      "Train: \n"
     ]
    },
    {
     "name": "stderr",
     "output_type": "stream",
     "text": [
      "3it [00:00,  3.79it/s]\n"
     ]
    },
    {
     "name": "stdout",
     "output_type": "stream",
     "text": [
      "    box loss-> 0.02425, object loss-> 0.03234, class loss-> 0.00000\n",
      "Validation:\n"
     ]
    },
    {
     "name": "stderr",
     "output_type": "stream",
     "text": [
      "1it [00:00,  4.59it/s]\n"
     ]
    },
    {
     "name": "stdout",
     "output_type": "stream",
     "text": [
      "    recall: 0.500000 precision: 0.940405 mAP@0.5: 0.495425, mAP@0.5-0.95: 0.099085\n",
      "\n",
      "Epoch 337/1000\n",
      "----------\n",
      "Train: \n"
     ]
    },
    {
     "name": "stderr",
     "output_type": "stream",
     "text": [
      "3it [00:00,  3.83it/s]\n"
     ]
    },
    {
     "name": "stdout",
     "output_type": "stream",
     "text": [
      "    box loss-> 0.02389, object loss-> 0.03189, class loss-> 0.00000\n",
      "Validation:\n"
     ]
    },
    {
     "name": "stderr",
     "output_type": "stream",
     "text": [
      "1it [00:00,  4.60it/s]\n"
     ]
    },
    {
     "name": "stdout",
     "output_type": "stream",
     "text": [
      "    recall: 0.500000 precision: 0.939442 mAP@0.5: 0.495425, mAP@0.5-0.95: 0.148627\n",
      "\n",
      "Epoch 338/1000\n",
      "----------\n",
      "Train: \n"
     ]
    },
    {
     "name": "stderr",
     "output_type": "stream",
     "text": [
      "3it [00:00,  3.77it/s]\n"
     ]
    },
    {
     "name": "stdout",
     "output_type": "stream",
     "text": [
      "    box loss-> 0.02302, object loss-> 0.03140, class loss-> 0.00000\n",
      "Validation:\n"
     ]
    },
    {
     "name": "stderr",
     "output_type": "stream",
     "text": [
      "1it [00:00,  4.60it/s]\n"
     ]
    },
    {
     "name": "stdout",
     "output_type": "stream",
     "text": [
      "    recall: 0.500000 precision: 0.984861 mAP@0.5: 0.495425, mAP@0.5-0.95: 0.148627\n",
      "\n",
      "Epoch 339/1000\n",
      "----------\n",
      "Train: \n"
     ]
    },
    {
     "name": "stderr",
     "output_type": "stream",
     "text": [
      "3it [00:00,  3.76it/s]\n"
     ]
    },
    {
     "name": "stdout",
     "output_type": "stream",
     "text": [
      "    box loss-> 0.02373, object loss-> 0.03218, class loss-> 0.00000\n",
      "Validation:\n"
     ]
    },
    {
     "name": "stderr",
     "output_type": "stream",
     "text": [
      "1it [00:00,  4.60it/s]\n"
     ]
    },
    {
     "name": "stdout",
     "output_type": "stream",
     "text": [
      "    recall: 0.500000 precision: 0.980480 mAP@0.5: 0.495425, mAP@0.5-0.95: 0.148627\n",
      "\n",
      "Epoch 340/1000\n",
      "----------\n",
      "Train: \n"
     ]
    },
    {
     "name": "stderr",
     "output_type": "stream",
     "text": [
      "3it [00:00,  3.82it/s]\n"
     ]
    },
    {
     "name": "stdout",
     "output_type": "stream",
     "text": [
      "    box loss-> 0.02236, object loss-> 0.03103, class loss-> 0.00000\n",
      "Validation:\n"
     ]
    },
    {
     "name": "stderr",
     "output_type": "stream",
     "text": [
      "1it [00:00,  4.60it/s]\n"
     ]
    },
    {
     "name": "stdout",
     "output_type": "stream",
     "text": [
      "    recall: 0.500000 precision: 0.972990 mAP@0.5: 0.495425, mAP@0.5-0.95: 0.148627\n",
      "\n",
      "Epoch 341/1000\n",
      "----------\n",
      "Train: \n"
     ]
    },
    {
     "name": "stderr",
     "output_type": "stream",
     "text": [
      "3it [00:00,  3.84it/s]\n"
     ]
    },
    {
     "name": "stdout",
     "output_type": "stream",
     "text": [
      "    box loss-> 0.02262, object loss-> 0.03103, class loss-> 0.00000\n",
      "Validation:\n"
     ]
    },
    {
     "name": "stderr",
     "output_type": "stream",
     "text": [
      "1it [00:00,  4.65it/s]\n"
     ]
    },
    {
     "name": "stdout",
     "output_type": "stream",
     "text": [
      "    recall: 0.500000 precision: 0.971317 mAP@0.5: 0.495425, mAP@0.5-0.95: 0.148627\n",
      "\n",
      "Epoch 342/1000\n",
      "----------\n",
      "Train: \n"
     ]
    },
    {
     "name": "stderr",
     "output_type": "stream",
     "text": [
      "3it [00:00,  3.81it/s]\n"
     ]
    },
    {
     "name": "stdout",
     "output_type": "stream",
     "text": [
      "    box loss-> 0.02317, object loss-> 0.03149, class loss-> 0.00000\n",
      "Validation:\n"
     ]
    },
    {
     "name": "stderr",
     "output_type": "stream",
     "text": [
      "1it [00:00,  4.51it/s]\n"
     ]
    },
    {
     "name": "stdout",
     "output_type": "stream",
     "text": [
      "    recall: 0.500000 precision: 0.931644 mAP@0.5: 0.495425, mAP@0.5-0.95: 0.148627\n",
      "\n",
      "Epoch 343/1000\n",
      "----------\n",
      "Train: \n"
     ]
    },
    {
     "name": "stderr",
     "output_type": "stream",
     "text": [
      "3it [00:00,  3.80it/s]\n"
     ]
    },
    {
     "name": "stdout",
     "output_type": "stream",
     "text": [
      "    box loss-> 0.02220, object loss-> 0.03076, class loss-> 0.00000\n",
      "Validation:\n"
     ]
    },
    {
     "name": "stderr",
     "output_type": "stream",
     "text": [
      "1it [00:00,  4.59it/s]\n"
     ]
    },
    {
     "name": "stdout",
     "output_type": "stream",
     "text": [
      "    recall: 0.500000 precision: 0.957559 mAP@0.5: 0.495425, mAP@0.5-0.95: 0.148627\n",
      "\n",
      "Epoch 344/1000\n",
      "----------\n",
      "Train: \n"
     ]
    },
    {
     "name": "stderr",
     "output_type": "stream",
     "text": [
      "3it [00:00,  3.71it/s]\n"
     ]
    },
    {
     "name": "stdout",
     "output_type": "stream",
     "text": [
      "    box loss-> 0.02118, object loss-> 0.03036, class loss-> 0.00000\n",
      "Validation:\n"
     ]
    },
    {
     "name": "stderr",
     "output_type": "stream",
     "text": [
      "1it [00:00,  4.33it/s]\n"
     ]
    },
    {
     "name": "stdout",
     "output_type": "stream",
     "text": [
      "    recall: 0.500000 precision: 0.931623 mAP@0.5: 0.495425, mAP@0.5-0.95: 0.148627\n",
      "\n",
      "Epoch 345/1000\n",
      "----------\n",
      "Train: \n"
     ]
    },
    {
     "name": "stderr",
     "output_type": "stream",
     "text": [
      "3it [00:00,  3.73it/s]\n"
     ]
    },
    {
     "name": "stdout",
     "output_type": "stream",
     "text": [
      "    box loss-> 0.02016, object loss-> 0.03086, class loss-> 0.00000\n",
      "Validation:\n"
     ]
    },
    {
     "name": "stderr",
     "output_type": "stream",
     "text": [
      "1it [00:00,  4.48it/s]\n"
     ]
    },
    {
     "name": "stdout",
     "output_type": "stream",
     "text": [
      "    recall: 0.500000 precision: 0.974684 mAP@0.5: 0.495425, mAP@0.5-0.95: 0.346797\n",
      "\n",
      "Epoch 346/1000\n",
      "----------\n",
      "Train: \n"
     ]
    },
    {
     "name": "stderr",
     "output_type": "stream",
     "text": [
      "3it [00:00,  3.80it/s]\n"
     ]
    },
    {
     "name": "stdout",
     "output_type": "stream",
     "text": [
      "    box loss-> 0.02005, object loss-> 0.02979, class loss-> 0.00000\n",
      "Validation:\n"
     ]
    },
    {
     "name": "stderr",
     "output_type": "stream",
     "text": [
      "1it [00:00,  4.55it/s]\n"
     ]
    },
    {
     "name": "stdout",
     "output_type": "stream",
     "text": [
      "    recall: 0.500000 precision: 0.955761 mAP@0.5: 0.495425, mAP@0.5-0.95: 0.346797\n",
      "\n",
      "Epoch 347/1000\n",
      "----------\n",
      "Train: \n"
     ]
    },
    {
     "name": "stderr",
     "output_type": "stream",
     "text": [
      "3it [00:00,  3.79it/s]\n"
     ]
    },
    {
     "name": "stdout",
     "output_type": "stream",
     "text": [
      "    box loss-> 0.01957, object loss-> 0.02965, class loss-> 0.00000\n",
      "Validation:\n"
     ]
    },
    {
     "name": "stderr",
     "output_type": "stream",
     "text": [
      "1it [00:00,  4.50it/s]\n"
     ]
    },
    {
     "name": "stdout",
     "output_type": "stream",
     "text": [
      "    recall: 0.500000 precision: 0.958919 mAP@0.5: 0.495425, mAP@0.5-0.95: 0.346797\n",
      "\n",
      "Epoch 348/1000\n",
      "----------\n",
      "Train: \n"
     ]
    },
    {
     "name": "stderr",
     "output_type": "stream",
     "text": [
      "3it [00:00,  3.74it/s]\n"
     ]
    },
    {
     "name": "stdout",
     "output_type": "stream",
     "text": [
      "    box loss-> 0.02092, object loss-> 0.03056, class loss-> 0.00000\n",
      "Validation:\n"
     ]
    },
    {
     "name": "stderr",
     "output_type": "stream",
     "text": [
      "1it [00:00,  4.54it/s]\n"
     ]
    },
    {
     "name": "stdout",
     "output_type": "stream",
     "text": [
      "    recall: 0.500000 precision: 0.999159 mAP@0.5: 0.495425, mAP@0.5-0.95: 0.346797\n",
      "\n",
      "Epoch 349/1000\n",
      "----------\n",
      "Train: \n"
     ]
    },
    {
     "name": "stderr",
     "output_type": "stream",
     "text": [
      "3it [00:00,  3.74it/s]\n"
     ]
    },
    {
     "name": "stdout",
     "output_type": "stream",
     "text": [
      "    box loss-> 0.02037, object loss-> 0.02956, class loss-> 0.00000\n",
      "Validation:\n"
     ]
    },
    {
     "name": "stderr",
     "output_type": "stream",
     "text": [
      "1it [00:00,  4.53it/s]\n"
     ]
    },
    {
     "name": "stdout",
     "output_type": "stream",
     "text": [
      "    recall: 0.500000 precision: 0.997927 mAP@0.5: 0.495425, mAP@0.5-0.95: 0.247713\n",
      "\n",
      "Epoch 350/1000\n",
      "----------\n",
      "Train: \n"
     ]
    },
    {
     "name": "stderr",
     "output_type": "stream",
     "text": [
      "3it [00:00,  3.77it/s]\n"
     ]
    },
    {
     "name": "stdout",
     "output_type": "stream",
     "text": [
      "    box loss-> 0.02707, object loss-> 0.03471, class loss-> 0.00000\n",
      "Validation:\n"
     ]
    },
    {
     "name": "stderr",
     "output_type": "stream",
     "text": [
      "1it [00:00,  4.47it/s]\n"
     ]
    },
    {
     "name": "stdout",
     "output_type": "stream",
     "text": [
      "    recall: 0.500000 precision: 0.988999 mAP@0.5: 0.495425, mAP@0.5-0.95: 0.247713\n",
      "\n",
      "Epoch 351/1000\n",
      "----------\n",
      "Train: \n"
     ]
    },
    {
     "name": "stderr",
     "output_type": "stream",
     "text": [
      "3it [00:00,  3.81it/s]\n"
     ]
    },
    {
     "name": "stdout",
     "output_type": "stream",
     "text": [
      "    box loss-> 0.02595, object loss-> 0.03430, class loss-> 0.00000\n",
      "Validation:\n"
     ]
    },
    {
     "name": "stderr",
     "output_type": "stream",
     "text": [
      "1it [00:00,  4.41it/s]\n"
     ]
    },
    {
     "name": "stdout",
     "output_type": "stream",
     "text": [
      "    recall: 0.500000 precision: 0.994480 mAP@0.5: 0.495425, mAP@0.5-0.95: 0.247713\n",
      "\n",
      "Epoch 352/1000\n",
      "----------\n",
      "Train: \n"
     ]
    },
    {
     "name": "stderr",
     "output_type": "stream",
     "text": [
      "3it [00:00,  3.79it/s]\n"
     ]
    },
    {
     "name": "stdout",
     "output_type": "stream",
     "text": [
      "    box loss-> 0.02597, object loss-> 0.03374, class loss-> 0.00000\n",
      "Validation:\n"
     ]
    },
    {
     "name": "stderr",
     "output_type": "stream",
     "text": [
      "1it [00:00,  4.53it/s]\n"
     ]
    },
    {
     "name": "stdout",
     "output_type": "stream",
     "text": [
      "    recall: 0.500000 precision: 0.990535 mAP@0.5: 0.495425, mAP@0.5-0.95: 0.247713\n",
      "\n",
      "Epoch 353/1000\n",
      "----------\n",
      "Train: \n"
     ]
    },
    {
     "name": "stderr",
     "output_type": "stream",
     "text": [
      "3it [00:00,  3.79it/s]\n"
     ]
    },
    {
     "name": "stdout",
     "output_type": "stream",
     "text": [
      "    box loss-> 0.02704, object loss-> 0.03435, class loss-> 0.00000\n",
      "Validation:\n"
     ]
    },
    {
     "name": "stderr",
     "output_type": "stream",
     "text": [
      "1it [00:00,  4.53it/s]\n"
     ]
    },
    {
     "name": "stdout",
     "output_type": "stream",
     "text": [
      "    recall: 0.500000 precision: 0.993087 mAP@0.5: 0.495425, mAP@0.5-0.95: 0.247713\n",
      "\n",
      "Epoch 354/1000\n",
      "----------\n",
      "Train: \n"
     ]
    },
    {
     "name": "stderr",
     "output_type": "stream",
     "text": [
      "3it [00:00,  3.78it/s]\n"
     ]
    },
    {
     "name": "stdout",
     "output_type": "stream",
     "text": [
      "    box loss-> 0.02658, object loss-> 0.03377, class loss-> 0.00000\n",
      "Validation:\n"
     ]
    },
    {
     "name": "stderr",
     "output_type": "stream",
     "text": [
      "1it [00:00,  4.54it/s]\n"
     ]
    },
    {
     "name": "stdout",
     "output_type": "stream",
     "text": [
      "    recall: 0.500000 precision: 0.993512 mAP@0.5: 0.495425, mAP@0.5-0.95: 0.247713\n",
      "\n",
      "Epoch 355/1000\n",
      "----------\n",
      "Train: \n"
     ]
    },
    {
     "name": "stderr",
     "output_type": "stream",
     "text": [
      "3it [00:00,  3.76it/s]\n"
     ]
    },
    {
     "name": "stdout",
     "output_type": "stream",
     "text": [
      "    box loss-> 0.02477, object loss-> 0.03269, class loss-> 0.00000\n",
      "Validation:\n"
     ]
    },
    {
     "name": "stderr",
     "output_type": "stream",
     "text": [
      "1it [00:00,  4.58it/s]\n"
     ]
    },
    {
     "name": "stdout",
     "output_type": "stream",
     "text": [
      "    recall: 0.500000 precision: 0.992312 mAP@0.5: 0.495425, mAP@0.5-0.95: 0.346797\n",
      "\n",
      "Epoch 356/1000\n",
      "----------\n",
      "Train: \n"
     ]
    },
    {
     "name": "stderr",
     "output_type": "stream",
     "text": [
      "3it [00:00,  3.80it/s]\n"
     ]
    },
    {
     "name": "stdout",
     "output_type": "stream",
     "text": [
      "    box loss-> 0.02310, object loss-> 0.03116, class loss-> 0.00000\n",
      "Validation:\n"
     ]
    },
    {
     "name": "stderr",
     "output_type": "stream",
     "text": [
      "1it [00:00,  4.47it/s]\n"
     ]
    },
    {
     "name": "stdout",
     "output_type": "stream",
     "text": [
      "    recall: 0.500000 precision: 0.993786 mAP@0.5: 0.495425, mAP@0.5-0.95: 0.346797\n",
      "\n",
      "Epoch 357/1000\n",
      "----------\n",
      "Train: \n"
     ]
    },
    {
     "name": "stderr",
     "output_type": "stream",
     "text": [
      "3it [00:00,  3.81it/s]\n"
     ]
    },
    {
     "name": "stdout",
     "output_type": "stream",
     "text": [
      "    box loss-> 0.02333, object loss-> 0.03153, class loss-> 0.00000\n",
      "Validation:\n"
     ]
    },
    {
     "name": "stderr",
     "output_type": "stream",
     "text": [
      "1it [00:00,  4.51it/s]\n"
     ]
    },
    {
     "name": "stdout",
     "output_type": "stream",
     "text": [
      "    recall: 0.500000 precision: 0.987561 mAP@0.5: 0.495425, mAP@0.5-0.95: 0.346797\n",
      "\n",
      "Epoch 358/1000\n",
      "----------\n",
      "Train: \n"
     ]
    },
    {
     "name": "stderr",
     "output_type": "stream",
     "text": [
      "3it [00:00,  3.78it/s]\n"
     ]
    },
    {
     "name": "stdout",
     "output_type": "stream",
     "text": [
      "    box loss-> 0.02331, object loss-> 0.03166, class loss-> 0.00000\n",
      "Validation:\n"
     ]
    },
    {
     "name": "stderr",
     "output_type": "stream",
     "text": [
      "1it [00:00,  4.47it/s]\n"
     ]
    },
    {
     "name": "stdout",
     "output_type": "stream",
     "text": [
      "    recall: 0.500000 precision: 0.997553 mAP@0.5: 0.495425, mAP@0.5-0.95: 0.346797\n",
      "\n",
      "Epoch 359/1000\n",
      "----------\n",
      "Train: \n"
     ]
    },
    {
     "name": "stderr",
     "output_type": "stream",
     "text": [
      "3it [00:00,  3.78it/s]\n"
     ]
    },
    {
     "name": "stdout",
     "output_type": "stream",
     "text": [
      "    box loss-> 0.02298, object loss-> 0.03148, class loss-> 0.00000\n",
      "Validation:\n"
     ]
    },
    {
     "name": "stderr",
     "output_type": "stream",
     "text": [
      "1it [00:00,  4.44it/s]\n"
     ]
    },
    {
     "name": "stdout",
     "output_type": "stream",
     "text": [
      "    recall: 0.500000 precision: 0.991205 mAP@0.5: 0.495425, mAP@0.5-0.95: 0.346797\n",
      "\n",
      "Epoch 360/1000\n",
      "----------\n",
      "Train: \n"
     ]
    },
    {
     "name": "stderr",
     "output_type": "stream",
     "text": [
      "3it [00:00,  3.73it/s]\n"
     ]
    },
    {
     "name": "stdout",
     "output_type": "stream",
     "text": [
      "    box loss-> 0.02349, object loss-> 0.03186, class loss-> 0.00000\n",
      "Validation:\n"
     ]
    },
    {
     "name": "stderr",
     "output_type": "stream",
     "text": [
      "1it [00:00,  4.44it/s]\n"
     ]
    },
    {
     "name": "stdout",
     "output_type": "stream",
     "text": [
      "    recall: 0.500000 precision: 0.990280 mAP@0.5: 0.495425, mAP@0.5-0.95: 0.247713\n",
      "\n",
      "Epoch 361/1000\n",
      "----------\n",
      "Train: \n"
     ]
    },
    {
     "name": "stderr",
     "output_type": "stream",
     "text": [
      "3it [00:00,  3.81it/s]\n"
     ]
    },
    {
     "name": "stdout",
     "output_type": "stream",
     "text": [
      "    box loss-> 0.02360, object loss-> 0.03159, class loss-> 0.00000\n",
      "Validation:\n"
     ]
    },
    {
     "name": "stderr",
     "output_type": "stream",
     "text": [
      "1it [00:00,  4.47it/s]\n"
     ]
    },
    {
     "name": "stdout",
     "output_type": "stream",
     "text": [
      "    recall: 0.500000 precision: 0.988932 mAP@0.5: 0.495425, mAP@0.5-0.95: 0.247713\n",
      "\n",
      "Epoch 362/1000\n",
      "----------\n",
      "Train: \n"
     ]
    },
    {
     "name": "stderr",
     "output_type": "stream",
     "text": [
      "3it [00:00,  3.80it/s]\n"
     ]
    },
    {
     "name": "stdout",
     "output_type": "stream",
     "text": [
      "    box loss-> 0.02437, object loss-> 0.03165, class loss-> 0.00000\n",
      "Validation:\n"
     ]
    },
    {
     "name": "stderr",
     "output_type": "stream",
     "text": [
      "1it [00:00,  4.53it/s]\n"
     ]
    },
    {
     "name": "stdout",
     "output_type": "stream",
     "text": [
      "    recall: 0.500000 precision: 0.995567 mAP@0.5: 0.495425, mAP@0.5-0.95: 0.247713\n",
      "\n",
      "Epoch 363/1000\n",
      "----------\n",
      "Train: \n"
     ]
    },
    {
     "name": "stderr",
     "output_type": "stream",
     "text": [
      "3it [00:00,  3.82it/s]\n"
     ]
    },
    {
     "name": "stdout",
     "output_type": "stream",
     "text": [
      "    box loss-> 0.02477, object loss-> 0.03182, class loss-> 0.00000\n",
      "Validation:\n"
     ]
    },
    {
     "name": "stderr",
     "output_type": "stream",
     "text": [
      "1it [00:00,  4.60it/s]\n"
     ]
    },
    {
     "name": "stdout",
     "output_type": "stream",
     "text": [
      "    recall: 0.500000 precision: 0.996774 mAP@0.5: 0.495425, mAP@0.5-0.95: 0.247713\n",
      "\n",
      "Epoch 364/1000\n",
      "----------\n",
      "Train: \n"
     ]
    },
    {
     "name": "stderr",
     "output_type": "stream",
     "text": [
      "3it [00:00,  3.79it/s]\n"
     ]
    },
    {
     "name": "stdout",
     "output_type": "stream",
     "text": [
      "    box loss-> 0.02504, object loss-> 0.03207, class loss-> 0.00000\n",
      "Validation:\n"
     ]
    },
    {
     "name": "stderr",
     "output_type": "stream",
     "text": [
      "1it [00:00,  4.61it/s]\n"
     ]
    },
    {
     "name": "stdout",
     "output_type": "stream",
     "text": [
      "    recall: 0.500000 precision: 0.997191 mAP@0.5: 0.495425, mAP@0.5-0.95: 0.247713\n",
      "\n",
      "Epoch 365/1000\n",
      "----------\n",
      "Train: \n"
     ]
    },
    {
     "name": "stderr",
     "output_type": "stream",
     "text": [
      "3it [00:00,  3.74it/s]\n"
     ]
    },
    {
     "name": "stdout",
     "output_type": "stream",
     "text": [
      "    box loss-> 0.02364, object loss-> 0.03161, class loss-> 0.00000\n",
      "Validation:\n"
     ]
    },
    {
     "name": "stderr",
     "output_type": "stream",
     "text": [
      "1it [00:00,  4.50it/s]\n"
     ]
    },
    {
     "name": "stdout",
     "output_type": "stream",
     "text": [
      "    recall: 0.500000 precision: 0.928003 mAP@0.5: 0.495425, mAP@0.5-0.95: 0.297255\n",
      "\n",
      "Epoch 366/1000\n",
      "----------\n",
      "Train: \n"
     ]
    },
    {
     "name": "stderr",
     "output_type": "stream",
     "text": [
      "3it [00:00,  3.84it/s]\n"
     ]
    },
    {
     "name": "stdout",
     "output_type": "stream",
     "text": [
      "    box loss-> 0.02473, object loss-> 0.03193, class loss-> 0.00000\n",
      "Validation:\n"
     ]
    },
    {
     "name": "stderr",
     "output_type": "stream",
     "text": [
      "1it [00:00,  4.62it/s]\n"
     ]
    },
    {
     "name": "stdout",
     "output_type": "stream",
     "text": [
      "    recall: 0.500000 precision: 0.947818 mAP@0.5: 0.495425, mAP@0.5-0.95: 0.297255\n",
      "\n",
      "Epoch 367/1000\n",
      "----------\n",
      "Train: \n"
     ]
    },
    {
     "name": "stderr",
     "output_type": "stream",
     "text": [
      "3it [00:00,  3.80it/s]\n"
     ]
    },
    {
     "name": "stdout",
     "output_type": "stream",
     "text": [
      "    box loss-> 0.02459, object loss-> 0.03198, class loss-> 0.00000\n",
      "Validation:\n"
     ]
    },
    {
     "name": "stderr",
     "output_type": "stream",
     "text": [
      "1it [00:00,  4.66it/s]\n"
     ]
    },
    {
     "name": "stdout",
     "output_type": "stream",
     "text": [
      "    recall: 0.500000 precision: 0.963556 mAP@0.5: 0.495425, mAP@0.5-0.95: 0.297255\n",
      "\n",
      "Epoch 368/1000\n",
      "----------\n",
      "Train: \n"
     ]
    },
    {
     "name": "stderr",
     "output_type": "stream",
     "text": [
      "3it [00:00,  3.78it/s]\n"
     ]
    },
    {
     "name": "stdout",
     "output_type": "stream",
     "text": [
      "    box loss-> 0.02476, object loss-> 0.03196, class loss-> 0.00000\n",
      "Validation:\n"
     ]
    },
    {
     "name": "stderr",
     "output_type": "stream",
     "text": [
      "1it [00:00,  4.64it/s]\n"
     ]
    },
    {
     "name": "stdout",
     "output_type": "stream",
     "text": [
      "    recall: 0.500000 precision: 0.978020 mAP@0.5: 0.495425, mAP@0.5-0.95: 0.297255\n",
      "\n",
      "Epoch 369/1000\n",
      "----------\n",
      "Train: \n"
     ]
    },
    {
     "name": "stderr",
     "output_type": "stream",
     "text": [
      "3it [00:00,  3.79it/s]\n"
     ]
    },
    {
     "name": "stdout",
     "output_type": "stream",
     "text": [
      "    box loss-> 0.02536, object loss-> 0.03243, class loss-> 0.00000\n",
      "Validation:\n"
     ]
    },
    {
     "name": "stderr",
     "output_type": "stream",
     "text": [
      "1it [00:00,  4.66it/s]\n"
     ]
    },
    {
     "name": "stdout",
     "output_type": "stream",
     "text": [
      "    recall: 0.500000 precision: 0.978979 mAP@0.5: 0.495425, mAP@0.5-0.95: 0.297255\n",
      "\n",
      "Epoch 370/1000\n",
      "----------\n",
      "Train: \n"
     ]
    },
    {
     "name": "stderr",
     "output_type": "stream",
     "text": [
      "3it [00:00,  3.80it/s]\n"
     ]
    },
    {
     "name": "stdout",
     "output_type": "stream",
     "text": [
      "    box loss-> 0.02469, object loss-> 0.03210, class loss-> 0.00000\n",
      "Validation:\n"
     ]
    },
    {
     "name": "stderr",
     "output_type": "stream",
     "text": [
      "1it [00:00,  4.63it/s]\n"
     ]
    },
    {
     "name": "stdout",
     "output_type": "stream",
     "text": [
      "    recall: 0.500000 precision: 0.980371 mAP@0.5: 0.495425, mAP@0.5-0.95: 0.297255\n",
      "\n",
      "Epoch 371/1000\n",
      "----------\n",
      "Train: \n"
     ]
    },
    {
     "name": "stderr",
     "output_type": "stream",
     "text": [
      "3it [00:00,  3.74it/s]\n"
     ]
    },
    {
     "name": "stdout",
     "output_type": "stream",
     "text": [
      "    box loss-> 0.02317, object loss-> 0.03191, class loss-> 0.00000\n",
      "Validation:\n"
     ]
    },
    {
     "name": "stderr",
     "output_type": "stream",
     "text": [
      "1it [00:00,  4.58it/s]\n"
     ]
    },
    {
     "name": "stdout",
     "output_type": "stream",
     "text": [
      "    recall: 0.500000 precision: 0.909833 mAP@0.5: 0.495425, mAP@0.5-0.95: 0.198170\n",
      "\n",
      "Epoch 372/1000\n",
      "----------\n",
      "Train: \n"
     ]
    },
    {
     "name": "stderr",
     "output_type": "stream",
     "text": [
      "3it [00:00,  3.78it/s]\n"
     ]
    },
    {
     "name": "stdout",
     "output_type": "stream",
     "text": [
      "    box loss-> 0.02310, object loss-> 0.03176, class loss-> 0.00000\n",
      "Validation:\n"
     ]
    },
    {
     "name": "stderr",
     "output_type": "stream",
     "text": [
      "1it [00:00,  4.58it/s]\n"
     ]
    },
    {
     "name": "stdout",
     "output_type": "stream",
     "text": [
      "    recall: 0.500000 precision: 0.490784 mAP@0.5: 0.495425, mAP@0.5-0.95: 0.198170\n",
      "\n",
      "Epoch 373/1000\n",
      "----------\n",
      "Train: \n"
     ]
    },
    {
     "name": "stderr",
     "output_type": "stream",
     "text": [
      "3it [00:00,  3.76it/s]\n"
     ]
    },
    {
     "name": "stdout",
     "output_type": "stream",
     "text": [
      "    box loss-> 0.02345, object loss-> 0.03162, class loss-> 0.00000\n",
      "Validation:\n"
     ]
    },
    {
     "name": "stderr",
     "output_type": "stream",
     "text": [
      "1it [00:00,  4.63it/s]\n"
     ]
    },
    {
     "name": "stdout",
     "output_type": "stream",
     "text": [
      "    recall: 0.500000 precision: 0.497516 mAP@0.5: 0.495425, mAP@0.5-0.95: 0.346797\n",
      "\n",
      "Epoch 374/1000\n",
      "----------\n",
      "Train: \n"
     ]
    },
    {
     "name": "stderr",
     "output_type": "stream",
     "text": [
      "3it [00:00,  3.77it/s]\n"
     ]
    },
    {
     "name": "stdout",
     "output_type": "stream",
     "text": [
      "    box loss-> 0.02401, object loss-> 0.03174, class loss-> 0.00000\n",
      "Validation:\n"
     ]
    },
    {
     "name": "stderr",
     "output_type": "stream",
     "text": [
      "1it [00:00,  4.63it/s]\n"
     ]
    },
    {
     "name": "stdout",
     "output_type": "stream",
     "text": [
      "    recall: 0.500000 precision: 0.914588 mAP@0.5: 0.495425, mAP@0.5-0.95: 0.346797\n",
      "\n",
      "Epoch 375/1000\n",
      "----------\n",
      "Train: \n"
     ]
    },
    {
     "name": "stderr",
     "output_type": "stream",
     "text": [
      "3it [00:00,  3.74it/s]\n"
     ]
    },
    {
     "name": "stdout",
     "output_type": "stream",
     "text": [
      "    box loss-> 0.02277, object loss-> 0.03133, class loss-> 0.00000\n",
      "Validation:\n"
     ]
    },
    {
     "name": "stderr",
     "output_type": "stream",
     "text": [
      "1it [00:00,  4.59it/s]\n"
     ]
    },
    {
     "name": "stdout",
     "output_type": "stream",
     "text": [
      "    recall: 0.500000 precision: 0.912931 mAP@0.5: 0.495425, mAP@0.5-0.95: 0.346797\n",
      "\n",
      "Epoch 376/1000\n",
      "----------\n",
      "Train: \n"
     ]
    },
    {
     "name": "stderr",
     "output_type": "stream",
     "text": [
      "3it [00:00,  3.71it/s]\n"
     ]
    },
    {
     "name": "stdout",
     "output_type": "stream",
     "text": [
      "    box loss-> 0.02222, object loss-> 0.03149, class loss-> 0.00000\n",
      "Validation:\n"
     ]
    },
    {
     "name": "stderr",
     "output_type": "stream",
     "text": [
      "1it [00:00,  4.50it/s]\n"
     ]
    },
    {
     "name": "stdout",
     "output_type": "stream",
     "text": [
      "    recall: 0.500000 precision: 0.979361 mAP@0.5: 0.495425, mAP@0.5-0.95: 0.247713\n",
      "\n",
      "Epoch 377/1000\n",
      "----------\n",
      "Train: \n"
     ]
    },
    {
     "name": "stderr",
     "output_type": "stream",
     "text": [
      "3it [00:00,  3.73it/s]\n"
     ]
    },
    {
     "name": "stdout",
     "output_type": "stream",
     "text": [
      "    box loss-> 0.02068, object loss-> 0.03110, class loss-> 0.00000\n",
      "Validation:\n"
     ]
    },
    {
     "name": "stderr",
     "output_type": "stream",
     "text": [
      "1it [00:00,  4.60it/s]\n"
     ]
    },
    {
     "name": "stdout",
     "output_type": "stream",
     "text": [
      "    recall: 0.500000 precision: 0.924907 mAP@0.5: 0.495425, mAP@0.5-0.95: 0.247713\n",
      "\n",
      "Epoch 378/1000\n",
      "----------\n",
      "Train: \n"
     ]
    },
    {
     "name": "stderr",
     "output_type": "stream",
     "text": [
      "3it [00:00,  3.81it/s]\n"
     ]
    },
    {
     "name": "stdout",
     "output_type": "stream",
     "text": [
      "    box loss-> 0.02005, object loss-> 0.03075, class loss-> 0.00000\n",
      "Validation:\n"
     ]
    },
    {
     "name": "stderr",
     "output_type": "stream",
     "text": [
      "1it [00:00,  4.69it/s]\n"
     ]
    },
    {
     "name": "stdout",
     "output_type": "stream",
     "text": [
      "    recall: 0.500000 precision: 0.982735 mAP@0.5: 0.495425, mAP@0.5-0.95: 0.247713\n",
      "\n",
      "Epoch 379/1000\n",
      "----------\n",
      "Train: \n"
     ]
    },
    {
     "name": "stderr",
     "output_type": "stream",
     "text": [
      "3it [00:00,  3.80it/s]\n"
     ]
    },
    {
     "name": "stdout",
     "output_type": "stream",
     "text": [
      "    box loss-> 0.01960, object loss-> 0.03058, class loss-> 0.00000\n",
      "Validation:\n"
     ]
    },
    {
     "name": "stderr",
     "output_type": "stream",
     "text": [
      "1it [00:00,  4.58it/s]\n"
     ]
    },
    {
     "name": "stdout",
     "output_type": "stream",
     "text": [
      "    recall: 0.500000 precision: 0.943033 mAP@0.5: 0.495425, mAP@0.5-0.95: 0.247713\n",
      "\n",
      "Epoch 380/1000\n",
      "----------\n",
      "Train: \n"
     ]
    },
    {
     "name": "stderr",
     "output_type": "stream",
     "text": [
      "3it [00:00,  3.82it/s]\n"
     ]
    },
    {
     "name": "stdout",
     "output_type": "stream",
     "text": [
      "    box loss-> 0.01952, object loss-> 0.02983, class loss-> 0.00000\n",
      "Validation:\n"
     ]
    },
    {
     "name": "stderr",
     "output_type": "stream",
     "text": [
      "1it [00:00,  4.65it/s]\n"
     ]
    },
    {
     "name": "stdout",
     "output_type": "stream",
     "text": [
      "    recall: 0.500000 precision: 0.933902 mAP@0.5: 0.495425, mAP@0.5-0.95: 0.247713\n",
      "\n",
      "Epoch 381/1000\n",
      "----------\n",
      "Train: \n"
     ]
    },
    {
     "name": "stderr",
     "output_type": "stream",
     "text": [
      "3it [00:00,  3.73it/s]\n"
     ]
    },
    {
     "name": "stdout",
     "output_type": "stream",
     "text": [
      "    box loss-> 0.02040, object loss-> 0.03064, class loss-> 0.00000\n",
      "Validation:\n"
     ]
    },
    {
     "name": "stderr",
     "output_type": "stream",
     "text": [
      "1it [00:00,  4.75it/s]\n"
     ]
    },
    {
     "name": "stdout",
     "output_type": "stream",
     "text": [
      "    recall: 0.500000 precision: 0.672297 mAP@0.5: 0.495425, mAP@0.5-0.95: 0.099085\n",
      "\n",
      "Epoch 382/1000\n",
      "----------\n",
      "Train: \n"
     ]
    },
    {
     "name": "stderr",
     "output_type": "stream",
     "text": [
      "3it [00:00,  3.79it/s]\n"
     ]
    },
    {
     "name": "stdout",
     "output_type": "stream",
     "text": [
      "    box loss-> 0.02613, object loss-> 0.03404, class loss-> 0.00000\n",
      "Validation:\n"
     ]
    },
    {
     "name": "stderr",
     "output_type": "stream",
     "text": [
      "1it [00:00,  4.65it/s]\n"
     ]
    },
    {
     "name": "stdout",
     "output_type": "stream",
     "text": [
      "    recall: 0.500000 precision: 0.722954 mAP@0.5: 0.495425, mAP@0.5-0.95: 0.247713\n",
      "\n",
      "Epoch 383/1000\n",
      "----------\n",
      "Train: \n"
     ]
    },
    {
     "name": "stderr",
     "output_type": "stream",
     "text": [
      "3it [00:00,  3.85it/s]\n"
     ]
    },
    {
     "name": "stdout",
     "output_type": "stream",
     "text": [
      "    box loss-> 0.02582, object loss-> 0.03306, class loss-> 0.00000\n",
      "Validation:\n"
     ]
    },
    {
     "name": "stderr",
     "output_type": "stream",
     "text": [
      "1it [00:00,  4.63it/s]\n"
     ]
    },
    {
     "name": "stdout",
     "output_type": "stream",
     "text": [
      "    recall: 0.500000 precision: 0.689188 mAP@0.5: 0.495425, mAP@0.5-0.95: 0.247713\n",
      "\n",
      "Epoch 384/1000\n",
      "----------\n",
      "Train: \n"
     ]
    },
    {
     "name": "stderr",
     "output_type": "stream",
     "text": [
      "3it [00:00,  3.79it/s]\n"
     ]
    },
    {
     "name": "stdout",
     "output_type": "stream",
     "text": [
      "    box loss-> 0.02579, object loss-> 0.03393, class loss-> 0.00000\n",
      "Validation:\n"
     ]
    },
    {
     "name": "stderr",
     "output_type": "stream",
     "text": [
      "1it [00:00,  4.68it/s]\n"
     ]
    },
    {
     "name": "stdout",
     "output_type": "stream",
     "text": [
      "    recall: 0.500000 precision: 0.866537 mAP@0.5: 0.495425, mAP@0.5-0.95: 0.247713\n",
      "\n",
      "Epoch 385/1000\n",
      "----------\n",
      "Train: \n"
     ]
    },
    {
     "name": "stderr",
     "output_type": "stream",
     "text": [
      "3it [00:00,  3.78it/s]\n"
     ]
    },
    {
     "name": "stdout",
     "output_type": "stream",
     "text": [
      "    box loss-> 0.02550, object loss-> 0.03303, class loss-> 0.00000\n",
      "Validation:\n"
     ]
    },
    {
     "name": "stderr",
     "output_type": "stream",
     "text": [
      "1it [00:00,  4.66it/s]\n"
     ]
    },
    {
     "name": "stdout",
     "output_type": "stream",
     "text": [
      "    recall: 0.500000 precision: 0.499393 mAP@0.5: 0.495425, mAP@0.5-0.95: 0.297255\n",
      "\n",
      "Epoch 386/1000\n",
      "----------\n",
      "Train: \n"
     ]
    },
    {
     "name": "stderr",
     "output_type": "stream",
     "text": [
      "3it [00:00,  3.75it/s]\n"
     ]
    },
    {
     "name": "stdout",
     "output_type": "stream",
     "text": [
      "    box loss-> 0.02635, object loss-> 0.03371, class loss-> 0.00000\n",
      "Validation:\n"
     ]
    },
    {
     "name": "stderr",
     "output_type": "stream",
     "text": [
      "1it [00:00,  4.60it/s]\n"
     ]
    },
    {
     "name": "stdout",
     "output_type": "stream",
     "text": [
      "    recall: 0.500000 precision: 0.499580 mAP@0.5: 0.495425, mAP@0.5-0.95: 0.297255\n",
      "\n",
      "Epoch 387/1000\n",
      "----------\n",
      "Train: \n"
     ]
    },
    {
     "name": "stderr",
     "output_type": "stream",
     "text": [
      "3it [00:00,  3.74it/s]\n"
     ]
    },
    {
     "name": "stdout",
     "output_type": "stream",
     "text": [
      "    box loss-> 0.02373, object loss-> 0.03183, class loss-> 0.00000\n",
      "Validation:\n"
     ]
    },
    {
     "name": "stderr",
     "output_type": "stream",
     "text": [
      "1it [00:00,  4.69it/s]\n"
     ]
    },
    {
     "name": "stdout",
     "output_type": "stream",
     "text": [
      "    recall: 0.500000 precision: 0.986833 mAP@0.5: 0.495425, mAP@0.5-0.95: 0.198170\n",
      "\n",
      "Epoch 388/1000\n",
      "----------\n",
      "Train: \n"
     ]
    },
    {
     "name": "stderr",
     "output_type": "stream",
     "text": [
      "3it [00:00,  3.79it/s]\n"
     ]
    },
    {
     "name": "stdout",
     "output_type": "stream",
     "text": [
      "    box loss-> 0.02230, object loss-> 0.03091, class loss-> 0.00000\n",
      "Validation:\n"
     ]
    },
    {
     "name": "stderr",
     "output_type": "stream",
     "text": [
      "1it [00:00,  4.68it/s]\n"
     ]
    },
    {
     "name": "stdout",
     "output_type": "stream",
     "text": [
      "    recall: 0.500000 precision: 0.998346 mAP@0.5: 0.495425, mAP@0.5-0.95: 0.198170\n",
      "\n",
      "Epoch 389/1000\n",
      "----------\n",
      "Train: \n"
     ]
    },
    {
     "name": "stderr",
     "output_type": "stream",
     "text": [
      "3it [00:00,  3.77it/s]\n"
     ]
    },
    {
     "name": "stdout",
     "output_type": "stream",
     "text": [
      "    box loss-> 0.02253, object loss-> 0.03045, class loss-> 0.00000\n",
      "Validation:\n"
     ]
    },
    {
     "name": "stderr",
     "output_type": "stream",
     "text": [
      "1it [00:00,  4.73it/s]\n"
     ]
    },
    {
     "name": "stdout",
     "output_type": "stream",
     "text": [
      "    recall: 0.500000 precision: 0.983548 mAP@0.5: 0.495425, mAP@0.5-0.95: 0.198170\n",
      "\n",
      "Epoch 390/1000\n",
      "----------\n",
      "Train: \n"
     ]
    },
    {
     "name": "stderr",
     "output_type": "stream",
     "text": [
      "3it [00:00,  3.78it/s]\n"
     ]
    },
    {
     "name": "stdout",
     "output_type": "stream",
     "text": [
      "    box loss-> 0.02139, object loss-> 0.03006, class loss-> 0.00000\n",
      "Validation:\n"
     ]
    },
    {
     "name": "stderr",
     "output_type": "stream",
     "text": [
      "1it [00:00,  4.63it/s]\n"
     ]
    },
    {
     "name": "stdout",
     "output_type": "stream",
     "text": [
      "    recall: 0.500000 precision: 0.985011 mAP@0.5: 0.495425, mAP@0.5-0.95: 0.198170\n",
      "\n",
      "Epoch 391/1000\n",
      "----------\n",
      "Train: \n"
     ]
    },
    {
     "name": "stderr",
     "output_type": "stream",
     "text": [
      "3it [00:00,  3.81it/s]\n"
     ]
    },
    {
     "name": "stdout",
     "output_type": "stream",
     "text": [
      "    box loss-> 0.02249, object loss-> 0.03054, class loss-> 0.00000\n",
      "Validation:\n"
     ]
    },
    {
     "name": "stderr",
     "output_type": "stream",
     "text": [
      "1it [00:00,  4.68it/s]\n"
     ]
    },
    {
     "name": "stdout",
     "output_type": "stream",
     "text": [
      "    recall: 0.500000 precision: 0.983456 mAP@0.5: 0.495425, mAP@0.5-0.95: 0.198170\n",
      "\n",
      "Epoch 392/1000\n",
      "----------\n",
      "Train: \n"
     ]
    },
    {
     "name": "stderr",
     "output_type": "stream",
     "text": [
      "3it [00:00,  3.70it/s]\n"
     ]
    },
    {
     "name": "stdout",
     "output_type": "stream",
     "text": [
      "    box loss-> 0.02395, object loss-> 0.03135, class loss-> 0.00000\n",
      "Validation:\n"
     ]
    },
    {
     "name": "stderr",
     "output_type": "stream",
     "text": [
      "1it [00:00,  4.65it/s]\n"
     ]
    },
    {
     "name": "stdout",
     "output_type": "stream",
     "text": [
      "    recall: 0.500000 precision: 0.981623 mAP@0.5: 0.495425, mAP@0.5-0.95: 0.099085\n",
      "\n",
      "Epoch 393/1000\n",
      "----------\n",
      "Train: \n"
     ]
    },
    {
     "name": "stderr",
     "output_type": "stream",
     "text": [
      "3it [00:00,  3.80it/s]\n"
     ]
    },
    {
     "name": "stdout",
     "output_type": "stream",
     "text": [
      "    box loss-> 0.02412, object loss-> 0.03191, class loss-> 0.00000\n",
      "Validation:\n"
     ]
    },
    {
     "name": "stderr",
     "output_type": "stream",
     "text": [
      "1it [00:00,  4.68it/s]\n"
     ]
    },
    {
     "name": "stdout",
     "output_type": "stream",
     "text": [
      "    recall: 0.500000 precision: 0.970866 mAP@0.5: 0.495425, mAP@0.5-0.95: 0.099085\n",
      "\n",
      "Epoch 394/1000\n",
      "----------\n",
      "Train: \n"
     ]
    },
    {
     "name": "stderr",
     "output_type": "stream",
     "text": [
      "3it [00:00,  3.80it/s]\n"
     ]
    },
    {
     "name": "stdout",
     "output_type": "stream",
     "text": [
      "    box loss-> 0.02443, object loss-> 0.03209, class loss-> 0.00000\n",
      "Validation:\n"
     ]
    },
    {
     "name": "stderr",
     "output_type": "stream",
     "text": [
      "1it [00:00,  4.70it/s]\n"
     ]
    },
    {
     "name": "stdout",
     "output_type": "stream",
     "text": [
      "    recall: 0.500000 precision: 0.969048 mAP@0.5: 0.495425, mAP@0.5-0.95: 0.099085\n",
      "\n",
      "Epoch 395/1000\n",
      "----------\n",
      "Train: \n"
     ]
    },
    {
     "name": "stderr",
     "output_type": "stream",
     "text": [
      "3it [00:00,  3.82it/s]\n"
     ]
    },
    {
     "name": "stdout",
     "output_type": "stream",
     "text": [
      "    box loss-> 0.02376, object loss-> 0.03141, class loss-> 0.00000\n",
      "Validation:\n"
     ]
    },
    {
     "name": "stderr",
     "output_type": "stream",
     "text": [
      "1it [00:00,  4.68it/s]\n"
     ]
    },
    {
     "name": "stdout",
     "output_type": "stream",
     "text": [
      "    recall: 0.500000 precision: 0.982170 mAP@0.5: 0.495425, mAP@0.5-0.95: 0.148627\n",
      "\n",
      "Epoch 396/1000\n",
      "----------\n",
      "Train: \n"
     ]
    },
    {
     "name": "stderr",
     "output_type": "stream",
     "text": [
      "3it [00:00,  3.82it/s]\n"
     ]
    },
    {
     "name": "stdout",
     "output_type": "stream",
     "text": [
      "    box loss-> 0.02573, object loss-> 0.03233, class loss-> 0.00000\n",
      "Validation:\n"
     ]
    },
    {
     "name": "stderr",
     "output_type": "stream",
     "text": [
      "1it [00:00,  4.54it/s]\n"
     ]
    },
    {
     "name": "stdout",
     "output_type": "stream",
     "text": [
      "    recall: 0.500000 precision: 0.985460 mAP@0.5: 0.495425, mAP@0.5-0.95: 0.148627\n",
      "\n",
      "Epoch 397/1000\n",
      "----------\n",
      "Train: \n"
     ]
    },
    {
     "name": "stderr",
     "output_type": "stream",
     "text": [
      "3it [00:00,  3.73it/s]\n"
     ]
    },
    {
     "name": "stdout",
     "output_type": "stream",
     "text": [
      "    box loss-> 0.02519, object loss-> 0.03227, class loss-> 0.00000\n",
      "Validation:\n"
     ]
    },
    {
     "name": "stderr",
     "output_type": "stream",
     "text": [
      "1it [00:00,  4.73it/s]\n"
     ]
    },
    {
     "name": "stdout",
     "output_type": "stream",
     "text": [
      "    recall: 0.500000 precision: 0.991477 mAP@0.5: 0.495425, mAP@0.5-0.95: 0.148627\n",
      "\n",
      "Epoch 398/1000\n",
      "----------\n",
      "Train: \n"
     ]
    },
    {
     "name": "stderr",
     "output_type": "stream",
     "text": [
      "3it [00:00,  3.82it/s]\n"
     ]
    },
    {
     "name": "stdout",
     "output_type": "stream",
     "text": [
      "    box loss-> 0.02107, object loss-> 0.03059, class loss-> 0.00000\n",
      "Validation:\n"
     ]
    },
    {
     "name": "stderr",
     "output_type": "stream",
     "text": [
      "1it [00:00,  4.74it/s]\n"
     ]
    },
    {
     "name": "stdout",
     "output_type": "stream",
     "text": [
      "    recall: 0.500000 precision: 0.966631 mAP@0.5: 0.495425, mAP@0.5-0.95: 0.148627\n",
      "\n",
      "Epoch 399/1000\n",
      "----------\n",
      "Train: \n"
     ]
    },
    {
     "name": "stderr",
     "output_type": "stream",
     "text": [
      "3it [00:00,  3.79it/s]\n"
     ]
    },
    {
     "name": "stdout",
     "output_type": "stream",
     "text": [
      "    box loss-> 0.02056, object loss-> 0.03066, class loss-> 0.00000\n",
      "Validation:\n"
     ]
    },
    {
     "name": "stderr",
     "output_type": "stream",
     "text": [
      "1it [00:00,  4.73it/s]\n"
     ]
    },
    {
     "name": "stdout",
     "output_type": "stream",
     "text": [
      "    recall: 0.500000 precision: 0.968340 mAP@0.5: 0.495425, mAP@0.5-0.95: 0.148627\n",
      "\n",
      "Epoch 400/1000\n",
      "----------\n",
      "Train: \n"
     ]
    },
    {
     "name": "stderr",
     "output_type": "stream",
     "text": [
      "3it [00:00,  3.77it/s]\n"
     ]
    },
    {
     "name": "stdout",
     "output_type": "stream",
     "text": [
      "    box loss-> 0.02124, object loss-> 0.03113, class loss-> 0.00000\n",
      "Validation:\n"
     ]
    },
    {
     "name": "stderr",
     "output_type": "stream",
     "text": [
      "1it [00:00,  4.72it/s]\n"
     ]
    },
    {
     "name": "stdout",
     "output_type": "stream",
     "text": [
      "    recall: 0.500000 precision: 0.999227 mAP@0.5: 0.495425, mAP@0.5-0.95: 0.148627\n",
      "\n",
      "Epoch 401/1000\n",
      "----------\n",
      "Train: \n"
     ]
    },
    {
     "name": "stderr",
     "output_type": "stream",
     "text": [
      "3it [00:00,  3.80it/s]\n"
     ]
    },
    {
     "name": "stdout",
     "output_type": "stream",
     "text": [
      "    box loss-> 0.02134, object loss-> 0.03127, class loss-> 0.00000\n",
      "Validation:\n"
     ]
    },
    {
     "name": "stderr",
     "output_type": "stream",
     "text": [
      "1it [00:00,  4.71it/s]\n"
     ]
    },
    {
     "name": "stdout",
     "output_type": "stream",
     "text": [
      "    recall: 0.500000 precision: 0.983718 mAP@0.5: 0.495425, mAP@0.5-0.95: 0.148627\n",
      "\n",
      "Epoch 402/1000\n",
      "----------\n",
      "Train: \n"
     ]
    },
    {
     "name": "stderr",
     "output_type": "stream",
     "text": [
      "3it [00:00,  3.80it/s]\n"
     ]
    },
    {
     "name": "stdout",
     "output_type": "stream",
     "text": [
      "    box loss-> 0.02124, object loss-> 0.03112, class loss-> 0.00000\n",
      "Validation:\n"
     ]
    },
    {
     "name": "stderr",
     "output_type": "stream",
     "text": [
      "1it [00:00,  4.62it/s]\n"
     ]
    },
    {
     "name": "stdout",
     "output_type": "stream",
     "text": [
      "    recall: 0.500000 precision: 0.980441 mAP@0.5: 0.495425, mAP@0.5-0.95: 0.148627\n",
      "\n",
      "Epoch 403/1000\n",
      "----------\n",
      "Train: \n"
     ]
    },
    {
     "name": "stderr",
     "output_type": "stream",
     "text": [
      "3it [00:00,  3.74it/s]\n"
     ]
    },
    {
     "name": "stdout",
     "output_type": "stream",
     "text": [
      "    box loss-> 0.02084, object loss-> 0.03056, class loss-> 0.00000\n",
      "Validation:\n"
     ]
    },
    {
     "name": "stderr",
     "output_type": "stream",
     "text": [
      "1it [00:00,  4.69it/s]\n"
     ]
    },
    {
     "name": "stdout",
     "output_type": "stream",
     "text": [
      "    recall: 0.500000 precision: 0.994459 mAP@0.5: 0.495425, mAP@0.5-0.95: 0.148627\n",
      "\n",
      "Epoch 404/1000\n",
      "----------\n",
      "Train: \n"
     ]
    },
    {
     "name": "stderr",
     "output_type": "stream",
     "text": [
      "3it [00:00,  3.78it/s]\n"
     ]
    },
    {
     "name": "stdout",
     "output_type": "stream",
     "text": [
      "    box loss-> 0.01994, object loss-> 0.03029, class loss-> 0.00000\n",
      "Validation:\n"
     ]
    },
    {
     "name": "stderr",
     "output_type": "stream",
     "text": [
      "1it [00:00,  4.65it/s]\n"
     ]
    },
    {
     "name": "stdout",
     "output_type": "stream",
     "text": [
      "    recall: 0.500000 precision: 0.985898 mAP@0.5: 0.495425, mAP@0.5-0.95: 0.148627\n",
      "\n",
      "Epoch 405/1000\n",
      "----------\n",
      "Train: \n"
     ]
    },
    {
     "name": "stderr",
     "output_type": "stream",
     "text": [
      "3it [00:00,  3.78it/s]\n"
     ]
    },
    {
     "name": "stdout",
     "output_type": "stream",
     "text": [
      "    box loss-> 0.02017, object loss-> 0.03096, class loss-> 0.00000\n",
      "Validation:\n"
     ]
    },
    {
     "name": "stderr",
     "output_type": "stream",
     "text": [
      "1it [00:00,  4.74it/s]\n"
     ]
    },
    {
     "name": "stdout",
     "output_type": "stream",
     "text": [
      "    recall: 0.500000 precision: 0.979810 mAP@0.5: 0.495425, mAP@0.5-0.95: 0.148627\n",
      "\n",
      "Epoch 406/1000\n",
      "----------\n",
      "Train: \n"
     ]
    },
    {
     "name": "stderr",
     "output_type": "stream",
     "text": [
      "3it [00:00,  3.75it/s]\n"
     ]
    },
    {
     "name": "stdout",
     "output_type": "stream",
     "text": [
      "    box loss-> 0.02014, object loss-> 0.03034, class loss-> 0.00000\n",
      "Validation:\n"
     ]
    },
    {
     "name": "stderr",
     "output_type": "stream",
     "text": [
      "1it [00:00,  4.52it/s]\n"
     ]
    },
    {
     "name": "stdout",
     "output_type": "stream",
     "text": [
      "    recall: 0.500000 precision: 0.970675 mAP@0.5: 0.495425, mAP@0.5-0.95: 0.148627\n",
      "\n",
      "Epoch 407/1000\n",
      "----------\n",
      "Train: \n"
     ]
    },
    {
     "name": "stderr",
     "output_type": "stream",
     "text": [
      "3it [00:00,  3.74it/s]\n"
     ]
    },
    {
     "name": "stdout",
     "output_type": "stream",
     "text": [
      "    box loss-> 0.02025, object loss-> 0.03045, class loss-> 0.00000\n",
      "Validation:\n"
     ]
    },
    {
     "name": "stderr",
     "output_type": "stream",
     "text": [
      "1it [00:00,  4.68it/s]\n"
     ]
    },
    {
     "name": "stdout",
     "output_type": "stream",
     "text": [
      "    recall: 0.500000 precision: 0.992427 mAP@0.5: 0.495425, mAP@0.5-0.95: 0.148627\n",
      "\n",
      "Epoch 408/1000\n",
      "----------\n",
      "Train: \n"
     ]
    },
    {
     "name": "stderr",
     "output_type": "stream",
     "text": [
      "3it [00:00,  3.72it/s]\n"
     ]
    },
    {
     "name": "stdout",
     "output_type": "stream",
     "text": [
      "    box loss-> 0.02150, object loss-> 0.03072, class loss-> 0.00000\n",
      "Validation:\n"
     ]
    },
    {
     "name": "stderr",
     "output_type": "stream",
     "text": [
      "1it [00:00,  4.70it/s]\n"
     ]
    },
    {
     "name": "stdout",
     "output_type": "stream",
     "text": [
      "    recall: 0.500000 precision: 0.989806 mAP@0.5: 0.495425, mAP@0.5-0.95: 0.198170\n",
      "\n",
      "Epoch 409/1000\n",
      "----------\n",
      "Train: \n"
     ]
    },
    {
     "name": "stderr",
     "output_type": "stream",
     "text": [
      "3it [00:00,  3.78it/s]\n"
     ]
    },
    {
     "name": "stdout",
     "output_type": "stream",
     "text": [
      "    box loss-> 0.01919, object loss-> 0.02931, class loss-> 0.00000\n",
      "Validation:\n"
     ]
    },
    {
     "name": "stderr",
     "output_type": "stream",
     "text": [
      "1it [00:00,  4.75it/s]\n"
     ]
    },
    {
     "name": "stdout",
     "output_type": "stream",
     "text": [
      "    recall: 0.500000 precision: 0.996530 mAP@0.5: 0.495425, mAP@0.5-0.95: 0.148627\n",
      "\n",
      "Epoch 410/1000\n",
      "----------\n",
      "Train: \n"
     ]
    },
    {
     "name": "stderr",
     "output_type": "stream",
     "text": [
      "3it [00:00,  3.81it/s]\n"
     ]
    },
    {
     "name": "stdout",
     "output_type": "stream",
     "text": [
      "    box loss-> 0.02011, object loss-> 0.02998, class loss-> 0.00000\n",
      "Validation:\n"
     ]
    },
    {
     "name": "stderr",
     "output_type": "stream",
     "text": [
      "1it [00:00,  4.79it/s]\n"
     ]
    },
    {
     "name": "stdout",
     "output_type": "stream",
     "text": [
      "    recall: 0.500000 precision: 0.967244 mAP@0.5: 0.495425, mAP@0.5-0.95: 0.148627\n",
      "\n",
      "Epoch 411/1000\n",
      "----------\n",
      "Train: \n"
     ]
    },
    {
     "name": "stderr",
     "output_type": "stream",
     "text": [
      "3it [00:00,  3.79it/s]\n"
     ]
    },
    {
     "name": "stdout",
     "output_type": "stream",
     "text": [
      "    box loss-> 0.01994, object loss-> 0.02931, class loss-> 0.00000\n",
      "Validation:\n"
     ]
    },
    {
     "name": "stderr",
     "output_type": "stream",
     "text": [
      "1it [00:00,  4.78it/s]\n"
     ]
    },
    {
     "name": "stdout",
     "output_type": "stream",
     "text": [
      "    recall: 0.500000 precision: 0.983456 mAP@0.5: 0.495425, mAP@0.5-0.95: 0.148627\n",
      "\n",
      "Epoch 412/1000\n",
      "----------\n",
      "Train: \n"
     ]
    },
    {
     "name": "stderr",
     "output_type": "stream",
     "text": [
      "3it [00:00,  3.79it/s]\n"
     ]
    },
    {
     "name": "stdout",
     "output_type": "stream",
     "text": [
      "    box loss-> 0.02072, object loss-> 0.03019, class loss-> 0.00000\n",
      "Validation:\n"
     ]
    },
    {
     "name": "stderr",
     "output_type": "stream",
     "text": [
      "1it [00:00,  4.77it/s]\n"
     ]
    },
    {
     "name": "stdout",
     "output_type": "stream",
     "text": [
      "    recall: 0.500000 precision: 0.961916 mAP@0.5: 0.495425, mAP@0.5-0.95: 0.148627\n",
      "\n",
      "Epoch 413/1000\n",
      "----------\n",
      "Train: \n"
     ]
    },
    {
     "name": "stderr",
     "output_type": "stream",
     "text": [
      "3it [00:00,  3.77it/s]\n"
     ]
    },
    {
     "name": "stdout",
     "output_type": "stream",
     "text": [
      "    box loss-> 0.02059, object loss-> 0.02995, class loss-> 0.00000\n",
      "Validation:\n"
     ]
    },
    {
     "name": "stderr",
     "output_type": "stream",
     "text": [
      "1it [00:00,  4.59it/s]\n"
     ]
    },
    {
     "name": "stdout",
     "output_type": "stream",
     "text": [
      "    recall: 0.500000 precision: 0.665682 mAP@0.5: 0.495425, mAP@0.5-0.95: 0.198170\n",
      "\n",
      "Epoch 414/1000\n",
      "----------\n",
      "Train: \n"
     ]
    },
    {
     "name": "stderr",
     "output_type": "stream",
     "text": [
      "3it [00:00,  3.79it/s]\n"
     ]
    },
    {
     "name": "stdout",
     "output_type": "stream",
     "text": [
      "    box loss-> 0.02040, object loss-> 0.02950, class loss-> 0.00000\n",
      "Validation:\n"
     ]
    },
    {
     "name": "stderr",
     "output_type": "stream",
     "text": [
      "1it [00:00,  4.65it/s]\n"
     ]
    },
    {
     "name": "stdout",
     "output_type": "stream",
     "text": [
      "    recall: 0.500000 precision: 0.913793 mAP@0.5: 0.495425, mAP@0.5-0.95: 0.198170\n",
      "\n",
      "Epoch 415/1000\n",
      "----------\n",
      "Train: \n"
     ]
    },
    {
     "name": "stderr",
     "output_type": "stream",
     "text": [
      "3it [00:00,  3.76it/s]\n"
     ]
    },
    {
     "name": "stdout",
     "output_type": "stream",
     "text": [
      "    box loss-> 0.02161, object loss-> 0.02971, class loss-> 0.00000\n",
      "Validation:\n"
     ]
    },
    {
     "name": "stderr",
     "output_type": "stream",
     "text": [
      "1it [00:00,  4.77it/s]\n"
     ]
    },
    {
     "name": "stdout",
     "output_type": "stream",
     "text": [
      "    recall: 0.500000 precision: 0.906859 mAP@0.5: 0.495425, mAP@0.5-0.95: 0.198170\n",
      "\n",
      "Epoch 416/1000\n",
      "----------\n",
      "Train: \n"
     ]
    },
    {
     "name": "stderr",
     "output_type": "stream",
     "text": [
      "3it [00:00,  3.80it/s]\n"
     ]
    },
    {
     "name": "stdout",
     "output_type": "stream",
     "text": [
      "    box loss-> 0.02005, object loss-> 0.02921, class loss-> 0.00000\n",
      "Validation:\n"
     ]
    },
    {
     "name": "stderr",
     "output_type": "stream",
     "text": [
      "1it [00:00,  4.75it/s]\n"
     ]
    },
    {
     "name": "stdout",
     "output_type": "stream",
     "text": [
      "    recall: 0.500000 precision: 0.944523 mAP@0.5: 0.495425, mAP@0.5-0.95: 0.148627\n",
      "\n",
      "Epoch 417/1000\n",
      "----------\n",
      "Train: \n"
     ]
    },
    {
     "name": "stderr",
     "output_type": "stream",
     "text": [
      "3it [00:00,  3.78it/s]\n"
     ]
    },
    {
     "name": "stdout",
     "output_type": "stream",
     "text": [
      "    box loss-> 0.02085, object loss-> 0.02969, class loss-> 0.00000\n",
      "Validation:\n"
     ]
    },
    {
     "name": "stderr",
     "output_type": "stream",
     "text": [
      "1it [00:00,  4.77it/s]\n"
     ]
    },
    {
     "name": "stdout",
     "output_type": "stream",
     "text": [
      "    recall: 0.500000 precision: 0.958247 mAP@0.5: 0.495425, mAP@0.5-0.95: 0.148627\n",
      "\n",
      "Epoch 418/1000\n",
      "----------\n",
      "Train: \n"
     ]
    },
    {
     "name": "stderr",
     "output_type": "stream",
     "text": [
      "3it [00:00,  3.78it/s]\n"
     ]
    },
    {
     "name": "stdout",
     "output_type": "stream",
     "text": [
      "    box loss-> 0.02104, object loss-> 0.03008, class loss-> 0.00000\n",
      "Validation:\n"
     ]
    },
    {
     "name": "stderr",
     "output_type": "stream",
     "text": [
      "1it [00:00,  4.50it/s]\n"
     ]
    },
    {
     "name": "stdout",
     "output_type": "stream",
     "text": [
      "    recall: 0.500000 precision: 0.965679 mAP@0.5: 0.495425, mAP@0.5-0.95: 0.148627\n",
      "\n",
      "Epoch 419/1000\n",
      "----------\n",
      "Train: \n"
     ]
    },
    {
     "name": "stderr",
     "output_type": "stream",
     "text": [
      "3it [00:00,  3.74it/s]\n"
     ]
    },
    {
     "name": "stdout",
     "output_type": "stream",
     "text": [
      "    box loss-> 0.01818, object loss-> 0.02786, class loss-> 0.00000\n",
      "Validation:\n"
     ]
    },
    {
     "name": "stderr",
     "output_type": "stream",
     "text": [
      "1it [00:00,  4.64it/s]\n"
     ]
    },
    {
     "name": "stdout",
     "output_type": "stream",
     "text": [
      "    recall: 0.500000 precision: 0.859740 mAP@0.5: 0.495425, mAP@0.5-0.95: 0.148627\n",
      "\n",
      "Epoch 420/1000\n",
      "----------\n",
      "Train: \n"
     ]
    },
    {
     "name": "stderr",
     "output_type": "stream",
     "text": [
      "3it [00:00,  3.84it/s]\n"
     ]
    },
    {
     "name": "stdout",
     "output_type": "stream",
     "text": [
      "    box loss-> 0.01790, object loss-> 0.02743, class loss-> 0.00000\n",
      "Validation:\n"
     ]
    },
    {
     "name": "stderr",
     "output_type": "stream",
     "text": [
      "1it [00:00,  4.59it/s]\n"
     ]
    },
    {
     "name": "stdout",
     "output_type": "stream",
     "text": [
      "    recall: 0.500000 precision: 0.911309 mAP@0.5: 0.495425, mAP@0.5-0.95: 0.148627\n",
      "\n",
      "Epoch 421/1000\n",
      "----------\n",
      "Train: \n"
     ]
    },
    {
     "name": "stderr",
     "output_type": "stream",
     "text": [
      "3it [00:00,  3.78it/s]\n"
     ]
    },
    {
     "name": "stdout",
     "output_type": "stream",
     "text": [
      "    box loss-> 0.01757, object loss-> 0.02716, class loss-> 0.00000\n",
      "Validation:\n"
     ]
    },
    {
     "name": "stderr",
     "output_type": "stream",
     "text": [
      "1it [00:00,  4.68it/s]\n"
     ]
    },
    {
     "name": "stdout",
     "output_type": "stream",
     "text": [
      "    recall: 0.500000 precision: 0.956274 mAP@0.5: 0.495425, mAP@0.5-0.95: 0.148627\n",
      "\n",
      "Epoch 422/1000\n",
      "----------\n",
      "Train: \n"
     ]
    },
    {
     "name": "stderr",
     "output_type": "stream",
     "text": [
      "3it [00:00,  3.80it/s]\n"
     ]
    },
    {
     "name": "stdout",
     "output_type": "stream",
     "text": [
      "    box loss-> 0.01796, object loss-> 0.02793, class loss-> 0.00000\n",
      "Validation:\n"
     ]
    },
    {
     "name": "stderr",
     "output_type": "stream",
     "text": [
      "1it [00:00,  4.79it/s]\n"
     ]
    },
    {
     "name": "stdout",
     "output_type": "stream",
     "text": [
      "    recall: 0.500000 precision: 0.941918 mAP@0.5: 0.495425, mAP@0.5-0.95: 0.148627\n",
      "\n",
      "Epoch 423/1000\n",
      "----------\n",
      "Train: \n"
     ]
    },
    {
     "name": "stderr",
     "output_type": "stream",
     "text": [
      "3it [00:00,  3.80it/s]\n"
     ]
    },
    {
     "name": "stdout",
     "output_type": "stream",
     "text": [
      "    box loss-> 0.01760, object loss-> 0.02761, class loss-> 0.00000\n",
      "Validation:\n"
     ]
    },
    {
     "name": "stderr",
     "output_type": "stream",
     "text": [
      "1it [00:00,  4.76it/s]\n"
     ]
    },
    {
     "name": "stdout",
     "output_type": "stream",
     "text": [
      "    recall: 0.500000 precision: 0.993223 mAP@0.5: 0.495425, mAP@0.5-0.95: 0.148627\n",
      "\n",
      "Epoch 424/1000\n",
      "----------\n",
      "Train: \n"
     ]
    },
    {
     "name": "stderr",
     "output_type": "stream",
     "text": [
      "3it [00:00,  3.75it/s]\n"
     ]
    },
    {
     "name": "stdout",
     "output_type": "stream",
     "text": [
      "    box loss-> 0.01791, object loss-> 0.02757, class loss-> 0.00000\n",
      "Validation:\n"
     ]
    },
    {
     "name": "stderr",
     "output_type": "stream",
     "text": [
      "1it [00:00,  4.71it/s]\n"
     ]
    },
    {
     "name": "stdout",
     "output_type": "stream",
     "text": [
      "    recall: 0.500000 precision: 0.946914 mAP@0.5: 0.495425, mAP@0.5-0.95: 0.198170\n",
      "\n",
      "Epoch 425/1000\n",
      "----------\n",
      "Train: \n"
     ]
    },
    {
     "name": "stderr",
     "output_type": "stream",
     "text": [
      "3it [00:00,  3.80it/s]\n"
     ]
    },
    {
     "name": "stdout",
     "output_type": "stream",
     "text": [
      "    box loss-> 0.01938, object loss-> 0.02870, class loss-> 0.00000\n",
      "Validation:\n"
     ]
    },
    {
     "name": "stderr",
     "output_type": "stream",
     "text": [
      "1it [00:00,  4.69it/s]\n"
     ]
    },
    {
     "name": "stdout",
     "output_type": "stream",
     "text": [
      "    recall: 0.500000 precision: 0.983853 mAP@0.5: 0.495425, mAP@0.5-0.95: 0.198170\n",
      "\n",
      "Epoch 426/1000\n",
      "----------\n",
      "Train: \n"
     ]
    },
    {
     "name": "stderr",
     "output_type": "stream",
     "text": [
      "3it [00:00,  3.79it/s]\n"
     ]
    },
    {
     "name": "stdout",
     "output_type": "stream",
     "text": [
      "    box loss-> 0.01908, object loss-> 0.02860, class loss-> 0.00000\n",
      "Validation:\n"
     ]
    },
    {
     "name": "stderr",
     "output_type": "stream",
     "text": [
      "1it [00:00,  4.65it/s]\n"
     ]
    },
    {
     "name": "stdout",
     "output_type": "stream",
     "text": [
      "    recall: 0.500000 precision: 0.951696 mAP@0.5: 0.495425, mAP@0.5-0.95: 0.198170\n",
      "\n",
      "Epoch 427/1000\n",
      "----------\n",
      "Train: \n"
     ]
    },
    {
     "name": "stderr",
     "output_type": "stream",
     "text": [
      "3it [00:00,  3.78it/s]\n"
     ]
    },
    {
     "name": "stdout",
     "output_type": "stream",
     "text": [
      "    box loss-> 0.01935, object loss-> 0.02811, class loss-> 0.00000\n",
      "Validation:\n"
     ]
    },
    {
     "name": "stderr",
     "output_type": "stream",
     "text": [
      "1it [00:00,  4.61it/s]\n"
     ]
    },
    {
     "name": "stdout",
     "output_type": "stream",
     "text": [
      "    recall: 0.500000 precision: 0.983379 mAP@0.5: 0.495425, mAP@0.5-0.95: 0.198170\n",
      "\n",
      "Epoch 428/1000\n",
      "----------\n",
      "Train: \n"
     ]
    },
    {
     "name": "stderr",
     "output_type": "stream",
     "text": [
      "3it [00:00,  3.79it/s]\n"
     ]
    },
    {
     "name": "stdout",
     "output_type": "stream",
     "text": [
      "    box loss-> 0.01890, object loss-> 0.02852, class loss-> 0.00000\n",
      "Validation:\n"
     ]
    },
    {
     "name": "stderr",
     "output_type": "stream",
     "text": [
      "1it [00:00,  4.77it/s]\n"
     ]
    },
    {
     "name": "stdout",
     "output_type": "stream",
     "text": [
      "    recall: 0.500000 precision: 0.961091 mAP@0.5: 0.495425, mAP@0.5-0.95: 0.198170\n",
      "\n",
      "Epoch 429/1000\n",
      "----------\n",
      "Train: \n"
     ]
    },
    {
     "name": "stderr",
     "output_type": "stream",
     "text": [
      "3it [00:00,  3.73it/s]\n"
     ]
    },
    {
     "name": "stdout",
     "output_type": "stream",
     "text": [
      "    box loss-> 0.02009, object loss-> 0.02910, class loss-> 0.00000\n",
      "Validation:\n"
     ]
    },
    {
     "name": "stderr",
     "output_type": "stream",
     "text": [
      "1it [00:00,  4.79it/s]\n"
     ]
    },
    {
     "name": "stdout",
     "output_type": "stream",
     "text": [
      "    recall: 0.500000 precision: 0.965579 mAP@0.5: 0.495425, mAP@0.5-0.95: 0.148627\n",
      "\n",
      "Epoch 430/1000\n",
      "----------\n",
      "Train: \n"
     ]
    },
    {
     "name": "stderr",
     "output_type": "stream",
     "text": [
      "3it [00:00,  3.72it/s]\n"
     ]
    },
    {
     "name": "stdout",
     "output_type": "stream",
     "text": [
      "    box loss-> 0.02116, object loss-> 0.03062, class loss-> 0.00000\n",
      "Validation:\n"
     ]
    },
    {
     "name": "stderr",
     "output_type": "stream",
     "text": [
      "1it [00:00,  4.75it/s]\n"
     ]
    },
    {
     "name": "stdout",
     "output_type": "stream",
     "text": [
      "    recall: 0.500000 precision: 0.970624 mAP@0.5: 0.495425, mAP@0.5-0.95: 0.148627\n",
      "\n",
      "Epoch 431/1000\n",
      "----------\n",
      "Train: \n"
     ]
    },
    {
     "name": "stderr",
     "output_type": "stream",
     "text": [
      "3it [00:00,  3.75it/s]\n"
     ]
    },
    {
     "name": "stdout",
     "output_type": "stream",
     "text": [
      "    box loss-> 0.02118, object loss-> 0.03003, class loss-> 0.00000\n",
      "Validation:\n"
     ]
    },
    {
     "name": "stderr",
     "output_type": "stream",
     "text": [
      "1it [00:00,  4.71it/s]\n"
     ]
    },
    {
     "name": "stdout",
     "output_type": "stream",
     "text": [
      "    recall: 0.500000 precision: 0.920326 mAP@0.5: 0.495425, mAP@0.5-0.95: 0.148627\n",
      "\n",
      "Epoch 432/1000\n",
      "----------\n",
      "Train: \n"
     ]
    },
    {
     "name": "stderr",
     "output_type": "stream",
     "text": [
      "3it [00:00,  3.76it/s]\n"
     ]
    },
    {
     "name": "stdout",
     "output_type": "stream",
     "text": [
      "    box loss-> 0.02111, object loss-> 0.03038, class loss-> 0.00000\n",
      "Validation:\n"
     ]
    },
    {
     "name": "stderr",
     "output_type": "stream",
     "text": [
      "1it [00:00,  4.70it/s]\n"
     ]
    },
    {
     "name": "stdout",
     "output_type": "stream",
     "text": [
      "    recall: 0.500000 precision: 0.976461 mAP@0.5: 0.495425, mAP@0.5-0.95: 0.148627\n",
      "\n",
      "Epoch 433/1000\n",
      "----------\n",
      "Train: \n"
     ]
    },
    {
     "name": "stderr",
     "output_type": "stream",
     "text": [
      "3it [00:00,  3.75it/s]\n"
     ]
    },
    {
     "name": "stdout",
     "output_type": "stream",
     "text": [
      "    box loss-> 0.02180, object loss-> 0.03013, class loss-> 0.00000\n",
      "Validation:\n"
     ]
    },
    {
     "name": "stderr",
     "output_type": "stream",
     "text": [
      "1it [00:00,  4.66it/s]\n"
     ]
    },
    {
     "name": "stdout",
     "output_type": "stream",
     "text": [
      "    recall: 0.500000 precision: 0.986619 mAP@0.5: 0.495425, mAP@0.5-0.95: 0.148627\n",
      "\n",
      "Epoch 434/1000\n",
      "----------\n",
      "Train: \n"
     ]
    },
    {
     "name": "stderr",
     "output_type": "stream",
     "text": [
      "3it [00:00,  3.78it/s]\n"
     ]
    },
    {
     "name": "stdout",
     "output_type": "stream",
     "text": [
      "    box loss-> 0.02103, object loss-> 0.02999, class loss-> 0.00000\n",
      "Validation:\n"
     ]
    },
    {
     "name": "stderr",
     "output_type": "stream",
     "text": [
      "1it [00:00,  4.57it/s]\n"
     ]
    },
    {
     "name": "stdout",
     "output_type": "stream",
     "text": [
      "    recall: 0.500000 precision: 0.978318 mAP@0.5: 0.495425, mAP@0.5-0.95: 0.099085\n",
      "\n",
      "Epoch 435/1000\n",
      "----------\n",
      "Train: \n"
     ]
    },
    {
     "name": "stderr",
     "output_type": "stream",
     "text": [
      "3it [00:00,  3.71it/s]\n"
     ]
    },
    {
     "name": "stdout",
     "output_type": "stream",
     "text": [
      "    box loss-> 0.02046, object loss-> 0.02969, class loss-> 0.00000\n",
      "Validation:\n"
     ]
    },
    {
     "name": "stderr",
     "output_type": "stream",
     "text": [
      "1it [00:00,  4.61it/s]\n"
     ]
    },
    {
     "name": "stdout",
     "output_type": "stream",
     "text": [
      "    recall: 0.500000 precision: 0.993037 mAP@0.5: 0.495425, mAP@0.5-0.95: 0.099085\n",
      "\n",
      "Epoch 436/1000\n",
      "----------\n",
      "Train: \n"
     ]
    },
    {
     "name": "stderr",
     "output_type": "stream",
     "text": [
      "3it [00:00,  3.75it/s]\n"
     ]
    },
    {
     "name": "stdout",
     "output_type": "stream",
     "text": [
      "    box loss-> 0.02035, object loss-> 0.02937, class loss-> 0.00000\n",
      "Validation:\n"
     ]
    },
    {
     "name": "stderr",
     "output_type": "stream",
     "text": [
      "1it [00:00,  4.68it/s]\n"
     ]
    },
    {
     "name": "stdout",
     "output_type": "stream",
     "text": [
      "    recall: 0.500000 precision: 0.993490 mAP@0.5: 0.495425, mAP@0.5-0.95: 0.099085\n",
      "\n",
      "Epoch 437/1000\n",
      "----------\n",
      "Train: \n"
     ]
    },
    {
     "name": "stderr",
     "output_type": "stream",
     "text": [
      "3it [00:00,  3.78it/s]\n"
     ]
    },
    {
     "name": "stdout",
     "output_type": "stream",
     "text": [
      "    box loss-> 0.02051, object loss-> 0.02953, class loss-> 0.00000\n",
      "Validation:\n"
     ]
    },
    {
     "name": "stderr",
     "output_type": "stream",
     "text": [
      "1it [00:00,  4.72it/s]\n"
     ]
    },
    {
     "name": "stdout",
     "output_type": "stream",
     "text": [
      "    recall: 0.500000 precision: 0.985314 mAP@0.5: 0.495425, mAP@0.5-0.95: 0.099085\n",
      "\n",
      "Epoch 438/1000\n",
      "----------\n",
      "Train: \n"
     ]
    },
    {
     "name": "stderr",
     "output_type": "stream",
     "text": [
      "3it [00:00,  3.79it/s]\n"
     ]
    },
    {
     "name": "stdout",
     "output_type": "stream",
     "text": [
      "    box loss-> 0.02074, object loss-> 0.02948, class loss-> 0.00000\n",
      "Validation:\n"
     ]
    },
    {
     "name": "stderr",
     "output_type": "stream",
     "text": [
      "1it [00:00,  4.72it/s]\n"
     ]
    },
    {
     "name": "stdout",
     "output_type": "stream",
     "text": [
      "    recall: 0.500000 precision: 0.995467 mAP@0.5: 0.495425, mAP@0.5-0.95: 0.099085\n",
      "\n",
      "Epoch 439/1000\n",
      "----------\n",
      "Train: \n"
     ]
    },
    {
     "name": "stderr",
     "output_type": "stream",
     "text": [
      "3it [00:00,  3.81it/s]\n"
     ]
    },
    {
     "name": "stdout",
     "output_type": "stream",
     "text": [
      "    box loss-> 0.02054, object loss-> 0.02945, class loss-> 0.00000\n",
      "Validation:\n"
     ]
    },
    {
     "name": "stderr",
     "output_type": "stream",
     "text": [
      "1it [00:00,  4.71it/s]\n"
     ]
    },
    {
     "name": "stdout",
     "output_type": "stream",
     "text": [
      "    recall: 0.500000 precision: 0.992234 mAP@0.5: 0.495425, mAP@0.5-0.95: 0.099085\n",
      "\n",
      "Epoch 440/1000\n",
      "----------\n",
      "Train: \n"
     ]
    },
    {
     "name": "stderr",
     "output_type": "stream",
     "text": [
      "3it [00:00,  3.75it/s]\n"
     ]
    },
    {
     "name": "stdout",
     "output_type": "stream",
     "text": [
      "    box loss-> 0.01824, object loss-> 0.02772, class loss-> 0.00000\n",
      "Validation:\n"
     ]
    },
    {
     "name": "stderr",
     "output_type": "stream",
     "text": [
      "1it [00:00,  4.60it/s]\n"
     ]
    },
    {
     "name": "stdout",
     "output_type": "stream",
     "text": [
      "    recall: 0.500000 precision: 0.998626 mAP@0.5: 0.495425, mAP@0.5-0.95: 0.148627\n",
      "\n",
      "Epoch 441/1000\n",
      "----------\n",
      "Train: \n"
     ]
    },
    {
     "name": "stderr",
     "output_type": "stream",
     "text": [
      "3it [00:00,  3.80it/s]\n"
     ]
    },
    {
     "name": "stdout",
     "output_type": "stream",
     "text": [
      "    box loss-> 0.01759, object loss-> 0.02718, class loss-> 0.00000\n",
      "Validation:\n"
     ]
    },
    {
     "name": "stderr",
     "output_type": "stream",
     "text": [
      "1it [00:00,  4.61it/s]\n"
     ]
    },
    {
     "name": "stdout",
     "output_type": "stream",
     "text": [
      "    recall: 0.500000 precision: 0.964454 mAP@0.5: 0.495425, mAP@0.5-0.95: 0.148627\n",
      "\n",
      "Epoch 442/1000\n",
      "----------\n",
      "Train: \n"
     ]
    },
    {
     "name": "stderr",
     "output_type": "stream",
     "text": [
      "3it [00:00,  3.79it/s]\n"
     ]
    },
    {
     "name": "stdout",
     "output_type": "stream",
     "text": [
      "    box loss-> 0.01800, object loss-> 0.02759, class loss-> 0.00000\n",
      "Validation:\n"
     ]
    },
    {
     "name": "stderr",
     "output_type": "stream",
     "text": [
      "1it [00:00,  4.70it/s]\n"
     ]
    },
    {
     "name": "stdout",
     "output_type": "stream",
     "text": [
      "    recall: 0.500000 precision: 0.998048 mAP@0.5: 0.495425, mAP@0.5-0.95: 0.148627\n",
      "\n",
      "Epoch 443/1000\n",
      "----------\n",
      "Train: \n"
     ]
    },
    {
     "name": "stderr",
     "output_type": "stream",
     "text": [
      "3it [00:00,  3.76it/s]\n"
     ]
    },
    {
     "name": "stdout",
     "output_type": "stream",
     "text": [
      "    box loss-> 0.01784, object loss-> 0.02761, class loss-> 0.00000\n",
      "Validation:\n"
     ]
    },
    {
     "name": "stderr",
     "output_type": "stream",
     "text": [
      "1it [00:00,  4.64it/s]\n"
     ]
    },
    {
     "name": "stdout",
     "output_type": "stream",
     "text": [
      "    recall: 0.500000 precision: 0.961422 mAP@0.5: 0.495425, mAP@0.5-0.95: 0.148627\n",
      "\n",
      "Epoch 444/1000\n",
      "----------\n",
      "Train: \n"
     ]
    },
    {
     "name": "stderr",
     "output_type": "stream",
     "text": [
      "3it [00:00,  3.80it/s]\n"
     ]
    },
    {
     "name": "stdout",
     "output_type": "stream",
     "text": [
      "    box loss-> 0.01765, object loss-> 0.02781, class loss-> 0.00000\n",
      "Validation:\n"
     ]
    },
    {
     "name": "stderr",
     "output_type": "stream",
     "text": [
      "1it [00:00,  4.50it/s]\n"
     ]
    },
    {
     "name": "stdout",
     "output_type": "stream",
     "text": [
      "    recall: 0.500000 precision: 0.992884 mAP@0.5: 0.495425, mAP@0.5-0.95: 0.148627\n",
      "\n",
      "Epoch 445/1000\n",
      "----------\n",
      "Train: \n"
     ]
    },
    {
     "name": "stderr",
     "output_type": "stream",
     "text": [
      "3it [00:00,  3.78it/s]\n"
     ]
    },
    {
     "name": "stdout",
     "output_type": "stream",
     "text": [
      "    box loss-> 0.01936, object loss-> 0.02804, class loss-> 0.00000\n",
      "Validation:\n"
     ]
    },
    {
     "name": "stderr",
     "output_type": "stream",
     "text": [
      "1it [00:00,  4.74it/s]\n"
     ]
    },
    {
     "name": "stdout",
     "output_type": "stream",
     "text": [
      "    recall: 0.500000 precision: 0.995163 mAP@0.5: 0.495425, mAP@0.5-0.95: 0.148627\n",
      "\n",
      "Epoch 446/1000\n",
      "----------\n",
      "Train: \n"
     ]
    },
    {
     "name": "stderr",
     "output_type": "stream",
     "text": [
      "3it [00:00,  3.82it/s]\n"
     ]
    },
    {
     "name": "stdout",
     "output_type": "stream",
     "text": [
      "    box loss-> 0.01800, object loss-> 0.02752, class loss-> 0.00000\n",
      "Validation:\n"
     ]
    },
    {
     "name": "stderr",
     "output_type": "stream",
     "text": [
      "1it [00:00,  4.75it/s]\n"
     ]
    },
    {
     "name": "stdout",
     "output_type": "stream",
     "text": [
      "    recall: 0.500000 precision: 0.959903 mAP@0.5: 0.495425, mAP@0.5-0.95: 0.148627\n",
      "\n",
      "Epoch 447/1000\n",
      "----------\n",
      "Train: \n"
     ]
    },
    {
     "name": "stderr",
     "output_type": "stream",
     "text": [
      "3it [00:00,  3.79it/s]\n"
     ]
    },
    {
     "name": "stdout",
     "output_type": "stream",
     "text": [
      "    box loss-> 0.01872, object loss-> 0.02759, class loss-> 0.00000\n",
      "Validation:\n"
     ]
    },
    {
     "name": "stderr",
     "output_type": "stream",
     "text": [
      "1it [00:00,  4.75it/s]\n"
     ]
    },
    {
     "name": "stdout",
     "output_type": "stream",
     "text": [
      "    recall: 0.500000 precision: 0.954077 mAP@0.5: 0.495425, mAP@0.5-0.95: 0.148627\n",
      "\n",
      "Epoch 448/1000\n",
      "----------\n",
      "Train: \n"
     ]
    },
    {
     "name": "stderr",
     "output_type": "stream",
     "text": [
      "3it [00:00,  3.78it/s]\n"
     ]
    },
    {
     "name": "stdout",
     "output_type": "stream",
     "text": [
      "    box loss-> 0.01860, object loss-> 0.02763, class loss-> 0.00000\n",
      "Validation:\n"
     ]
    },
    {
     "name": "stderr",
     "output_type": "stream",
     "text": [
      "1it [00:00,  4.65it/s]\n"
     ]
    },
    {
     "name": "stdout",
     "output_type": "stream",
     "text": [
      "    recall: 0.500000 precision: 0.996540 mAP@0.5: 0.495425, mAP@0.5-0.95: 0.198170\n",
      "\n",
      "Epoch 449/1000\n",
      "----------\n",
      "Train: \n"
     ]
    },
    {
     "name": "stderr",
     "output_type": "stream",
     "text": [
      "3it [00:00,  3.81it/s]\n"
     ]
    },
    {
     "name": "stdout",
     "output_type": "stream",
     "text": [
      "    box loss-> 0.01926, object loss-> 0.02839, class loss-> 0.00000\n",
      "Validation:\n"
     ]
    },
    {
     "name": "stderr",
     "output_type": "stream",
     "text": [
      "1it [00:00,  4.71it/s]\n"
     ]
    },
    {
     "name": "stdout",
     "output_type": "stream",
     "text": [
      "    recall: 0.500000 precision: 0.973992 mAP@0.5: 0.495425, mAP@0.5-0.95: 0.148627\n",
      "\n",
      "Epoch 450/1000\n",
      "----------\n",
      "Train: \n"
     ]
    },
    {
     "name": "stderr",
     "output_type": "stream",
     "text": [
      "3it [00:00,  3.84it/s]\n"
     ]
    },
    {
     "name": "stdout",
     "output_type": "stream",
     "text": [
      "    box loss-> 0.01950, object loss-> 0.02791, class loss-> 0.00000\n",
      "Validation:\n"
     ]
    },
    {
     "name": "stderr",
     "output_type": "stream",
     "text": [
      "1it [00:00,  4.71it/s]\n"
     ]
    },
    {
     "name": "stdout",
     "output_type": "stream",
     "text": [
      "    recall: 0.500000 precision: 0.967936 mAP@0.5: 0.495425, mAP@0.5-0.95: 0.148627\n",
      "\n",
      "Epoch 451/1000\n",
      "----------\n",
      "Train: \n"
     ]
    },
    {
     "name": "stderr",
     "output_type": "stream",
     "text": [
      "3it [00:00,  3.73it/s]\n"
     ]
    },
    {
     "name": "stdout",
     "output_type": "stream",
     "text": [
      "    box loss-> 0.01771, object loss-> 0.02671, class loss-> 0.00000\n",
      "Validation:\n"
     ]
    },
    {
     "name": "stderr",
     "output_type": "stream",
     "text": [
      "1it [00:00,  4.74it/s]\n"
     ]
    },
    {
     "name": "stdout",
     "output_type": "stream",
     "text": [
      "    recall: 0.500000 precision: 0.969676 mAP@0.5: 0.495425, mAP@0.5-0.95: 0.148627\n",
      "\n",
      "Epoch 452/1000\n",
      "----------\n",
      "Train: \n"
     ]
    },
    {
     "name": "stderr",
     "output_type": "stream",
     "text": [
      "3it [00:00,  3.83it/s]\n"
     ]
    },
    {
     "name": "stdout",
     "output_type": "stream",
     "text": [
      "    box loss-> 0.01618, object loss-> 0.02616, class loss-> 0.00000\n",
      "Validation:\n"
     ]
    },
    {
     "name": "stderr",
     "output_type": "stream",
     "text": [
      "1it [00:00,  4.66it/s]\n"
     ]
    },
    {
     "name": "stdout",
     "output_type": "stream",
     "text": [
      "    recall: 0.500000 precision: 0.898524 mAP@0.5: 0.495425, mAP@0.5-0.95: 0.148627\n",
      "\n",
      "Epoch 453/1000\n",
      "----------\n",
      "Train: \n"
     ]
    },
    {
     "name": "stderr",
     "output_type": "stream",
     "text": [
      "3it [00:00,  3.79it/s]\n"
     ]
    },
    {
     "name": "stdout",
     "output_type": "stream",
     "text": [
      "    box loss-> 0.01604, object loss-> 0.02585, class loss-> 0.00000\n",
      "Validation:\n"
     ]
    },
    {
     "name": "stderr",
     "output_type": "stream",
     "text": [
      "1it [00:00,  4.61it/s]\n"
     ]
    },
    {
     "name": "stdout",
     "output_type": "stream",
     "text": [
      "    recall: 0.500000 precision: 0.983195 mAP@0.5: 0.495425, mAP@0.5-0.95: 0.148627\n",
      "\n",
      "Epoch 454/1000\n",
      "----------\n",
      "Train: \n"
     ]
    },
    {
     "name": "stderr",
     "output_type": "stream",
     "text": [
      "3it [00:00,  3.78it/s]\n"
     ]
    },
    {
     "name": "stdout",
     "output_type": "stream",
     "text": [
      "    box loss-> 0.01662, object loss-> 0.02599, class loss-> 0.00000\n",
      "Validation:\n"
     ]
    },
    {
     "name": "stderr",
     "output_type": "stream",
     "text": [
      "1it [00:00,  4.72it/s]\n"
     ]
    },
    {
     "name": "stdout",
     "output_type": "stream",
     "text": [
      "    recall: 0.500000 precision: 0.961250 mAP@0.5: 0.495425, mAP@0.5-0.95: 0.148627\n",
      "\n",
      "Epoch 455/1000\n",
      "----------\n",
      "Train: \n"
     ]
    },
    {
     "name": "stderr",
     "output_type": "stream",
     "text": [
      "3it [00:00,  3.81it/s]\n"
     ]
    },
    {
     "name": "stdout",
     "output_type": "stream",
     "text": [
      "    box loss-> 0.01664, object loss-> 0.02620, class loss-> 0.00000\n",
      "Validation:\n"
     ]
    },
    {
     "name": "stderr",
     "output_type": "stream",
     "text": [
      "1it [00:00,  4.65it/s]\n"
     ]
    },
    {
     "name": "stdout",
     "output_type": "stream",
     "text": [
      "    recall: 0.500000 precision: 0.885279 mAP@0.5: 0.495425, mAP@0.5-0.95: 0.148627\n",
      "\n",
      "Epoch 456/1000\n",
      "----------\n",
      "Train: \n"
     ]
    },
    {
     "name": "stderr",
     "output_type": "stream",
     "text": [
      "3it [00:00,  3.76it/s]\n"
     ]
    },
    {
     "name": "stdout",
     "output_type": "stream",
     "text": [
      "    box loss-> 0.01836, object loss-> 0.02758, class loss-> 0.00000\n",
      "Validation:\n"
     ]
    },
    {
     "name": "stderr",
     "output_type": "stream",
     "text": [
      "1it [00:00,  4.70it/s]\n"
     ]
    },
    {
     "name": "stdout",
     "output_type": "stream",
     "text": [
      "    recall: 0.500000 precision: 0.930396 mAP@0.5: 0.495425, mAP@0.5-0.95: 0.198170\n",
      "\n",
      "Epoch 457/1000\n",
      "----------\n",
      "Train: \n"
     ]
    },
    {
     "name": "stderr",
     "output_type": "stream",
     "text": [
      "3it [00:00,  3.79it/s]\n"
     ]
    },
    {
     "name": "stdout",
     "output_type": "stream",
     "text": [
      "    box loss-> 0.02085, object loss-> 0.02903, class loss-> 0.00000\n",
      "Validation:\n"
     ]
    },
    {
     "name": "stderr",
     "output_type": "stream",
     "text": [
      "1it [00:00,  4.75it/s]\n"
     ]
    },
    {
     "name": "stdout",
     "output_type": "stream",
     "text": [
      "    recall: 0.500000 precision: 0.973725 mAP@0.5: 0.495425, mAP@0.5-0.95: 0.198170\n",
      "\n",
      "Epoch 458/1000\n",
      "----------\n",
      "Train: \n"
     ]
    },
    {
     "name": "stderr",
     "output_type": "stream",
     "text": [
      "3it [00:00,  3.80it/s]\n"
     ]
    },
    {
     "name": "stdout",
     "output_type": "stream",
     "text": [
      "    box loss-> 0.01977, object loss-> 0.02844, class loss-> 0.00000\n",
      "Validation:\n"
     ]
    },
    {
     "name": "stderr",
     "output_type": "stream",
     "text": [
      "1it [00:00,  4.74it/s]\n"
     ]
    },
    {
     "name": "stdout",
     "output_type": "stream",
     "text": [
      "    recall: 0.500000 precision: 0.992862 mAP@0.5: 0.495425, mAP@0.5-0.95: 0.198170\n",
      "\n",
      "Epoch 459/1000\n",
      "----------\n",
      "Train: \n"
     ]
    },
    {
     "name": "stderr",
     "output_type": "stream",
     "text": [
      "3it [00:00,  3.79it/s]\n"
     ]
    },
    {
     "name": "stdout",
     "output_type": "stream",
     "text": [
      "    box loss-> 0.02035, object loss-> 0.02880, class loss-> 0.00000\n",
      "Validation:\n"
     ]
    },
    {
     "name": "stderr",
     "output_type": "stream",
     "text": [
      "1it [00:00,  4.72it/s]\n"
     ]
    },
    {
     "name": "stdout",
     "output_type": "stream",
     "text": [
      "    recall: 0.500000 precision: 0.999777 mAP@0.5: 0.495425, mAP@0.5-0.95: 0.198170\n",
      "\n",
      "Epoch 460/1000\n",
      "----------\n",
      "Train: \n"
     ]
    },
    {
     "name": "stderr",
     "output_type": "stream",
     "text": [
      "3it [00:00,  3.82it/s]\n"
     ]
    },
    {
     "name": "stdout",
     "output_type": "stream",
     "text": [
      "    box loss-> 0.02035, object loss-> 0.02869, class loss-> 0.00000\n",
      "Validation:\n"
     ]
    },
    {
     "name": "stderr",
     "output_type": "stream",
     "text": [
      "1it [00:00,  4.69it/s]\n"
     ]
    },
    {
     "name": "stdout",
     "output_type": "stream",
     "text": [
      "    recall: 0.500000 precision: 0.991171 mAP@0.5: 0.495425, mAP@0.5-0.95: 0.198170\n",
      "\n",
      "Epoch 461/1000\n",
      "----------\n",
      "Train: \n"
     ]
    },
    {
     "name": "stderr",
     "output_type": "stream",
     "text": [
      "3it [00:00,  3.72it/s]\n"
     ]
    },
    {
     "name": "stdout",
     "output_type": "stream",
     "text": [
      "    box loss-> 0.02040, object loss-> 0.02934, class loss-> 0.00000\n",
      "Validation:\n"
     ]
    },
    {
     "name": "stderr",
     "output_type": "stream",
     "text": [
      "1it [00:00,  4.76it/s]\n"
     ]
    },
    {
     "name": "stdout",
     "output_type": "stream",
     "text": [
      "    recall: 0.500000 precision: 0.997208 mAP@0.5: 0.495425, mAP@0.5-0.95: 0.198170\n",
      "\n",
      "Epoch 462/1000\n",
      "----------\n",
      "Train: \n"
     ]
    },
    {
     "name": "stderr",
     "output_type": "stream",
     "text": [
      "3it [00:00,  3.74it/s]\n"
     ]
    },
    {
     "name": "stdout",
     "output_type": "stream",
     "text": [
      "    box loss-> 0.02442, object loss-> 0.03227, class loss-> 0.00000\n",
      "Validation:\n"
     ]
    },
    {
     "name": "stderr",
     "output_type": "stream",
     "text": [
      "1it [00:00,  4.52it/s]\n"
     ]
    },
    {
     "name": "stdout",
     "output_type": "stream",
     "text": [
      "    recall: 0.500000 precision: 0.847471 mAP@0.5: 0.495425, mAP@0.5-0.95: 0.198170\n",
      "\n",
      "Epoch 463/1000\n",
      "----------\n",
      "Train: \n"
     ]
    },
    {
     "name": "stderr",
     "output_type": "stream",
     "text": [
      "3it [00:00,  3.77it/s]\n"
     ]
    },
    {
     "name": "stdout",
     "output_type": "stream",
     "text": [
      "    box loss-> 0.02439, object loss-> 0.03247, class loss-> 0.00000\n",
      "Validation:\n"
     ]
    },
    {
     "name": "stderr",
     "output_type": "stream",
     "text": [
      "1it [00:00,  4.66it/s]\n"
     ]
    },
    {
     "name": "stdout",
     "output_type": "stream",
     "text": [
      "    recall: 0.500000 precision: 0.783658 mAP@0.5: 0.495425, mAP@0.5-0.95: 0.198170\n",
      "\n",
      "Epoch 464/1000\n",
      "----------\n",
      "Train: \n"
     ]
    },
    {
     "name": "stderr",
     "output_type": "stream",
     "text": [
      "3it [00:00,  3.78it/s]\n"
     ]
    },
    {
     "name": "stdout",
     "output_type": "stream",
     "text": [
      "    box loss-> 0.02522, object loss-> 0.03294, class loss-> 0.00000\n",
      "Validation:\n"
     ]
    },
    {
     "name": "stderr",
     "output_type": "stream",
     "text": [
      "1it [00:00,  4.66it/s]\n"
     ]
    },
    {
     "name": "stdout",
     "output_type": "stream",
     "text": [
      "    recall: 0.500000 precision: 0.712301 mAP@0.5: 0.495425, mAP@0.5-0.95: 0.099085\n",
      "\n",
      "Epoch 465/1000\n",
      "----------\n",
      "Train: \n"
     ]
    },
    {
     "name": "stderr",
     "output_type": "stream",
     "text": [
      "3it [00:00,  3.74it/s]\n"
     ]
    },
    {
     "name": "stdout",
     "output_type": "stream",
     "text": [
      "    box loss-> 0.02447, object loss-> 0.03230, class loss-> 0.00000\n",
      "Validation:\n"
     ]
    },
    {
     "name": "stderr",
     "output_type": "stream",
     "text": [
      "1it [00:00,  4.65it/s]\n"
     ]
    },
    {
     "name": "stdout",
     "output_type": "stream",
     "text": [
      "    recall: 0.500000 precision: 0.879986 mAP@0.5: 0.495425, mAP@0.5-0.95: 0.099085\n",
      "\n",
      "Epoch 466/1000\n",
      "----------\n",
      "Train: \n"
     ]
    },
    {
     "name": "stderr",
     "output_type": "stream",
     "text": [
      "3it [00:00,  3.78it/s]\n"
     ]
    },
    {
     "name": "stdout",
     "output_type": "stream",
     "text": [
      "    box loss-> 0.02487, object loss-> 0.03272, class loss-> 0.00000\n",
      "Validation:\n"
     ]
    },
    {
     "name": "stderr",
     "output_type": "stream",
     "text": [
      "1it [00:00,  4.76it/s]\n"
     ]
    },
    {
     "name": "stdout",
     "output_type": "stream",
     "text": [
      "    recall: 0.500000 precision: 0.994456 mAP@0.5: 0.495425, mAP@0.5-0.95: 0.099085\n",
      "\n",
      "Epoch 467/1000\n",
      "----------\n",
      "Train: \n"
     ]
    },
    {
     "name": "stderr",
     "output_type": "stream",
     "text": [
      "3it [00:00,  3.73it/s]\n"
     ]
    },
    {
     "name": "stdout",
     "output_type": "stream",
     "text": [
      "    box loss-> 0.02464, object loss-> 0.03215, class loss-> 0.00000\n",
      "Validation:\n"
     ]
    },
    {
     "name": "stderr",
     "output_type": "stream",
     "text": [
      "1it [00:00,  4.79it/s]\n"
     ]
    },
    {
     "name": "stdout",
     "output_type": "stream",
     "text": [
      "    recall: 0.500000 precision: 0.948839 mAP@0.5: 0.495425, mAP@0.5-0.95: 0.099085\n",
      "\n",
      "Epoch 468/1000\n",
      "----------\n",
      "Train: \n"
     ]
    },
    {
     "name": "stderr",
     "output_type": "stream",
     "text": [
      "3it [00:00,  3.82it/s]\n"
     ]
    },
    {
     "name": "stdout",
     "output_type": "stream",
     "text": [
      "    box loss-> 0.02316, object loss-> 0.03041, class loss-> 0.00000\n",
      "Validation:\n"
     ]
    },
    {
     "name": "stderr",
     "output_type": "stream",
     "text": [
      "1it [00:00,  4.73it/s]\n"
     ]
    },
    {
     "name": "stdout",
     "output_type": "stream",
     "text": [
      "    recall: 0.500000 precision: 0.986145 mAP@0.5: 0.495425, mAP@0.5-0.95: 0.099085\n",
      "\n",
      "Epoch 469/1000\n",
      "----------\n",
      "Train: \n"
     ]
    },
    {
     "name": "stderr",
     "output_type": "stream",
     "text": [
      "3it [00:00,  3.81it/s]\n"
     ]
    },
    {
     "name": "stdout",
     "output_type": "stream",
     "text": [
      "    box loss-> 0.02532, object loss-> 0.03049, class loss-> 0.00000\n",
      "Validation:\n"
     ]
    },
    {
     "name": "stderr",
     "output_type": "stream",
     "text": [
      "1it [00:00,  4.76it/s]\n"
     ]
    },
    {
     "name": "stdout",
     "output_type": "stream",
     "text": [
      "    recall: 0.500000 precision: 0.972614 mAP@0.5: 0.495425, mAP@0.5-0.95: 0.099085\n",
      "\n",
      "Epoch 470/1000\n",
      "----------\n",
      "Train: \n"
     ]
    },
    {
     "name": "stderr",
     "output_type": "stream",
     "text": [
      "3it [00:00,  3.78it/s]\n"
     ]
    },
    {
     "name": "stdout",
     "output_type": "stream",
     "text": [
      "    box loss-> 0.02372, object loss-> 0.03130, class loss-> 0.00000\n",
      "Validation:\n"
     ]
    },
    {
     "name": "stderr",
     "output_type": "stream",
     "text": [
      "1it [00:00,  4.68it/s]\n"
     ]
    },
    {
     "name": "stdout",
     "output_type": "stream",
     "text": [
      "    recall: 0.500000 precision: 0.971209 mAP@0.5: 0.495425, mAP@0.5-0.95: 0.099085\n",
      "\n",
      "Epoch 471/1000\n",
      "----------\n",
      "Train: \n"
     ]
    },
    {
     "name": "stderr",
     "output_type": "stream",
     "text": [
      "3it [00:00,  3.81it/s]\n"
     ]
    },
    {
     "name": "stdout",
     "output_type": "stream",
     "text": [
      "    box loss-> 0.02377, object loss-> 0.03062, class loss-> 0.00000\n",
      "Validation:\n"
     ]
    },
    {
     "name": "stderr",
     "output_type": "stream",
     "text": [
      "1it [00:00,  4.75it/s]\n"
     ]
    },
    {
     "name": "stdout",
     "output_type": "stream",
     "text": [
      "    recall: 0.500000 precision: 0.978887 mAP@0.5: 0.495425, mAP@0.5-0.95: 0.099085\n",
      "\n",
      "Epoch 472/1000\n",
      "----------\n",
      "Train: \n"
     ]
    },
    {
     "name": "stderr",
     "output_type": "stream",
     "text": [
      "3it [00:00,  3.76it/s]\n"
     ]
    },
    {
     "name": "stdout",
     "output_type": "stream",
     "text": [
      "    box loss-> 0.02283, object loss-> 0.03097, class loss-> 0.00000\n",
      "Validation:\n"
     ]
    },
    {
     "name": "stderr",
     "output_type": "stream",
     "text": [
      "1it [00:00,  4.79it/s]\n"
     ]
    },
    {
     "name": "stdout",
     "output_type": "stream",
     "text": [
      "    recall: 0.500000 precision: 0.482324 mAP@0.5: 0.247925, mAP@0.5-0.95: 0.074377\n",
      "\n",
      "Epoch 473/1000\n",
      "----------\n",
      "Train: \n"
     ]
    },
    {
     "name": "stderr",
     "output_type": "stream",
     "text": [
      "3it [00:00,  3.81it/s]\n"
     ]
    },
    {
     "name": "stdout",
     "output_type": "stream",
     "text": [
      "    box loss-> 0.01799, object loss-> 0.02894, class loss-> 0.00000\n",
      "Validation:\n"
     ]
    },
    {
     "name": "stderr",
     "output_type": "stream",
     "text": [
      "1it [00:00,  4.70it/s]\n"
     ]
    },
    {
     "name": "stdout",
     "output_type": "stream",
     "text": [
      "    recall: 0.493927 precision: 0.493927 mAP@0.5: 0.247925, mAP@0.5-0.95: 0.074377\n",
      "\n",
      "Epoch 474/1000\n",
      "----------\n",
      "Train: \n"
     ]
    },
    {
     "name": "stderr",
     "output_type": "stream",
     "text": [
      "3it [00:00,  3.76it/s]\n"
     ]
    },
    {
     "name": "stdout",
     "output_type": "stream",
     "text": [
      "    box loss-> 0.01757, object loss-> 0.02927, class loss-> 0.00000\n",
      "Validation:\n"
     ]
    },
    {
     "name": "stderr",
     "output_type": "stream",
     "text": [
      "1it [00:00,  4.82it/s]\n"
     ]
    },
    {
     "name": "stdout",
     "output_type": "stream",
     "text": [
      "    recall: 0.500000 precision: 0.493085 mAP@0.5: 0.247925, mAP@0.5-0.95: 0.074377\n",
      "\n",
      "Epoch 475/1000\n",
      "----------\n",
      "Train: \n"
     ]
    },
    {
     "name": "stderr",
     "output_type": "stream",
     "text": [
      "3it [00:00,  3.82it/s]\n"
     ]
    },
    {
     "name": "stdout",
     "output_type": "stream",
     "text": [
      "    box loss-> 0.01813, object loss-> 0.02909, class loss-> 0.00000\n",
      "Validation:\n"
     ]
    },
    {
     "name": "stderr",
     "output_type": "stream",
     "text": [
      "1it [00:00,  4.77it/s]\n"
     ]
    },
    {
     "name": "stdout",
     "output_type": "stream",
     "text": [
      "    recall: 0.500000 precision: 0.461561 mAP@0.5: 0.247925, mAP@0.5-0.95: 0.074377\n",
      "\n",
      "Epoch 476/1000\n",
      "----------\n",
      "Train: \n"
     ]
    },
    {
     "name": "stderr",
     "output_type": "stream",
     "text": [
      "3it [00:00,  3.75it/s]\n"
     ]
    },
    {
     "name": "stdout",
     "output_type": "stream",
     "text": [
      "    box loss-> 0.01798, object loss-> 0.02962, class loss-> 0.00000\n",
      "Validation:\n"
     ]
    },
    {
     "name": "stderr",
     "output_type": "stream",
     "text": [
      "1it [00:00,  4.80it/s]\n"
     ]
    },
    {
     "name": "stdout",
     "output_type": "stream",
     "text": [
      "    recall: 0.500000 precision: 0.481980 mAP@0.5: 0.247925, mAP@0.5-0.95: 0.074377\n",
      "\n",
      "Epoch 477/1000\n",
      "----------\n",
      "Train: \n"
     ]
    },
    {
     "name": "stderr",
     "output_type": "stream",
     "text": [
      "3it [00:00,  3.77it/s]\n"
     ]
    },
    {
     "name": "stdout",
     "output_type": "stream",
     "text": [
      "    box loss-> 0.01774, object loss-> 0.02906, class loss-> 0.00000\n",
      "Validation:\n"
     ]
    },
    {
     "name": "stderr",
     "output_type": "stream",
     "text": [
      "1it [00:00,  4.68it/s]\n"
     ]
    },
    {
     "name": "stdout",
     "output_type": "stream",
     "text": [
      "    recall: 0.500000 precision: 0.536206 mAP@0.5: 0.495425, mAP@0.5-0.95: 0.148627\n",
      "\n",
      "Epoch 478/1000\n",
      "----------\n",
      "Train: \n"
     ]
    },
    {
     "name": "stderr",
     "output_type": "stream",
     "text": [
      "3it [00:00,  3.82it/s]\n"
     ]
    },
    {
     "name": "stdout",
     "output_type": "stream",
     "text": [
      "    box loss-> 0.01969, object loss-> 0.02875, class loss-> 0.00000\n",
      "Validation:\n"
     ]
    },
    {
     "name": "stderr",
     "output_type": "stream",
     "text": [
      "1it [00:00,  4.64it/s]\n"
     ]
    },
    {
     "name": "stdout",
     "output_type": "stream",
     "text": [
      "    recall: 0.500000 precision: 0.928054 mAP@0.5: 0.495425, mAP@0.5-0.95: 0.148627\n",
      "\n",
      "Epoch 479/1000\n",
      "----------\n",
      "Train: \n"
     ]
    },
    {
     "name": "stderr",
     "output_type": "stream",
     "text": [
      "3it [00:00,  3.85it/s]\n"
     ]
    },
    {
     "name": "stdout",
     "output_type": "stream",
     "text": [
      "    box loss-> 0.01912, object loss-> 0.02822, class loss-> 0.00000\n",
      "Validation:\n"
     ]
    },
    {
     "name": "stderr",
     "output_type": "stream",
     "text": [
      "1it [00:00,  4.66it/s]\n"
     ]
    },
    {
     "name": "stdout",
     "output_type": "stream",
     "text": [
      "    recall: 0.500000 precision: 0.837271 mAP@0.5: 0.495425, mAP@0.5-0.95: 0.148627\n",
      "\n",
      "Epoch 480/1000\n",
      "----------\n",
      "Train: \n"
     ]
    },
    {
     "name": "stderr",
     "output_type": "stream",
     "text": [
      "3it [00:00,  3.77it/s]\n"
     ]
    },
    {
     "name": "stdout",
     "output_type": "stream",
     "text": [
      "    box loss-> 0.01977, object loss-> 0.02879, class loss-> 0.00000\n",
      "Validation:\n"
     ]
    },
    {
     "name": "stderr",
     "output_type": "stream",
     "text": [
      "1it [00:00,  4.72it/s]\n"
     ]
    },
    {
     "name": "stdout",
     "output_type": "stream",
     "text": [
      "    recall: 0.500000 precision: 0.927679 mAP@0.5: 0.495425, mAP@0.5-0.95: 0.148627\n",
      "\n",
      "Epoch 481/1000\n",
      "----------\n",
      "Train: \n"
     ]
    },
    {
     "name": "stderr",
     "output_type": "stream",
     "text": [
      "3it [00:00,  3.83it/s]\n"
     ]
    },
    {
     "name": "stdout",
     "output_type": "stream",
     "text": [
      "    box loss-> 0.01967, object loss-> 0.02891, class loss-> 0.00000\n",
      "Validation:\n"
     ]
    },
    {
     "name": "stderr",
     "output_type": "stream",
     "text": [
      "1it [00:00,  4.72it/s]\n"
     ]
    },
    {
     "name": "stdout",
     "output_type": "stream",
     "text": [
      "    recall: 0.500000 precision: 0.496272 mAP@0.5: 0.495425, mAP@0.5-0.95: 0.198170\n",
      "\n",
      "Epoch 482/1000\n",
      "----------\n",
      "Train: \n"
     ]
    },
    {
     "name": "stderr",
     "output_type": "stream",
     "text": [
      "3it [00:00,  3.80it/s]\n"
     ]
    },
    {
     "name": "stdout",
     "output_type": "stream",
     "text": [
      "    box loss-> 0.01921, object loss-> 0.02827, class loss-> 0.00000\n",
      "Validation:\n"
     ]
    },
    {
     "name": "stderr",
     "output_type": "stream",
     "text": [
      "1it [00:00,  4.72it/s]\n"
     ]
    },
    {
     "name": "stdout",
     "output_type": "stream",
     "text": [
      "    recall: 0.500000 precision: 0.499115 mAP@0.5: 0.495425, mAP@0.5-0.95: 0.346797\n",
      "\n",
      "Epoch 483/1000\n",
      "----------\n",
      "Train: \n"
     ]
    },
    {
     "name": "stderr",
     "output_type": "stream",
     "text": [
      "3it [00:00,  3.74it/s]\n"
     ]
    },
    {
     "name": "stdout",
     "output_type": "stream",
     "text": [
      "    box loss-> 0.01884, object loss-> 0.02842, class loss-> 0.00000\n",
      "Validation:\n"
     ]
    },
    {
     "name": "stderr",
     "output_type": "stream",
     "text": [
      "1it [00:00,  4.57it/s]\n"
     ]
    },
    {
     "name": "stdout",
     "output_type": "stream",
     "text": [
      "    recall: 0.500000 precision: 0.918446 mAP@0.5: 0.495425, mAP@0.5-0.95: 0.346797\n",
      "\n",
      "Epoch 484/1000\n",
      "----------\n",
      "Train: \n"
     ]
    },
    {
     "name": "stderr",
     "output_type": "stream",
     "text": [
      "3it [00:00,  3.77it/s]\n"
     ]
    },
    {
     "name": "stdout",
     "output_type": "stream",
     "text": [
      "    box loss-> 0.01772, object loss-> 0.02755, class loss-> 0.00000\n",
      "Validation:\n"
     ]
    },
    {
     "name": "stderr",
     "output_type": "stream",
     "text": [
      "1it [00:00,  4.74it/s]\n"
     ]
    },
    {
     "name": "stdout",
     "output_type": "stream",
     "text": [
      "    recall: 0.500000 precision: 0.987285 mAP@0.5: 0.495425, mAP@0.5-0.95: 0.346797\n",
      "\n",
      "Epoch 485/1000\n",
      "----------\n",
      "Train: \n"
     ]
    },
    {
     "name": "stderr",
     "output_type": "stream",
     "text": [
      "3it [00:00,  3.82it/s]\n"
     ]
    },
    {
     "name": "stdout",
     "output_type": "stream",
     "text": [
      "    box loss-> 0.01753, object loss-> 0.02754, class loss-> 0.00000\n",
      "Validation:\n"
     ]
    },
    {
     "name": "stderr",
     "output_type": "stream",
     "text": [
      "1it [00:00,  4.58it/s]\n"
     ]
    },
    {
     "name": "stdout",
     "output_type": "stream",
     "text": [
      "    recall: 0.500000 precision: 0.872744 mAP@0.5: 0.495425, mAP@0.5-0.95: 0.346797\n",
      "\n",
      "Epoch 486/1000\n",
      "----------\n",
      "Train: \n"
     ]
    },
    {
     "name": "stderr",
     "output_type": "stream",
     "text": [
      "3it [00:00,  3.75it/s]\n"
     ]
    },
    {
     "name": "stdout",
     "output_type": "stream",
     "text": [
      "    box loss-> 0.01757, object loss-> 0.02761, class loss-> 0.00000\n",
      "Validation:\n"
     ]
    },
    {
     "name": "stderr",
     "output_type": "stream",
     "text": [
      "1it [00:00,  4.79it/s]\n"
     ]
    },
    {
     "name": "stdout",
     "output_type": "stream",
     "text": [
      "    recall: 0.500000 precision: 0.898921 mAP@0.5: 0.495425, mAP@0.5-0.95: 0.346797\n",
      "\n",
      "Epoch 487/1000\n",
      "----------\n",
      "Train: \n"
     ]
    },
    {
     "name": "stderr",
     "output_type": "stream",
     "text": [
      "3it [00:00,  3.78it/s]\n"
     ]
    },
    {
     "name": "stdout",
     "output_type": "stream",
     "text": [
      "    box loss-> 0.01776, object loss-> 0.02748, class loss-> 0.00000\n",
      "Validation:\n"
     ]
    },
    {
     "name": "stderr",
     "output_type": "stream",
     "text": [
      "1it [00:00,  4.67it/s]\n"
     ]
    },
    {
     "name": "stdout",
     "output_type": "stream",
     "text": [
      "    recall: 0.500000 precision: 0.968013 mAP@0.5: 0.495425, mAP@0.5-0.95: 0.346797\n",
      "\n",
      "Epoch 488/1000\n",
      "----------\n",
      "Train: \n"
     ]
    },
    {
     "name": "stderr",
     "output_type": "stream",
     "text": [
      "3it [00:00,  3.77it/s]\n"
     ]
    },
    {
     "name": "stdout",
     "output_type": "stream",
     "text": [
      "    box loss-> 0.01714, object loss-> 0.02779, class loss-> 0.00000\n",
      "Validation:\n"
     ]
    },
    {
     "name": "stderr",
     "output_type": "stream",
     "text": [
      "1it [00:00,  4.67it/s]\n"
     ]
    },
    {
     "name": "stdout",
     "output_type": "stream",
     "text": [
      "    recall: 0.500000 precision: 0.971174 mAP@0.5: 0.495425, mAP@0.5-0.95: 0.346797\n",
      "\n",
      "Epoch 489/1000\n",
      "----------\n",
      "Train: \n"
     ]
    },
    {
     "name": "stderr",
     "output_type": "stream",
     "text": [
      "3it [00:00,  3.77it/s]\n"
     ]
    },
    {
     "name": "stdout",
     "output_type": "stream",
     "text": [
      "    box loss-> 0.01728, object loss-> 0.02663, class loss-> 0.00000\n",
      "Validation:\n"
     ]
    },
    {
     "name": "stderr",
     "output_type": "stream",
     "text": [
      "1it [00:00,  4.54it/s]\n"
     ]
    },
    {
     "name": "stdout",
     "output_type": "stream",
     "text": [
      "    recall: 0.500000 precision: 0.973070 mAP@0.5: 0.495425, mAP@0.5-0.95: 0.346797\n",
      "\n",
      "Epoch 490/1000\n",
      "----------\n",
      "Train: \n"
     ]
    },
    {
     "name": "stderr",
     "output_type": "stream",
     "text": [
      "3it [00:00,  3.73it/s]\n"
     ]
    },
    {
     "name": "stdout",
     "output_type": "stream",
     "text": [
      "    box loss-> 0.01686, object loss-> 0.02655, class loss-> 0.00000\n",
      "Validation:\n"
     ]
    },
    {
     "name": "stderr",
     "output_type": "stream",
     "text": [
      "1it [00:00,  4.69it/s]\n"
     ]
    },
    {
     "name": "stdout",
     "output_type": "stream",
     "text": [
      "    recall: 0.500000 precision: 0.983461 mAP@0.5: 0.495425, mAP@0.5-0.95: 0.346797\n",
      "\n",
      "Epoch 491/1000\n",
      "----------\n",
      "Train: \n"
     ]
    },
    {
     "name": "stderr",
     "output_type": "stream",
     "text": [
      "3it [00:00,  3.80it/s]\n"
     ]
    },
    {
     "name": "stdout",
     "output_type": "stream",
     "text": [
      "    box loss-> 0.01629, object loss-> 0.02621, class loss-> 0.00000\n",
      "Validation:\n"
     ]
    },
    {
     "name": "stderr",
     "output_type": "stream",
     "text": [
      "1it [00:00,  4.79it/s]\n"
     ]
    },
    {
     "name": "stdout",
     "output_type": "stream",
     "text": [
      "    recall: 0.500000 precision: 0.954196 mAP@0.5: 0.495425, mAP@0.5-0.95: 0.346797\n",
      "\n",
      "Epoch 492/1000\n",
      "----------\n",
      "Train: \n"
     ]
    },
    {
     "name": "stderr",
     "output_type": "stream",
     "text": [
      "3it [00:00,  3.75it/s]\n"
     ]
    },
    {
     "name": "stdout",
     "output_type": "stream",
     "text": [
      "    box loss-> 0.01667, object loss-> 0.02661, class loss-> 0.00000\n",
      "Validation:\n"
     ]
    },
    {
     "name": "stderr",
     "output_type": "stream",
     "text": [
      "1it [00:00,  4.62it/s]\n"
     ]
    },
    {
     "name": "stdout",
     "output_type": "stream",
     "text": [
      "    recall: 0.500000 precision: 0.990948 mAP@0.5: 0.495425, mAP@0.5-0.95: 0.297255\n",
      "\n",
      "Epoch 493/1000\n",
      "----------\n",
      "Train: \n"
     ]
    },
    {
     "name": "stderr",
     "output_type": "stream",
     "text": [
      "3it [00:00,  3.75it/s]\n"
     ]
    },
    {
     "name": "stdout",
     "output_type": "stream",
     "text": [
      "    box loss-> 0.01750, object loss-> 0.02695, class loss-> 0.00000\n",
      "Validation:\n"
     ]
    },
    {
     "name": "stderr",
     "output_type": "stream",
     "text": [
      "1it [00:00,  4.71it/s]\n"
     ]
    },
    {
     "name": "stdout",
     "output_type": "stream",
     "text": [
      "    recall: 0.500000 precision: 0.998831 mAP@0.5: 0.495425, mAP@0.5-0.95: 0.297255\n",
      "\n",
      "Epoch 494/1000\n",
      "----------\n",
      "Train: \n"
     ]
    },
    {
     "name": "stderr",
     "output_type": "stream",
     "text": [
      "3it [00:00,  3.79it/s]\n"
     ]
    },
    {
     "name": "stdout",
     "output_type": "stream",
     "text": [
      "    box loss-> 0.01957, object loss-> 0.02818, class loss-> 0.00000\n",
      "Validation:\n"
     ]
    },
    {
     "name": "stderr",
     "output_type": "stream",
     "text": [
      "1it [00:00,  4.60it/s]\n"
     ]
    },
    {
     "name": "stdout",
     "output_type": "stream",
     "text": [
      "    recall: 0.500000 precision: 0.996509 mAP@0.5: 0.495425, mAP@0.5-0.95: 0.297255\n",
      "\n",
      "Epoch 495/1000\n",
      "----------\n",
      "Train: \n"
     ]
    },
    {
     "name": "stderr",
     "output_type": "stream",
     "text": [
      "3it [00:00,  3.76it/s]\n"
     ]
    },
    {
     "name": "stdout",
     "output_type": "stream",
     "text": [
      "    box loss-> 0.02002, object loss-> 0.02824, class loss-> 0.00000\n",
      "Validation:\n"
     ]
    },
    {
     "name": "stderr",
     "output_type": "stream",
     "text": [
      "1it [00:00,  4.63it/s]\n"
     ]
    },
    {
     "name": "stdout",
     "output_type": "stream",
     "text": [
      "    recall: 0.500000 precision: 0.979740 mAP@0.5: 0.495425, mAP@0.5-0.95: 0.297255\n",
      "\n",
      "Epoch 496/1000\n",
      "----------\n",
      "Train: \n"
     ]
    },
    {
     "name": "stderr",
     "output_type": "stream",
     "text": [
      "3it [00:00,  3.79it/s]\n"
     ]
    },
    {
     "name": "stdout",
     "output_type": "stream",
     "text": [
      "    box loss-> 0.02042, object loss-> 0.02839, class loss-> 0.00000\n",
      "Validation:\n"
     ]
    },
    {
     "name": "stderr",
     "output_type": "stream",
     "text": [
      "1it [00:00,  4.49it/s]\n"
     ]
    },
    {
     "name": "stdout",
     "output_type": "stream",
     "text": [
      "    recall: 0.500000 precision: 0.990241 mAP@0.5: 0.495425, mAP@0.5-0.95: 0.297255\n",
      "\n",
      "Epoch 497/1000\n",
      "----------\n",
      "Train: \n"
     ]
    },
    {
     "name": "stderr",
     "output_type": "stream",
     "text": [
      "3it [00:00,  3.75it/s]\n"
     ]
    },
    {
     "name": "stdout",
     "output_type": "stream",
     "text": [
      "    box loss-> 0.01950, object loss-> 0.02812, class loss-> 0.00000\n",
      "Validation:\n"
     ]
    },
    {
     "name": "stderr",
     "output_type": "stream",
     "text": [
      "1it [00:00,  4.68it/s]\n"
     ]
    },
    {
     "name": "stdout",
     "output_type": "stream",
     "text": [
      "    recall: 0.500000 precision: 0.983105 mAP@0.5: 0.495425, mAP@0.5-0.95: 0.297255\n",
      "\n",
      "Epoch 498/1000\n",
      "----------\n",
      "Train: \n"
     ]
    },
    {
     "name": "stderr",
     "output_type": "stream",
     "text": [
      "3it [00:00,  3.82it/s]\n"
     ]
    },
    {
     "name": "stdout",
     "output_type": "stream",
     "text": [
      "    box loss-> 0.02005, object loss-> 0.02841, class loss-> 0.00000\n",
      "Validation:\n"
     ]
    },
    {
     "name": "stderr",
     "output_type": "stream",
     "text": [
      "1it [00:00,  4.72it/s]\n"
     ]
    },
    {
     "name": "stdout",
     "output_type": "stream",
     "text": [
      "    recall: 0.500000 precision: 0.975187 mAP@0.5: 0.495425, mAP@0.5-0.95: 0.297255\n",
      "\n",
      "Epoch 499/1000\n",
      "----------\n",
      "Train: \n"
     ]
    },
    {
     "name": "stderr",
     "output_type": "stream",
     "text": [
      "3it [00:00,  3.73it/s]\n"
     ]
    },
    {
     "name": "stdout",
     "output_type": "stream",
     "text": [
      "    box loss-> 0.01844, object loss-> 0.02671, class loss-> 0.00000\n",
      "Validation:\n"
     ]
    },
    {
     "name": "stderr",
     "output_type": "stream",
     "text": [
      "1it [00:00,  4.77it/s]\n"
     ]
    },
    {
     "name": "stdout",
     "output_type": "stream",
     "text": [
      "    recall: 0.500000 precision: 0.984554 mAP@0.5: 0.495425, mAP@0.5-0.95: 0.297255\n",
      "\n",
      "Epoch 500/1000\n",
      "----------\n",
      "Train: \n"
     ]
    },
    {
     "name": "stderr",
     "output_type": "stream",
     "text": [
      "3it [00:00,  3.80it/s]\n"
     ]
    },
    {
     "name": "stdout",
     "output_type": "stream",
     "text": [
      "    box loss-> 0.01674, object loss-> 0.02587, class loss-> 0.00000\n",
      "Validation:\n"
     ]
    },
    {
     "name": "stderr",
     "output_type": "stream",
     "text": [
      "1it [00:00,  4.76it/s]\n"
     ]
    },
    {
     "name": "stdout",
     "output_type": "stream",
     "text": [
      "    recall: 0.500000 precision: 0.984341 mAP@0.5: 0.495425, mAP@0.5-0.95: 0.297255\n",
      "\n",
      "Epoch 501/1000\n",
      "----------\n",
      "Train: \n"
     ]
    },
    {
     "name": "stderr",
     "output_type": "stream",
     "text": [
      "3it [00:00,  3.83it/s]\n"
     ]
    },
    {
     "name": "stdout",
     "output_type": "stream",
     "text": [
      "    box loss-> 0.01574, object loss-> 0.02549, class loss-> 0.00000\n",
      "Validation:\n"
     ]
    },
    {
     "name": "stderr",
     "output_type": "stream",
     "text": [
      "1it [00:00,  4.65it/s]\n"
     ]
    },
    {
     "name": "stdout",
     "output_type": "stream",
     "text": [
      "    recall: 0.500000 precision: 0.997687 mAP@0.5: 0.495425, mAP@0.5-0.95: 0.297255\n",
      "\n",
      "Epoch 502/1000\n",
      "----------\n",
      "Train: \n"
     ]
    },
    {
     "name": "stderr",
     "output_type": "stream",
     "text": [
      "3it [00:00,  3.81it/s]\n"
     ]
    },
    {
     "name": "stdout",
     "output_type": "stream",
     "text": [
      "    box loss-> 0.01668, object loss-> 0.02638, class loss-> 0.00000\n",
      "Validation:\n"
     ]
    },
    {
     "name": "stderr",
     "output_type": "stream",
     "text": [
      "1it [00:00,  4.66it/s]\n"
     ]
    },
    {
     "name": "stdout",
     "output_type": "stream",
     "text": [
      "    recall: 0.500000 precision: 0.996987 mAP@0.5: 0.495425, mAP@0.5-0.95: 0.297255\n",
      "\n",
      "Epoch 503/1000\n",
      "----------\n",
      "Train: \n"
     ]
    },
    {
     "name": "stderr",
     "output_type": "stream",
     "text": [
      "3it [00:00,  3.81it/s]\n"
     ]
    },
    {
     "name": "stdout",
     "output_type": "stream",
     "text": [
      "    box loss-> 0.01668, object loss-> 0.02619, class loss-> 0.00000\n",
      "Validation:\n"
     ]
    },
    {
     "name": "stderr",
     "output_type": "stream",
     "text": [
      "1it [00:00,  4.63it/s]\n"
     ]
    },
    {
     "name": "stdout",
     "output_type": "stream",
     "text": [
      "    recall: 0.500000 precision: 0.949348 mAP@0.5: 0.495425, mAP@0.5-0.95: 0.297255\n",
      "\n",
      "Epoch 504/1000\n",
      "----------\n",
      "Train: \n"
     ]
    },
    {
     "name": "stderr",
     "output_type": "stream",
     "text": [
      "3it [00:00,  3.75it/s]\n"
     ]
    },
    {
     "name": "stdout",
     "output_type": "stream",
     "text": [
      "    box loss-> 0.01788, object loss-> 0.02674, class loss-> 0.00000\n",
      "Validation:\n"
     ]
    },
    {
     "name": "stderr",
     "output_type": "stream",
     "text": [
      "1it [00:00,  4.72it/s]\n"
     ]
    },
    {
     "name": "stdout",
     "output_type": "stream",
     "text": [
      "    recall: 0.500000 precision: 0.997714 mAP@0.5: 0.495425, mAP@0.5-0.95: 0.297255\n",
      "\n",
      "Epoch 505/1000\n",
      "----------\n",
      "Train: \n"
     ]
    },
    {
     "name": "stderr",
     "output_type": "stream",
     "text": [
      "3it [00:00,  3.84it/s]\n"
     ]
    },
    {
     "name": "stdout",
     "output_type": "stream",
     "text": [
      "    box loss-> 0.01794, object loss-> 0.02696, class loss-> 0.00000\n",
      "Validation:\n"
     ]
    },
    {
     "name": "stderr",
     "output_type": "stream",
     "text": [
      "1it [00:00,  4.76it/s]\n"
     ]
    },
    {
     "name": "stdout",
     "output_type": "stream",
     "text": [
      "    recall: 0.500000 precision: 0.998248 mAP@0.5: 0.495425, mAP@0.5-0.95: 0.297255\n",
      "\n",
      "Epoch 506/1000\n",
      "----------\n",
      "Train: \n"
     ]
    },
    {
     "name": "stderr",
     "output_type": "stream",
     "text": [
      "3it [00:00,  3.81it/s]\n"
     ]
    },
    {
     "name": "stdout",
     "output_type": "stream",
     "text": [
      "    box loss-> 0.01753, object loss-> 0.02693, class loss-> 0.00000\n",
      "Validation:\n"
     ]
    },
    {
     "name": "stderr",
     "output_type": "stream",
     "text": [
      "1it [00:00,  4.74it/s]\n"
     ]
    },
    {
     "name": "stdout",
     "output_type": "stream",
     "text": [
      "    recall: 0.500000 precision: 0.988769 mAP@0.5: 0.495425, mAP@0.5-0.95: 0.099085\n",
      "\n",
      "Epoch 507/1000\n",
      "----------\n",
      "Train: \n"
     ]
    },
    {
     "name": "stderr",
     "output_type": "stream",
     "text": [
      "3it [00:00,  3.82it/s]\n"
     ]
    },
    {
     "name": "stdout",
     "output_type": "stream",
     "text": [
      "    box loss-> 0.01710, object loss-> 0.02644, class loss-> 0.00000\n",
      "Validation:\n"
     ]
    },
    {
     "name": "stderr",
     "output_type": "stream",
     "text": [
      "1it [00:00,  4.62it/s]\n"
     ]
    },
    {
     "name": "stdout",
     "output_type": "stream",
     "text": [
      "    recall: 0.500000 precision: 0.994271 mAP@0.5: 0.495425, mAP@0.5-0.95: 0.099085\n",
      "\n",
      "Epoch 508/1000\n",
      "----------\n",
      "Train: \n"
     ]
    },
    {
     "name": "stderr",
     "output_type": "stream",
     "text": [
      "3it [00:00,  3.82it/s]\n"
     ]
    },
    {
     "name": "stdout",
     "output_type": "stream",
     "text": [
      "    box loss-> 0.01715, object loss-> 0.02640, class loss-> 0.00000\n",
      "Validation:\n"
     ]
    },
    {
     "name": "stderr",
     "output_type": "stream",
     "text": [
      "1it [00:00,  4.78it/s]\n"
     ]
    },
    {
     "name": "stdout",
     "output_type": "stream",
     "text": [
      "    recall: 0.500000 precision: 0.999049 mAP@0.5: 0.495425, mAP@0.5-0.95: 0.148627\n",
      "\n",
      "Epoch 509/1000\n",
      "----------\n",
      "Train: \n"
     ]
    },
    {
     "name": "stderr",
     "output_type": "stream",
     "text": [
      "3it [00:00,  3.76it/s]\n"
     ]
    },
    {
     "name": "stdout",
     "output_type": "stream",
     "text": [
      "    box loss-> 0.01804, object loss-> 0.02686, class loss-> 0.00000\n",
      "Validation:\n"
     ]
    },
    {
     "name": "stderr",
     "output_type": "stream",
     "text": [
      "1it [00:00,  4.75it/s]\n"
     ]
    },
    {
     "name": "stdout",
     "output_type": "stream",
     "text": [
      "    recall: 0.500000 precision: 0.989750 mAP@0.5: 0.495425, mAP@0.5-0.95: 0.297255\n",
      "\n",
      "Epoch 510/1000\n",
      "----------\n",
      "Train: \n"
     ]
    },
    {
     "name": "stderr",
     "output_type": "stream",
     "text": [
      "3it [00:00,  3.78it/s]\n"
     ]
    },
    {
     "name": "stdout",
     "output_type": "stream",
     "text": [
      "    box loss-> 0.01908, object loss-> 0.02824, class loss-> 0.00000\n",
      "Validation:\n"
     ]
    },
    {
     "name": "stderr",
     "output_type": "stream",
     "text": [
      "1it [00:00,  4.49it/s]\n"
     ]
    },
    {
     "name": "stdout",
     "output_type": "stream",
     "text": [
      "    recall: 0.500000 precision: 0.988322 mAP@0.5: 0.495425, mAP@0.5-0.95: 0.297255\n",
      "\n",
      "Epoch 511/1000\n",
      "----------\n",
      "Train: \n"
     ]
    },
    {
     "name": "stderr",
     "output_type": "stream",
     "text": [
      "3it [00:00,  3.80it/s]\n"
     ]
    },
    {
     "name": "stdout",
     "output_type": "stream",
     "text": [
      "    box loss-> 0.01885, object loss-> 0.02768, class loss-> 0.00000\n",
      "Validation:\n"
     ]
    },
    {
     "name": "stderr",
     "output_type": "stream",
     "text": [
      "1it [00:00,  4.77it/s]\n"
     ]
    },
    {
     "name": "stdout",
     "output_type": "stream",
     "text": [
      "    recall: 0.500000 precision: 0.989756 mAP@0.5: 0.495425, mAP@0.5-0.95: 0.297255\n",
      "\n",
      "Epoch 512/1000\n",
      "----------\n",
      "Train: \n"
     ]
    },
    {
     "name": "stderr",
     "output_type": "stream",
     "text": [
      "3it [00:00,  3.79it/s]\n"
     ]
    },
    {
     "name": "stdout",
     "output_type": "stream",
     "text": [
      "    box loss-> 0.01817, object loss-> 0.02746, class loss-> 0.00000\n",
      "Validation:\n"
     ]
    },
    {
     "name": "stderr",
     "output_type": "stream",
     "text": [
      "1it [00:00,  4.71it/s]\n"
     ]
    },
    {
     "name": "stdout",
     "output_type": "stream",
     "text": [
      "    recall: 0.500000 precision: 0.987447 mAP@0.5: 0.495425, mAP@0.5-0.95: 0.297255\n",
      "\n",
      "Epoch 513/1000\n",
      "----------\n",
      "Train: \n"
     ]
    },
    {
     "name": "stderr",
     "output_type": "stream",
     "text": [
      "3it [00:00,  3.81it/s]\n"
     ]
    },
    {
     "name": "stdout",
     "output_type": "stream",
     "text": [
      "    box loss-> 0.01847, object loss-> 0.02775, class loss-> 0.00000\n",
      "Validation:\n"
     ]
    },
    {
     "name": "stderr",
     "output_type": "stream",
     "text": [
      "1it [00:00,  4.81it/s]\n"
     ]
    },
    {
     "name": "stdout",
     "output_type": "stream",
     "text": [
      "    recall: 0.500000 precision: 0.997368 mAP@0.5: 0.495425, mAP@0.5-0.95: 0.297255\n",
      "\n",
      "Epoch 514/1000\n",
      "----------\n",
      "Train: \n"
     ]
    },
    {
     "name": "stderr",
     "output_type": "stream",
     "text": [
      "3it [00:00,  3.83it/s]\n"
     ]
    },
    {
     "name": "stdout",
     "output_type": "stream",
     "text": [
      "    box loss-> 0.01853, object loss-> 0.02800, class loss-> 0.00000\n",
      "Validation:\n"
     ]
    },
    {
     "name": "stderr",
     "output_type": "stream",
     "text": [
      "1it [00:00,  4.78it/s]\n"
     ]
    },
    {
     "name": "stdout",
     "output_type": "stream",
     "text": [
      "    recall: 0.500000 precision: 0.982088 mAP@0.5: 0.495425, mAP@0.5-0.95: 0.297255\n",
      "\n",
      "Epoch 515/1000\n",
      "----------\n",
      "Train: \n"
     ]
    },
    {
     "name": "stderr",
     "output_type": "stream",
     "text": [
      "3it [00:00,  3.70it/s]\n"
     ]
    },
    {
     "name": "stdout",
     "output_type": "stream",
     "text": [
      "    box loss-> 0.01765, object loss-> 0.02719, class loss-> 0.00000\n",
      "Validation:\n"
     ]
    },
    {
     "name": "stderr",
     "output_type": "stream",
     "text": [
      "1it [00:00,  4.76it/s]\n"
     ]
    },
    {
     "name": "stdout",
     "output_type": "stream",
     "text": [
      "    recall: 0.500000 precision: 0.999958 mAP@0.5: 0.495425, mAP@0.5-0.95: 0.247713\n",
      "\n",
      "Epoch 516/1000\n",
      "----------\n",
      "Train: \n"
     ]
    },
    {
     "name": "stderr",
     "output_type": "stream",
     "text": [
      "3it [00:00,  3.81it/s]\n"
     ]
    },
    {
     "name": "stdout",
     "output_type": "stream",
     "text": [
      "    box loss-> 0.01592, object loss-> 0.02624, class loss-> 0.00000\n",
      "Validation:\n"
     ]
    },
    {
     "name": "stderr",
     "output_type": "stream",
     "text": [
      "1it [00:00,  4.75it/s]\n"
     ]
    },
    {
     "name": "stdout",
     "output_type": "stream",
     "text": [
      "    recall: 0.500000 precision: 0.989163 mAP@0.5: 0.495425, mAP@0.5-0.95: 0.247713\n",
      "\n",
      "Epoch 517/1000\n",
      "----------\n",
      "Train: \n"
     ]
    },
    {
     "name": "stderr",
     "output_type": "stream",
     "text": [
      "3it [00:00,  3.79it/s]\n"
     ]
    },
    {
     "name": "stdout",
     "output_type": "stream",
     "text": [
      "    box loss-> 0.01646, object loss-> 0.02694, class loss-> 0.00000\n",
      "Validation:\n"
     ]
    },
    {
     "name": "stderr",
     "output_type": "stream",
     "text": [
      "1it [00:00,  4.70it/s]\n"
     ]
    },
    {
     "name": "stdout",
     "output_type": "stream",
     "text": [
      "    recall: 0.500000 precision: 0.992292 mAP@0.5: 0.495425, mAP@0.5-0.95: 0.247713\n",
      "\n",
      "Epoch 518/1000\n",
      "----------\n",
      "Train: \n"
     ]
    },
    {
     "name": "stderr",
     "output_type": "stream",
     "text": [
      "3it [00:00,  3.77it/s]\n"
     ]
    },
    {
     "name": "stdout",
     "output_type": "stream",
     "text": [
      "    box loss-> 0.01631, object loss-> 0.02641, class loss-> 0.00000\n",
      "Validation:\n"
     ]
    },
    {
     "name": "stderr",
     "output_type": "stream",
     "text": [
      "1it [00:00,  4.68it/s]\n"
     ]
    },
    {
     "name": "stdout",
     "output_type": "stream",
     "text": [
      "    recall: 0.500000 precision: 0.998921 mAP@0.5: 0.495425, mAP@0.5-0.95: 0.247713\n",
      "\n",
      "Epoch 519/1000\n",
      "----------\n",
      "Train: \n"
     ]
    },
    {
     "name": "stderr",
     "output_type": "stream",
     "text": [
      "3it [00:00,  3.81it/s]\n"
     ]
    },
    {
     "name": "stdout",
     "output_type": "stream",
     "text": [
      "    box loss-> 0.01665, object loss-> 0.02640, class loss-> 0.00000\n",
      "Validation:\n"
     ]
    },
    {
     "name": "stderr",
     "output_type": "stream",
     "text": [
      "1it [00:00,  4.78it/s]\n"
     ]
    },
    {
     "name": "stdout",
     "output_type": "stream",
     "text": [
      "    recall: 0.500000 precision: 0.984689 mAP@0.5: 0.495425, mAP@0.5-0.95: 0.247713\n",
      "\n",
      "Epoch 520/1000\n",
      "----------\n",
      "Train: \n"
     ]
    },
    {
     "name": "stderr",
     "output_type": "stream",
     "text": [
      "3it [00:00,  3.74it/s]\n"
     ]
    },
    {
     "name": "stdout",
     "output_type": "stream",
     "text": [
      "    box loss-> 0.01621, object loss-> 0.02609, class loss-> 0.00000\n",
      "Validation:\n"
     ]
    },
    {
     "name": "stderr",
     "output_type": "stream",
     "text": [
      "1it [00:00,  4.82it/s]\n"
     ]
    },
    {
     "name": "stdout",
     "output_type": "stream",
     "text": [
      "    recall: 0.500000 precision: 0.989094 mAP@0.5: 0.495425, mAP@0.5-0.95: 0.099085\n",
      "\n",
      "Epoch 521/1000\n",
      "----------\n",
      "Train: \n"
     ]
    },
    {
     "name": "stderr",
     "output_type": "stream",
     "text": [
      "3it [00:00,  3.78it/s]\n"
     ]
    },
    {
     "name": "stdout",
     "output_type": "stream",
     "text": [
      "    box loss-> 0.01839, object loss-> 0.02713, class loss-> 0.00000\n",
      "Validation:\n"
     ]
    },
    {
     "name": "stderr",
     "output_type": "stream",
     "text": [
      "1it [00:00,  4.63it/s]\n"
     ]
    },
    {
     "name": "stdout",
     "output_type": "stream",
     "text": [
      "    recall: 0.500000 precision: 0.998942 mAP@0.5: 0.495425, mAP@0.5-0.95: 0.099085\n",
      "\n",
      "Epoch 522/1000\n",
      "----------\n",
      "Train: \n"
     ]
    },
    {
     "name": "stderr",
     "output_type": "stream",
     "text": [
      "3it [00:00,  3.77it/s]\n"
     ]
    },
    {
     "name": "stdout",
     "output_type": "stream",
     "text": [
      "    box loss-> 0.01769, object loss-> 0.02670, class loss-> 0.00000\n",
      "Validation:\n"
     ]
    },
    {
     "name": "stderr",
     "output_type": "stream",
     "text": [
      "1it [00:00,  4.74it/s]\n"
     ]
    },
    {
     "name": "stdout",
     "output_type": "stream",
     "text": [
      "    recall: 0.500000 precision: 0.994171 mAP@0.5: 0.495425, mAP@0.5-0.95: 0.099085\n",
      "\n",
      "Epoch 523/1000\n",
      "----------\n",
      "Train: \n"
     ]
    },
    {
     "name": "stderr",
     "output_type": "stream",
     "text": [
      "3it [00:00,  3.76it/s]\n"
     ]
    },
    {
     "name": "stdout",
     "output_type": "stream",
     "text": [
      "    box loss-> 0.01810, object loss-> 0.02700, class loss-> 0.00000\n",
      "Validation:\n"
     ]
    },
    {
     "name": "stderr",
     "output_type": "stream",
     "text": [
      "1it [00:00,  4.68it/s]\n"
     ]
    },
    {
     "name": "stdout",
     "output_type": "stream",
     "text": [
      "    recall: 0.500000 precision: 0.998140 mAP@0.5: 0.495425, mAP@0.5-0.95: 0.099085\n",
      "\n",
      "Epoch 524/1000\n",
      "----------\n",
      "Train: \n"
     ]
    },
    {
     "name": "stderr",
     "output_type": "stream",
     "text": [
      "3it [00:00,  3.77it/s]\n"
     ]
    },
    {
     "name": "stdout",
     "output_type": "stream",
     "text": [
      "    box loss-> 0.01827, object loss-> 0.02676, class loss-> 0.00000\n",
      "Validation:\n"
     ]
    },
    {
     "name": "stderr",
     "output_type": "stream",
     "text": [
      "1it [00:00,  4.31it/s]\n"
     ]
    },
    {
     "name": "stdout",
     "output_type": "stream",
     "text": [
      "    recall: 0.500000 precision: 0.989602 mAP@0.5: 0.495425, mAP@0.5-0.95: 0.099085\n",
      "\n",
      "Epoch 525/1000\n",
      "----------\n",
      "Train: \n"
     ]
    },
    {
     "name": "stderr",
     "output_type": "stream",
     "text": [
      "3it [00:00,  3.68it/s]\n"
     ]
    },
    {
     "name": "stdout",
     "output_type": "stream",
     "text": [
      "    box loss-> 0.01833, object loss-> 0.02701, class loss-> 0.00000\n",
      "Validation:\n"
     ]
    },
    {
     "name": "stderr",
     "output_type": "stream",
     "text": [
      "1it [00:00,  4.68it/s]\n"
     ]
    },
    {
     "name": "stdout",
     "output_type": "stream",
     "text": [
      "    recall: 0.500000 precision: 0.992457 mAP@0.5: 0.495425, mAP@0.5-0.95: 0.247713\n",
      "\n",
      "Epoch 526/1000\n",
      "----------\n",
      "Train: \n"
     ]
    },
    {
     "name": "stderr",
     "output_type": "stream",
     "text": [
      "3it [00:00,  3.78it/s]\n"
     ]
    },
    {
     "name": "stdout",
     "output_type": "stream",
     "text": [
      "    box loss-> 0.01863, object loss-> 0.02742, class loss-> 0.00000\n",
      "Validation:\n"
     ]
    },
    {
     "name": "stderr",
     "output_type": "stream",
     "text": [
      "1it [00:00,  4.77it/s]\n"
     ]
    },
    {
     "name": "stdout",
     "output_type": "stream",
     "text": [
      "    recall: 0.500000 precision: 0.990833 mAP@0.5: 0.495425, mAP@0.5-0.95: 0.247713\n",
      "\n",
      "Epoch 527/1000\n",
      "----------\n",
      "Train: \n"
     ]
    },
    {
     "name": "stderr",
     "output_type": "stream",
     "text": [
      "3it [00:00,  3.84it/s]\n"
     ]
    },
    {
     "name": "stdout",
     "output_type": "stream",
     "text": [
      "    box loss-> 0.01849, object loss-> 0.02709, class loss-> 0.00000\n",
      "Validation:\n"
     ]
    },
    {
     "name": "stderr",
     "output_type": "stream",
     "text": [
      "1it [00:00,  4.84it/s]\n"
     ]
    },
    {
     "name": "stdout",
     "output_type": "stream",
     "text": [
      "    recall: 0.500000 precision: 0.974632 mAP@0.5: 0.495425, mAP@0.5-0.95: 0.247713\n",
      "\n",
      "Epoch 528/1000\n",
      "----------\n",
      "Train: \n"
     ]
    },
    {
     "name": "stderr",
     "output_type": "stream",
     "text": [
      "3it [00:00,  3.81it/s]\n"
     ]
    },
    {
     "name": "stdout",
     "output_type": "stream",
     "text": [
      "    box loss-> 0.01898, object loss-> 0.02712, class loss-> 0.00000\n",
      "Validation:\n"
     ]
    },
    {
     "name": "stderr",
     "output_type": "stream",
     "text": [
      "1it [00:00,  4.77it/s]\n"
     ]
    },
    {
     "name": "stdout",
     "output_type": "stream",
     "text": [
      "    recall: 0.500000 precision: 0.965144 mAP@0.5: 0.495425, mAP@0.5-0.95: 0.247713\n",
      "\n",
      "Epoch 529/1000\n",
      "----------\n",
      "Train: \n"
     ]
    },
    {
     "name": "stderr",
     "output_type": "stream",
     "text": [
      "3it [00:00,  3.84it/s]\n"
     ]
    },
    {
     "name": "stdout",
     "output_type": "stream",
     "text": [
      "    box loss-> 0.01894, object loss-> 0.02747, class loss-> 0.00000\n",
      "Validation:\n"
     ]
    },
    {
     "name": "stderr",
     "output_type": "stream",
     "text": [
      "1it [00:00,  4.81it/s]\n"
     ]
    },
    {
     "name": "stdout",
     "output_type": "stream",
     "text": [
      "    recall: 0.500000 precision: 0.939866 mAP@0.5: 0.495425, mAP@0.5-0.95: 0.247713\n",
      "\n",
      "Epoch 530/1000\n",
      "----------\n",
      "Train: \n"
     ]
    },
    {
     "name": "stderr",
     "output_type": "stream",
     "text": [
      "3it [00:00,  3.79it/s]\n"
     ]
    },
    {
     "name": "stdout",
     "output_type": "stream",
     "text": [
      "    box loss-> 0.01874, object loss-> 0.02749, class loss-> 0.00000\n",
      "Validation:\n"
     ]
    },
    {
     "name": "stderr",
     "output_type": "stream",
     "text": [
      "1it [00:00,  4.76it/s]\n"
     ]
    },
    {
     "name": "stdout",
     "output_type": "stream",
     "text": [
      "    recall: 0.500000 precision: 0.972867 mAP@0.5: 0.495425, mAP@0.5-0.95: 0.247713\n",
      "\n",
      "Epoch 531/1000\n",
      "----------\n",
      "Train: \n"
     ]
    },
    {
     "name": "stderr",
     "output_type": "stream",
     "text": [
      "3it [00:00,  3.72it/s]\n"
     ]
    },
    {
     "name": "stdout",
     "output_type": "stream",
     "text": [
      "    box loss-> 0.01786, object loss-> 0.02669, class loss-> 0.00000\n",
      "Validation:\n"
     ]
    },
    {
     "name": "stderr",
     "output_type": "stream",
     "text": [
      "1it [00:00,  4.74it/s]\n"
     ]
    },
    {
     "name": "stdout",
     "output_type": "stream",
     "text": [
      "    recall: 0.500000 precision: 0.944882 mAP@0.5: 0.495425, mAP@0.5-0.95: 0.198170\n",
      "\n",
      "Epoch 532/1000\n",
      "----------\n",
      "Train: \n"
     ]
    },
    {
     "name": "stderr",
     "output_type": "stream",
     "text": [
      "3it [00:00,  3.78it/s]\n"
     ]
    },
    {
     "name": "stdout",
     "output_type": "stream",
     "text": [
      "    box loss-> 0.01467, object loss-> 0.02459, class loss-> 0.00000\n",
      "Validation:\n"
     ]
    },
    {
     "name": "stderr",
     "output_type": "stream",
     "text": [
      "1it [00:00,  4.81it/s]\n"
     ]
    },
    {
     "name": "stdout",
     "output_type": "stream",
     "text": [
      "    recall: 0.500000 precision: 0.945796 mAP@0.5: 0.495425, mAP@0.5-0.95: 0.198170\n",
      "\n",
      "Epoch 533/1000\n",
      "----------\n",
      "Train: \n"
     ]
    },
    {
     "name": "stderr",
     "output_type": "stream",
     "text": [
      "3it [00:00,  3.81it/s]\n"
     ]
    },
    {
     "name": "stdout",
     "output_type": "stream",
     "text": [
      "    box loss-> 0.01521, object loss-> 0.02489, class loss-> 0.00000\n",
      "Validation:\n"
     ]
    },
    {
     "name": "stderr",
     "output_type": "stream",
     "text": [
      "1it [00:00,  4.76it/s]\n"
     ]
    },
    {
     "name": "stdout",
     "output_type": "stream",
     "text": [
      "    recall: 0.500000 precision: 0.928546 mAP@0.5: 0.495425, mAP@0.5-0.95: 0.198170\n",
      "\n",
      "Epoch 534/1000\n",
      "----------\n",
      "Train: \n"
     ]
    },
    {
     "name": "stderr",
     "output_type": "stream",
     "text": [
      "3it [00:00,  3.80it/s]\n"
     ]
    },
    {
     "name": "stdout",
     "output_type": "stream",
     "text": [
      "    box loss-> 0.01536, object loss-> 0.02460, class loss-> 0.00000\n",
      "Validation:\n"
     ]
    },
    {
     "name": "stderr",
     "output_type": "stream",
     "text": [
      "1it [00:00,  4.73it/s]\n"
     ]
    },
    {
     "name": "stdout",
     "output_type": "stream",
     "text": [
      "    recall: 0.500000 precision: 0.914278 mAP@0.5: 0.495425, mAP@0.5-0.95: 0.198170\n",
      "\n",
      "Epoch 535/1000\n",
      "----------\n",
      "Train: \n"
     ]
    },
    {
     "name": "stderr",
     "output_type": "stream",
     "text": [
      "3it [00:00,  3.78it/s]\n"
     ]
    },
    {
     "name": "stdout",
     "output_type": "stream",
     "text": [
      "    box loss-> 0.01505, object loss-> 0.02489, class loss-> 0.00000\n",
      "Validation:\n"
     ]
    },
    {
     "name": "stderr",
     "output_type": "stream",
     "text": [
      "1it [00:00,  4.71it/s]\n"
     ]
    },
    {
     "name": "stdout",
     "output_type": "stream",
     "text": [
      "    recall: 0.500000 precision: 0.998887 mAP@0.5: 0.495425, mAP@0.5-0.95: 0.198170\n",
      "\n",
      "Epoch 536/1000\n",
      "----------\n",
      "Train: \n"
     ]
    },
    {
     "name": "stderr",
     "output_type": "stream",
     "text": [
      "3it [00:00,  3.76it/s]\n"
     ]
    },
    {
     "name": "stdout",
     "output_type": "stream",
     "text": [
      "    box loss-> 0.01521, object loss-> 0.02469, class loss-> 0.00000\n",
      "Validation:\n"
     ]
    },
    {
     "name": "stderr",
     "output_type": "stream",
     "text": [
      "1it [00:00,  4.73it/s]\n"
     ]
    },
    {
     "name": "stdout",
     "output_type": "stream",
     "text": [
      "    recall: 0.500000 precision: 0.969217 mAP@0.5: 0.495425, mAP@0.5-0.95: 0.247713\n",
      "\n",
      "Epoch 537/1000\n",
      "----------\n",
      "Train: \n"
     ]
    },
    {
     "name": "stderr",
     "output_type": "stream",
     "text": [
      "3it [00:00,  3.81it/s]\n"
     ]
    },
    {
     "name": "stdout",
     "output_type": "stream",
     "text": [
      "    box loss-> 0.01639, object loss-> 0.02547, class loss-> 0.00000\n",
      "Validation:\n"
     ]
    },
    {
     "name": "stderr",
     "output_type": "stream",
     "text": [
      "1it [00:00,  4.80it/s]\n"
     ]
    },
    {
     "name": "stdout",
     "output_type": "stream",
     "text": [
      "    recall: 0.500000 precision: 0.994433 mAP@0.5: 0.495425, mAP@0.5-0.95: 0.247713\n",
      "\n",
      "Epoch 538/1000\n",
      "----------\n",
      "Train: \n"
     ]
    },
    {
     "name": "stderr",
     "output_type": "stream",
     "text": [
      "3it [00:00,  3.75it/s]\n"
     ]
    },
    {
     "name": "stdout",
     "output_type": "stream",
     "text": [
      "    box loss-> 0.01715, object loss-> 0.02568, class loss-> 0.00000\n",
      "Validation:\n"
     ]
    },
    {
     "name": "stderr",
     "output_type": "stream",
     "text": [
      "1it [00:00,  4.62it/s]\n"
     ]
    },
    {
     "name": "stdout",
     "output_type": "stream",
     "text": [
      "    recall: 0.500000 precision: 0.976570 mAP@0.5: 0.495425, mAP@0.5-0.95: 0.247713\n",
      "\n",
      "Epoch 539/1000\n",
      "----------\n",
      "Train: \n"
     ]
    },
    {
     "name": "stderr",
     "output_type": "stream",
     "text": [
      "3it [00:00,  3.80it/s]\n"
     ]
    },
    {
     "name": "stdout",
     "output_type": "stream",
     "text": [
      "    box loss-> 0.01693, object loss-> 0.02554, class loss-> 0.00000\n",
      "Validation:\n"
     ]
    },
    {
     "name": "stderr",
     "output_type": "stream",
     "text": [
      "1it [00:00,  4.78it/s]\n"
     ]
    },
    {
     "name": "stdout",
     "output_type": "stream",
     "text": [
      "    recall: 0.500000 precision: 0.982180 mAP@0.5: 0.495425, mAP@0.5-0.95: 0.247713\n",
      "\n",
      "Epoch 540/1000\n",
      "----------\n",
      "Train: \n"
     ]
    },
    {
     "name": "stderr",
     "output_type": "stream",
     "text": [
      "3it [00:00,  3.80it/s]\n"
     ]
    },
    {
     "name": "stdout",
     "output_type": "stream",
     "text": [
      "    box loss-> 0.01701, object loss-> 0.02536, class loss-> 0.00000\n",
      "Validation:\n"
     ]
    },
    {
     "name": "stderr",
     "output_type": "stream",
     "text": [
      "1it [00:00,  4.80it/s]\n"
     ]
    },
    {
     "name": "stdout",
     "output_type": "stream",
     "text": [
      "    recall: 0.500000 precision: 0.992942 mAP@0.5: 0.495425, mAP@0.5-0.95: 0.247713\n",
      "\n",
      "Epoch 541/1000\n",
      "----------\n",
      "Train: \n"
     ]
    },
    {
     "name": "stderr",
     "output_type": "stream",
     "text": [
      "3it [00:00,  3.75it/s]\n"
     ]
    },
    {
     "name": "stdout",
     "output_type": "stream",
     "text": [
      "    box loss-> 0.01616, object loss-> 0.02490, class loss-> 0.00000\n",
      "Validation:\n"
     ]
    },
    {
     "name": "stderr",
     "output_type": "stream",
     "text": [
      "1it [00:00,  4.91it/s]\n"
     ]
    },
    {
     "name": "stdout",
     "output_type": "stream",
     "text": [
      "    recall: 0.500000 precision: 0.985192 mAP@0.5: 0.495425, mAP@0.5-0.95: 0.198170\n",
      "\n",
      "Epoch 542/1000\n",
      "----------\n",
      "Train: \n"
     ]
    },
    {
     "name": "stderr",
     "output_type": "stream",
     "text": [
      "3it [00:00,  3.80it/s]\n"
     ]
    },
    {
     "name": "stdout",
     "output_type": "stream",
     "text": [
      "    box loss-> 0.01475, object loss-> 0.02459, class loss-> 0.00000\n",
      "Validation:\n"
     ]
    },
    {
     "name": "stderr",
     "output_type": "stream",
     "text": [
      "1it [00:00,  4.70it/s]\n"
     ]
    },
    {
     "name": "stdout",
     "output_type": "stream",
     "text": [
      "    recall: 0.500000 precision: 0.972525 mAP@0.5: 0.495425, mAP@0.5-0.95: 0.198170\n",
      "\n",
      "Epoch 543/1000\n",
      "----------\n",
      "Train: \n"
     ]
    },
    {
     "name": "stderr",
     "output_type": "stream",
     "text": [
      "3it [00:00,  3.77it/s]\n"
     ]
    },
    {
     "name": "stdout",
     "output_type": "stream",
     "text": [
      "    box loss-> 0.01415, object loss-> 0.02412, class loss-> 0.00000\n",
      "Validation:\n"
     ]
    },
    {
     "name": "stderr",
     "output_type": "stream",
     "text": [
      "1it [00:00,  4.81it/s]\n"
     ]
    },
    {
     "name": "stdout",
     "output_type": "stream",
     "text": [
      "    recall: 0.500000 precision: 0.984151 mAP@0.5: 0.495425, mAP@0.5-0.95: 0.198170\n",
      "\n",
      "Epoch 544/1000\n",
      "----------\n",
      "Train: \n"
     ]
    },
    {
     "name": "stderr",
     "output_type": "stream",
     "text": [
      "3it [00:00,  3.81it/s]\n"
     ]
    },
    {
     "name": "stdout",
     "output_type": "stream",
     "text": [
      "    box loss-> 0.01398, object loss-> 0.02404, class loss-> 0.00000\n",
      "Validation:\n"
     ]
    },
    {
     "name": "stderr",
     "output_type": "stream",
     "text": [
      "1it [00:00,  4.81it/s]\n"
     ]
    },
    {
     "name": "stdout",
     "output_type": "stream",
     "text": [
      "    recall: 0.500000 precision: 0.981527 mAP@0.5: 0.495425, mAP@0.5-0.95: 0.198170\n",
      "\n",
      "Epoch 545/1000\n",
      "----------\n",
      "Train: \n"
     ]
    },
    {
     "name": "stderr",
     "output_type": "stream",
     "text": [
      "3it [00:00,  3.80it/s]\n"
     ]
    },
    {
     "name": "stdout",
     "output_type": "stream",
     "text": [
      "    box loss-> 0.01429, object loss-> 0.02417, class loss-> 0.00000\n",
      "Validation:\n"
     ]
    },
    {
     "name": "stderr",
     "output_type": "stream",
     "text": [
      "1it [00:00,  4.83it/s]\n"
     ]
    },
    {
     "name": "stdout",
     "output_type": "stream",
     "text": [
      "    recall: 0.500000 precision: 0.999009 mAP@0.5: 0.495425, mAP@0.5-0.95: 0.198170\n",
      "\n",
      "Epoch 546/1000\n",
      "----------\n",
      "Train: \n"
     ]
    },
    {
     "name": "stderr",
     "output_type": "stream",
     "text": [
      "3it [00:00,  3.82it/s]\n"
     ]
    },
    {
     "name": "stdout",
     "output_type": "stream",
     "text": [
      "    box loss-> 0.01402, object loss-> 0.02423, class loss-> 0.00000\n",
      "Validation:\n"
     ]
    },
    {
     "name": "stderr",
     "output_type": "stream",
     "text": [
      "1it [00:00,  4.68it/s]\n"
     ]
    },
    {
     "name": "stdout",
     "output_type": "stream",
     "text": [
      "    recall: 0.500000 precision: 0.998845 mAP@0.5: 0.495425, mAP@0.5-0.95: 0.198170\n",
      "\n",
      "Epoch 547/1000\n",
      "----------\n",
      "Train: \n"
     ]
    },
    {
     "name": "stderr",
     "output_type": "stream",
     "text": [
      "3it [00:00,  3.77it/s]\n"
     ]
    },
    {
     "name": "stdout",
     "output_type": "stream",
     "text": [
      "    box loss-> 0.01405, object loss-> 0.02364, class loss-> 0.00000\n",
      "Validation:\n"
     ]
    },
    {
     "name": "stderr",
     "output_type": "stream",
     "text": [
      "1it [00:00,  4.69it/s]\n"
     ]
    },
    {
     "name": "stdout",
     "output_type": "stream",
     "text": [
      "    recall: 0.500000 precision: 0.992577 mAP@0.5: 0.495425, mAP@0.5-0.95: 0.247713\n",
      "\n",
      "Epoch 548/1000\n",
      "----------\n",
      "Train: \n"
     ]
    },
    {
     "name": "stderr",
     "output_type": "stream",
     "text": [
      "3it [00:00,  3.80it/s]\n"
     ]
    },
    {
     "name": "stdout",
     "output_type": "stream",
     "text": [
      "    box loss-> 0.01365, object loss-> 0.02305, class loss-> 0.00000\n",
      "Validation:\n"
     ]
    },
    {
     "name": "stderr",
     "output_type": "stream",
     "text": [
      "1it [00:00,  4.77it/s]\n"
     ]
    },
    {
     "name": "stdout",
     "output_type": "stream",
     "text": [
      "    recall: 0.500000 precision: 0.998769 mAP@0.5: 0.495425, mAP@0.5-0.95: 0.247713\n",
      "\n",
      "Epoch 549/1000\n",
      "----------\n",
      "Train: \n"
     ]
    },
    {
     "name": "stderr",
     "output_type": "stream",
     "text": [
      "3it [00:00,  3.77it/s]\n"
     ]
    },
    {
     "name": "stdout",
     "output_type": "stream",
     "text": [
      "    box loss-> 0.01329, object loss-> 0.02298, class loss-> 0.00000\n",
      "Validation:\n"
     ]
    },
    {
     "name": "stderr",
     "output_type": "stream",
     "text": [
      "1it [00:00,  4.77it/s]\n"
     ]
    },
    {
     "name": "stdout",
     "output_type": "stream",
     "text": [
      "    recall: 0.500000 precision: 0.996406 mAP@0.5: 0.495425, mAP@0.5-0.95: 0.247713\n",
      "\n",
      "Epoch 550/1000\n",
      "----------\n",
      "Train: \n"
     ]
    },
    {
     "name": "stderr",
     "output_type": "stream",
     "text": [
      "3it [00:00,  3.80it/s]\n"
     ]
    },
    {
     "name": "stdout",
     "output_type": "stream",
     "text": [
      "    box loss-> 0.01290, object loss-> 0.02257, class loss-> 0.00000\n",
      "Validation:\n"
     ]
    },
    {
     "name": "stderr",
     "output_type": "stream",
     "text": [
      "1it [00:00,  4.70it/s]\n"
     ]
    },
    {
     "name": "stdout",
     "output_type": "stream",
     "text": [
      "    recall: 0.500000 precision: 0.996140 mAP@0.5: 0.495425, mAP@0.5-0.95: 0.247713\n",
      "\n",
      "Epoch 551/1000\n",
      "----------\n",
      "Train: \n"
     ]
    },
    {
     "name": "stderr",
     "output_type": "stream",
     "text": [
      "3it [00:00,  3.80it/s]\n"
     ]
    },
    {
     "name": "stdout",
     "output_type": "stream",
     "text": [
      "    box loss-> 0.01281, object loss-> 0.02258, class loss-> 0.00000\n",
      "Validation:\n"
     ]
    },
    {
     "name": "stderr",
     "output_type": "stream",
     "text": [
      "1it [00:00,  4.73it/s]\n"
     ]
    },
    {
     "name": "stdout",
     "output_type": "stream",
     "text": [
      "    recall: 0.500000 precision: 0.988237 mAP@0.5: 0.495425, mAP@0.5-0.95: 0.247713\n",
      "\n",
      "Epoch 552/1000\n",
      "----------\n",
      "Train: \n"
     ]
    },
    {
     "name": "stderr",
     "output_type": "stream",
     "text": [
      "3it [00:00,  3.71it/s]\n"
     ]
    },
    {
     "name": "stdout",
     "output_type": "stream",
     "text": [
      "    box loss-> 0.01516, object loss-> 0.02419, class loss-> 0.00000\n",
      "Validation:\n"
     ]
    },
    {
     "name": "stderr",
     "output_type": "stream",
     "text": [
      "1it [00:00,  4.64it/s]\n"
     ]
    },
    {
     "name": "stdout",
     "output_type": "stream",
     "text": [
      "    recall: 0.500000 precision: 0.989289 mAP@0.5: 0.495425, mAP@0.5-0.95: 0.198170\n",
      "\n",
      "Epoch 553/1000\n",
      "----------\n",
      "Train: \n"
     ]
    },
    {
     "name": "stderr",
     "output_type": "stream",
     "text": [
      "3it [00:00,  3.77it/s]\n"
     ]
    },
    {
     "name": "stdout",
     "output_type": "stream",
     "text": [
      "    box loss-> 0.01627, object loss-> 0.02557, class loss-> 0.00000\n",
      "Validation:\n"
     ]
    },
    {
     "name": "stderr",
     "output_type": "stream",
     "text": [
      "1it [00:00,  4.73it/s]\n"
     ]
    },
    {
     "name": "stdout",
     "output_type": "stream",
     "text": [
      "    recall: 0.500000 precision: 0.976537 mAP@0.5: 0.495425, mAP@0.5-0.95: 0.198170\n",
      "\n",
      "Epoch 554/1000\n",
      "----------\n",
      "Train: \n"
     ]
    },
    {
     "name": "stderr",
     "output_type": "stream",
     "text": [
      "3it [00:00,  3.78it/s]\n"
     ]
    },
    {
     "name": "stdout",
     "output_type": "stream",
     "text": [
      "    box loss-> 0.01600, object loss-> 0.02514, class loss-> 0.00000\n",
      "Validation:\n"
     ]
    },
    {
     "name": "stderr",
     "output_type": "stream",
     "text": [
      "1it [00:00,  4.77it/s]\n"
     ]
    },
    {
     "name": "stdout",
     "output_type": "stream",
     "text": [
      "    recall: 0.500000 precision: 0.984913 mAP@0.5: 0.495425, mAP@0.5-0.95: 0.198170\n",
      "\n",
      "Epoch 555/1000\n",
      "----------\n",
      "Train: \n"
     ]
    },
    {
     "name": "stderr",
     "output_type": "stream",
     "text": [
      "3it [00:00,  3.74it/s]\n"
     ]
    },
    {
     "name": "stdout",
     "output_type": "stream",
     "text": [
      "    box loss-> 0.01617, object loss-> 0.02504, class loss-> 0.00000\n",
      "Validation:\n"
     ]
    },
    {
     "name": "stderr",
     "output_type": "stream",
     "text": [
      "1it [00:00,  4.64it/s]\n"
     ]
    },
    {
     "name": "stdout",
     "output_type": "stream",
     "text": [
      "    recall: 0.500000 precision: 0.992558 mAP@0.5: 0.495425, mAP@0.5-0.95: 0.198170\n",
      "\n",
      "Epoch 556/1000\n",
      "----------\n",
      "Train: \n"
     ]
    },
    {
     "name": "stderr",
     "output_type": "stream",
     "text": [
      "3it [00:00,  3.76it/s]\n"
     ]
    },
    {
     "name": "stdout",
     "output_type": "stream",
     "text": [
      "    box loss-> 0.01652, object loss-> 0.02561, class loss-> 0.00000\n",
      "Validation:\n"
     ]
    },
    {
     "name": "stderr",
     "output_type": "stream",
     "text": [
      "1it [00:00,  4.83it/s]\n"
     ]
    },
    {
     "name": "stdout",
     "output_type": "stream",
     "text": [
      "    recall: 0.500000 precision: 0.984931 mAP@0.5: 0.495425, mAP@0.5-0.95: 0.198170\n",
      "\n",
      "Epoch 557/1000\n",
      "----------\n",
      "Train: \n"
     ]
    },
    {
     "name": "stderr",
     "output_type": "stream",
     "text": [
      "3it [00:00,  3.76it/s]\n"
     ]
    },
    {
     "name": "stdout",
     "output_type": "stream",
     "text": [
      "    box loss-> 0.01571, object loss-> 0.02501, class loss-> 0.00000\n",
      "Validation:\n"
     ]
    },
    {
     "name": "stderr",
     "output_type": "stream",
     "text": [
      "1it [00:00,  4.91it/s]\n"
     ]
    },
    {
     "name": "stdout",
     "output_type": "stream",
     "text": [
      "    recall: 0.500000 precision: 0.984369 mAP@0.5: 0.495425, mAP@0.5-0.95: 0.297255\n",
      "\n",
      "Epoch 558/1000\n",
      "----------\n",
      "Train: \n"
     ]
    },
    {
     "name": "stderr",
     "output_type": "stream",
     "text": [
      "3it [00:00,  3.76it/s]\n"
     ]
    },
    {
     "name": "stdout",
     "output_type": "stream",
     "text": [
      "    box loss-> 0.01851, object loss-> 0.02761, class loss-> 0.00000\n",
      "Validation:\n"
     ]
    },
    {
     "name": "stderr",
     "output_type": "stream",
     "text": [
      "1it [00:00,  4.73it/s]\n"
     ]
    },
    {
     "name": "stdout",
     "output_type": "stream",
     "text": [
      "    recall: 0.500000 precision: 0.984215 mAP@0.5: 0.495425, mAP@0.5-0.95: 0.297255\n",
      "\n",
      "Epoch 559/1000\n",
      "----------\n",
      "Train: \n"
     ]
    },
    {
     "name": "stderr",
     "output_type": "stream",
     "text": [
      "3it [00:00,  3.78it/s]\n"
     ]
    },
    {
     "name": "stdout",
     "output_type": "stream",
     "text": [
      "    box loss-> 0.01884, object loss-> 0.02754, class loss-> 0.00000\n",
      "Validation:\n"
     ]
    },
    {
     "name": "stderr",
     "output_type": "stream",
     "text": [
      "1it [00:00,  4.83it/s]\n"
     ]
    },
    {
     "name": "stdout",
     "output_type": "stream",
     "text": [
      "    recall: 0.500000 precision: 0.987889 mAP@0.5: 0.495425, mAP@0.5-0.95: 0.297255\n",
      "\n",
      "Epoch 560/1000\n",
      "----------\n",
      "Train: \n"
     ]
    },
    {
     "name": "stderr",
     "output_type": "stream",
     "text": [
      "3it [00:00,  3.81it/s]\n"
     ]
    },
    {
     "name": "stdout",
     "output_type": "stream",
     "text": [
      "    box loss-> 0.01877, object loss-> 0.02764, class loss-> 0.00000\n",
      "Validation:\n"
     ]
    },
    {
     "name": "stderr",
     "output_type": "stream",
     "text": [
      "1it [00:00,  4.87it/s]\n"
     ]
    },
    {
     "name": "stdout",
     "output_type": "stream",
     "text": [
      "    recall: 0.500000 precision: 0.998517 mAP@0.5: 0.495425, mAP@0.5-0.95: 0.297255\n",
      "\n",
      "Epoch 561/1000\n",
      "----------\n",
      "Train: \n"
     ]
    },
    {
     "name": "stderr",
     "output_type": "stream",
     "text": [
      "3it [00:00,  3.84it/s]\n"
     ]
    },
    {
     "name": "stdout",
     "output_type": "stream",
     "text": [
      "    box loss-> 0.01881, object loss-> 0.02748, class loss-> 0.00000\n",
      "Validation:\n"
     ]
    },
    {
     "name": "stderr",
     "output_type": "stream",
     "text": [
      "1it [00:00,  4.77it/s]\n"
     ]
    },
    {
     "name": "stdout",
     "output_type": "stream",
     "text": [
      "    recall: 0.500000 precision: 0.990785 mAP@0.5: 0.495425, mAP@0.5-0.95: 0.346797\n",
      "\n",
      "Epoch 562/1000\n",
      "----------\n",
      "Train: \n"
     ]
    },
    {
     "name": "stderr",
     "output_type": "stream",
     "text": [
      "3it [00:00,  3.81it/s]\n"
     ]
    },
    {
     "name": "stdout",
     "output_type": "stream",
     "text": [
      "    box loss-> 0.01891, object loss-> 0.02750, class loss-> 0.00000\n",
      "Validation:\n"
     ]
    },
    {
     "name": "stderr",
     "output_type": "stream",
     "text": [
      "1it [00:00,  4.84it/s]\n"
     ]
    },
    {
     "name": "stdout",
     "output_type": "stream",
     "text": [
      "    recall: 0.500000 precision: 0.996849 mAP@0.5: 0.495425, mAP@0.5-0.95: 0.297255\n",
      "\n",
      "Epoch 563/1000\n",
      "----------\n",
      "Train: \n"
     ]
    },
    {
     "name": "stderr",
     "output_type": "stream",
     "text": [
      "3it [00:00,  3.75it/s]\n"
     ]
    },
    {
     "name": "stdout",
     "output_type": "stream",
     "text": [
      "    box loss-> 0.01745, object loss-> 0.02653, class loss-> 0.00000\n",
      "Validation:\n"
     ]
    },
    {
     "name": "stderr",
     "output_type": "stream",
     "text": [
      "1it [00:00,  4.78it/s]\n"
     ]
    },
    {
     "name": "stdout",
     "output_type": "stream",
     "text": [
      "    recall: 0.500000 precision: 0.993023 mAP@0.5: 0.495425, mAP@0.5-0.95: 0.297255\n",
      "\n",
      "Epoch 564/1000\n",
      "----------\n",
      "Train: \n"
     ]
    },
    {
     "name": "stderr",
     "output_type": "stream",
     "text": [
      "3it [00:00,  3.78it/s]\n"
     ]
    },
    {
     "name": "stdout",
     "output_type": "stream",
     "text": [
      "    box loss-> 0.01554, object loss-> 0.02554, class loss-> 0.00000\n",
      "Validation:\n"
     ]
    },
    {
     "name": "stderr",
     "output_type": "stream",
     "text": [
      "1it [00:00,  4.82it/s]\n"
     ]
    },
    {
     "name": "stdout",
     "output_type": "stream",
     "text": [
      "    recall: 0.500000 precision: 0.991306 mAP@0.5: 0.495425, mAP@0.5-0.95: 0.297255\n",
      "\n",
      "Epoch 565/1000\n",
      "----------\n",
      "Train: \n"
     ]
    },
    {
     "name": "stderr",
     "output_type": "stream",
     "text": [
      "3it [00:00,  3.83it/s]\n"
     ]
    },
    {
     "name": "stdout",
     "output_type": "stream",
     "text": [
      "    box loss-> 0.01650, object loss-> 0.02548, class loss-> 0.00000\n",
      "Validation:\n"
     ]
    },
    {
     "name": "stderr",
     "output_type": "stream",
     "text": [
      "1it [00:00,  4.65it/s]\n"
     ]
    },
    {
     "name": "stdout",
     "output_type": "stream",
     "text": [
      "    recall: 0.500000 precision: 0.989644 mAP@0.5: 0.495425, mAP@0.5-0.95: 0.297255\n",
      "\n",
      "Epoch 566/1000\n",
      "----------\n",
      "Train: \n"
     ]
    },
    {
     "name": "stderr",
     "output_type": "stream",
     "text": [
      "3it [00:00,  3.79it/s]\n"
     ]
    },
    {
     "name": "stdout",
     "output_type": "stream",
     "text": [
      "    box loss-> 0.01571, object loss-> 0.02571, class loss-> 0.00000\n",
      "Validation:\n"
     ]
    },
    {
     "name": "stderr",
     "output_type": "stream",
     "text": [
      "1it [00:00,  4.70it/s]\n"
     ]
    },
    {
     "name": "stdout",
     "output_type": "stream",
     "text": [
      "    recall: 0.500000 precision: 0.994619 mAP@0.5: 0.495425, mAP@0.5-0.95: 0.297255\n",
      "\n",
      "Epoch 567/1000\n",
      "----------\n",
      "Train: \n"
     ]
    },
    {
     "name": "stderr",
     "output_type": "stream",
     "text": [
      "3it [00:00,  3.78it/s]\n"
     ]
    },
    {
     "name": "stdout",
     "output_type": "stream",
     "text": [
      "    box loss-> 0.01665, object loss-> 0.02593, class loss-> 0.00000\n",
      "Validation:\n"
     ]
    },
    {
     "name": "stderr",
     "output_type": "stream",
     "text": [
      "1it [00:00,  4.74it/s]\n"
     ]
    },
    {
     "name": "stdout",
     "output_type": "stream",
     "text": [
      "    recall: 0.500000 precision: 0.996732 mAP@0.5: 0.495425, mAP@0.5-0.95: 0.297255\n",
      "\n",
      "Epoch 568/1000\n",
      "----------\n",
      "Train: \n"
     ]
    },
    {
     "name": "stderr",
     "output_type": "stream",
     "text": [
      "3it [00:00,  3.76it/s]\n"
     ]
    },
    {
     "name": "stdout",
     "output_type": "stream",
     "text": [
      "    box loss-> 0.01873, object loss-> 0.02699, class loss-> 0.00000\n",
      "Validation:\n"
     ]
    },
    {
     "name": "stderr",
     "output_type": "stream",
     "text": [
      "1it [00:00,  4.71it/s]\n"
     ]
    },
    {
     "name": "stdout",
     "output_type": "stream",
     "text": [
      "    recall: 0.500000 precision: 0.997027 mAP@0.5: 0.495425, mAP@0.5-0.95: 0.148627\n",
      "\n",
      "Epoch 569/1000\n",
      "----------\n",
      "Train: \n"
     ]
    },
    {
     "name": "stderr",
     "output_type": "stream",
     "text": [
      "3it [00:00,  3.81it/s]\n"
     ]
    },
    {
     "name": "stdout",
     "output_type": "stream",
     "text": [
      "    box loss-> 0.01969, object loss-> 0.02782, class loss-> 0.00000\n",
      "Validation:\n"
     ]
    },
    {
     "name": "stderr",
     "output_type": "stream",
     "text": [
      "1it [00:00,  4.73it/s]\n"
     ]
    },
    {
     "name": "stdout",
     "output_type": "stream",
     "text": [
      "    recall: 0.500000 precision: 0.987130 mAP@0.5: 0.495425, mAP@0.5-0.95: 0.148627\n",
      "\n",
      "Epoch 570/1000\n",
      "----------\n",
      "Train: \n"
     ]
    },
    {
     "name": "stderr",
     "output_type": "stream",
     "text": [
      "3it [00:00,  3.85it/s]\n"
     ]
    },
    {
     "name": "stdout",
     "output_type": "stream",
     "text": [
      "    box loss-> 0.01974, object loss-> 0.02789, class loss-> 0.00000\n",
      "Validation:\n"
     ]
    },
    {
     "name": "stderr",
     "output_type": "stream",
     "text": [
      "1it [00:00,  4.81it/s]\n"
     ]
    },
    {
     "name": "stdout",
     "output_type": "stream",
     "text": [
      "    recall: 0.500000 precision: 0.989708 mAP@0.5: 0.495425, mAP@0.5-0.95: 0.148627\n",
      "\n",
      "Epoch 571/1000\n",
      "----------\n",
      "Train: \n"
     ]
    },
    {
     "name": "stderr",
     "output_type": "stream",
     "text": [
      "3it [00:00,  3.81it/s]\n"
     ]
    },
    {
     "name": "stdout",
     "output_type": "stream",
     "text": [
      "    box loss-> 0.01899, object loss-> 0.02759, class loss-> 0.00000\n",
      "Validation:\n"
     ]
    },
    {
     "name": "stderr",
     "output_type": "stream",
     "text": [
      "1it [00:00,  4.76it/s]\n"
     ]
    },
    {
     "name": "stdout",
     "output_type": "stream",
     "text": [
      "    recall: 0.500000 precision: 0.989118 mAP@0.5: 0.495425, mAP@0.5-0.95: 0.148627\n",
      "\n",
      "Epoch 572/1000\n",
      "----------\n",
      "Train: \n"
     ]
    },
    {
     "name": "stderr",
     "output_type": "stream",
     "text": [
      "3it [00:00,  3.82it/s]\n"
     ]
    },
    {
     "name": "stdout",
     "output_type": "stream",
     "text": [
      "    box loss-> 0.01960, object loss-> 0.02778, class loss-> 0.00000\n",
      "Validation:\n"
     ]
    },
    {
     "name": "stderr",
     "output_type": "stream",
     "text": [
      "1it [00:00,  4.76it/s]\n"
     ]
    },
    {
     "name": "stdout",
     "output_type": "stream",
     "text": [
      "    recall: 0.500000 precision: 0.999929 mAP@0.5: 0.495425, mAP@0.5-0.95: 0.148627\n",
      "\n",
      "Epoch 573/1000\n",
      "----------\n",
      "Train: \n"
     ]
    },
    {
     "name": "stderr",
     "output_type": "stream",
     "text": [
      "3it [00:00,  3.72it/s]\n"
     ]
    },
    {
     "name": "stdout",
     "output_type": "stream",
     "text": [
      "    box loss-> 0.01887, object loss-> 0.02721, class loss-> 0.00000\n",
      "Validation:\n"
     ]
    },
    {
     "name": "stderr",
     "output_type": "stream",
     "text": [
      "1it [00:00,  4.93it/s]\n"
     ]
    },
    {
     "name": "stdout",
     "output_type": "stream",
     "text": [
      "    recall: 0.500000 precision: 0.997783 mAP@0.5: 0.495425, mAP@0.5-0.95: 0.247713\n",
      "\n",
      "Epoch 574/1000\n",
      "----------\n",
      "Train: \n"
     ]
    },
    {
     "name": "stderr",
     "output_type": "stream",
     "text": [
      "3it [00:00,  3.82it/s]\n"
     ]
    },
    {
     "name": "stdout",
     "output_type": "stream",
     "text": [
      "    box loss-> 0.01562, object loss-> 0.02516, class loss-> 0.00000\n",
      "Validation:\n"
     ]
    },
    {
     "name": "stderr",
     "output_type": "stream",
     "text": [
      "1it [00:00,  4.90it/s]\n"
     ]
    },
    {
     "name": "stdout",
     "output_type": "stream",
     "text": [
      "    recall: 0.500000 precision: 0.995232 mAP@0.5: 0.495425, mAP@0.5-0.95: 0.247713\n",
      "\n",
      "Epoch 575/1000\n",
      "----------\n",
      "Train: \n"
     ]
    },
    {
     "name": "stderr",
     "output_type": "stream",
     "text": [
      "3it [00:00,  3.80it/s]\n"
     ]
    },
    {
     "name": "stdout",
     "output_type": "stream",
     "text": [
      "    box loss-> 0.01665, object loss-> 0.02615, class loss-> 0.00000\n",
      "Validation:\n"
     ]
    },
    {
     "name": "stderr",
     "output_type": "stream",
     "text": [
      "1it [00:00,  5.01it/s]\n"
     ]
    },
    {
     "name": "stdout",
     "output_type": "stream",
     "text": [
      "    recall: 0.500000 precision: 0.976636 mAP@0.5: 0.495425, mAP@0.5-0.95: 0.247713\n",
      "\n",
      "Epoch 576/1000\n",
      "----------\n",
      "Train: \n"
     ]
    },
    {
     "name": "stderr",
     "output_type": "stream",
     "text": [
      "3it [00:00,  3.82it/s]\n"
     ]
    },
    {
     "name": "stdout",
     "output_type": "stream",
     "text": [
      "    box loss-> 0.01630, object loss-> 0.02552, class loss-> 0.00000\n",
      "Validation:\n"
     ]
    },
    {
     "name": "stderr",
     "output_type": "stream",
     "text": [
      "1it [00:00,  4.87it/s]\n"
     ]
    },
    {
     "name": "stdout",
     "output_type": "stream",
     "text": [
      "    recall: 0.500000 precision: 0.991105 mAP@0.5: 0.495425, mAP@0.5-0.95: 0.247713\n",
      "\n",
      "Epoch 577/1000\n",
      "----------\n",
      "Train: \n"
     ]
    },
    {
     "name": "stderr",
     "output_type": "stream",
     "text": [
      "3it [00:00,  3.82it/s]\n"
     ]
    },
    {
     "name": "stdout",
     "output_type": "stream",
     "text": [
      "    box loss-> 0.01565, object loss-> 0.02524, class loss-> 0.00000\n",
      "Validation:\n"
     ]
    },
    {
     "name": "stderr",
     "output_type": "stream",
     "text": [
      "1it [00:00,  5.02it/s]\n"
     ]
    },
    {
     "name": "stdout",
     "output_type": "stream",
     "text": [
      "    recall: 0.500000 precision: 0.980169 mAP@0.5: 0.495425, mAP@0.5-0.95: 0.247713\n",
      "\n",
      "Epoch 578/1000\n",
      "----------\n",
      "Train: \n"
     ]
    },
    {
     "name": "stderr",
     "output_type": "stream",
     "text": [
      "3it [00:00,  3.80it/s]\n"
     ]
    },
    {
     "name": "stdout",
     "output_type": "stream",
     "text": [
      "    box loss-> 0.01625, object loss-> 0.02559, class loss-> 0.00000\n",
      "Validation:\n"
     ]
    },
    {
     "name": "stderr",
     "output_type": "stream",
     "text": [
      "1it [00:00,  4.90it/s]\n"
     ]
    },
    {
     "name": "stdout",
     "output_type": "stream",
     "text": [
      "    recall: 0.500000 precision: 0.979796 mAP@0.5: 0.495425, mAP@0.5-0.95: 0.247713\n",
      "\n",
      "Epoch 579/1000\n",
      "----------\n",
      "Train: \n"
     ]
    },
    {
     "name": "stderr",
     "output_type": "stream",
     "text": [
      "3it [00:00,  3.76it/s]\n"
     ]
    },
    {
     "name": "stdout",
     "output_type": "stream",
     "text": [
      "    box loss-> 0.01598, object loss-> 0.02542, class loss-> 0.00000\n",
      "Validation:\n"
     ]
    },
    {
     "name": "stderr",
     "output_type": "stream",
     "text": [
      "1it [00:00,  4.88it/s]\n"
     ]
    },
    {
     "name": "stdout",
     "output_type": "stream",
     "text": [
      "    recall: 0.500000 precision: 0.996520 mAP@0.5: 0.495425, mAP@0.5-0.95: 0.297255\n",
      "\n",
      "Epoch 580/1000\n",
      "----------\n",
      "Train: \n"
     ]
    },
    {
     "name": "stderr",
     "output_type": "stream",
     "text": [
      "3it [00:00,  3.78it/s]\n"
     ]
    },
    {
     "name": "stdout",
     "output_type": "stream",
     "text": [
      "    box loss-> 0.01385, object loss-> 0.02452, class loss-> 0.00000\n",
      "Validation:\n"
     ]
    },
    {
     "name": "stderr",
     "output_type": "stream",
     "text": [
      "1it [00:00,  4.82it/s]\n"
     ]
    },
    {
     "name": "stdout",
     "output_type": "stream",
     "text": [
      "    recall: 0.500000 precision: 0.983260 mAP@0.5: 0.495425, mAP@0.5-0.95: 0.297255\n",
      "\n",
      "Epoch 581/1000\n",
      "----------\n",
      "Train: \n"
     ]
    },
    {
     "name": "stderr",
     "output_type": "stream",
     "text": [
      "3it [00:00,  3.79it/s]\n"
     ]
    },
    {
     "name": "stdout",
     "output_type": "stream",
     "text": [
      "    box loss-> 0.01486, object loss-> 0.02540, class loss-> 0.00000\n",
      "Validation:\n"
     ]
    },
    {
     "name": "stderr",
     "output_type": "stream",
     "text": [
      "1it [00:00,  4.89it/s]\n"
     ]
    },
    {
     "name": "stdout",
     "output_type": "stream",
     "text": [
      "    recall: 0.500000 precision: 0.987324 mAP@0.5: 0.495425, mAP@0.5-0.95: 0.297255\n",
      "\n",
      "Epoch 582/1000\n",
      "----------\n",
      "Train: \n"
     ]
    },
    {
     "name": "stderr",
     "output_type": "stream",
     "text": [
      "3it [00:00,  3.77it/s]\n"
     ]
    },
    {
     "name": "stdout",
     "output_type": "stream",
     "text": [
      "    box loss-> 0.01559, object loss-> 0.02554, class loss-> 0.00000\n",
      "Validation:\n"
     ]
    },
    {
     "name": "stderr",
     "output_type": "stream",
     "text": [
      "1it [00:00,  4.84it/s]\n"
     ]
    },
    {
     "name": "stdout",
     "output_type": "stream",
     "text": [
      "    recall: 0.500000 precision: 0.976097 mAP@0.5: 0.495425, mAP@0.5-0.95: 0.297255\n",
      "\n",
      "Epoch 583/1000\n",
      "----------\n",
      "Train: \n"
     ]
    },
    {
     "name": "stderr",
     "output_type": "stream",
     "text": [
      "3it [00:00,  3.78it/s]\n"
     ]
    },
    {
     "name": "stdout",
     "output_type": "stream",
     "text": [
      "    box loss-> 0.01548, object loss-> 0.02527, class loss-> 0.00000\n",
      "Validation:\n"
     ]
    },
    {
     "name": "stderr",
     "output_type": "stream",
     "text": [
      "1it [00:00,  4.86it/s]\n"
     ]
    },
    {
     "name": "stdout",
     "output_type": "stream",
     "text": [
      "    recall: 0.500000 precision: 0.977000 mAP@0.5: 0.495425, mAP@0.5-0.95: 0.297255\n",
      "\n",
      "Epoch 584/1000\n",
      "----------\n",
      "Train: \n"
     ]
    },
    {
     "name": "stderr",
     "output_type": "stream",
     "text": [
      "3it [00:00,  3.72it/s]\n"
     ]
    },
    {
     "name": "stdout",
     "output_type": "stream",
     "text": [
      "    box loss-> 0.01643, object loss-> 0.02616, class loss-> 0.00000\n",
      "Validation:\n"
     ]
    },
    {
     "name": "stderr",
     "output_type": "stream",
     "text": [
      "1it [00:00,  4.86it/s]\n"
     ]
    },
    {
     "name": "stdout",
     "output_type": "stream",
     "text": [
      "    recall: 0.500000 precision: 0.983501 mAP@0.5: 0.495425, mAP@0.5-0.95: 0.198170\n",
      "\n",
      "Epoch 585/1000\n",
      "----------\n",
      "Train: \n"
     ]
    },
    {
     "name": "stderr",
     "output_type": "stream",
     "text": [
      "3it [00:00,  3.80it/s]\n"
     ]
    },
    {
     "name": "stdout",
     "output_type": "stream",
     "text": [
      "    box loss-> 0.01416, object loss-> 0.02406, class loss-> 0.00000\n",
      "Validation:\n"
     ]
    },
    {
     "name": "stderr",
     "output_type": "stream",
     "text": [
      "1it [00:00,  4.86it/s]\n"
     ]
    },
    {
     "name": "stdout",
     "output_type": "stream",
     "text": [
      "    recall: 0.500000 precision: 0.984816 mAP@0.5: 0.495425, mAP@0.5-0.95: 0.198170\n",
      "\n",
      "Epoch 586/1000\n",
      "----------\n",
      "Train: \n"
     ]
    },
    {
     "name": "stderr",
     "output_type": "stream",
     "text": [
      "3it [00:00,  3.80it/s]\n"
     ]
    },
    {
     "name": "stdout",
     "output_type": "stream",
     "text": [
      "    box loss-> 0.01522, object loss-> 0.02461, class loss-> 0.00000\n",
      "Validation:\n"
     ]
    },
    {
     "name": "stderr",
     "output_type": "stream",
     "text": [
      "1it [00:00,  4.83it/s]\n"
     ]
    },
    {
     "name": "stdout",
     "output_type": "stream",
     "text": [
      "    recall: 0.500000 precision: 0.990317 mAP@0.5: 0.495425, mAP@0.5-0.95: 0.198170\n",
      "\n",
      "Epoch 587/1000\n",
      "----------\n",
      "Train: \n"
     ]
    },
    {
     "name": "stderr",
     "output_type": "stream",
     "text": [
      "3it [00:00,  3.74it/s]\n"
     ]
    },
    {
     "name": "stdout",
     "output_type": "stream",
     "text": [
      "    box loss-> 0.01528, object loss-> 0.02485, class loss-> 0.00000\n",
      "Validation:\n"
     ]
    },
    {
     "name": "stderr",
     "output_type": "stream",
     "text": [
      "1it [00:00,  4.81it/s]\n"
     ]
    },
    {
     "name": "stdout",
     "output_type": "stream",
     "text": [
      "    recall: 0.500000 precision: 0.979430 mAP@0.5: 0.495425, mAP@0.5-0.95: 0.198170\n",
      "\n",
      "Epoch 588/1000\n",
      "----------\n",
      "Train: \n"
     ]
    },
    {
     "name": "stderr",
     "output_type": "stream",
     "text": [
      "3it [00:00,  3.80it/s]\n"
     ]
    },
    {
     "name": "stdout",
     "output_type": "stream",
     "text": [
      "    box loss-> 0.01500, object loss-> 0.02470, class loss-> 0.00000\n",
      "Validation:\n"
     ]
    },
    {
     "name": "stderr",
     "output_type": "stream",
     "text": [
      "1it [00:00,  4.95it/s]\n"
     ]
    },
    {
     "name": "stdout",
     "output_type": "stream",
     "text": [
      "    recall: 0.500000 precision: 0.993681 mAP@0.5: 0.495425, mAP@0.5-0.95: 0.198170\n",
      "\n",
      "Epoch 589/1000\n",
      "----------\n",
      "Train: \n"
     ]
    },
    {
     "name": "stderr",
     "output_type": "stream",
     "text": [
      "3it [00:00,  3.77it/s]\n"
     ]
    },
    {
     "name": "stdout",
     "output_type": "stream",
     "text": [
      "    box loss-> 0.01432, object loss-> 0.02421, class loss-> 0.00000\n",
      "Validation:\n"
     ]
    },
    {
     "name": "stderr",
     "output_type": "stream",
     "text": [
      "1it [00:00,  4.81it/s]\n"
     ]
    },
    {
     "name": "stdout",
     "output_type": "stream",
     "text": [
      "    recall: 0.500000 precision: 0.986999 mAP@0.5: 0.495425, mAP@0.5-0.95: 0.247713\n",
      "\n",
      "Epoch 590/1000\n",
      "----------\n",
      "Train: \n"
     ]
    },
    {
     "name": "stderr",
     "output_type": "stream",
     "text": [
      "3it [00:00,  3.80it/s]\n"
     ]
    },
    {
     "name": "stdout",
     "output_type": "stream",
     "text": [
      "    box loss-> 0.01458, object loss-> 0.02407, class loss-> 0.00000\n",
      "Validation:\n"
     ]
    },
    {
     "name": "stderr",
     "output_type": "stream",
     "text": [
      "1it [00:00,  4.85it/s]\n"
     ]
    },
    {
     "name": "stdout",
     "output_type": "stream",
     "text": [
      "    recall: 0.500000 precision: 0.987597 mAP@0.5: 0.495425, mAP@0.5-0.95: 0.247713\n",
      "\n",
      "Epoch 591/1000\n",
      "----------\n",
      "Train: \n"
     ]
    },
    {
     "name": "stderr",
     "output_type": "stream",
     "text": [
      "3it [00:00,  3.81it/s]\n"
     ]
    },
    {
     "name": "stdout",
     "output_type": "stream",
     "text": [
      "    box loss-> 0.01506, object loss-> 0.02347, class loss-> 0.00000\n",
      "Validation:\n"
     ]
    },
    {
     "name": "stderr",
     "output_type": "stream",
     "text": [
      "1it [00:00,  4.79it/s]\n"
     ]
    },
    {
     "name": "stdout",
     "output_type": "stream",
     "text": [
      "    recall: 0.500000 precision: 0.987226 mAP@0.5: 0.495425, mAP@0.5-0.95: 0.247713\n",
      "\n",
      "Epoch 592/1000\n",
      "----------\n",
      "Train: \n"
     ]
    },
    {
     "name": "stderr",
     "output_type": "stream",
     "text": [
      "3it [00:00,  3.77it/s]\n"
     ]
    },
    {
     "name": "stdout",
     "output_type": "stream",
     "text": [
      "    box loss-> 0.01594, object loss-> 0.02402, class loss-> 0.00000\n",
      "Validation:\n"
     ]
    },
    {
     "name": "stderr",
     "output_type": "stream",
     "text": [
      "1it [00:00,  4.83it/s]\n"
     ]
    },
    {
     "name": "stdout",
     "output_type": "stream",
     "text": [
      "    recall: 0.500000 precision: 0.989185 mAP@0.5: 0.495425, mAP@0.5-0.95: 0.247713\n",
      "\n",
      "Epoch 593/1000\n",
      "----------\n",
      "Train: \n"
     ]
    },
    {
     "name": "stderr",
     "output_type": "stream",
     "text": [
      "3it [00:00,  3.76it/s]\n"
     ]
    },
    {
     "name": "stdout",
     "output_type": "stream",
     "text": [
      "    box loss-> 0.01419, object loss-> 0.02346, class loss-> 0.00000\n",
      "Validation:\n"
     ]
    },
    {
     "name": "stderr",
     "output_type": "stream",
     "text": [
      "1it [00:00,  4.84it/s]\n"
     ]
    },
    {
     "name": "stdout",
     "output_type": "stream",
     "text": [
      "    recall: 0.500000 precision: 0.983726 mAP@0.5: 0.495425, mAP@0.5-0.95: 0.247713\n",
      "\n",
      "Epoch 594/1000\n",
      "----------\n",
      "Train: \n"
     ]
    },
    {
     "name": "stderr",
     "output_type": "stream",
     "text": [
      "3it [00:00,  3.77it/s]\n"
     ]
    },
    {
     "name": "stdout",
     "output_type": "stream",
     "text": [
      "    box loss-> 0.01510, object loss-> 0.02360, class loss-> 0.00000\n",
      "Validation:\n"
     ]
    },
    {
     "name": "stderr",
     "output_type": "stream",
     "text": [
      "1it [00:00,  4.82it/s]\n"
     ]
    },
    {
     "name": "stdout",
     "output_type": "stream",
     "text": [
      "    recall: 0.500000 precision: 0.980959 mAP@0.5: 0.495425, mAP@0.5-0.95: 0.247713\n",
      "\n",
      "Epoch 595/1000\n",
      "----------\n",
      "Train: \n"
     ]
    },
    {
     "name": "stderr",
     "output_type": "stream",
     "text": [
      "3it [00:00,  3.76it/s]\n"
     ]
    },
    {
     "name": "stdout",
     "output_type": "stream",
     "text": [
      "    box loss-> 0.01583, object loss-> 0.02410, class loss-> 0.00000\n",
      "Validation:\n"
     ]
    },
    {
     "name": "stderr",
     "output_type": "stream",
     "text": [
      "1it [00:00,  4.82it/s]\n"
     ]
    },
    {
     "name": "stdout",
     "output_type": "stream",
     "text": [
      "    recall: 0.500000 precision: 0.997933 mAP@0.5: 0.495425, mAP@0.5-0.95: 0.247713\n",
      "\n",
      "Epoch 596/1000\n",
      "----------\n",
      "Train: \n"
     ]
    },
    {
     "name": "stderr",
     "output_type": "stream",
     "text": [
      "3it [00:00,  3.79it/s]\n"
     ]
    },
    {
     "name": "stdout",
     "output_type": "stream",
     "text": [
      "    box loss-> 0.01421, object loss-> 0.02323, class loss-> 0.00000\n",
      "Validation:\n"
     ]
    },
    {
     "name": "stderr",
     "output_type": "stream",
     "text": [
      "1it [00:00,  4.66it/s]\n"
     ]
    },
    {
     "name": "stdout",
     "output_type": "stream",
     "text": [
      "    recall: 0.500000 precision: 0.986507 mAP@0.5: 0.495425, mAP@0.5-0.95: 0.297255\n",
      "\n",
      "Epoch 597/1000\n",
      "----------\n",
      "Train: \n"
     ]
    },
    {
     "name": "stderr",
     "output_type": "stream",
     "text": [
      "3it [00:00,  3.78it/s]\n"
     ]
    },
    {
     "name": "stdout",
     "output_type": "stream",
     "text": [
      "    box loss-> 0.01381, object loss-> 0.02291, class loss-> 0.00000\n",
      "Validation:\n"
     ]
    },
    {
     "name": "stderr",
     "output_type": "stream",
     "text": [
      "1it [00:00,  4.77it/s]\n"
     ]
    },
    {
     "name": "stdout",
     "output_type": "stream",
     "text": [
      "    recall: 0.500000 precision: 0.980615 mAP@0.5: 0.495425, mAP@0.5-0.95: 0.297255\n",
      "\n",
      "Epoch 598/1000\n",
      "----------\n",
      "Train: \n"
     ]
    },
    {
     "name": "stderr",
     "output_type": "stream",
     "text": [
      "3it [00:00,  3.80it/s]\n"
     ]
    },
    {
     "name": "stdout",
     "output_type": "stream",
     "text": [
      "    box loss-> 0.01436, object loss-> 0.02350, class loss-> 0.00000\n",
      "Validation:\n"
     ]
    },
    {
     "name": "stderr",
     "output_type": "stream",
     "text": [
      "1it [00:00,  4.80it/s]\n"
     ]
    },
    {
     "name": "stdout",
     "output_type": "stream",
     "text": [
      "    recall: 0.500000 precision: 0.987432 mAP@0.5: 0.495425, mAP@0.5-0.95: 0.297255\n",
      "\n",
      "Epoch 599/1000\n",
      "----------\n",
      "Train: \n"
     ]
    },
    {
     "name": "stderr",
     "output_type": "stream",
     "text": [
      "3it [00:00,  3.80it/s]\n"
     ]
    },
    {
     "name": "stdout",
     "output_type": "stream",
     "text": [
      "    box loss-> 0.01396, object loss-> 0.02264, class loss-> 0.00000\n",
      "Validation:\n"
     ]
    },
    {
     "name": "stderr",
     "output_type": "stream",
     "text": [
      "1it [00:00,  4.69it/s]\n"
     ]
    },
    {
     "name": "stdout",
     "output_type": "stream",
     "text": [
      "    recall: 0.500000 precision: 0.984104 mAP@0.5: 0.495425, mAP@0.5-0.95: 0.297255\n",
      "\n",
      "Epoch 600/1000\n",
      "----------\n",
      "Train: \n"
     ]
    },
    {
     "name": "stderr",
     "output_type": "stream",
     "text": [
      "3it [00:00,  3.75it/s]\n"
     ]
    },
    {
     "name": "stdout",
     "output_type": "stream",
     "text": [
      "    box loss-> 0.01288, object loss-> 0.02240, class loss-> 0.00000\n",
      "Validation:\n"
     ]
    },
    {
     "name": "stderr",
     "output_type": "stream",
     "text": [
      "1it [00:00,  4.70it/s]\n"
     ]
    },
    {
     "name": "stdout",
     "output_type": "stream",
     "text": [
      "    recall: 0.500000 precision: 0.911277 mAP@0.5: 0.495425, mAP@0.5-0.95: 0.297255\n",
      "\n",
      "Epoch 601/1000\n",
      "----------\n",
      "Train: \n"
     ]
    },
    {
     "name": "stderr",
     "output_type": "stream",
     "text": [
      "3it [00:00,  3.78it/s]\n"
     ]
    },
    {
     "name": "stdout",
     "output_type": "stream",
     "text": [
      "    box loss-> 0.01392, object loss-> 0.02263, class loss-> 0.00000\n",
      "Validation:\n"
     ]
    },
    {
     "name": "stderr",
     "output_type": "stream",
     "text": [
      "1it [00:00,  4.56it/s]\n"
     ]
    },
    {
     "name": "stdout",
     "output_type": "stream",
     "text": [
      "    recall: 0.500000 precision: 0.866015 mAP@0.5: 0.495425, mAP@0.5-0.95: 0.297255\n",
      "\n",
      "Epoch 602/1000\n",
      "----------\n",
      "Train: \n"
     ]
    },
    {
     "name": "stderr",
     "output_type": "stream",
     "text": [
      "3it [00:00,  3.82it/s]\n"
     ]
    },
    {
     "name": "stdout",
     "output_type": "stream",
     "text": [
      "    box loss-> 0.01280, object loss-> 0.02212, class loss-> 0.00000\n",
      "Validation:\n"
     ]
    },
    {
     "name": "stderr",
     "output_type": "stream",
     "text": [
      "1it [00:00,  4.75it/s]\n"
     ]
    },
    {
     "name": "stdout",
     "output_type": "stream",
     "text": [
      "    recall: 0.500000 precision: 0.856984 mAP@0.5: 0.495425, mAP@0.5-0.95: 0.297255\n",
      "\n",
      "Epoch 603/1000\n",
      "----------\n",
      "Train: \n"
     ]
    },
    {
     "name": "stderr",
     "output_type": "stream",
     "text": [
      "3it [00:00,  3.80it/s]\n"
     ]
    },
    {
     "name": "stdout",
     "output_type": "stream",
     "text": [
      "    box loss-> 0.01342, object loss-> 0.02243, class loss-> 0.00000\n",
      "Validation:\n"
     ]
    },
    {
     "name": "stderr",
     "output_type": "stream",
     "text": [
      "1it [00:00,  4.86it/s]\n"
     ]
    },
    {
     "name": "stdout",
     "output_type": "stream",
     "text": [
      "    recall: 0.500000 precision: 0.934788 mAP@0.5: 0.495425, mAP@0.5-0.95: 0.297255\n",
      "\n",
      "Epoch 604/1000\n",
      "----------\n",
      "Train: \n"
     ]
    },
    {
     "name": "stderr",
     "output_type": "stream",
     "text": [
      "3it [00:00,  3.82it/s]\n"
     ]
    },
    {
     "name": "stdout",
     "output_type": "stream",
     "text": [
      "    box loss-> 0.01371, object loss-> 0.02258, class loss-> 0.00000\n",
      "Validation:\n"
     ]
    },
    {
     "name": "stderr",
     "output_type": "stream",
     "text": [
      "1it [00:00,  4.77it/s]\n"
     ]
    },
    {
     "name": "stdout",
     "output_type": "stream",
     "text": [
      "    recall: 0.500000 precision: 0.962785 mAP@0.5: 0.495425, mAP@0.5-0.95: 0.297255\n",
      "\n",
      "Epoch 605/1000\n",
      "----------\n",
      "Train: \n"
     ]
    },
    {
     "name": "stderr",
     "output_type": "stream",
     "text": [
      "3it [00:00,  3.74it/s]\n"
     ]
    },
    {
     "name": "stdout",
     "output_type": "stream",
     "text": [
      "    box loss-> 0.01284, object loss-> 0.02233, class loss-> 0.00000\n",
      "Validation:\n"
     ]
    },
    {
     "name": "stderr",
     "output_type": "stream",
     "text": [
      "1it [00:00,  4.82it/s]\n"
     ]
    },
    {
     "name": "stdout",
     "output_type": "stream",
     "text": [
      "    recall: 0.500000 precision: 0.993762 mAP@0.5: 0.495425, mAP@0.5-0.95: 0.346797\n",
      "\n",
      "Epoch 606/1000\n",
      "----------\n",
      "Train: \n"
     ]
    },
    {
     "name": "stderr",
     "output_type": "stream",
     "text": [
      "3it [00:00,  3.80it/s]\n"
     ]
    },
    {
     "name": "stdout",
     "output_type": "stream",
     "text": [
      "    box loss-> 0.01686, object loss-> 0.02634, class loss-> 0.00000\n",
      "Validation:\n"
     ]
    },
    {
     "name": "stderr",
     "output_type": "stream",
     "text": [
      "1it [00:00,  4.75it/s]\n"
     ]
    },
    {
     "name": "stdout",
     "output_type": "stream",
     "text": [
      "    recall: 0.500000 precision: 0.999073 mAP@0.5: 0.495425, mAP@0.5-0.95: 0.346797\n",
      "\n",
      "Epoch 607/1000\n",
      "----------\n",
      "Train: \n"
     ]
    },
    {
     "name": "stderr",
     "output_type": "stream",
     "text": [
      "3it [00:00,  3.78it/s]\n"
     ]
    },
    {
     "name": "stdout",
     "output_type": "stream",
     "text": [
      "    box loss-> 0.01676, object loss-> 0.02604, class loss-> 0.00000\n",
      "Validation:\n"
     ]
    },
    {
     "name": "stderr",
     "output_type": "stream",
     "text": [
      "1it [00:00,  4.84it/s]\n"
     ]
    },
    {
     "name": "stdout",
     "output_type": "stream",
     "text": [
      "    recall: 0.500000 precision: 0.995367 mAP@0.5: 0.495425, mAP@0.5-0.95: 0.346797\n",
      "\n",
      "Epoch 608/1000\n",
      "----------\n",
      "Train: \n"
     ]
    },
    {
     "name": "stderr",
     "output_type": "stream",
     "text": [
      "3it [00:00,  3.80it/s]\n"
     ]
    },
    {
     "name": "stdout",
     "output_type": "stream",
     "text": [
      "    box loss-> 0.01601, object loss-> 0.02568, class loss-> 0.00000\n",
      "Validation:\n"
     ]
    },
    {
     "name": "stderr",
     "output_type": "stream",
     "text": [
      "1it [00:00,  4.77it/s]\n"
     ]
    },
    {
     "name": "stdout",
     "output_type": "stream",
     "text": [
      "    recall: 0.500000 precision: 0.986464 mAP@0.5: 0.495425, mAP@0.5-0.95: 0.346797\n",
      "\n",
      "Epoch 609/1000\n",
      "----------\n",
      "Train: \n"
     ]
    },
    {
     "name": "stderr",
     "output_type": "stream",
     "text": [
      "3it [00:00,  3.83it/s]\n"
     ]
    },
    {
     "name": "stdout",
     "output_type": "stream",
     "text": [
      "    box loss-> 0.01663, object loss-> 0.02605, class loss-> 0.00000\n",
      "Validation:\n"
     ]
    },
    {
     "name": "stderr",
     "output_type": "stream",
     "text": [
      "1it [00:00,  4.85it/s]\n"
     ]
    },
    {
     "name": "stdout",
     "output_type": "stream",
     "text": [
      "    recall: 0.500000 precision: 0.995038 mAP@0.5: 0.495425, mAP@0.5-0.95: 0.297255\n",
      "\n",
      "Epoch 610/1000\n",
      "----------\n",
      "Train: \n"
     ]
    },
    {
     "name": "stderr",
     "output_type": "stream",
     "text": [
      "3it [00:00,  3.83it/s]\n"
     ]
    },
    {
     "name": "stdout",
     "output_type": "stream",
     "text": [
      "    box loss-> 0.01662, object loss-> 0.02621, class loss-> 0.00000\n",
      "Validation:\n"
     ]
    },
    {
     "name": "stderr",
     "output_type": "stream",
     "text": [
      "1it [00:00,  4.84it/s]\n"
     ]
    },
    {
     "name": "stdout",
     "output_type": "stream",
     "text": [
      "    recall: 0.500000 precision: 0.987761 mAP@0.5: 0.495425, mAP@0.5-0.95: 0.297255\n",
      "\n",
      "Epoch 611/1000\n",
      "----------\n",
      "Train: \n"
     ]
    },
    {
     "name": "stderr",
     "output_type": "stream",
     "text": [
      "3it [00:00,  3.76it/s]\n"
     ]
    },
    {
     "name": "stdout",
     "output_type": "stream",
     "text": [
      "    box loss-> 0.01641, object loss-> 0.02589, class loss-> 0.00000\n",
      "Validation:\n"
     ]
    },
    {
     "name": "stderr",
     "output_type": "stream",
     "text": [
      "1it [00:00,  4.74it/s]\n"
     ]
    },
    {
     "name": "stdout",
     "output_type": "stream",
     "text": [
      "    recall: 0.500000 precision: 0.996717 mAP@0.5: 0.495425, mAP@0.5-0.95: 0.346797\n",
      "\n",
      "Epoch 612/1000\n",
      "----------\n",
      "Train: \n"
     ]
    },
    {
     "name": "stderr",
     "output_type": "stream",
     "text": [
      "3it [00:00,  3.76it/s]\n"
     ]
    },
    {
     "name": "stdout",
     "output_type": "stream",
     "text": [
      "    box loss-> 0.01546, object loss-> 0.02456, class loss-> 0.00000\n",
      "Validation:\n"
     ]
    },
    {
     "name": "stderr",
     "output_type": "stream",
     "text": [
      "1it [00:00,  4.58it/s]\n"
     ]
    },
    {
     "name": "stdout",
     "output_type": "stream",
     "text": [
      "    recall: 0.500000 precision: 0.985377 mAP@0.5: 0.495425, mAP@0.5-0.95: 0.346797\n",
      "\n",
      "Epoch 613/1000\n",
      "----------\n",
      "Train: \n"
     ]
    },
    {
     "name": "stderr",
     "output_type": "stream",
     "text": [
      "3it [00:00,  3.79it/s]\n"
     ]
    },
    {
     "name": "stdout",
     "output_type": "stream",
     "text": [
      "    box loss-> 0.01528, object loss-> 0.02432, class loss-> 0.00000\n",
      "Validation:\n"
     ]
    },
    {
     "name": "stderr",
     "output_type": "stream",
     "text": [
      "1it [00:00,  4.74it/s]\n"
     ]
    },
    {
     "name": "stdout",
     "output_type": "stream",
     "text": [
      "    recall: 0.500000 precision: 0.982426 mAP@0.5: 0.495425, mAP@0.5-0.95: 0.346797\n",
      "\n",
      "Epoch 614/1000\n",
      "----------\n",
      "Train: \n"
     ]
    },
    {
     "name": "stderr",
     "output_type": "stream",
     "text": [
      "3it [00:00,  3.77it/s]\n"
     ]
    },
    {
     "name": "stdout",
     "output_type": "stream",
     "text": [
      "    box loss-> 0.01516, object loss-> 0.02461, class loss-> 0.00000\n",
      "Validation:\n"
     ]
    },
    {
     "name": "stderr",
     "output_type": "stream",
     "text": [
      "1it [00:00,  4.75it/s]\n"
     ]
    },
    {
     "name": "stdout",
     "output_type": "stream",
     "text": [
      "    recall: 0.500000 precision: 0.986861 mAP@0.5: 0.495425, mAP@0.5-0.95: 0.346797\n",
      "\n",
      "Epoch 615/1000\n",
      "----------\n",
      "Train: \n"
     ]
    },
    {
     "name": "stderr",
     "output_type": "stream",
     "text": [
      "3it [00:00,  3.76it/s]\n"
     ]
    },
    {
     "name": "stdout",
     "output_type": "stream",
     "text": [
      "    box loss-> 0.01569, object loss-> 0.02494, class loss-> 0.00000\n",
      "Validation:\n"
     ]
    },
    {
     "name": "stderr",
     "output_type": "stream",
     "text": [
      "1it [00:00,  4.73it/s]\n"
     ]
    },
    {
     "name": "stdout",
     "output_type": "stream",
     "text": [
      "    recall: 0.500000 precision: 0.988119 mAP@0.5: 0.495425, mAP@0.5-0.95: 0.346797\n",
      "\n",
      "Epoch 616/1000\n",
      "----------\n",
      "Train: \n"
     ]
    },
    {
     "name": "stderr",
     "output_type": "stream",
     "text": [
      "3it [00:00,  3.70it/s]\n"
     ]
    },
    {
     "name": "stdout",
     "output_type": "stream",
     "text": [
      "    box loss-> 0.01434, object loss-> 0.02389, class loss-> 0.00000\n",
      "Validation:\n"
     ]
    },
    {
     "name": "stderr",
     "output_type": "stream",
     "text": [
      "1it [00:00,  4.70it/s]\n"
     ]
    },
    {
     "name": "stdout",
     "output_type": "stream",
     "text": [
      "    recall: 0.500000 precision: 0.995930 mAP@0.5: 0.495425, mAP@0.5-0.95: 0.346797\n",
      "\n",
      "Epoch 617/1000\n",
      "----------\n",
      "Train: \n"
     ]
    },
    {
     "name": "stderr",
     "output_type": "stream",
     "text": [
      "3it [00:00,  3.81it/s]\n"
     ]
    },
    {
     "name": "stdout",
     "output_type": "stream",
     "text": [
      "    box loss-> 0.01524, object loss-> 0.02448, class loss-> 0.00000\n",
      "Validation:\n"
     ]
    },
    {
     "name": "stderr",
     "output_type": "stream",
     "text": [
      "1it [00:00,  4.80it/s]\n"
     ]
    },
    {
     "name": "stdout",
     "output_type": "stream",
     "text": [
      "    recall: 0.500000 precision: 0.981063 mAP@0.5: 0.495425, mAP@0.5-0.95: 0.346797\n",
      "\n",
      "Epoch 618/1000\n",
      "----------\n",
      "Train: \n"
     ]
    },
    {
     "name": "stderr",
     "output_type": "stream",
     "text": [
      "3it [00:00,  3.80it/s]\n"
     ]
    },
    {
     "name": "stdout",
     "output_type": "stream",
     "text": [
      "    box loss-> 0.01443, object loss-> 0.02414, class loss-> 0.00000\n",
      "Validation:\n"
     ]
    },
    {
     "name": "stderr",
     "output_type": "stream",
     "text": [
      "1it [00:00,  4.76it/s]\n"
     ]
    },
    {
     "name": "stdout",
     "output_type": "stream",
     "text": [
      "    recall: 0.500000 precision: 0.985403 mAP@0.5: 0.495425, mAP@0.5-0.95: 0.346797\n",
      "\n",
      "Epoch 619/1000\n",
      "----------\n",
      "Train: \n"
     ]
    },
    {
     "name": "stderr",
     "output_type": "stream",
     "text": [
      "3it [00:00,  3.79it/s]\n"
     ]
    },
    {
     "name": "stdout",
     "output_type": "stream",
     "text": [
      "    box loss-> 0.01519, object loss-> 0.02443, class loss-> 0.00000\n",
      "Validation:\n"
     ]
    },
    {
     "name": "stderr",
     "output_type": "stream",
     "text": [
      "1it [00:00,  4.74it/s]\n"
     ]
    },
    {
     "name": "stdout",
     "output_type": "stream",
     "text": [
      "    recall: 0.500000 precision: 0.991153 mAP@0.5: 0.495425, mAP@0.5-0.95: 0.346797\n",
      "\n",
      "Epoch 620/1000\n",
      "----------\n",
      "Train: \n"
     ]
    },
    {
     "name": "stderr",
     "output_type": "stream",
     "text": [
      "3it [00:00,  3.78it/s]\n"
     ]
    },
    {
     "name": "stdout",
     "output_type": "stream",
     "text": [
      "    box loss-> 0.01433, object loss-> 0.02404, class loss-> 0.00000\n",
      "Validation:\n"
     ]
    },
    {
     "name": "stderr",
     "output_type": "stream",
     "text": [
      "1it [00:00,  4.74it/s]\n"
     ]
    },
    {
     "name": "stdout",
     "output_type": "stream",
     "text": [
      "    recall: 0.500000 precision: 0.978877 mAP@0.5: 0.495425, mAP@0.5-0.95: 0.346797\n",
      "\n",
      "Epoch 621/1000\n",
      "----------\n",
      "Train: \n"
     ]
    },
    {
     "name": "stderr",
     "output_type": "stream",
     "text": [
      "3it [00:00,  3.76it/s]\n"
     ]
    },
    {
     "name": "stdout",
     "output_type": "stream",
     "text": [
      "    box loss-> 0.01702, object loss-> 0.02427, class loss-> 0.00000\n",
      "Validation:\n"
     ]
    },
    {
     "name": "stderr",
     "output_type": "stream",
     "text": [
      "1it [00:00,  4.59it/s]\n"
     ]
    },
    {
     "name": "stdout",
     "output_type": "stream",
     "text": [
      "    recall: 0.500000 precision: 0.942627 mAP@0.5: 0.495425, mAP@0.5-0.95: 0.247713\n",
      "\n",
      "Epoch 622/1000\n",
      "----------\n",
      "Train: \n"
     ]
    },
    {
     "name": "stderr",
     "output_type": "stream",
     "text": [
      "3it [00:00,  3.74it/s]\n"
     ]
    },
    {
     "name": "stdout",
     "output_type": "stream",
     "text": [
      "    box loss-> 0.01540, object loss-> 0.02425, class loss-> 0.00000\n",
      "Validation:\n"
     ]
    },
    {
     "name": "stderr",
     "output_type": "stream",
     "text": [
      "1it [00:00,  4.75it/s]\n"
     ]
    },
    {
     "name": "stdout",
     "output_type": "stream",
     "text": [
      "    recall: 0.500000 precision: 0.947215 mAP@0.5: 0.495425, mAP@0.5-0.95: 0.247713\n",
      "\n",
      "Epoch 623/1000\n",
      "----------\n",
      "Train: \n"
     ]
    },
    {
     "name": "stderr",
     "output_type": "stream",
     "text": [
      "3it [00:00,  3.80it/s]\n"
     ]
    },
    {
     "name": "stdout",
     "output_type": "stream",
     "text": [
      "    box loss-> 0.01562, object loss-> 0.02423, class loss-> 0.00000\n",
      "Validation:\n"
     ]
    },
    {
     "name": "stderr",
     "output_type": "stream",
     "text": [
      "1it [00:00,  4.69it/s]\n"
     ]
    },
    {
     "name": "stdout",
     "output_type": "stream",
     "text": [
      "    recall: 0.500000 precision: 0.963078 mAP@0.5: 0.495425, mAP@0.5-0.95: 0.297255\n",
      "\n",
      "Epoch 624/1000\n",
      "----------\n",
      "Train: \n"
     ]
    },
    {
     "name": "stderr",
     "output_type": "stream",
     "text": [
      "3it [00:00,  3.79it/s]\n"
     ]
    },
    {
     "name": "stdout",
     "output_type": "stream",
     "text": [
      "    box loss-> 0.01474, object loss-> 0.02368, class loss-> 0.00000\n",
      "Validation:\n"
     ]
    },
    {
     "name": "stderr",
     "output_type": "stream",
     "text": [
      "1it [00:00,  4.68it/s]\n"
     ]
    },
    {
     "name": "stdout",
     "output_type": "stream",
     "text": [
      "    recall: 0.500000 precision: 0.949623 mAP@0.5: 0.495425, mAP@0.5-0.95: 0.297255\n",
      "\n",
      "Epoch 625/1000\n",
      "----------\n",
      "Train: \n"
     ]
    },
    {
     "name": "stderr",
     "output_type": "stream",
     "text": [
      "3it [00:00,  3.78it/s]\n"
     ]
    },
    {
     "name": "stdout",
     "output_type": "stream",
     "text": [
      "    box loss-> 0.01670, object loss-> 0.02537, class loss-> 0.00000\n",
      "Validation:\n"
     ]
    },
    {
     "name": "stderr",
     "output_type": "stream",
     "text": [
      "1it [00:00,  4.76it/s]\n"
     ]
    },
    {
     "name": "stdout",
     "output_type": "stream",
     "text": [
      "    recall: 0.500000 precision: 0.960130 mAP@0.5: 0.495425, mAP@0.5-0.95: 0.297255\n",
      "\n",
      "Epoch 626/1000\n",
      "----------\n",
      "Train: \n"
     ]
    },
    {
     "name": "stderr",
     "output_type": "stream",
     "text": [
      "3it [00:00,  3.75it/s]\n"
     ]
    },
    {
     "name": "stdout",
     "output_type": "stream",
     "text": [
      "    box loss-> 0.01554, object loss-> 0.02430, class loss-> 0.00000\n",
      "Validation:\n"
     ]
    },
    {
     "name": "stderr",
     "output_type": "stream",
     "text": [
      "1it [00:00,  4.60it/s]\n"
     ]
    },
    {
     "name": "stdout",
     "output_type": "stream",
     "text": [
      "    recall: 0.500000 precision: 0.965520 mAP@0.5: 0.495425, mAP@0.5-0.95: 0.297255\n",
      "\n",
      "Epoch 627/1000\n",
      "----------\n",
      "Train: \n"
     ]
    },
    {
     "name": "stderr",
     "output_type": "stream",
     "text": [
      "3it [00:00,  3.72it/s]\n"
     ]
    },
    {
     "name": "stdout",
     "output_type": "stream",
     "text": [
      "    box loss-> 0.01772, object loss-> 0.02586, class loss-> 0.00000\n",
      "Validation:\n"
     ]
    },
    {
     "name": "stderr",
     "output_type": "stream",
     "text": [
      "1it [00:00,  4.71it/s]\n"
     ]
    },
    {
     "name": "stdout",
     "output_type": "stream",
     "text": [
      "    recall: 0.500000 precision: 0.957305 mAP@0.5: 0.495425, mAP@0.5-0.95: 0.247713\n",
      "\n",
      "Epoch 628/1000\n",
      "----------\n",
      "Train: \n"
     ]
    },
    {
     "name": "stderr",
     "output_type": "stream",
     "text": [
      "3it [00:00,  3.79it/s]\n"
     ]
    },
    {
     "name": "stdout",
     "output_type": "stream",
     "text": [
      "    box loss-> 0.01661, object loss-> 0.02497, class loss-> 0.00000\n",
      "Validation:\n"
     ]
    },
    {
     "name": "stderr",
     "output_type": "stream",
     "text": [
      "1it [00:00,  4.44it/s]\n"
     ]
    },
    {
     "name": "stdout",
     "output_type": "stream",
     "text": [
      "    recall: 0.500000 precision: 0.960759 mAP@0.5: 0.495425, mAP@0.5-0.95: 0.247713\n",
      "\n",
      "Epoch 629/1000\n",
      "----------\n",
      "Train: \n"
     ]
    },
    {
     "name": "stderr",
     "output_type": "stream",
     "text": [
      "3it [00:00,  3.74it/s]\n"
     ]
    },
    {
     "name": "stdout",
     "output_type": "stream",
     "text": [
      "    box loss-> 0.01652, object loss-> 0.02527, class loss-> 0.00000\n",
      "Validation:\n"
     ]
    },
    {
     "name": "stderr",
     "output_type": "stream",
     "text": [
      "1it [00:00,  4.61it/s]\n"
     ]
    },
    {
     "name": "stdout",
     "output_type": "stream",
     "text": [
      "    recall: 0.500000 precision: 0.980570 mAP@0.5: 0.495425, mAP@0.5-0.95: 0.297255\n",
      "\n",
      "Epoch 630/1000\n",
      "----------\n",
      "Train: \n"
     ]
    },
    {
     "name": "stderr",
     "output_type": "stream",
     "text": [
      "3it [00:00,  3.76it/s]\n"
     ]
    },
    {
     "name": "stdout",
     "output_type": "stream",
     "text": [
      "    box loss-> 0.01600, object loss-> 0.02433, class loss-> 0.00000\n",
      "Validation:\n"
     ]
    },
    {
     "name": "stderr",
     "output_type": "stream",
     "text": [
      "1it [00:00,  4.62it/s]\n"
     ]
    },
    {
     "name": "stdout",
     "output_type": "stream",
     "text": [
      "    recall: 0.500000 precision: 0.989516 mAP@0.5: 0.495425, mAP@0.5-0.95: 0.297255\n",
      "\n",
      "Epoch 631/1000\n",
      "----------\n",
      "Train: \n"
     ]
    },
    {
     "name": "stderr",
     "output_type": "stream",
     "text": [
      "3it [00:00,  3.65it/s]\n"
     ]
    },
    {
     "name": "stdout",
     "output_type": "stream",
     "text": [
      "    box loss-> 0.01608, object loss-> 0.02457, class loss-> 0.00000\n",
      "Validation:\n"
     ]
    },
    {
     "name": "stderr",
     "output_type": "stream",
     "text": [
      "1it [00:00,  4.29it/s]\n"
     ]
    },
    {
     "name": "stdout",
     "output_type": "stream",
     "text": [
      "    recall: 0.500000 precision: 0.974285 mAP@0.5: 0.495425, mAP@0.5-0.95: 0.297255\n",
      "\n",
      "Epoch 632/1000\n",
      "----------\n",
      "Train: \n"
     ]
    },
    {
     "name": "stderr",
     "output_type": "stream",
     "text": [
      "3it [00:00,  3.59it/s]\n"
     ]
    },
    {
     "name": "stdout",
     "output_type": "stream",
     "text": [
      "    box loss-> 0.01456, object loss-> 0.02387, class loss-> 0.00000\n",
      "Validation:\n"
     ]
    },
    {
     "name": "stderr",
     "output_type": "stream",
     "text": [
      "1it [00:00,  4.22it/s]\n"
     ]
    },
    {
     "name": "stdout",
     "output_type": "stream",
     "text": [
      "    recall: 0.500000 precision: 0.968781 mAP@0.5: 0.495425, mAP@0.5-0.95: 0.346797\n",
      "\n",
      "Epoch 633/1000\n",
      "----------\n",
      "Train: \n"
     ]
    },
    {
     "name": "stderr",
     "output_type": "stream",
     "text": [
      "3it [00:00,  3.68it/s]\n"
     ]
    },
    {
     "name": "stdout",
     "output_type": "stream",
     "text": [
      "    box loss-> 0.01229, object loss-> 0.02168, class loss-> 0.00000\n",
      "Validation:\n"
     ]
    },
    {
     "name": "stderr",
     "output_type": "stream",
     "text": [
      "1it [00:00,  4.31it/s]\n"
     ]
    },
    {
     "name": "stdout",
     "output_type": "stream",
     "text": [
      "    recall: 0.500000 precision: 0.969333 mAP@0.5: 0.495425, mAP@0.5-0.95: 0.346797\n",
      "\n",
      "Epoch 634/1000\n",
      "----------\n",
      "Train: \n"
     ]
    },
    {
     "name": "stderr",
     "output_type": "stream",
     "text": [
      "3it [00:00,  3.67it/s]\n"
     ]
    },
    {
     "name": "stdout",
     "output_type": "stream",
     "text": [
      "    box loss-> 0.01211, object loss-> 0.02196, class loss-> 0.00000\n",
      "Validation:\n"
     ]
    },
    {
     "name": "stderr",
     "output_type": "stream",
     "text": [
      "1it [00:00,  4.47it/s]\n"
     ]
    },
    {
     "name": "stdout",
     "output_type": "stream",
     "text": [
      "    recall: 0.500000 precision: 0.996621 mAP@0.5: 0.495425, mAP@0.5-0.95: 0.346797\n",
      "\n",
      "Epoch 635/1000\n",
      "----------\n",
      "Train: \n"
     ]
    },
    {
     "name": "stderr",
     "output_type": "stream",
     "text": [
      "3it [00:00,  3.71it/s]\n"
     ]
    },
    {
     "name": "stdout",
     "output_type": "stream",
     "text": [
      "    box loss-> 0.01185, object loss-> 0.02141, class loss-> 0.00000\n",
      "Validation:\n"
     ]
    },
    {
     "name": "stderr",
     "output_type": "stream",
     "text": [
      "1it [00:00,  4.35it/s]\n"
     ]
    },
    {
     "name": "stdout",
     "output_type": "stream",
     "text": [
      "    recall: 0.500000 precision: 0.964632 mAP@0.5: 0.495425, mAP@0.5-0.95: 0.346797\n",
      "\n",
      "Epoch 636/1000\n",
      "----------\n",
      "Train: \n"
     ]
    },
    {
     "name": "stderr",
     "output_type": "stream",
     "text": [
      "3it [00:00,  3.70it/s]\n"
     ]
    },
    {
     "name": "stdout",
     "output_type": "stream",
     "text": [
      "    box loss-> 0.01231, object loss-> 0.02213, class loss-> 0.00000\n",
      "Validation:\n"
     ]
    },
    {
     "name": "stderr",
     "output_type": "stream",
     "text": [
      "1it [00:00,  4.24it/s]\n"
     ]
    },
    {
     "name": "stdout",
     "output_type": "stream",
     "text": [
      "    recall: 0.500000 precision: 0.950852 mAP@0.5: 0.495425, mAP@0.5-0.95: 0.346797\n",
      "\n",
      "Epoch 637/1000\n",
      "----------\n",
      "Train: \n"
     ]
    },
    {
     "name": "stderr",
     "output_type": "stream",
     "text": [
      "3it [00:00,  3.56it/s]\n"
     ]
    },
    {
     "name": "stdout",
     "output_type": "stream",
     "text": [
      "    box loss-> 0.01256, object loss-> 0.02236, class loss-> 0.00000\n",
      "Validation:\n"
     ]
    },
    {
     "name": "stderr",
     "output_type": "stream",
     "text": [
      "1it [00:00,  3.59it/s]\n"
     ]
    },
    {
     "name": "stdout",
     "output_type": "stream",
     "text": [
      "    recall: 0.500000 precision: 0.938466 mAP@0.5: 0.495425, mAP@0.5-0.95: 0.297255\n",
      "\n",
      "Epoch 638/1000\n",
      "----------\n",
      "Train: \n"
     ]
    },
    {
     "name": "stderr",
     "output_type": "stream",
     "text": [
      "3it [00:00,  3.70it/s]\n"
     ]
    },
    {
     "name": "stdout",
     "output_type": "stream",
     "text": [
      "    box loss-> 0.01253, object loss-> 0.02215, class loss-> 0.00000\n",
      "Validation:\n"
     ]
    },
    {
     "name": "stderr",
     "output_type": "stream",
     "text": [
      "1it [00:00,  4.58it/s]\n"
     ]
    },
    {
     "name": "stdout",
     "output_type": "stream",
     "text": [
      "    recall: 0.500000 precision: 0.994336 mAP@0.5: 0.495425, mAP@0.5-0.95: 0.297255\n",
      "\n",
      "Epoch 639/1000\n",
      "----------\n",
      "Train: \n"
     ]
    },
    {
     "name": "stderr",
     "output_type": "stream",
     "text": [
      "3it [00:00,  3.72it/s]\n"
     ]
    },
    {
     "name": "stdout",
     "output_type": "stream",
     "text": [
      "    box loss-> 0.01229, object loss-> 0.02199, class loss-> 0.00000\n",
      "Validation:\n"
     ]
    },
    {
     "name": "stderr",
     "output_type": "stream",
     "text": [
      "1it [00:00,  4.47it/s]\n"
     ]
    },
    {
     "name": "stdout",
     "output_type": "stream",
     "text": [
      "    recall: 0.500000 precision: 0.923164 mAP@0.5: 0.495425, mAP@0.5-0.95: 0.297255\n",
      "\n",
      "Epoch 640/1000\n",
      "----------\n",
      "Train: \n"
     ]
    },
    {
     "name": "stderr",
     "output_type": "stream",
     "text": [
      "3it [00:00,  3.69it/s]\n"
     ]
    },
    {
     "name": "stdout",
     "output_type": "stream",
     "text": [
      "    box loss-> 0.01347, object loss-> 0.02266, class loss-> 0.00000\n",
      "Validation:\n"
     ]
    },
    {
     "name": "stderr",
     "output_type": "stream",
     "text": [
      "1it [00:00,  4.49it/s]\n"
     ]
    },
    {
     "name": "stdout",
     "output_type": "stream",
     "text": [
      "    recall: 0.500000 precision: 0.998559 mAP@0.5: 0.495425, mAP@0.5-0.95: 0.297255\n",
      "\n",
      "Epoch 641/1000\n",
      "----------\n",
      "Train: \n"
     ]
    },
    {
     "name": "stderr",
     "output_type": "stream",
     "text": [
      "3it [00:00,  3.76it/s]\n"
     ]
    },
    {
     "name": "stdout",
     "output_type": "stream",
     "text": [
      "    box loss-> 0.01296, object loss-> 0.02268, class loss-> 0.00000\n",
      "Validation:\n"
     ]
    },
    {
     "name": "stderr",
     "output_type": "stream",
     "text": [
      "1it [00:00,  4.55it/s]\n"
     ]
    },
    {
     "name": "stdout",
     "output_type": "stream",
     "text": [
      "    recall: 0.500000 precision: 0.978547 mAP@0.5: 0.495425, mAP@0.5-0.95: 0.297255\n",
      "\n",
      "Epoch 642/1000\n",
      "----------\n",
      "Train: \n"
     ]
    },
    {
     "name": "stderr",
     "output_type": "stream",
     "text": [
      "3it [00:00,  3.76it/s]\n"
     ]
    },
    {
     "name": "stdout",
     "output_type": "stream",
     "text": [
      "    box loss-> 0.01267, object loss-> 0.02232, class loss-> 0.00000\n",
      "Validation:\n"
     ]
    },
    {
     "name": "stderr",
     "output_type": "stream",
     "text": [
      "1it [00:00,  4.68it/s]\n"
     ]
    },
    {
     "name": "stdout",
     "output_type": "stream",
     "text": [
      "    recall: 0.500000 precision: 0.944034 mAP@0.5: 0.495425, mAP@0.5-0.95: 0.297255\n",
      "\n",
      "Epoch 643/1000\n",
      "----------\n",
      "Train: \n"
     ]
    },
    {
     "name": "stderr",
     "output_type": "stream",
     "text": [
      "3it [00:00,  3.72it/s]\n"
     ]
    },
    {
     "name": "stdout",
     "output_type": "stream",
     "text": [
      "    box loss-> 0.01246, object loss-> 0.02177, class loss-> 0.00000\n",
      "Validation:\n"
     ]
    },
    {
     "name": "stderr",
     "output_type": "stream",
     "text": [
      "1it [00:00,  4.76it/s]\n"
     ]
    },
    {
     "name": "stdout",
     "output_type": "stream",
     "text": [
      "    recall: 0.500000 precision: 0.992951 mAP@0.5: 0.495425, mAP@0.5-0.95: 0.297255\n",
      "\n",
      "Epoch 644/1000\n",
      "----------\n",
      "Train: \n"
     ]
    },
    {
     "name": "stderr",
     "output_type": "stream",
     "text": [
      "3it [00:00,  3.79it/s]\n"
     ]
    },
    {
     "name": "stdout",
     "output_type": "stream",
     "text": [
      "    box loss-> 0.01143, object loss-> 0.02095, class loss-> 0.00000\n",
      "Validation:\n"
     ]
    },
    {
     "name": "stderr",
     "output_type": "stream",
     "text": [
      "1it [00:00,  4.76it/s]\n"
     ]
    },
    {
     "name": "stdout",
     "output_type": "stream",
     "text": [
      "    recall: 0.500000 precision: 0.944045 mAP@0.5: 0.495425, mAP@0.5-0.95: 0.297255\n",
      "\n",
      "Epoch 645/1000\n",
      "----------\n",
      "Train: \n"
     ]
    },
    {
     "name": "stderr",
     "output_type": "stream",
     "text": [
      "3it [00:00,  3.74it/s]\n"
     ]
    },
    {
     "name": "stdout",
     "output_type": "stream",
     "text": [
      "    box loss-> 0.01196, object loss-> 0.02143, class loss-> 0.00000\n",
      "Validation:\n"
     ]
    },
    {
     "name": "stderr",
     "output_type": "stream",
     "text": [
      "1it [00:00,  4.73it/s]\n"
     ]
    },
    {
     "name": "stdout",
     "output_type": "stream",
     "text": [
      "    recall: 0.500000 precision: 0.983375 mAP@0.5: 0.495425, mAP@0.5-0.95: 0.297255\n",
      "\n",
      "Epoch 646/1000\n",
      "----------\n",
      "Train: \n"
     ]
    },
    {
     "name": "stderr",
     "output_type": "stream",
     "text": [
      "3it [00:00,  3.81it/s]\n"
     ]
    },
    {
     "name": "stdout",
     "output_type": "stream",
     "text": [
      "    box loss-> 0.01172, object loss-> 0.02132, class loss-> 0.00000\n",
      "Validation:\n"
     ]
    },
    {
     "name": "stderr",
     "output_type": "stream",
     "text": [
      "1it [00:00,  4.75it/s]\n"
     ]
    },
    {
     "name": "stdout",
     "output_type": "stream",
     "text": [
      "    recall: 0.500000 precision: 0.979875 mAP@0.5: 0.495425, mAP@0.5-0.95: 0.297255\n",
      "\n",
      "Epoch 647/1000\n",
      "----------\n",
      "Train: \n"
     ]
    },
    {
     "name": "stderr",
     "output_type": "stream",
     "text": [
      "3it [00:00,  3.82it/s]\n"
     ]
    },
    {
     "name": "stdout",
     "output_type": "stream",
     "text": [
      "    box loss-> 0.01190, object loss-> 0.02192, class loss-> 0.00000\n",
      "Validation:\n"
     ]
    },
    {
     "name": "stderr",
     "output_type": "stream",
     "text": [
      "1it [00:00,  4.72it/s]\n"
     ]
    },
    {
     "name": "stdout",
     "output_type": "stream",
     "text": [
      "    recall: 0.500000 precision: 0.926730 mAP@0.5: 0.495425, mAP@0.5-0.95: 0.297255\n",
      "\n",
      "Epoch 648/1000\n",
      "----------\n",
      "Train: \n"
     ]
    },
    {
     "name": "stderr",
     "output_type": "stream",
     "text": [
      "3it [00:00,  3.72it/s]\n"
     ]
    },
    {
     "name": "stdout",
     "output_type": "stream",
     "text": [
      "    box loss-> 0.01299, object loss-> 0.02205, class loss-> 0.00000\n",
      "Validation:\n"
     ]
    },
    {
     "name": "stderr",
     "output_type": "stream",
     "text": [
      "1it [00:00,  4.63it/s]\n"
     ]
    },
    {
     "name": "stdout",
     "output_type": "stream",
     "text": [
      "    recall: 0.500000 precision: 0.991600 mAP@0.5: 0.495425, mAP@0.5-0.95: 0.297255\n",
      "\n",
      "Epoch 649/1000\n",
      "----------\n",
      "Train: \n"
     ]
    },
    {
     "name": "stderr",
     "output_type": "stream",
     "text": [
      "3it [00:00,  3.73it/s]\n"
     ]
    },
    {
     "name": "stdout",
     "output_type": "stream",
     "text": [
      "    box loss-> 0.01384, object loss-> 0.02283, class loss-> 0.00000\n",
      "Validation:\n"
     ]
    },
    {
     "name": "stderr",
     "output_type": "stream",
     "text": [
      "1it [00:00,  4.79it/s]\n"
     ]
    },
    {
     "name": "stdout",
     "output_type": "stream",
     "text": [
      "    recall: 0.500000 precision: 0.977978 mAP@0.5: 0.495425, mAP@0.5-0.95: 0.297255\n",
      "\n",
      "Epoch 650/1000\n",
      "----------\n",
      "Train: \n"
     ]
    },
    {
     "name": "stderr",
     "output_type": "stream",
     "text": [
      "3it [00:00,  3.80it/s]\n"
     ]
    },
    {
     "name": "stdout",
     "output_type": "stream",
     "text": [
      "    box loss-> 0.01354, object loss-> 0.02300, class loss-> 0.00000\n",
      "Validation:\n"
     ]
    },
    {
     "name": "stderr",
     "output_type": "stream",
     "text": [
      "1it [00:00,  4.78it/s]\n"
     ]
    },
    {
     "name": "stdout",
     "output_type": "stream",
     "text": [
      "    recall: 0.500000 precision: 0.985986 mAP@0.5: 0.495425, mAP@0.5-0.95: 0.297255\n",
      "\n",
      "Epoch 651/1000\n",
      "----------\n",
      "Train: \n"
     ]
    },
    {
     "name": "stderr",
     "output_type": "stream",
     "text": [
      "3it [00:00,  3.79it/s]\n"
     ]
    },
    {
     "name": "stdout",
     "output_type": "stream",
     "text": [
      "    box loss-> 0.01294, object loss-> 0.02258, class loss-> 0.00000\n",
      "Validation:\n"
     ]
    },
    {
     "name": "stderr",
     "output_type": "stream",
     "text": [
      "1it [00:00,  4.82it/s]\n"
     ]
    },
    {
     "name": "stdout",
     "output_type": "stream",
     "text": [
      "    recall: 0.500000 precision: 0.962056 mAP@0.5: 0.495425, mAP@0.5-0.95: 0.297255\n",
      "\n",
      "Epoch 652/1000\n",
      "----------\n",
      "Train: \n"
     ]
    },
    {
     "name": "stderr",
     "output_type": "stream",
     "text": [
      "3it [00:00,  3.84it/s]\n"
     ]
    },
    {
     "name": "stdout",
     "output_type": "stream",
     "text": [
      "    box loss-> 0.01361, object loss-> 0.02320, class loss-> 0.00000\n",
      "Validation:\n"
     ]
    },
    {
     "name": "stderr",
     "output_type": "stream",
     "text": [
      "1it [00:00,  4.63it/s]\n"
     ]
    },
    {
     "name": "stdout",
     "output_type": "stream",
     "text": [
      "    recall: 0.500000 precision: 0.964081 mAP@0.5: 0.495425, mAP@0.5-0.95: 0.297255\n",
      "\n",
      "Epoch 653/1000\n",
      "----------\n",
      "Train: \n"
     ]
    },
    {
     "name": "stderr",
     "output_type": "stream",
     "text": [
      "3it [00:00,  3.77it/s]\n"
     ]
    },
    {
     "name": "stdout",
     "output_type": "stream",
     "text": [
      "    box loss-> 0.01408, object loss-> 0.02307, class loss-> 0.00000\n",
      "Validation:\n"
     ]
    },
    {
     "name": "stderr",
     "output_type": "stream",
     "text": [
      "1it [00:00,  4.84it/s]\n"
     ]
    },
    {
     "name": "stdout",
     "output_type": "stream",
     "text": [
      "    recall: 0.500000 precision: 0.498802 mAP@0.5: 0.495425, mAP@0.5-0.95: 0.297255\n",
      "\n",
      "Epoch 654/1000\n",
      "----------\n",
      "Train: \n"
     ]
    },
    {
     "name": "stderr",
     "output_type": "stream",
     "text": [
      "3it [00:00,  3.77it/s]\n"
     ]
    },
    {
     "name": "stdout",
     "output_type": "stream",
     "text": [
      "    box loss-> 0.01592, object loss-> 0.02523, class loss-> 0.00000\n",
      "Validation:\n"
     ]
    },
    {
     "name": "stderr",
     "output_type": "stream",
     "text": [
      "1it [00:00,  4.90it/s]\n"
     ]
    },
    {
     "name": "stdout",
     "output_type": "stream",
     "text": [
      "    recall: 0.500000 precision: 0.496619 mAP@0.5: 0.495425, mAP@0.5-0.95: 0.148627\n",
      "\n",
      "Epoch 655/1000\n",
      "----------\n",
      "Train: \n"
     ]
    },
    {
     "name": "stderr",
     "output_type": "stream",
     "text": [
      "3it [00:00,  3.79it/s]\n"
     ]
    },
    {
     "name": "stdout",
     "output_type": "stream",
     "text": [
      "    box loss-> 0.01608, object loss-> 0.02563, class loss-> 0.00000\n",
      "Validation:\n"
     ]
    },
    {
     "name": "stderr",
     "output_type": "stream",
     "text": [
      "1it [00:00,  4.79it/s]\n"
     ]
    },
    {
     "name": "stdout",
     "output_type": "stream",
     "text": [
      "    recall: 0.500000 precision: 0.497311 mAP@0.5: 0.495425, mAP@0.5-0.95: 0.297255\n",
      "\n",
      "Epoch 656/1000\n",
      "----------\n",
      "Train: \n"
     ]
    },
    {
     "name": "stderr",
     "output_type": "stream",
     "text": [
      "3it [00:00,  3.77it/s]\n"
     ]
    },
    {
     "name": "stdout",
     "output_type": "stream",
     "text": [
      "    box loss-> 0.01599, object loss-> 0.02515, class loss-> 0.00000\n",
      "Validation:\n"
     ]
    },
    {
     "name": "stderr",
     "output_type": "stream",
     "text": [
      "1it [00:00,  4.85it/s]\n"
     ]
    },
    {
     "name": "stdout",
     "output_type": "stream",
     "text": [
      "    recall: 0.500000 precision: 0.860557 mAP@0.5: 0.495425, mAP@0.5-0.95: 0.148627\n",
      "\n",
      "Epoch 657/1000\n",
      "----------\n",
      "Train: \n"
     ]
    },
    {
     "name": "stderr",
     "output_type": "stream",
     "text": [
      "3it [00:00,  3.80it/s]\n"
     ]
    },
    {
     "name": "stdout",
     "output_type": "stream",
     "text": [
      "    box loss-> 0.01585, object loss-> 0.02488, class loss-> 0.00000\n",
      "Validation:\n"
     ]
    },
    {
     "name": "stderr",
     "output_type": "stream",
     "text": [
      "1it [00:00,  4.85it/s]\n"
     ]
    },
    {
     "name": "stdout",
     "output_type": "stream",
     "text": [
      "    recall: 0.500000 precision: 0.726932 mAP@0.5: 0.495425, mAP@0.5-0.95: 0.148627\n",
      "\n",
      "Epoch 658/1000\n",
      "----------\n",
      "Train: \n"
     ]
    },
    {
     "name": "stderr",
     "output_type": "stream",
     "text": [
      "3it [00:00,  3.79it/s]\n"
     ]
    },
    {
     "name": "stdout",
     "output_type": "stream",
     "text": [
      "    box loss-> 0.01654, object loss-> 0.02576, class loss-> 0.00000\n",
      "Validation:\n"
     ]
    },
    {
     "name": "stderr",
     "output_type": "stream",
     "text": [
      "1it [00:00,  4.80it/s]\n"
     ]
    },
    {
     "name": "stdout",
     "output_type": "stream",
     "text": [
      "    recall: 0.500000 precision: 0.613505 mAP@0.5: 0.495425, mAP@0.5-0.95: 0.148627\n",
      "\n",
      "Epoch 659/1000\n",
      "----------\n",
      "Train: \n"
     ]
    },
    {
     "name": "stderr",
     "output_type": "stream",
     "text": [
      "3it [00:00,  3.78it/s]\n"
     ]
    },
    {
     "name": "stdout",
     "output_type": "stream",
     "text": [
      "    box loss-> 0.01524, object loss-> 0.02423, class loss-> 0.00000\n",
      "Validation:\n"
     ]
    },
    {
     "name": "stderr",
     "output_type": "stream",
     "text": [
      "1it [00:00,  4.75it/s]\n"
     ]
    },
    {
     "name": "stdout",
     "output_type": "stream",
     "text": [
      "    recall: 0.500000 precision: 0.904740 mAP@0.5: 0.495425, mAP@0.5-0.95: 0.148627\n",
      "\n",
      "Epoch 660/1000\n",
      "----------\n",
      "Train: \n"
     ]
    },
    {
     "name": "stderr",
     "output_type": "stream",
     "text": [
      "3it [00:00,  3.79it/s]\n"
     ]
    },
    {
     "name": "stdout",
     "output_type": "stream",
     "text": [
      "    box loss-> 0.01422, object loss-> 0.02384, class loss-> 0.00000\n",
      "Validation:\n"
     ]
    },
    {
     "name": "stderr",
     "output_type": "stream",
     "text": [
      "1it [00:00,  4.84it/s]\n"
     ]
    },
    {
     "name": "stdout",
     "output_type": "stream",
     "text": [
      "    recall: 0.500000 precision: 0.774651 mAP@0.5: 0.495425, mAP@0.5-0.95: 0.148627\n",
      "\n",
      "Epoch 661/1000\n",
      "----------\n",
      "Train: \n"
     ]
    },
    {
     "name": "stderr",
     "output_type": "stream",
     "text": [
      "3it [00:00,  3.81it/s]\n"
     ]
    },
    {
     "name": "stdout",
     "output_type": "stream",
     "text": [
      "    box loss-> 0.01372, object loss-> 0.02308, class loss-> 0.00000\n",
      "Validation:\n"
     ]
    },
    {
     "name": "stderr",
     "output_type": "stream",
     "text": [
      "1it [00:00,  4.68it/s]\n"
     ]
    },
    {
     "name": "stdout",
     "output_type": "stream",
     "text": [
      "    recall: 0.500000 precision: 0.691132 mAP@0.5: 0.495425, mAP@0.5-0.95: 0.148627\n",
      "\n",
      "Epoch 662/1000\n",
      "----------\n",
      "Train: \n"
     ]
    },
    {
     "name": "stderr",
     "output_type": "stream",
     "text": [
      "3it [00:00,  3.78it/s]\n"
     ]
    },
    {
     "name": "stdout",
     "output_type": "stream",
     "text": [
      "    box loss-> 0.01392, object loss-> 0.02313, class loss-> 0.00000\n",
      "Validation:\n"
     ]
    },
    {
     "name": "stderr",
     "output_type": "stream",
     "text": [
      "1it [00:00,  4.82it/s]\n"
     ]
    },
    {
     "name": "stdout",
     "output_type": "stream",
     "text": [
      "    recall: 0.500000 precision: 0.893531 mAP@0.5: 0.495425, mAP@0.5-0.95: 0.148627\n",
      "\n",
      "Epoch 663/1000\n",
      "----------\n",
      "Train: \n"
     ]
    },
    {
     "name": "stderr",
     "output_type": "stream",
     "text": [
      "3it [00:00,  3.77it/s]\n"
     ]
    },
    {
     "name": "stdout",
     "output_type": "stream",
     "text": [
      "    box loss-> 0.01405, object loss-> 0.02350, class loss-> 0.00000\n",
      "Validation:\n"
     ]
    },
    {
     "name": "stderr",
     "output_type": "stream",
     "text": [
      "1it [00:00,  4.81it/s]\n"
     ]
    },
    {
     "name": "stdout",
     "output_type": "stream",
     "text": [
      "    recall: 0.500000 precision: 0.952967 mAP@0.5: 0.495425, mAP@0.5-0.95: 0.198170\n",
      "\n",
      "Epoch 664/1000\n",
      "----------\n",
      "Train: \n"
     ]
    },
    {
     "name": "stderr",
     "output_type": "stream",
     "text": [
      "3it [00:00,  3.74it/s]\n"
     ]
    },
    {
     "name": "stdout",
     "output_type": "stream",
     "text": [
      "    box loss-> 0.01459, object loss-> 0.02391, class loss-> 0.00000\n",
      "Validation:\n"
     ]
    },
    {
     "name": "stderr",
     "output_type": "stream",
     "text": [
      "1it [00:00,  4.78it/s]\n"
     ]
    },
    {
     "name": "stdout",
     "output_type": "stream",
     "text": [
      "    recall: 0.500000 precision: 0.975793 mAP@0.5: 0.495425, mAP@0.5-0.95: 0.198170\n",
      "\n",
      "Epoch 665/1000\n",
      "----------\n",
      "Train: \n"
     ]
    },
    {
     "name": "stderr",
     "output_type": "stream",
     "text": [
      "3it [00:00,  3.78it/s]\n"
     ]
    },
    {
     "name": "stdout",
     "output_type": "stream",
     "text": [
      "    box loss-> 0.01385, object loss-> 0.02314, class loss-> 0.00000\n",
      "Validation:\n"
     ]
    },
    {
     "name": "stderr",
     "output_type": "stream",
     "text": [
      "1it [00:00,  4.89it/s]\n"
     ]
    },
    {
     "name": "stdout",
     "output_type": "stream",
     "text": [
      "    recall: 0.500000 precision: 0.925879 mAP@0.5: 0.495425, mAP@0.5-0.95: 0.198170\n",
      "\n",
      "Epoch 666/1000\n",
      "----------\n",
      "Train: \n"
     ]
    },
    {
     "name": "stderr",
     "output_type": "stream",
     "text": [
      "3it [00:00,  3.80it/s]\n"
     ]
    },
    {
     "name": "stdout",
     "output_type": "stream",
     "text": [
      "    box loss-> 0.01350, object loss-> 0.02288, class loss-> 0.00000\n",
      "Validation:\n"
     ]
    },
    {
     "name": "stderr",
     "output_type": "stream",
     "text": [
      "1it [00:00,  4.73it/s]\n"
     ]
    },
    {
     "name": "stdout",
     "output_type": "stream",
     "text": [
      "    recall: 0.500000 precision: 0.854449 mAP@0.5: 0.495425, mAP@0.5-0.95: 0.198170\n",
      "\n",
      "Epoch 667/1000\n",
      "----------\n",
      "Train: \n"
     ]
    },
    {
     "name": "stderr",
     "output_type": "stream",
     "text": [
      "3it [00:00,  3.78it/s]\n"
     ]
    },
    {
     "name": "stdout",
     "output_type": "stream",
     "text": [
      "    box loss-> 0.01343, object loss-> 0.02284, class loss-> 0.00000\n",
      "Validation:\n"
     ]
    },
    {
     "name": "stderr",
     "output_type": "stream",
     "text": [
      "1it [00:00,  4.84it/s]\n"
     ]
    },
    {
     "name": "stdout",
     "output_type": "stream",
     "text": [
      "    recall: 0.500000 precision: 0.961411 mAP@0.5: 0.495425, mAP@0.5-0.95: 0.297255\n",
      "\n",
      "Epoch 668/1000\n",
      "----------\n",
      "Train: \n"
     ]
    },
    {
     "name": "stderr",
     "output_type": "stream",
     "text": [
      "3it [00:00,  3.80it/s]\n"
     ]
    },
    {
     "name": "stdout",
     "output_type": "stream",
     "text": [
      "    box loss-> 0.01371, object loss-> 0.02293, class loss-> 0.00000\n",
      "Validation:\n"
     ]
    },
    {
     "name": "stderr",
     "output_type": "stream",
     "text": [
      "1it [00:00,  4.79it/s]\n"
     ]
    },
    {
     "name": "stdout",
     "output_type": "stream",
     "text": [
      "    recall: 0.500000 precision: 0.720723 mAP@0.5: 0.495425, mAP@0.5-0.95: 0.198170\n",
      "\n",
      "Epoch 669/1000\n",
      "----------\n",
      "Train: \n"
     ]
    },
    {
     "name": "stderr",
     "output_type": "stream",
     "text": [
      "3it [00:00,  3.70it/s]\n"
     ]
    },
    {
     "name": "stdout",
     "output_type": "stream",
     "text": [
      "    box loss-> 0.01358, object loss-> 0.02293, class loss-> 0.00000\n",
      "Validation:\n"
     ]
    },
    {
     "name": "stderr",
     "output_type": "stream",
     "text": [
      "1it [00:00,  4.80it/s]\n"
     ]
    },
    {
     "name": "stdout",
     "output_type": "stream",
     "text": [
      "    recall: 0.500000 precision: 0.740239 mAP@0.5: 0.495425, mAP@0.5-0.95: 0.198170\n",
      "\n",
      "Epoch 670/1000\n",
      "----------\n",
      "Train: \n"
     ]
    },
    {
     "name": "stderr",
     "output_type": "stream",
     "text": [
      "3it [00:00,  3.78it/s]\n"
     ]
    },
    {
     "name": "stdout",
     "output_type": "stream",
     "text": [
      "    box loss-> 0.01494, object loss-> 0.02444, class loss-> 0.00000\n",
      "Validation:\n"
     ]
    },
    {
     "name": "stderr",
     "output_type": "stream",
     "text": [
      "1it [00:00,  4.67it/s]\n"
     ]
    },
    {
     "name": "stdout",
     "output_type": "stream",
     "text": [
      "    recall: 0.500000 precision: 0.997841 mAP@0.5: 0.495425, mAP@0.5-0.95: 0.198170\n",
      "\n",
      "Epoch 671/1000\n",
      "----------\n",
      "Train: \n"
     ]
    },
    {
     "name": "stderr",
     "output_type": "stream",
     "text": [
      "3it [00:00,  3.78it/s]\n"
     ]
    },
    {
     "name": "stdout",
     "output_type": "stream",
     "text": [
      "    box loss-> 0.01420, object loss-> 0.02386, class loss-> 0.00000\n",
      "Validation:\n"
     ]
    },
    {
     "name": "stderr",
     "output_type": "stream",
     "text": [
      "1it [00:00,  4.81it/s]\n"
     ]
    },
    {
     "name": "stdout",
     "output_type": "stream",
     "text": [
      "    recall: 0.500000 precision: 0.895774 mAP@0.5: 0.495425, mAP@0.5-0.95: 0.198170\n",
      "\n",
      "Epoch 672/1000\n",
      "----------\n",
      "Train: \n"
     ]
    },
    {
     "name": "stderr",
     "output_type": "stream",
     "text": [
      "3it [00:00,  3.76it/s]\n"
     ]
    },
    {
     "name": "stdout",
     "output_type": "stream",
     "text": [
      "    box loss-> 0.01413, object loss-> 0.02372, class loss-> 0.00000\n",
      "Validation:\n"
     ]
    },
    {
     "name": "stderr",
     "output_type": "stream",
     "text": [
      "1it [00:00,  4.73it/s]\n"
     ]
    },
    {
     "name": "stdout",
     "output_type": "stream",
     "text": [
      "    recall: 0.500000 precision: 0.950678 mAP@0.5: 0.495425, mAP@0.5-0.95: 0.198170\n",
      "\n",
      "Epoch 673/1000\n",
      "----------\n",
      "Train: \n"
     ]
    },
    {
     "name": "stderr",
     "output_type": "stream",
     "text": [
      "3it [00:00,  3.76it/s]\n"
     ]
    },
    {
     "name": "stdout",
     "output_type": "stream",
     "text": [
      "    box loss-> 0.01440, object loss-> 0.02389, class loss-> 0.00000\n",
      "Validation:\n"
     ]
    },
    {
     "name": "stderr",
     "output_type": "stream",
     "text": [
      "1it [00:00,  4.65it/s]\n"
     ]
    },
    {
     "name": "stdout",
     "output_type": "stream",
     "text": [
      "    recall: 0.500000 precision: 0.847793 mAP@0.5: 0.495425, mAP@0.5-0.95: 0.198170\n",
      "\n",
      "Epoch 674/1000\n",
      "----------\n",
      "Train: \n"
     ]
    },
    {
     "name": "stderr",
     "output_type": "stream",
     "text": [
      "3it [00:00,  3.77it/s]\n"
     ]
    },
    {
     "name": "stdout",
     "output_type": "stream",
     "text": [
      "    box loss-> 0.01509, object loss-> 0.02429, class loss-> 0.00000\n",
      "Validation:\n"
     ]
    },
    {
     "name": "stderr",
     "output_type": "stream",
     "text": [
      "1it [00:00,  4.87it/s]\n"
     ]
    },
    {
     "name": "stdout",
     "output_type": "stream",
     "text": [
      "    recall: 0.500000 precision: 0.988468 mAP@0.5: 0.495425, mAP@0.5-0.95: 0.198170\n",
      "\n",
      "Epoch 675/1000\n",
      "----------\n",
      "Train: \n"
     ]
    },
    {
     "name": "stderr",
     "output_type": "stream",
     "text": [
      "3it [00:00,  3.72it/s]\n"
     ]
    },
    {
     "name": "stdout",
     "output_type": "stream",
     "text": [
      "    box loss-> 0.01299, object loss-> 0.02298, class loss-> 0.00000\n",
      "Validation:\n"
     ]
    },
    {
     "name": "stderr",
     "output_type": "stream",
     "text": [
      "1it [00:00,  4.79it/s]\n"
     ]
    },
    {
     "name": "stdout",
     "output_type": "stream",
     "text": [
      "    recall: 0.500000 precision: 0.759104 mAP@0.5: 0.495425, mAP@0.5-0.95: 0.198170\n",
      "\n",
      "Epoch 676/1000\n",
      "----------\n",
      "Train: \n"
     ]
    },
    {
     "name": "stderr",
     "output_type": "stream",
     "text": [
      "3it [00:00,  3.79it/s]\n"
     ]
    },
    {
     "name": "stdout",
     "output_type": "stream",
     "text": [
      "    box loss-> 0.01216, object loss-> 0.02220, class loss-> 0.00000\n",
      "Validation:\n"
     ]
    },
    {
     "name": "stderr",
     "output_type": "stream",
     "text": [
      "1it [00:00,  4.79it/s]\n"
     ]
    },
    {
     "name": "stdout",
     "output_type": "stream",
     "text": [
      "    recall: 0.500000 precision: 0.858589 mAP@0.5: 0.495425, mAP@0.5-0.95: 0.198170\n",
      "\n",
      "Epoch 677/1000\n",
      "----------\n",
      "Train: \n"
     ]
    },
    {
     "name": "stderr",
     "output_type": "stream",
     "text": [
      "3it [00:00,  3.78it/s]\n"
     ]
    },
    {
     "name": "stdout",
     "output_type": "stream",
     "text": [
      "    box loss-> 0.01226, object loss-> 0.02227, class loss-> 0.00000\n",
      "Validation:\n"
     ]
    },
    {
     "name": "stderr",
     "output_type": "stream",
     "text": [
      "1it [00:00,  4.86it/s]\n"
     ]
    },
    {
     "name": "stdout",
     "output_type": "stream",
     "text": [
      "    recall: 0.500000 precision: 0.844802 mAP@0.5: 0.495425, mAP@0.5-0.95: 0.198170\n",
      "\n",
      "Epoch 678/1000\n",
      "----------\n",
      "Train: \n"
     ]
    },
    {
     "name": "stderr",
     "output_type": "stream",
     "text": [
      "3it [00:00,  3.81it/s]\n"
     ]
    },
    {
     "name": "stdout",
     "output_type": "stream",
     "text": [
      "    box loss-> 0.01320, object loss-> 0.02318, class loss-> 0.00000\n",
      "Validation:\n"
     ]
    },
    {
     "name": "stderr",
     "output_type": "stream",
     "text": [
      "1it [00:00,  4.93it/s]\n"
     ]
    },
    {
     "name": "stdout",
     "output_type": "stream",
     "text": [
      "    recall: 0.500000 precision: 0.836488 mAP@0.5: 0.495425, mAP@0.5-0.95: 0.198170\n",
      "\n",
      "Epoch 679/1000\n",
      "----------\n",
      "Train: \n"
     ]
    },
    {
     "name": "stderr",
     "output_type": "stream",
     "text": [
      "3it [00:00,  3.79it/s]\n"
     ]
    },
    {
     "name": "stdout",
     "output_type": "stream",
     "text": [
      "    box loss-> 0.01224, object loss-> 0.02244, class loss-> 0.00000\n",
      "Validation:\n"
     ]
    },
    {
     "name": "stderr",
     "output_type": "stream",
     "text": [
      "1it [00:00,  5.01it/s]\n"
     ]
    },
    {
     "name": "stdout",
     "output_type": "stream",
     "text": [
      "    recall: 0.500000 precision: 0.985285 mAP@0.5: 0.495425, mAP@0.5-0.95: 0.198170\n",
      "\n",
      "Epoch 680/1000\n",
      "----------\n",
      "Train: \n"
     ]
    },
    {
     "name": "stderr",
     "output_type": "stream",
     "text": [
      "3it [00:00,  3.74it/s]\n"
     ]
    },
    {
     "name": "stdout",
     "output_type": "stream",
     "text": [
      "    box loss-> 0.01180, object loss-> 0.02184, class loss-> 0.00000\n",
      "Validation:\n"
     ]
    },
    {
     "name": "stderr",
     "output_type": "stream",
     "text": [
      "1it [00:00,  4.81it/s]\n"
     ]
    },
    {
     "name": "stdout",
     "output_type": "stream",
     "text": [
      "    recall: 0.500000 precision: 0.921217 mAP@0.5: 0.495425, mAP@0.5-0.95: 0.148627\n",
      "\n",
      "Epoch 681/1000\n",
      "----------\n",
      "Train: \n"
     ]
    },
    {
     "name": "stderr",
     "output_type": "stream",
     "text": [
      "3it [00:00,  3.80it/s]\n"
     ]
    },
    {
     "name": "stdout",
     "output_type": "stream",
     "text": [
      "    box loss-> 0.01233, object loss-> 0.02157, class loss-> 0.00000\n",
      "Validation:\n"
     ]
    },
    {
     "name": "stderr",
     "output_type": "stream",
     "text": [
      "1it [00:00,  4.87it/s]\n"
     ]
    },
    {
     "name": "stdout",
     "output_type": "stream",
     "text": [
      "    recall: 0.500000 precision: 0.900197 mAP@0.5: 0.495425, mAP@0.5-0.95: 0.148627\n",
      "\n",
      "Epoch 682/1000\n",
      "----------\n",
      "Train: \n"
     ]
    },
    {
     "name": "stderr",
     "output_type": "stream",
     "text": [
      "3it [00:00,  3.80it/s]\n"
     ]
    },
    {
     "name": "stdout",
     "output_type": "stream",
     "text": [
      "    box loss-> 0.01218, object loss-> 0.02132, class loss-> 0.00000\n",
      "Validation:\n"
     ]
    },
    {
     "name": "stderr",
     "output_type": "stream",
     "text": [
      "1it [00:00,  4.94it/s]\n"
     ]
    },
    {
     "name": "stdout",
     "output_type": "stream",
     "text": [
      "    recall: 0.500000 precision: 0.908879 mAP@0.5: 0.495425, mAP@0.5-0.95: 0.148627\n",
      "\n",
      "Epoch 683/1000\n",
      "----------\n",
      "Train: \n"
     ]
    },
    {
     "name": "stderr",
     "output_type": "stream",
     "text": [
      "3it [00:00,  3.79it/s]\n"
     ]
    },
    {
     "name": "stdout",
     "output_type": "stream",
     "text": [
      "    box loss-> 0.01318, object loss-> 0.02221, class loss-> 0.00000\n",
      "Validation:\n"
     ]
    },
    {
     "name": "stderr",
     "output_type": "stream",
     "text": [
      "1it [00:00,  4.77it/s]\n"
     ]
    },
    {
     "name": "stdout",
     "output_type": "stream",
     "text": [
      "    recall: 0.500000 precision: 0.866394 mAP@0.5: 0.495425, mAP@0.5-0.95: 0.148627\n",
      "\n",
      "Epoch 684/1000\n",
      "----------\n",
      "Train: \n"
     ]
    },
    {
     "name": "stderr",
     "output_type": "stream",
     "text": [
      "3it [00:00,  3.79it/s]\n"
     ]
    },
    {
     "name": "stdout",
     "output_type": "stream",
     "text": [
      "    box loss-> 0.01221, object loss-> 0.02151, class loss-> 0.00000\n",
      "Validation:\n"
     ]
    },
    {
     "name": "stderr",
     "output_type": "stream",
     "text": [
      "1it [00:00,  4.97it/s]\n"
     ]
    },
    {
     "name": "stdout",
     "output_type": "stream",
     "text": [
      "    recall: 0.500000 precision: 0.874815 mAP@0.5: 0.495425, mAP@0.5-0.95: 0.148627\n",
      "\n",
      "Epoch 685/1000\n",
      "----------\n",
      "Train: \n"
     ]
    },
    {
     "name": "stderr",
     "output_type": "stream",
     "text": [
      "3it [00:00,  3.75it/s]\n"
     ]
    },
    {
     "name": "stdout",
     "output_type": "stream",
     "text": [
      "    box loss-> 0.01194, object loss-> 0.02120, class loss-> 0.00000\n",
      "Validation:\n"
     ]
    },
    {
     "name": "stderr",
     "output_type": "stream",
     "text": [
      "1it [00:00,  4.91it/s]\n"
     ]
    },
    {
     "name": "stdout",
     "output_type": "stream",
     "text": [
      "    recall: 0.500000 precision: 0.958778 mAP@0.5: 0.495425, mAP@0.5-0.95: 0.346797\n",
      "\n",
      "Epoch 686/1000\n",
      "----------\n",
      "Train: \n"
     ]
    },
    {
     "name": "stderr",
     "output_type": "stream",
     "text": [
      "3it [00:00,  3.77it/s]\n"
     ]
    },
    {
     "name": "stdout",
     "output_type": "stream",
     "text": [
      "    box loss-> 0.01339, object loss-> 0.02234, class loss-> 0.00000\n",
      "Validation:\n"
     ]
    },
    {
     "name": "stderr",
     "output_type": "stream",
     "text": [
      "1it [00:00,  4.93it/s]\n"
     ]
    },
    {
     "name": "stdout",
     "output_type": "stream",
     "text": [
      "    recall: 0.500000 precision: 0.864322 mAP@0.5: 0.495425, mAP@0.5-0.95: 0.346797\n",
      "\n",
      "Epoch 687/1000\n",
      "----------\n",
      "Train: \n"
     ]
    },
    {
     "name": "stderr",
     "output_type": "stream",
     "text": [
      "3it [00:00,  3.76it/s]\n"
     ]
    },
    {
     "name": "stdout",
     "output_type": "stream",
     "text": [
      "    box loss-> 0.01251, object loss-> 0.02145, class loss-> 0.00000\n",
      "Validation:\n"
     ]
    },
    {
     "name": "stderr",
     "output_type": "stream",
     "text": [
      "1it [00:00,  4.78it/s]\n"
     ]
    },
    {
     "name": "stdout",
     "output_type": "stream",
     "text": [
      "    recall: 0.500000 precision: 0.492589 mAP@0.5: 0.495425, mAP@0.5-0.95: 0.346797\n",
      "\n",
      "Epoch 688/1000\n",
      "----------\n",
      "Train: \n"
     ]
    },
    {
     "name": "stderr",
     "output_type": "stream",
     "text": [
      "3it [00:00,  3.80it/s]\n"
     ]
    },
    {
     "name": "stdout",
     "output_type": "stream",
     "text": [
      "    box loss-> 0.01221, object loss-> 0.02124, class loss-> 0.00000\n",
      "Validation:\n"
     ]
    },
    {
     "name": "stderr",
     "output_type": "stream",
     "text": [
      "1it [00:00,  4.90it/s]\n"
     ]
    },
    {
     "name": "stdout",
     "output_type": "stream",
     "text": [
      "    recall: 0.500000 precision: 0.866064 mAP@0.5: 0.495425, mAP@0.5-0.95: 0.198170\n",
      "\n",
      "Epoch 689/1000\n",
      "----------\n",
      "Train: \n"
     ]
    },
    {
     "name": "stderr",
     "output_type": "stream",
     "text": [
      "3it [00:00,  3.79it/s]\n"
     ]
    },
    {
     "name": "stdout",
     "output_type": "stream",
     "text": [
      "    box loss-> 0.01256, object loss-> 0.02139, class loss-> 0.00000\n",
      "Validation:\n"
     ]
    },
    {
     "name": "stderr",
     "output_type": "stream",
     "text": [
      "1it [00:00,  4.99it/s]\n"
     ]
    },
    {
     "name": "stdout",
     "output_type": "stream",
     "text": [
      "    recall: 0.500000 precision: 0.963523 mAP@0.5: 0.495425, mAP@0.5-0.95: 0.198170\n",
      "\n",
      "Epoch 690/1000\n",
      "----------\n",
      "Train: \n"
     ]
    },
    {
     "name": "stderr",
     "output_type": "stream",
     "text": [
      "3it [00:00,  3.82it/s]\n"
     ]
    },
    {
     "name": "stdout",
     "output_type": "stream",
     "text": [
      "    box loss-> 0.01230, object loss-> 0.02117, class loss-> 0.00000\n",
      "Validation:\n"
     ]
    },
    {
     "name": "stderr",
     "output_type": "stream",
     "text": [
      "1it [00:00,  4.78it/s]\n"
     ]
    },
    {
     "name": "stdout",
     "output_type": "stream",
     "text": [
      "    recall: 0.500000 precision: 0.973537 mAP@0.5: 0.495425, mAP@0.5-0.95: 0.198170\n",
      "\n",
      "Epoch 691/1000\n",
      "----------\n",
      "Train: \n"
     ]
    },
    {
     "name": "stderr",
     "output_type": "stream",
     "text": [
      "3it [00:00,  3.73it/s]\n"
     ]
    },
    {
     "name": "stdout",
     "output_type": "stream",
     "text": [
      "    box loss-> 0.01202, object loss-> 0.02126, class loss-> 0.00000\n",
      "Validation:\n"
     ]
    },
    {
     "name": "stderr",
     "output_type": "stream",
     "text": [
      "1it [00:00,  4.94it/s]\n"
     ]
    },
    {
     "name": "stdout",
     "output_type": "stream",
     "text": [
      "    recall: 0.500000 precision: 0.499839 mAP@0.5: 0.495425, mAP@0.5-0.95: 0.198170\n",
      "\n",
      "Epoch 692/1000\n",
      "----------\n",
      "Train: \n"
     ]
    },
    {
     "name": "stderr",
     "output_type": "stream",
     "text": [
      "3it [00:00,  3.82it/s]\n"
     ]
    },
    {
     "name": "stdout",
     "output_type": "stream",
     "text": [
      "    box loss-> 0.01256, object loss-> 0.02155, class loss-> 0.00000\n",
      "Validation:\n"
     ]
    },
    {
     "name": "stderr",
     "output_type": "stream",
     "text": [
      "1it [00:00,  4.85it/s]\n"
     ]
    },
    {
     "name": "stdout",
     "output_type": "stream",
     "text": [
      "    recall: 0.500000 precision: 0.991148 mAP@0.5: 0.495425, mAP@0.5-0.95: 0.198170\n",
      "\n",
      "Epoch 693/1000\n",
      "----------\n",
      "Train: \n"
     ]
    },
    {
     "name": "stderr",
     "output_type": "stream",
     "text": [
      "3it [00:00,  3.80it/s]\n"
     ]
    },
    {
     "name": "stdout",
     "output_type": "stream",
     "text": [
      "    box loss-> 0.01215, object loss-> 0.02103, class loss-> 0.00000\n",
      "Validation:\n"
     ]
    },
    {
     "name": "stderr",
     "output_type": "stream",
     "text": [
      "1it [00:00,  4.81it/s]\n"
     ]
    },
    {
     "name": "stdout",
     "output_type": "stream",
     "text": [
      "    recall: 0.500000 precision: 0.826124 mAP@0.5: 0.495425, mAP@0.5-0.95: 0.198170\n",
      "\n",
      "Epoch 694/1000\n",
      "----------\n",
      "Train: \n"
     ]
    },
    {
     "name": "stderr",
     "output_type": "stream",
     "text": [
      "3it [00:00,  3.80it/s]\n"
     ]
    },
    {
     "name": "stdout",
     "output_type": "stream",
     "text": [
      "    box loss-> 0.01261, object loss-> 0.02146, class loss-> 0.00000\n",
      "Validation:\n"
     ]
    },
    {
     "name": "stderr",
     "output_type": "stream",
     "text": [
      "1it [00:00,  4.78it/s]\n"
     ]
    },
    {
     "name": "stdout",
     "output_type": "stream",
     "text": [
      "    recall: 0.500000 precision: 0.957000 mAP@0.5: 0.495425, mAP@0.5-0.95: 0.198170\n",
      "\n",
      "Epoch 695/1000\n",
      "----------\n",
      "Train: \n"
     ]
    },
    {
     "name": "stderr",
     "output_type": "stream",
     "text": [
      "3it [00:00,  3.84it/s]\n"
     ]
    },
    {
     "name": "stdout",
     "output_type": "stream",
     "text": [
      "    box loss-> 0.01262, object loss-> 0.02142, class loss-> 0.00000\n",
      "Validation:\n"
     ]
    },
    {
     "name": "stderr",
     "output_type": "stream",
     "text": [
      "1it [00:00,  4.82it/s]\n"
     ]
    },
    {
     "name": "stdout",
     "output_type": "stream",
     "text": [
      "    recall: 0.500000 precision: 0.965750 mAP@0.5: 0.495425, mAP@0.5-0.95: 0.346797\n",
      "\n",
      "Epoch 696/1000\n",
      "----------\n",
      "Train: \n"
     ]
    },
    {
     "name": "stderr",
     "output_type": "stream",
     "text": [
      "3it [00:00,  3.75it/s]\n"
     ]
    },
    {
     "name": "stdout",
     "output_type": "stream",
     "text": [
      "    box loss-> 0.01298, object loss-> 0.02177, class loss-> 0.00000\n",
      "Validation:\n"
     ]
    },
    {
     "name": "stderr",
     "output_type": "stream",
     "text": [
      "1it [00:00,  4.91it/s]\n"
     ]
    },
    {
     "name": "stdout",
     "output_type": "stream",
     "text": [
      "    recall: 0.500000 precision: 0.966480 mAP@0.5: 0.495425, mAP@0.5-0.95: 0.297255\n",
      "\n",
      "Epoch 697/1000\n",
      "----------\n",
      "Train: \n"
     ]
    },
    {
     "name": "stderr",
     "output_type": "stream",
     "text": [
      "3it [00:00,  3.82it/s]\n"
     ]
    },
    {
     "name": "stdout",
     "output_type": "stream",
     "text": [
      "    box loss-> 0.01325, object loss-> 0.02241, class loss-> 0.00000\n",
      "Validation:\n"
     ]
    },
    {
     "name": "stderr",
     "output_type": "stream",
     "text": [
      "1it [00:00,  4.79it/s]\n"
     ]
    },
    {
     "name": "stdout",
     "output_type": "stream",
     "text": [
      "    recall: 0.500000 precision: 0.960373 mAP@0.5: 0.495425, mAP@0.5-0.95: 0.297255\n",
      "\n",
      "Epoch 698/1000\n",
      "----------\n",
      "Train: \n"
     ]
    },
    {
     "name": "stderr",
     "output_type": "stream",
     "text": [
      "3it [00:00,  3.77it/s]\n"
     ]
    },
    {
     "name": "stdout",
     "output_type": "stream",
     "text": [
      "    box loss-> 0.01400, object loss-> 0.02300, class loss-> 0.00000\n",
      "Validation:\n"
     ]
    },
    {
     "name": "stderr",
     "output_type": "stream",
     "text": [
      "1it [00:00,  4.91it/s]\n"
     ]
    },
    {
     "name": "stdout",
     "output_type": "stream",
     "text": [
      "    recall: 0.500000 precision: 0.823292 mAP@0.5: 0.495425, mAP@0.5-0.95: 0.297255\n",
      "\n",
      "Epoch 699/1000\n",
      "----------\n",
      "Train: \n"
     ]
    },
    {
     "name": "stderr",
     "output_type": "stream",
     "text": [
      "3it [00:00,  3.78it/s]\n"
     ]
    },
    {
     "name": "stdout",
     "output_type": "stream",
     "text": [
      "    box loss-> 0.01388, object loss-> 0.02276, class loss-> 0.00000\n",
      "Validation:\n"
     ]
    },
    {
     "name": "stderr",
     "output_type": "stream",
     "text": [
      "1it [00:00,  4.84it/s]\n"
     ]
    },
    {
     "name": "stdout",
     "output_type": "stream",
     "text": [
      "    recall: 0.500000 precision: 0.852438 mAP@0.5: 0.495425, mAP@0.5-0.95: 0.297255\n",
      "\n",
      "Epoch 700/1000\n",
      "----------\n",
      "Train: \n"
     ]
    },
    {
     "name": "stderr",
     "output_type": "stream",
     "text": [
      "3it [00:00,  3.78it/s]\n"
     ]
    },
    {
     "name": "stdout",
     "output_type": "stream",
     "text": [
      "    box loss-> 0.01314, object loss-> 0.02220, class loss-> 0.00000\n",
      "Validation:\n"
     ]
    },
    {
     "name": "stderr",
     "output_type": "stream",
     "text": [
      "1it [00:00,  4.78it/s]\n"
     ]
    },
    {
     "name": "stdout",
     "output_type": "stream",
     "text": [
      "    recall: 0.500000 precision: 0.489306 mAP@0.5: 0.495425, mAP@0.5-0.95: 0.297255\n",
      "\n",
      "Epoch 701/1000\n",
      "----------\n",
      "Train: \n"
     ]
    },
    {
     "name": "stderr",
     "output_type": "stream",
     "text": [
      "3it [00:00,  3.71it/s]\n"
     ]
    },
    {
     "name": "stdout",
     "output_type": "stream",
     "text": [
      "    box loss-> 0.01400, object loss-> 0.02297, class loss-> 0.00000\n",
      "Validation:\n"
     ]
    },
    {
     "name": "stderr",
     "output_type": "stream",
     "text": [
      "1it [00:00,  4.92it/s]\n"
     ]
    },
    {
     "name": "stdout",
     "output_type": "stream",
     "text": [
      "    recall: 0.500000 precision: 0.868274 mAP@0.5: 0.495425, mAP@0.5-0.95: 0.346797\n",
      "\n",
      "Epoch 702/1000\n",
      "----------\n",
      "Train: \n"
     ]
    },
    {
     "name": "stderr",
     "output_type": "stream",
     "text": [
      "3it [00:00,  3.78it/s]\n"
     ]
    },
    {
     "name": "stdout",
     "output_type": "stream",
     "text": [
      "    box loss-> 0.01370, object loss-> 0.02266, class loss-> 0.00000\n",
      "Validation:\n"
     ]
    },
    {
     "name": "stderr",
     "output_type": "stream",
     "text": [
      "1it [00:00,  4.92it/s]\n"
     ]
    },
    {
     "name": "stdout",
     "output_type": "stream",
     "text": [
      "    recall: 0.500000 precision: 0.921338 mAP@0.5: 0.495425, mAP@0.5-0.95: 0.346797\n",
      "\n",
      "Epoch 703/1000\n",
      "----------\n",
      "Train: \n"
     ]
    },
    {
     "name": "stderr",
     "output_type": "stream",
     "text": [
      "3it [00:00,  3.78it/s]\n"
     ]
    },
    {
     "name": "stdout",
     "output_type": "stream",
     "text": [
      "    box loss-> 0.01345, object loss-> 0.02225, class loss-> 0.00000\n",
      "Validation:\n"
     ]
    },
    {
     "name": "stderr",
     "output_type": "stream",
     "text": [
      "1it [00:00,  4.79it/s]\n"
     ]
    },
    {
     "name": "stdout",
     "output_type": "stream",
     "text": [
      "    recall: 0.500000 precision: 0.905567 mAP@0.5: 0.495425, mAP@0.5-0.95: 0.346797\n",
      "\n",
      "Epoch 704/1000\n",
      "----------\n",
      "Train: \n"
     ]
    },
    {
     "name": "stderr",
     "output_type": "stream",
     "text": [
      "3it [00:00,  3.77it/s]\n"
     ]
    },
    {
     "name": "stdout",
     "output_type": "stream",
     "text": [
      "    box loss-> 0.01331, object loss-> 0.02252, class loss-> 0.00000\n",
      "Validation:\n"
     ]
    },
    {
     "name": "stderr",
     "output_type": "stream",
     "text": [
      "1it [00:00,  4.77it/s]\n"
     ]
    },
    {
     "name": "stdout",
     "output_type": "stream",
     "text": [
      "    recall: 0.500000 precision: 0.857557 mAP@0.5: 0.495425, mAP@0.5-0.95: 0.346797\n",
      "\n",
      "Epoch 705/1000\n",
      "----------\n",
      "Train: \n"
     ]
    },
    {
     "name": "stderr",
     "output_type": "stream",
     "text": [
      "3it [00:00,  3.79it/s]\n"
     ]
    },
    {
     "name": "stdout",
     "output_type": "stream",
     "text": [
      "    box loss-> 0.01283, object loss-> 0.02176, class loss-> 0.00000\n",
      "Validation:\n"
     ]
    },
    {
     "name": "stderr",
     "output_type": "stream",
     "text": [
      "1it [00:00,  4.64it/s]\n"
     ]
    },
    {
     "name": "stdout",
     "output_type": "stream",
     "text": [
      "    recall: 0.500000 precision: 0.498821 mAP@0.5: 0.495425, mAP@0.5-0.95: 0.346797\n",
      "\n",
      "Epoch 706/1000\n",
      "----------\n",
      "Train: \n"
     ]
    },
    {
     "name": "stderr",
     "output_type": "stream",
     "text": [
      "3it [00:00,  3.82it/s]\n"
     ]
    },
    {
     "name": "stdout",
     "output_type": "stream",
     "text": [
      "    box loss-> 0.01345, object loss-> 0.02233, class loss-> 0.00000\n",
      "Validation:\n"
     ]
    },
    {
     "name": "stderr",
     "output_type": "stream",
     "text": [
      "1it [00:00,  4.87it/s]\n"
     ]
    },
    {
     "name": "stdout",
     "output_type": "stream",
     "text": [
      "    recall: 0.500000 precision: 0.496792 mAP@0.5: 0.495425, mAP@0.5-0.95: 0.198170\n",
      "\n",
      "Epoch 707/1000\n",
      "----------\n",
      "Train: \n"
     ]
    },
    {
     "name": "stderr",
     "output_type": "stream",
     "text": [
      "3it [00:00,  3.76it/s]\n"
     ]
    },
    {
     "name": "stdout",
     "output_type": "stream",
     "text": [
      "    box loss-> 0.01307, object loss-> 0.02202, class loss-> 0.00000\n",
      "Validation:\n"
     ]
    },
    {
     "name": "stderr",
     "output_type": "stream",
     "text": [
      "1it [00:00,  4.93it/s]\n"
     ]
    },
    {
     "name": "stdout",
     "output_type": "stream",
     "text": [
      "    recall: 0.500000 precision: 0.999263 mAP@0.5: 0.495425, mAP@0.5-0.95: 0.346797\n",
      "\n",
      "Epoch 708/1000\n",
      "----------\n",
      "Train: \n"
     ]
    },
    {
     "name": "stderr",
     "output_type": "stream",
     "text": [
      "3it [00:00,  3.80it/s]\n"
     ]
    },
    {
     "name": "stdout",
     "output_type": "stream",
     "text": [
      "    box loss-> 0.01133, object loss-> 0.02069, class loss-> 0.00000\n",
      "Validation:\n"
     ]
    },
    {
     "name": "stderr",
     "output_type": "stream",
     "text": [
      "1it [00:00,  4.97it/s]\n"
     ]
    },
    {
     "name": "stdout",
     "output_type": "stream",
     "text": [
      "    recall: 0.500000 precision: 0.937606 mAP@0.5: 0.495425, mAP@0.5-0.95: 0.346797\n",
      "\n",
      "Epoch 709/1000\n",
      "----------\n",
      "Train: \n"
     ]
    },
    {
     "name": "stderr",
     "output_type": "stream",
     "text": [
      "3it [00:00,  3.81it/s]\n"
     ]
    },
    {
     "name": "stdout",
     "output_type": "stream",
     "text": [
      "    box loss-> 0.01186, object loss-> 0.02093, class loss-> 0.00000\n",
      "Validation:\n"
     ]
    },
    {
     "name": "stderr",
     "output_type": "stream",
     "text": [
      "1it [00:00,  4.86it/s]\n"
     ]
    },
    {
     "name": "stdout",
     "output_type": "stream",
     "text": [
      "    recall: 0.500000 precision: 0.868130 mAP@0.5: 0.495425, mAP@0.5-0.95: 0.297255\n",
      "\n",
      "Epoch 710/1000\n",
      "----------\n",
      "Train: \n"
     ]
    },
    {
     "name": "stderr",
     "output_type": "stream",
     "text": [
      "3it [00:00,  3.82it/s]\n"
     ]
    },
    {
     "name": "stdout",
     "output_type": "stream",
     "text": [
      "    box loss-> 0.01118, object loss-> 0.02064, class loss-> 0.00000\n",
      "Validation:\n"
     ]
    },
    {
     "name": "stderr",
     "output_type": "stream",
     "text": [
      "1it [00:00,  4.90it/s]\n"
     ]
    },
    {
     "name": "stdout",
     "output_type": "stream",
     "text": [
      "    recall: 0.500000 precision: 0.497588 mAP@0.5: 0.495425, mAP@0.5-0.95: 0.198170\n",
      "\n",
      "Epoch 711/1000\n",
      "----------\n",
      "Train: \n"
     ]
    },
    {
     "name": "stderr",
     "output_type": "stream",
     "text": [
      "3it [00:00,  3.80it/s]\n"
     ]
    },
    {
     "name": "stdout",
     "output_type": "stream",
     "text": [
      "    box loss-> 0.01252, object loss-> 0.02196, class loss-> 0.00000\n",
      "Validation:\n"
     ]
    },
    {
     "name": "stderr",
     "output_type": "stream",
     "text": [
      "1it [00:00,  4.80it/s]\n"
     ]
    },
    {
     "name": "stdout",
     "output_type": "stream",
     "text": [
      "    recall: 0.500000 precision: 0.603805 mAP@0.5: 0.495425, mAP@0.5-0.95: 0.198170\n",
      "\n",
      "Epoch 712/1000\n",
      "----------\n",
      "Train: \n"
     ]
    },
    {
     "name": "stderr",
     "output_type": "stream",
     "text": [
      "3it [00:00,  3.73it/s]\n"
     ]
    },
    {
     "name": "stdout",
     "output_type": "stream",
     "text": [
      "    box loss-> 0.01150, object loss-> 0.02092, class loss-> 0.00000\n",
      "Validation:\n"
     ]
    },
    {
     "name": "stderr",
     "output_type": "stream",
     "text": [
      "1it [00:00,  4.88it/s]\n"
     ]
    },
    {
     "name": "stdout",
     "output_type": "stream",
     "text": [
      "    recall: 0.500000 precision: 0.971593 mAP@0.5: 0.495425, mAP@0.5-0.95: 0.297255\n",
      "\n",
      "Epoch 713/1000\n",
      "----------\n",
      "Train: \n"
     ]
    },
    {
     "name": "stderr",
     "output_type": "stream",
     "text": [
      "3it [00:00,  3.79it/s]\n"
     ]
    },
    {
     "name": "stdout",
     "output_type": "stream",
     "text": [
      "    box loss-> 0.01131, object loss-> 0.02011, class loss-> 0.00000\n",
      "Validation:\n"
     ]
    },
    {
     "name": "stderr",
     "output_type": "stream",
     "text": [
      "1it [00:00,  4.97it/s]\n"
     ]
    },
    {
     "name": "stdout",
     "output_type": "stream",
     "text": [
      "    recall: 0.500000 precision: 0.898377 mAP@0.5: 0.495425, mAP@0.5-0.95: 0.297255\n",
      "\n",
      "Epoch 714/1000\n",
      "----------\n",
      "Train: \n"
     ]
    },
    {
     "name": "stderr",
     "output_type": "stream",
     "text": [
      "3it [00:00,  3.78it/s]\n"
     ]
    },
    {
     "name": "stdout",
     "output_type": "stream",
     "text": [
      "    box loss-> 0.01108, object loss-> 0.02039, class loss-> 0.00000\n",
      "Validation:\n"
     ]
    },
    {
     "name": "stderr",
     "output_type": "stream",
     "text": [
      "1it [00:00,  4.86it/s]\n"
     ]
    },
    {
     "name": "stdout",
     "output_type": "stream",
     "text": [
      "    recall: 0.500000 precision: 0.996007 mAP@0.5: 0.495425, mAP@0.5-0.95: 0.297255\n",
      "\n",
      "Epoch 715/1000\n",
      "----------\n",
      "Train: \n"
     ]
    },
    {
     "name": "stderr",
     "output_type": "stream",
     "text": [
      "3it [00:00,  3.82it/s]\n"
     ]
    },
    {
     "name": "stdout",
     "output_type": "stream",
     "text": [
      "    box loss-> 0.01197, object loss-> 0.02087, class loss-> 0.00000\n",
      "Validation:\n"
     ]
    },
    {
     "name": "stderr",
     "output_type": "stream",
     "text": [
      "1it [00:00,  4.79it/s]\n"
     ]
    },
    {
     "name": "stdout",
     "output_type": "stream",
     "text": [
      "    recall: 0.500000 precision: 0.913555 mAP@0.5: 0.495425, mAP@0.5-0.95: 0.297255\n",
      "\n",
      "Epoch 716/1000\n",
      "----------\n",
      "Train: \n"
     ]
    },
    {
     "name": "stderr",
     "output_type": "stream",
     "text": [
      "3it [00:00,  3.81it/s]\n"
     ]
    },
    {
     "name": "stdout",
     "output_type": "stream",
     "text": [
      "    box loss-> 0.01128, object loss-> 0.02027, class loss-> 0.00000\n",
      "Validation:\n"
     ]
    },
    {
     "name": "stderr",
     "output_type": "stream",
     "text": [
      "1it [00:00,  4.92it/s]\n"
     ]
    },
    {
     "name": "stdout",
     "output_type": "stream",
     "text": [
      "    recall: 0.500000 precision: 0.966992 mAP@0.5: 0.495425, mAP@0.5-0.95: 0.297255\n",
      "\n",
      "Epoch 717/1000\n",
      "----------\n",
      "Train: \n"
     ]
    },
    {
     "name": "stderr",
     "output_type": "stream",
     "text": [
      "3it [00:00,  3.74it/s]\n"
     ]
    },
    {
     "name": "stdout",
     "output_type": "stream",
     "text": [
      "    box loss-> 0.01147, object loss-> 0.02045, class loss-> 0.00000\n",
      "Validation:\n"
     ]
    },
    {
     "name": "stderr",
     "output_type": "stream",
     "text": [
      "1it [00:00,  4.95it/s]\n"
     ]
    },
    {
     "name": "stdout",
     "output_type": "stream",
     "text": [
      "    recall: 0.500000 precision: 0.940181 mAP@0.5: 0.495425, mAP@0.5-0.95: 0.346797\n",
      "\n",
      "Epoch 718/1000\n",
      "----------\n",
      "Train: \n"
     ]
    },
    {
     "name": "stderr",
     "output_type": "stream",
     "text": [
      "3it [00:00,  3.81it/s]\n"
     ]
    },
    {
     "name": "stdout",
     "output_type": "stream",
     "text": [
      "    box loss-> 0.01185, object loss-> 0.02094, class loss-> 0.00000\n",
      "Validation:\n"
     ]
    },
    {
     "name": "stderr",
     "output_type": "stream",
     "text": [
      "1it [00:00,  4.74it/s]\n"
     ]
    },
    {
     "name": "stdout",
     "output_type": "stream",
     "text": [
      "    recall: 0.500000 precision: 0.973494 mAP@0.5: 0.495425, mAP@0.5-0.95: 0.346797\n",
      "\n",
      "Epoch 719/1000\n",
      "----------\n",
      "Train: \n"
     ]
    },
    {
     "name": "stderr",
     "output_type": "stream",
     "text": [
      "3it [00:00,  3.77it/s]\n"
     ]
    },
    {
     "name": "stdout",
     "output_type": "stream",
     "text": [
      "    box loss-> 0.01195, object loss-> 0.02121, class loss-> 0.00000\n",
      "Validation:\n"
     ]
    },
    {
     "name": "stderr",
     "output_type": "stream",
     "text": [
      "1it [00:00,  4.98it/s]\n"
     ]
    },
    {
     "name": "stdout",
     "output_type": "stream",
     "text": [
      "    recall: 0.500000 precision: 0.967054 mAP@0.5: 0.495425, mAP@0.5-0.95: 0.346797\n",
      "\n",
      "Epoch 720/1000\n",
      "----------\n",
      "Train: \n"
     ]
    },
    {
     "name": "stderr",
     "output_type": "stream",
     "text": [
      "3it [00:00,  3.82it/s]\n"
     ]
    },
    {
     "name": "stdout",
     "output_type": "stream",
     "text": [
      "    box loss-> 0.01191, object loss-> 0.02145, class loss-> 0.00000\n",
      "Validation:\n"
     ]
    },
    {
     "name": "stderr",
     "output_type": "stream",
     "text": [
      "1it [00:00,  4.87it/s]\n"
     ]
    },
    {
     "name": "stdout",
     "output_type": "stream",
     "text": [
      "    recall: 0.500000 precision: 0.850511 mAP@0.5: 0.495425, mAP@0.5-0.95: 0.346797\n",
      "\n",
      "Epoch 721/1000\n",
      "----------\n",
      "Train: \n"
     ]
    },
    {
     "name": "stderr",
     "output_type": "stream",
     "text": [
      "3it [00:00,  3.82it/s]\n"
     ]
    },
    {
     "name": "stdout",
     "output_type": "stream",
     "text": [
      "    box loss-> 0.01238, object loss-> 0.02134, class loss-> 0.00000\n",
      "Validation:\n"
     ]
    },
    {
     "name": "stderr",
     "output_type": "stream",
     "text": [
      "1it [00:00,  4.93it/s]\n"
     ]
    },
    {
     "name": "stdout",
     "output_type": "stream",
     "text": [
      "    recall: 0.500000 precision: 0.807510 mAP@0.5: 0.495425, mAP@0.5-0.95: 0.346797\n",
      "\n",
      "Epoch 722/1000\n",
      "----------\n",
      "Train: \n"
     ]
    },
    {
     "name": "stderr",
     "output_type": "stream",
     "text": [
      "3it [00:00,  3.76it/s]\n"
     ]
    },
    {
     "name": "stdout",
     "output_type": "stream",
     "text": [
      "    box loss-> 0.01205, object loss-> 0.02106, class loss-> 0.00000\n",
      "Validation:\n"
     ]
    },
    {
     "name": "stderr",
     "output_type": "stream",
     "text": [
      "1it [00:00,  4.86it/s]\n"
     ]
    },
    {
     "name": "stdout",
     "output_type": "stream",
     "text": [
      "    recall: 0.500000 precision: 0.589699 mAP@0.5: 0.495425, mAP@0.5-0.95: 0.346797\n",
      "\n",
      "Epoch 723/1000\n",
      "----------\n",
      "Train: \n"
     ]
    },
    {
     "name": "stderr",
     "output_type": "stream",
     "text": [
      "3it [00:00,  3.75it/s]\n"
     ]
    },
    {
     "name": "stdout",
     "output_type": "stream",
     "text": [
      "    box loss-> 0.01085, object loss-> 0.02003, class loss-> 0.00000\n",
      "Validation:\n"
     ]
    },
    {
     "name": "stderr",
     "output_type": "stream",
     "text": [
      "1it [00:00,  4.89it/s]\n"
     ]
    },
    {
     "name": "stdout",
     "output_type": "stream",
     "text": [
      "    recall: 0.500000 precision: 0.910142 mAP@0.5: 0.495425, mAP@0.5-0.95: 0.346797\n",
      "\n",
      "Epoch 724/1000\n",
      "----------\n",
      "Train: \n"
     ]
    },
    {
     "name": "stderr",
     "output_type": "stream",
     "text": [
      "3it [00:00,  3.82it/s]\n"
     ]
    },
    {
     "name": "stdout",
     "output_type": "stream",
     "text": [
      "    box loss-> 0.01054, object loss-> 0.01981, class loss-> 0.00000\n",
      "Validation:\n"
     ]
    },
    {
     "name": "stderr",
     "output_type": "stream",
     "text": [
      "1it [00:00,  4.91it/s]\n"
     ]
    },
    {
     "name": "stdout",
     "output_type": "stream",
     "text": [
      "    recall: 0.500000 precision: 0.802586 mAP@0.5: 0.495425, mAP@0.5-0.95: 0.346797\n",
      "\n",
      "Epoch 725/1000\n",
      "----------\n",
      "Train: \n"
     ]
    },
    {
     "name": "stderr",
     "output_type": "stream",
     "text": [
      "3it [00:00,  3.79it/s]\n"
     ]
    },
    {
     "name": "stdout",
     "output_type": "stream",
     "text": [
      "    box loss-> 0.01043, object loss-> 0.01965, class loss-> 0.00000\n",
      "Validation:\n"
     ]
    },
    {
     "name": "stderr",
     "output_type": "stream",
     "text": [
      "1it [00:00,  4.88it/s]\n"
     ]
    },
    {
     "name": "stdout",
     "output_type": "stream",
     "text": [
      "    recall: 0.500000 precision: 0.742276 mAP@0.5: 0.495425, mAP@0.5-0.95: 0.198170\n",
      "\n",
      "Epoch 726/1000\n",
      "----------\n",
      "Train: \n"
     ]
    },
    {
     "name": "stderr",
     "output_type": "stream",
     "text": [
      "3it [00:00,  3.77it/s]\n"
     ]
    },
    {
     "name": "stdout",
     "output_type": "stream",
     "text": [
      "    box loss-> 0.01062, object loss-> 0.01998, class loss-> 0.00000\n",
      "Validation:\n"
     ]
    },
    {
     "name": "stderr",
     "output_type": "stream",
     "text": [
      "1it [00:00,  4.97it/s]\n"
     ]
    },
    {
     "name": "stdout",
     "output_type": "stream",
     "text": [
      "    recall: 0.500000 precision: 0.872019 mAP@0.5: 0.495425, mAP@0.5-0.95: 0.346797\n",
      "\n",
      "Epoch 727/1000\n",
      "----------\n",
      "Train: \n"
     ]
    },
    {
     "name": "stderr",
     "output_type": "stream",
     "text": [
      "3it [00:00,  3.78it/s]\n"
     ]
    },
    {
     "name": "stdout",
     "output_type": "stream",
     "text": [
      "    box loss-> 0.01043, object loss-> 0.01985, class loss-> 0.00000\n",
      "Validation:\n"
     ]
    },
    {
     "name": "stderr",
     "output_type": "stream",
     "text": [
      "1it [00:00,  4.95it/s]\n"
     ]
    },
    {
     "name": "stdout",
     "output_type": "stream",
     "text": [
      "    recall: 0.500000 precision: 0.782157 mAP@0.5: 0.495425, mAP@0.5-0.95: 0.346797\n",
      "\n",
      "Epoch 728/1000\n",
      "----------\n",
      "Train: \n"
     ]
    },
    {
     "name": "stderr",
     "output_type": "stream",
     "text": [
      "3it [00:00,  3.75it/s]\n"
     ]
    },
    {
     "name": "stdout",
     "output_type": "stream",
     "text": [
      "    box loss-> 0.01077, object loss-> 0.01972, class loss-> 0.00000\n",
      "Validation:\n"
     ]
    },
    {
     "name": "stderr",
     "output_type": "stream",
     "text": [
      "1it [00:00,  4.93it/s]\n"
     ]
    },
    {
     "name": "stdout",
     "output_type": "stream",
     "text": [
      "    recall: 0.500000 precision: 0.964270 mAP@0.5: 0.495425, mAP@0.5-0.95: 0.346797\n",
      "\n",
      "Epoch 729/1000\n",
      "----------\n",
      "Train: \n"
     ]
    },
    {
     "name": "stderr",
     "output_type": "stream",
     "text": [
      "3it [00:00,  3.85it/s]\n"
     ]
    },
    {
     "name": "stdout",
     "output_type": "stream",
     "text": [
      "    box loss-> 0.01102, object loss-> 0.01999, class loss-> 0.00000\n",
      "Validation:\n"
     ]
    },
    {
     "name": "stderr",
     "output_type": "stream",
     "text": [
      "1it [00:00,  4.86it/s]\n"
     ]
    },
    {
     "name": "stdout",
     "output_type": "stream",
     "text": [
      "    recall: 0.500000 precision: 0.914181 mAP@0.5: 0.495425, mAP@0.5-0.95: 0.346797\n",
      "\n",
      "Epoch 730/1000\n",
      "----------\n",
      "Train: \n"
     ]
    },
    {
     "name": "stderr",
     "output_type": "stream",
     "text": [
      "3it [00:00,  3.80it/s]\n"
     ]
    },
    {
     "name": "stdout",
     "output_type": "stream",
     "text": [
      "    box loss-> 0.01099, object loss-> 0.01992, class loss-> 0.00000\n",
      "Validation:\n"
     ]
    },
    {
     "name": "stderr",
     "output_type": "stream",
     "text": [
      "1it [00:00,  4.93it/s]\n"
     ]
    },
    {
     "name": "stdout",
     "output_type": "stream",
     "text": [
      "    recall: 0.500000 precision: 0.943236 mAP@0.5: 0.495425, mAP@0.5-0.95: 0.346797\n",
      "\n",
      "Epoch 731/1000\n",
      "----------\n",
      "Train: \n"
     ]
    },
    {
     "name": "stderr",
     "output_type": "stream",
     "text": [
      "3it [00:00,  3.74it/s]\n"
     ]
    },
    {
     "name": "stdout",
     "output_type": "stream",
     "text": [
      "    box loss-> 0.01017, object loss-> 0.01921, class loss-> 0.00000\n",
      "Validation:\n"
     ]
    },
    {
     "name": "stderr",
     "output_type": "stream",
     "text": [
      "1it [00:00,  4.92it/s]\n"
     ]
    },
    {
     "name": "stdout",
     "output_type": "stream",
     "text": [
      "    recall: 0.500000 precision: 0.952273 mAP@0.5: 0.495425, mAP@0.5-0.95: 0.346797\n",
      "\n",
      "Epoch 732/1000\n",
      "----------\n",
      "Train: \n"
     ]
    },
    {
     "name": "stderr",
     "output_type": "stream",
     "text": [
      "3it [00:00,  3.77it/s]\n"
     ]
    },
    {
     "name": "stdout",
     "output_type": "stream",
     "text": [
      "    box loss-> 0.01019, object loss-> 0.01950, class loss-> 0.00000\n",
      "Validation:\n"
     ]
    },
    {
     "name": "stderr",
     "output_type": "stream",
     "text": [
      "1it [00:00,  4.82it/s]\n"
     ]
    },
    {
     "name": "stdout",
     "output_type": "stream",
     "text": [
      "    recall: 0.500000 precision: 0.965123 mAP@0.5: 0.495425, mAP@0.5-0.95: 0.346797\n",
      "\n",
      "Epoch 733/1000\n",
      "----------\n",
      "Train: \n"
     ]
    },
    {
     "name": "stderr",
     "output_type": "stream",
     "text": [
      "3it [00:00,  3.73it/s]\n"
     ]
    },
    {
     "name": "stdout",
     "output_type": "stream",
     "text": [
      "    box loss-> 0.01047, object loss-> 0.01960, class loss-> 0.00000\n",
      "Validation:\n"
     ]
    },
    {
     "name": "stderr",
     "output_type": "stream",
     "text": [
      "1it [00:00,  4.78it/s]\n"
     ]
    },
    {
     "name": "stdout",
     "output_type": "stream",
     "text": [
      "    recall: 0.500000 precision: 0.822423 mAP@0.5: 0.495425, mAP@0.5-0.95: 0.297255\n",
      "\n",
      "Epoch 734/1000\n",
      "----------\n",
      "Train: \n"
     ]
    },
    {
     "name": "stderr",
     "output_type": "stream",
     "text": [
      "3it [00:00,  3.77it/s]\n"
     ]
    },
    {
     "name": "stdout",
     "output_type": "stream",
     "text": [
      "    box loss-> 0.01151, object loss-> 0.02015, class loss-> 0.00000\n",
      "Validation:\n"
     ]
    },
    {
     "name": "stderr",
     "output_type": "stream",
     "text": [
      "1it [00:00,  4.69it/s]\n"
     ]
    },
    {
     "name": "stdout",
     "output_type": "stream",
     "text": [
      "    recall: 0.500000 precision: 0.780653 mAP@0.5: 0.495425, mAP@0.5-0.95: 0.297255\n",
      "\n",
      "Epoch 735/1000\n",
      "----------\n",
      "Train: \n"
     ]
    },
    {
     "name": "stderr",
     "output_type": "stream",
     "text": [
      "3it [00:00,  3.80it/s]\n"
     ]
    },
    {
     "name": "stdout",
     "output_type": "stream",
     "text": [
      "    box loss-> 0.01015, object loss-> 0.01888, class loss-> 0.00000\n",
      "Validation:\n"
     ]
    },
    {
     "name": "stderr",
     "output_type": "stream",
     "text": [
      "1it [00:00,  4.89it/s]\n"
     ]
    },
    {
     "name": "stdout",
     "output_type": "stream",
     "text": [
      "    recall: 0.500000 precision: 0.938287 mAP@0.5: 0.495425, mAP@0.5-0.95: 0.297255\n",
      "\n",
      "Epoch 736/1000\n",
      "----------\n",
      "Train: \n"
     ]
    },
    {
     "name": "stderr",
     "output_type": "stream",
     "text": [
      "3it [00:00,  3.78it/s]\n"
     ]
    },
    {
     "name": "stdout",
     "output_type": "stream",
     "text": [
      "    box loss-> 0.01054, object loss-> 0.01930, class loss-> 0.00000\n",
      "Validation:\n"
     ]
    },
    {
     "name": "stderr",
     "output_type": "stream",
     "text": [
      "1it [00:00,  4.97it/s]\n"
     ]
    },
    {
     "name": "stdout",
     "output_type": "stream",
     "text": [
      "    recall: 0.500000 precision: 0.857548 mAP@0.5: 0.495425, mAP@0.5-0.95: 0.297255\n",
      "\n",
      "Epoch 737/1000\n",
      "----------\n",
      "Train: \n"
     ]
    },
    {
     "name": "stderr",
     "output_type": "stream",
     "text": [
      "3it [00:00,  3.77it/s]\n"
     ]
    },
    {
     "name": "stdout",
     "output_type": "stream",
     "text": [
      "    box loss-> 0.01082, object loss-> 0.01971, class loss-> 0.00000\n",
      "Validation:\n"
     ]
    },
    {
     "name": "stderr",
     "output_type": "stream",
     "text": [
      "1it [00:00,  4.77it/s]\n"
     ]
    },
    {
     "name": "stdout",
     "output_type": "stream",
     "text": [
      "    recall: 0.500000 precision: 0.806973 mAP@0.5: 0.495425, mAP@0.5-0.95: 0.297255\n",
      "\n",
      "Epoch 738/1000\n",
      "----------\n",
      "Train: \n"
     ]
    },
    {
     "name": "stderr",
     "output_type": "stream",
     "text": [
      "3it [00:00,  3.81it/s]\n"
     ]
    },
    {
     "name": "stdout",
     "output_type": "stream",
     "text": [
      "    box loss-> 0.01049, object loss-> 0.01922, class loss-> 0.00000\n",
      "Validation:\n"
     ]
    },
    {
     "name": "stderr",
     "output_type": "stream",
     "text": [
      "1it [00:00,  4.92it/s]\n"
     ]
    },
    {
     "name": "stdout",
     "output_type": "stream",
     "text": [
      "    recall: 0.500000 precision: 0.951808 mAP@0.5: 0.495425, mAP@0.5-0.95: 0.297255\n",
      "\n",
      "Epoch 739/1000\n",
      "----------\n",
      "Train: \n"
     ]
    },
    {
     "name": "stderr",
     "output_type": "stream",
     "text": [
      "3it [00:00,  3.75it/s]\n"
     ]
    },
    {
     "name": "stdout",
     "output_type": "stream",
     "text": [
      "    box loss-> 0.01145, object loss-> 0.02005, class loss-> 0.00000\n",
      "Validation:\n"
     ]
    },
    {
     "name": "stderr",
     "output_type": "stream",
     "text": [
      "1it [00:00,  4.81it/s]\n"
     ]
    },
    {
     "name": "stdout",
     "output_type": "stream",
     "text": [
      "    recall: 0.500000 precision: 0.992177 mAP@0.5: 0.495425, mAP@0.5-0.95: 0.346797\n",
      "\n",
      "Epoch 740/1000\n",
      "----------\n",
      "Train: \n"
     ]
    },
    {
     "name": "stderr",
     "output_type": "stream",
     "text": [
      "3it [00:00,  3.80it/s]\n"
     ]
    },
    {
     "name": "stdout",
     "output_type": "stream",
     "text": [
      "    box loss-> 0.00918, object loss-> 0.01820, class loss-> 0.00000\n",
      "Validation:\n"
     ]
    },
    {
     "name": "stderr",
     "output_type": "stream",
     "text": [
      "1it [00:00,  4.89it/s]\n"
     ]
    },
    {
     "name": "stdout",
     "output_type": "stream",
     "text": [
      "    recall: 0.500000 precision: 0.958438 mAP@0.5: 0.495425, mAP@0.5-0.95: 0.346797\n",
      "\n",
      "Epoch 741/1000\n",
      "----------\n",
      "Train: \n"
     ]
    },
    {
     "name": "stderr",
     "output_type": "stream",
     "text": [
      "3it [00:00,  3.82it/s]\n"
     ]
    },
    {
     "name": "stdout",
     "output_type": "stream",
     "text": [
      "    box loss-> 0.00977, object loss-> 0.01860, class loss-> 0.00000\n",
      "Validation:\n"
     ]
    },
    {
     "name": "stderr",
     "output_type": "stream",
     "text": [
      "1it [00:00,  4.91it/s]\n"
     ]
    },
    {
     "name": "stdout",
     "output_type": "stream",
     "text": [
      "    recall: 0.500000 precision: 0.954784 mAP@0.5: 0.495425, mAP@0.5-0.95: 0.346797\n",
      "\n",
      "Epoch 742/1000\n",
      "----------\n",
      "Train: \n"
     ]
    },
    {
     "name": "stderr",
     "output_type": "stream",
     "text": [
      "3it [00:00,  3.81it/s]\n"
     ]
    },
    {
     "name": "stdout",
     "output_type": "stream",
     "text": [
      "    box loss-> 0.00871, object loss-> 0.01768, class loss-> 0.00000\n",
      "Validation:\n"
     ]
    },
    {
     "name": "stderr",
     "output_type": "stream",
     "text": [
      "1it [00:00,  4.80it/s]\n"
     ]
    },
    {
     "name": "stdout",
     "output_type": "stream",
     "text": [
      "    recall: 0.500000 precision: 0.960230 mAP@0.5: 0.495425, mAP@0.5-0.95: 0.346797\n",
      "\n",
      "Epoch 743/1000\n",
      "----------\n",
      "Train: \n"
     ]
    },
    {
     "name": "stderr",
     "output_type": "stream",
     "text": [
      "3it [00:00,  3.83it/s]\n"
     ]
    },
    {
     "name": "stdout",
     "output_type": "stream",
     "text": [
      "    box loss-> 0.00962, object loss-> 0.01791, class loss-> 0.00000\n",
      "Validation:\n"
     ]
    },
    {
     "name": "stderr",
     "output_type": "stream",
     "text": [
      "1it [00:00,  5.01it/s]\n"
     ]
    },
    {
     "name": "stdout",
     "output_type": "stream",
     "text": [
      "    recall: 0.500000 precision: 0.936571 mAP@0.5: 0.495425, mAP@0.5-0.95: 0.346797\n",
      "\n",
      "Epoch 744/1000\n",
      "----------\n",
      "Train: \n"
     ]
    },
    {
     "name": "stderr",
     "output_type": "stream",
     "text": [
      "3it [00:00,  3.73it/s]\n"
     ]
    },
    {
     "name": "stdout",
     "output_type": "stream",
     "text": [
      "    box loss-> 0.01018, object loss-> 0.01916, class loss-> 0.00000\n",
      "Validation:\n"
     ]
    },
    {
     "name": "stderr",
     "output_type": "stream",
     "text": [
      "1it [00:00,  4.89it/s]\n"
     ]
    },
    {
     "name": "stdout",
     "output_type": "stream",
     "text": [
      "    recall: 0.500000 precision: 0.952429 mAP@0.5: 0.495425, mAP@0.5-0.95: 0.346797\n",
      "\n",
      "Epoch 745/1000\n",
      "----------\n",
      "Train: \n"
     ]
    },
    {
     "name": "stderr",
     "output_type": "stream",
     "text": [
      "3it [00:00,  3.78it/s]\n"
     ]
    },
    {
     "name": "stdout",
     "output_type": "stream",
     "text": [
      "    box loss-> 0.01103, object loss-> 0.02032, class loss-> 0.00000\n",
      "Validation:\n"
     ]
    },
    {
     "name": "stderr",
     "output_type": "stream",
     "text": [
      "1it [00:00,  4.73it/s]\n"
     ]
    },
    {
     "name": "stdout",
     "output_type": "stream",
     "text": [
      "    recall: 0.500000 precision: 0.917149 mAP@0.5: 0.495425, mAP@0.5-0.95: 0.346797\n",
      "\n",
      "Epoch 746/1000\n",
      "----------\n",
      "Train: \n"
     ]
    },
    {
     "name": "stderr",
     "output_type": "stream",
     "text": [
      "3it [00:00,  3.75it/s]\n"
     ]
    },
    {
     "name": "stdout",
     "output_type": "stream",
     "text": [
      "    box loss-> 0.01142, object loss-> 0.02043, class loss-> 0.00000\n",
      "Validation:\n"
     ]
    },
    {
     "name": "stderr",
     "output_type": "stream",
     "text": [
      "1it [00:00,  4.72it/s]\n"
     ]
    },
    {
     "name": "stdout",
     "output_type": "stream",
     "text": [
      "    recall: 0.500000 precision: 0.902466 mAP@0.5: 0.495425, mAP@0.5-0.95: 0.346797\n",
      "\n",
      "Epoch 747/1000\n",
      "----------\n",
      "Train: \n"
     ]
    },
    {
     "name": "stderr",
     "output_type": "stream",
     "text": [
      "3it [00:00,  3.76it/s]\n"
     ]
    },
    {
     "name": "stdout",
     "output_type": "stream",
     "text": [
      "    box loss-> 0.01082, object loss-> 0.02015, class loss-> 0.00000\n",
      "Validation:\n"
     ]
    },
    {
     "name": "stderr",
     "output_type": "stream",
     "text": [
      "1it [00:00,  4.79it/s]\n"
     ]
    },
    {
     "name": "stdout",
     "output_type": "stream",
     "text": [
      "    recall: 0.500000 precision: 0.916205 mAP@0.5: 0.495425, mAP@0.5-0.95: 0.198170\n",
      "\n",
      "Epoch 748/1000\n",
      "----------\n",
      "Train: \n"
     ]
    },
    {
     "name": "stderr",
     "output_type": "stream",
     "text": [
      "3it [00:00,  3.77it/s]\n"
     ]
    },
    {
     "name": "stdout",
     "output_type": "stream",
     "text": [
      "    box loss-> 0.01142, object loss-> 0.02089, class loss-> 0.00000\n",
      "Validation:\n"
     ]
    },
    {
     "name": "stderr",
     "output_type": "stream",
     "text": [
      "1it [00:00,  4.87it/s]\n"
     ]
    },
    {
     "name": "stdout",
     "output_type": "stream",
     "text": [
      "    recall: 0.500000 precision: 0.610592 mAP@0.5: 0.495425, mAP@0.5-0.95: 0.198170\n",
      "\n",
      "Epoch 749/1000\n",
      "----------\n",
      "Train: \n"
     ]
    },
    {
     "name": "stderr",
     "output_type": "stream",
     "text": [
      "3it [00:00,  3.68it/s]\n"
     ]
    },
    {
     "name": "stdout",
     "output_type": "stream",
     "text": [
      "    box loss-> 0.01112, object loss-> 0.02003, class loss-> 0.00000\n",
      "Validation:\n"
     ]
    },
    {
     "name": "stderr",
     "output_type": "stream",
     "text": [
      "1it [00:00,  4.90it/s]\n"
     ]
    },
    {
     "name": "stdout",
     "output_type": "stream",
     "text": [
      "    recall: 0.500000 precision: 0.859849 mAP@0.5: 0.495425, mAP@0.5-0.95: 0.198170\n",
      "\n",
      "Epoch 750/1000\n",
      "----------\n",
      "Train: \n"
     ]
    },
    {
     "name": "stderr",
     "output_type": "stream",
     "text": [
      "3it [00:00,  3.76it/s]\n"
     ]
    },
    {
     "name": "stdout",
     "output_type": "stream",
     "text": [
      "    box loss-> 0.01380, object loss-> 0.02358, class loss-> 0.00000\n",
      "Validation:\n"
     ]
    },
    {
     "name": "stderr",
     "output_type": "stream",
     "text": [
      "1it [00:00,  4.91it/s]\n"
     ]
    },
    {
     "name": "stdout",
     "output_type": "stream",
     "text": [
      "    recall: 0.500000 precision: 0.910153 mAP@0.5: 0.495425, mAP@0.5-0.95: 0.198170\n",
      "\n",
      "Epoch 751/1000\n",
      "----------\n",
      "Train: \n"
     ]
    },
    {
     "name": "stderr",
     "output_type": "stream",
     "text": [
      "3it [00:00,  3.83it/s]\n"
     ]
    },
    {
     "name": "stdout",
     "output_type": "stream",
     "text": [
      "    box loss-> 0.01417, object loss-> 0.02405, class loss-> 0.00000\n",
      "Validation:\n"
     ]
    },
    {
     "name": "stderr",
     "output_type": "stream",
     "text": [
      "1it [00:00,  4.89it/s]\n"
     ]
    },
    {
     "name": "stdout",
     "output_type": "stream",
     "text": [
      "    recall: 0.500000 precision: 0.980228 mAP@0.5: 0.495425, mAP@0.5-0.95: 0.198170\n",
      "\n",
      "Epoch 752/1000\n",
      "----------\n",
      "Train: \n"
     ]
    },
    {
     "name": "stderr",
     "output_type": "stream",
     "text": [
      "3it [00:00,  3.81it/s]\n"
     ]
    },
    {
     "name": "stdout",
     "output_type": "stream",
     "text": [
      "    box loss-> 0.01383, object loss-> 0.02317, class loss-> 0.00000\n",
      "Validation:\n"
     ]
    },
    {
     "name": "stderr",
     "output_type": "stream",
     "text": [
      "1it [00:00,  4.83it/s]\n"
     ]
    },
    {
     "name": "stdout",
     "output_type": "stream",
     "text": [
      "    recall: 0.500000 precision: 0.498149 mAP@0.5: 0.495425, mAP@0.5-0.95: 0.346797\n",
      "\n",
      "Epoch 753/1000\n",
      "----------\n",
      "Train: \n"
     ]
    },
    {
     "name": "stderr",
     "output_type": "stream",
     "text": [
      "3it [00:00,  3.79it/s]\n"
     ]
    },
    {
     "name": "stdout",
     "output_type": "stream",
     "text": [
      "    box loss-> 0.01365, object loss-> 0.02351, class loss-> 0.00000\n",
      "Validation:\n"
     ]
    },
    {
     "name": "stderr",
     "output_type": "stream",
     "text": [
      "1it [00:00,  4.77it/s]\n"
     ]
    },
    {
     "name": "stdout",
     "output_type": "stream",
     "text": [
      "    recall: 0.500000 precision: 0.802230 mAP@0.5: 0.495425, mAP@0.5-0.95: 0.346797\n",
      "\n",
      "Epoch 754/1000\n",
      "----------\n",
      "Train: \n"
     ]
    },
    {
     "name": "stderr",
     "output_type": "stream",
     "text": [
      "3it [00:00,  3.79it/s]\n"
     ]
    },
    {
     "name": "stdout",
     "output_type": "stream",
     "text": [
      "    box loss-> 0.01366, object loss-> 0.02365, class loss-> 0.00000\n",
      "Validation:\n"
     ]
    },
    {
     "name": "stderr",
     "output_type": "stream",
     "text": [
      "1it [00:00,  4.89it/s]\n"
     ]
    },
    {
     "name": "stdout",
     "output_type": "stream",
     "text": [
      "    recall: 0.500000 precision: 0.495900 mAP@0.5: 0.495425, mAP@0.5-0.95: 0.346797\n",
      "\n",
      "Epoch 755/1000\n",
      "----------\n",
      "Train: \n"
     ]
    },
    {
     "name": "stderr",
     "output_type": "stream",
     "text": [
      "3it [00:00,  3.74it/s]\n"
     ]
    },
    {
     "name": "stdout",
     "output_type": "stream",
     "text": [
      "    box loss-> 0.01359, object loss-> 0.02279, class loss-> 0.00000\n",
      "Validation:\n"
     ]
    },
    {
     "name": "stderr",
     "output_type": "stream",
     "text": [
      "1it [00:00,  4.82it/s]\n"
     ]
    },
    {
     "name": "stdout",
     "output_type": "stream",
     "text": [
      "    recall: 0.500000 precision: 0.904810 mAP@0.5: 0.495425, mAP@0.5-0.95: 0.198170\n",
      "\n",
      "Epoch 756/1000\n",
      "----------\n",
      "Train: \n"
     ]
    },
    {
     "name": "stderr",
     "output_type": "stream",
     "text": [
      "3it [00:00,  3.81it/s]\n"
     ]
    },
    {
     "name": "stdout",
     "output_type": "stream",
     "text": [
      "    box loss-> 0.01264, object loss-> 0.02196, class loss-> 0.00000\n",
      "Validation:\n"
     ]
    },
    {
     "name": "stderr",
     "output_type": "stream",
     "text": [
      "1it [00:00,  4.81it/s]\n"
     ]
    },
    {
     "name": "stdout",
     "output_type": "stream",
     "text": [
      "    recall: 0.500000 precision: 0.497871 mAP@0.5: 0.495425, mAP@0.5-0.95: 0.198170\n",
      "\n",
      "Epoch 757/1000\n",
      "----------\n",
      "Train: \n"
     ]
    },
    {
     "name": "stderr",
     "output_type": "stream",
     "text": [
      "3it [00:00,  3.79it/s]\n"
     ]
    },
    {
     "name": "stdout",
     "output_type": "stream",
     "text": [
      "    box loss-> 0.01256, object loss-> 0.02173, class loss-> 0.00000\n",
      "Validation:\n"
     ]
    },
    {
     "name": "stderr",
     "output_type": "stream",
     "text": [
      "1it [00:00,  4.69it/s]\n"
     ]
    },
    {
     "name": "stdout",
     "output_type": "stream",
     "text": [
      "    recall: 0.500000 precision: 0.497397 mAP@0.5: 0.495425, mAP@0.5-0.95: 0.198170\n",
      "\n",
      "Epoch 758/1000\n",
      "----------\n",
      "Train: \n"
     ]
    },
    {
     "name": "stderr",
     "output_type": "stream",
     "text": [
      "3it [00:00,  3.72it/s]\n"
     ]
    },
    {
     "name": "stdout",
     "output_type": "stream",
     "text": [
      "    box loss-> 0.01242, object loss-> 0.02184, class loss-> 0.00000\n",
      "Validation:\n"
     ]
    },
    {
     "name": "stderr",
     "output_type": "stream",
     "text": [
      "1it [00:00,  4.89it/s]\n"
     ]
    },
    {
     "name": "stdout",
     "output_type": "stream",
     "text": [
      "    recall: 0.500000 precision: 0.787294 mAP@0.5: 0.495425, mAP@0.5-0.95: 0.346797\n",
      "\n",
      "Epoch 759/1000\n",
      "----------\n",
      "Train: \n"
     ]
    },
    {
     "name": "stderr",
     "output_type": "stream",
     "text": [
      "3it [00:00,  3.77it/s]\n"
     ]
    },
    {
     "name": "stdout",
     "output_type": "stream",
     "text": [
      "    box loss-> 0.01209, object loss-> 0.02148, class loss-> 0.00000\n",
      "Validation:\n"
     ]
    },
    {
     "name": "stderr",
     "output_type": "stream",
     "text": [
      "1it [00:00,  4.78it/s]\n"
     ]
    },
    {
     "name": "stdout",
     "output_type": "stream",
     "text": [
      "    recall: 0.500000 precision: 0.499992 mAP@0.5: 0.495425, mAP@0.5-0.95: 0.346797\n",
      "\n",
      "Epoch 760/1000\n",
      "----------\n",
      "Train: \n"
     ]
    },
    {
     "name": "stderr",
     "output_type": "stream",
     "text": [
      "3it [00:00,  3.72it/s]\n"
     ]
    },
    {
     "name": "stdout",
     "output_type": "stream",
     "text": [
      "    box loss-> 0.01160, object loss-> 0.02054, class loss-> 0.00000\n",
      "Validation:\n"
     ]
    },
    {
     "name": "stderr",
     "output_type": "stream",
     "text": [
      "1it [00:00,  4.82it/s]\n"
     ]
    },
    {
     "name": "stdout",
     "output_type": "stream",
     "text": [
      "    recall: 0.500000 precision: 0.845758 mAP@0.5: 0.495425, mAP@0.5-0.95: 0.148627\n",
      "\n",
      "Epoch 761/1000\n",
      "----------\n",
      "Train: \n"
     ]
    },
    {
     "name": "stderr",
     "output_type": "stream",
     "text": [
      "3it [00:00,  3.76it/s]\n"
     ]
    },
    {
     "name": "stdout",
     "output_type": "stream",
     "text": [
      "    box loss-> 0.00908, object loss-> 0.01804, class loss-> 0.00000\n",
      "Validation:\n"
     ]
    },
    {
     "name": "stderr",
     "output_type": "stream",
     "text": [
      "1it [00:00,  4.87it/s]\n"
     ]
    },
    {
     "name": "stdout",
     "output_type": "stream",
     "text": [
      "    recall: 0.500000 precision: 0.954299 mAP@0.5: 0.495425, mAP@0.5-0.95: 0.148627\n",
      "\n",
      "Epoch 762/1000\n",
      "----------\n",
      "Train: \n"
     ]
    },
    {
     "name": "stderr",
     "output_type": "stream",
     "text": [
      "3it [00:00,  3.77it/s]\n"
     ]
    },
    {
     "name": "stdout",
     "output_type": "stream",
     "text": [
      "    box loss-> 0.00939, object loss-> 0.01821, class loss-> 0.00000\n",
      "Validation:\n"
     ]
    },
    {
     "name": "stderr",
     "output_type": "stream",
     "text": [
      "1it [00:00,  4.88it/s]\n"
     ]
    },
    {
     "name": "stdout",
     "output_type": "stream",
     "text": [
      "    recall: 0.500000 precision: 0.959532 mAP@0.5: 0.495425, mAP@0.5-0.95: 0.148627\n",
      "\n",
      "Epoch 763/1000\n",
      "----------\n",
      "Train: \n"
     ]
    },
    {
     "name": "stderr",
     "output_type": "stream",
     "text": [
      "3it [00:00,  3.76it/s]\n"
     ]
    },
    {
     "name": "stdout",
     "output_type": "stream",
     "text": [
      "    box loss-> 0.00959, object loss-> 0.01851, class loss-> 0.00000\n",
      "Validation:\n"
     ]
    },
    {
     "name": "stderr",
     "output_type": "stream",
     "text": [
      "1it [00:00,  4.82it/s]\n"
     ]
    },
    {
     "name": "stdout",
     "output_type": "stream",
     "text": [
      "    recall: 0.500000 precision: 0.971592 mAP@0.5: 0.495425, mAP@0.5-0.95: 0.198170\n",
      "\n",
      "Epoch 764/1000\n",
      "----------\n",
      "Train: \n"
     ]
    },
    {
     "name": "stderr",
     "output_type": "stream",
     "text": [
      "3it [00:00,  3.78it/s]\n"
     ]
    },
    {
     "name": "stdout",
     "output_type": "stream",
     "text": [
      "    box loss-> 0.01044, object loss-> 0.01975, class loss-> 0.00000\n",
      "Validation:\n"
     ]
    },
    {
     "name": "stderr",
     "output_type": "stream",
     "text": [
      "1it [00:00,  4.86it/s]\n"
     ]
    },
    {
     "name": "stdout",
     "output_type": "stream",
     "text": [
      "    recall: 0.500000 precision: 0.990044 mAP@0.5: 0.495425, mAP@0.5-0.95: 0.198170\n",
      "\n",
      "Epoch 765/1000\n",
      "----------\n",
      "Train: \n"
     ]
    },
    {
     "name": "stderr",
     "output_type": "stream",
     "text": [
      "3it [00:00,  3.78it/s]\n"
     ]
    },
    {
     "name": "stdout",
     "output_type": "stream",
     "text": [
      "    box loss-> 0.00976, object loss-> 0.01859, class loss-> 0.00000\n",
      "Validation:\n"
     ]
    },
    {
     "name": "stderr",
     "output_type": "stream",
     "text": [
      "1it [00:00,  4.85it/s]\n"
     ]
    },
    {
     "name": "stdout",
     "output_type": "stream",
     "text": [
      "    recall: 0.500000 precision: 0.935554 mAP@0.5: 0.495425, mAP@0.5-0.95: 0.198170\n",
      "\n",
      "Epoch 766/1000\n",
      "----------\n",
      "Train: \n"
     ]
    },
    {
     "name": "stderr",
     "output_type": "stream",
     "text": [
      "3it [00:00,  3.80it/s]\n"
     ]
    },
    {
     "name": "stdout",
     "output_type": "stream",
     "text": [
      "    box loss-> 0.01060, object loss-> 0.01934, class loss-> 0.00000\n",
      "Validation:\n"
     ]
    },
    {
     "name": "stderr",
     "output_type": "stream",
     "text": [
      "1it [00:00,  4.93it/s]\n"
     ]
    },
    {
     "name": "stdout",
     "output_type": "stream",
     "text": [
      "    recall: 0.500000 precision: 0.962186 mAP@0.5: 0.495425, mAP@0.5-0.95: 0.198170\n",
      "\n",
      "Epoch 767/1000\n",
      "----------\n",
      "Train: \n"
     ]
    },
    {
     "name": "stderr",
     "output_type": "stream",
     "text": [
      "3it [00:00,  3.78it/s]\n"
     ]
    },
    {
     "name": "stdout",
     "output_type": "stream",
     "text": [
      "    box loss-> 0.01094, object loss-> 0.01950, class loss-> 0.00000\n",
      "Validation:\n"
     ]
    },
    {
     "name": "stderr",
     "output_type": "stream",
     "text": [
      "1it [00:00,  4.80it/s]\n"
     ]
    },
    {
     "name": "stdout",
     "output_type": "stream",
     "text": [
      "    recall: 0.500000 precision: 0.956984 mAP@0.5: 0.495425, mAP@0.5-0.95: 0.198170\n",
      "\n",
      "Epoch 768/1000\n",
      "----------\n",
      "Train: \n"
     ]
    },
    {
     "name": "stderr",
     "output_type": "stream",
     "text": [
      "3it [00:00,  3.80it/s]\n"
     ]
    },
    {
     "name": "stdout",
     "output_type": "stream",
     "text": [
      "    box loss-> 0.01277, object loss-> 0.02085, class loss-> 0.00000\n",
      "Validation:\n"
     ]
    },
    {
     "name": "stderr",
     "output_type": "stream",
     "text": [
      "1it [00:00,  4.87it/s]\n"
     ]
    },
    {
     "name": "stdout",
     "output_type": "stream",
     "text": [
      "    recall: 0.500000 precision: 0.731468 mAP@0.5: 0.495425, mAP@0.5-0.95: 0.198170\n",
      "\n",
      "Epoch 769/1000\n",
      "----------\n",
      "Train: \n"
     ]
    },
    {
     "name": "stderr",
     "output_type": "stream",
     "text": [
      "3it [00:00,  3.80it/s]\n"
     ]
    },
    {
     "name": "stdout",
     "output_type": "stream",
     "text": [
      "    box loss-> 0.01084, object loss-> 0.01952, class loss-> 0.00000\n",
      "Validation:\n"
     ]
    },
    {
     "name": "stderr",
     "output_type": "stream",
     "text": [
      "1it [00:00,  4.83it/s]\n"
     ]
    },
    {
     "name": "stdout",
     "output_type": "stream",
     "text": [
      "    recall: 0.500000 precision: 0.941231 mAP@0.5: 0.495425, mAP@0.5-0.95: 0.198170\n",
      "\n",
      "Epoch 770/1000\n",
      "----------\n",
      "Train: \n"
     ]
    },
    {
     "name": "stderr",
     "output_type": "stream",
     "text": [
      "3it [00:00,  3.80it/s]\n"
     ]
    },
    {
     "name": "stdout",
     "output_type": "stream",
     "text": [
      "    box loss-> 0.01144, object loss-> 0.02000, class loss-> 0.00000\n",
      "Validation:\n"
     ]
    },
    {
     "name": "stderr",
     "output_type": "stream",
     "text": [
      "1it [00:00,  4.83it/s]\n"
     ]
    },
    {
     "name": "stdout",
     "output_type": "stream",
     "text": [
      "    recall: 0.500000 precision: 0.954082 mAP@0.5: 0.495425, mAP@0.5-0.95: 0.198170\n",
      "\n",
      "Epoch 771/1000\n",
      "----------\n",
      "Train: \n"
     ]
    },
    {
     "name": "stderr",
     "output_type": "stream",
     "text": [
      "3it [00:00,  3.80it/s]\n"
     ]
    },
    {
     "name": "stdout",
     "output_type": "stream",
     "text": [
      "    box loss-> 0.01138, object loss-> 0.01977, class loss-> 0.00000\n",
      "Validation:\n"
     ]
    },
    {
     "name": "stderr",
     "output_type": "stream",
     "text": [
      "1it [00:00,  4.86it/s]\n"
     ]
    },
    {
     "name": "stdout",
     "output_type": "stream",
     "text": [
      "    recall: 0.500000 precision: 0.945345 mAP@0.5: 0.495425, mAP@0.5-0.95: 0.198170\n",
      "\n",
      "Epoch 772/1000\n",
      "----------\n",
      "Train: \n"
     ]
    },
    {
     "name": "stderr",
     "output_type": "stream",
     "text": [
      "3it [00:00,  3.78it/s]\n"
     ]
    },
    {
     "name": "stdout",
     "output_type": "stream",
     "text": [
      "    box loss-> 0.01097, object loss-> 0.01974, class loss-> 0.00000\n",
      "Validation:\n"
     ]
    },
    {
     "name": "stderr",
     "output_type": "stream",
     "text": [
      "1it [00:00,  4.83it/s]\n"
     ]
    },
    {
     "name": "stdout",
     "output_type": "stream",
     "text": [
      "    recall: 0.500000 precision: 0.927589 mAP@0.5: 0.495425, mAP@0.5-0.95: 0.198170\n",
      "\n",
      "Epoch 773/1000\n",
      "----------\n",
      "Train: \n"
     ]
    },
    {
     "name": "stderr",
     "output_type": "stream",
     "text": [
      "3it [00:00,  3.78it/s]\n"
     ]
    },
    {
     "name": "stdout",
     "output_type": "stream",
     "text": [
      "    box loss-> 0.01002, object loss-> 0.01888, class loss-> 0.00000\n",
      "Validation:\n"
     ]
    },
    {
     "name": "stderr",
     "output_type": "stream",
     "text": [
      "1it [00:00,  4.88it/s]\n"
     ]
    },
    {
     "name": "stdout",
     "output_type": "stream",
     "text": [
      "    recall: 0.500000 precision: 0.921679 mAP@0.5: 0.495425, mAP@0.5-0.95: 0.198170\n",
      "\n",
      "Epoch 774/1000\n",
      "----------\n",
      "Train: \n"
     ]
    },
    {
     "name": "stderr",
     "output_type": "stream",
     "text": [
      "3it [00:00,  3.76it/s]\n"
     ]
    },
    {
     "name": "stdout",
     "output_type": "stream",
     "text": [
      "    box loss-> 0.01000, object loss-> 0.01865, class loss-> 0.00000\n",
      "Validation:\n"
     ]
    },
    {
     "name": "stderr",
     "output_type": "stream",
     "text": [
      "1it [00:00,  4.83it/s]\n"
     ]
    },
    {
     "name": "stdout",
     "output_type": "stream",
     "text": [
      "    recall: 0.500000 precision: 0.994102 mAP@0.5: 0.495425, mAP@0.5-0.95: 0.198170\n",
      "\n",
      "Epoch 775/1000\n",
      "----------\n",
      "Train: \n"
     ]
    },
    {
     "name": "stderr",
     "output_type": "stream",
     "text": [
      "3it [00:00,  3.80it/s]\n"
     ]
    },
    {
     "name": "stdout",
     "output_type": "stream",
     "text": [
      "    box loss-> 0.01057, object loss-> 0.01935, class loss-> 0.00000\n",
      "Validation:\n"
     ]
    },
    {
     "name": "stderr",
     "output_type": "stream",
     "text": [
      "1it [00:00,  4.77it/s]\n"
     ]
    },
    {
     "name": "stdout",
     "output_type": "stream",
     "text": [
      "    recall: 0.500000 precision: 0.956862 mAP@0.5: 0.495425, mAP@0.5-0.95: 0.198170\n",
      "\n",
      "Epoch 776/1000\n",
      "----------\n",
      "Train: \n"
     ]
    },
    {
     "name": "stderr",
     "output_type": "stream",
     "text": [
      "3it [00:00,  3.75it/s]\n"
     ]
    },
    {
     "name": "stdout",
     "output_type": "stream",
     "text": [
      "    box loss-> 0.00990, object loss-> 0.01893, class loss-> 0.00000\n",
      "Validation:\n"
     ]
    },
    {
     "name": "stderr",
     "output_type": "stream",
     "text": [
      "1it [00:00,  4.86it/s]\n"
     ]
    },
    {
     "name": "stdout",
     "output_type": "stream",
     "text": [
      "    recall: 0.500000 precision: 0.996677 mAP@0.5: 0.495425, mAP@0.5-0.95: 0.148627\n",
      "\n",
      "Epoch 777/1000\n",
      "----------\n",
      "Train: \n"
     ]
    },
    {
     "name": "stderr",
     "output_type": "stream",
     "text": [
      "3it [00:00,  3.81it/s]\n"
     ]
    },
    {
     "name": "stdout",
     "output_type": "stream",
     "text": [
      "    box loss-> 0.00918, object loss-> 0.01849, class loss-> 0.00000\n",
      "Validation:\n"
     ]
    },
    {
     "name": "stderr",
     "output_type": "stream",
     "text": [
      "1it [00:00,  4.79it/s]\n"
     ]
    },
    {
     "name": "stdout",
     "output_type": "stream",
     "text": [
      "    recall: 0.500000 precision: 0.948710 mAP@0.5: 0.495425, mAP@0.5-0.95: 0.148627\n",
      "\n",
      "Epoch 778/1000\n",
      "----------\n",
      "Train: \n"
     ]
    },
    {
     "name": "stderr",
     "output_type": "stream",
     "text": [
      "3it [00:00,  3.80it/s]\n"
     ]
    },
    {
     "name": "stdout",
     "output_type": "stream",
     "text": [
      "    box loss-> 0.01004, object loss-> 0.01949, class loss-> 0.00000\n",
      "Validation:\n"
     ]
    },
    {
     "name": "stderr",
     "output_type": "stream",
     "text": [
      "1it [00:00,  4.91it/s]\n"
     ]
    },
    {
     "name": "stdout",
     "output_type": "stream",
     "text": [
      "    recall: 0.500000 precision: 0.824036 mAP@0.5: 0.495425, mAP@0.5-0.95: 0.148627\n",
      "\n",
      "Epoch 779/1000\n",
      "----------\n",
      "Train: \n"
     ]
    },
    {
     "name": "stderr",
     "output_type": "stream",
     "text": [
      "3it [00:00,  3.79it/s]\n"
     ]
    },
    {
     "name": "stdout",
     "output_type": "stream",
     "text": [
      "    box loss-> 0.01060, object loss-> 0.02001, class loss-> 0.00000\n",
      "Validation:\n"
     ]
    },
    {
     "name": "stderr",
     "output_type": "stream",
     "text": [
      "1it [00:00,  4.84it/s]\n"
     ]
    },
    {
     "name": "stdout",
     "output_type": "stream",
     "text": [
      "    recall: 0.500000 precision: 0.979905 mAP@0.5: 0.495425, mAP@0.5-0.95: 0.148627\n",
      "\n",
      "Epoch 780/1000\n",
      "----------\n",
      "Train: \n"
     ]
    },
    {
     "name": "stderr",
     "output_type": "stream",
     "text": [
      "3it [00:00,  3.81it/s]\n"
     ]
    },
    {
     "name": "stdout",
     "output_type": "stream",
     "text": [
      "    box loss-> 0.00945, object loss-> 0.01845, class loss-> 0.00000\n",
      "Validation:\n"
     ]
    },
    {
     "name": "stderr",
     "output_type": "stream",
     "text": [
      "1it [00:00,  4.79it/s]\n"
     ]
    },
    {
     "name": "stdout",
     "output_type": "stream",
     "text": [
      "    recall: 0.500000 precision: 0.945179 mAP@0.5: 0.495425, mAP@0.5-0.95: 0.148627\n",
      "\n",
      "Epoch 781/1000\n",
      "----------\n",
      "Train: \n"
     ]
    },
    {
     "name": "stderr",
     "output_type": "stream",
     "text": [
      "3it [00:00,  3.75it/s]\n"
     ]
    },
    {
     "name": "stdout",
     "output_type": "stream",
     "text": [
      "    box loss-> 0.00942, object loss-> 0.01879, class loss-> 0.00000\n",
      "Validation:\n"
     ]
    },
    {
     "name": "stderr",
     "output_type": "stream",
     "text": [
      "1it [00:00,  4.86it/s]\n"
     ]
    },
    {
     "name": "stdout",
     "output_type": "stream",
     "text": [
      "    recall: 0.500000 precision: 0.978121 mAP@0.5: 0.495425, mAP@0.5-0.95: 0.198170\n",
      "\n",
      "Epoch 782/1000\n",
      "----------\n",
      "Train: \n"
     ]
    },
    {
     "name": "stderr",
     "output_type": "stream",
     "text": [
      "3it [00:00,  3.82it/s]\n"
     ]
    },
    {
     "name": "stdout",
     "output_type": "stream",
     "text": [
      "    box loss-> 0.01002, object loss-> 0.01949, class loss-> 0.00000\n",
      "Validation:\n"
     ]
    },
    {
     "name": "stderr",
     "output_type": "stream",
     "text": [
      "1it [00:00,  4.84it/s]\n"
     ]
    },
    {
     "name": "stdout",
     "output_type": "stream",
     "text": [
      "    recall: 0.500000 precision: 0.953043 mAP@0.5: 0.495425, mAP@0.5-0.95: 0.198170\n",
      "\n",
      "Epoch 783/1000\n",
      "----------\n",
      "Train: \n"
     ]
    },
    {
     "name": "stderr",
     "output_type": "stream",
     "text": [
      "3it [00:00,  3.82it/s]\n"
     ]
    },
    {
     "name": "stdout",
     "output_type": "stream",
     "text": [
      "    box loss-> 0.01046, object loss-> 0.01956, class loss-> 0.00000\n",
      "Validation:\n"
     ]
    },
    {
     "name": "stderr",
     "output_type": "stream",
     "text": [
      "1it [00:00,  4.83it/s]\n"
     ]
    },
    {
     "name": "stdout",
     "output_type": "stream",
     "text": [
      "    recall: 0.500000 precision: 0.982049 mAP@0.5: 0.495425, mAP@0.5-0.95: 0.198170\n",
      "\n",
      "Epoch 784/1000\n",
      "----------\n",
      "Train: \n"
     ]
    },
    {
     "name": "stderr",
     "output_type": "stream",
     "text": [
      "3it [00:00,  3.81it/s]\n"
     ]
    },
    {
     "name": "stdout",
     "output_type": "stream",
     "text": [
      "    box loss-> 0.00985, object loss-> 0.01936, class loss-> 0.00000\n",
      "Validation:\n"
     ]
    },
    {
     "name": "stderr",
     "output_type": "stream",
     "text": [
      "1it [00:00,  4.94it/s]\n"
     ]
    },
    {
     "name": "stdout",
     "output_type": "stream",
     "text": [
      "    recall: 0.500000 precision: 0.942630 mAP@0.5: 0.495425, mAP@0.5-0.95: 0.198170\n",
      "\n",
      "Epoch 785/1000\n",
      "----------\n",
      "Train: \n"
     ]
    },
    {
     "name": "stderr",
     "output_type": "stream",
     "text": [
      "3it [00:00,  3.82it/s]\n"
     ]
    },
    {
     "name": "stdout",
     "output_type": "stream",
     "text": [
      "    box loss-> 0.01060, object loss-> 0.01962, class loss-> 0.00000\n",
      "Validation:\n"
     ]
    },
    {
     "name": "stderr",
     "output_type": "stream",
     "text": [
      "1it [00:00,  4.76it/s]\n"
     ]
    },
    {
     "name": "stdout",
     "output_type": "stream",
     "text": [
      "    recall: 0.500000 precision: 0.961965 mAP@0.5: 0.495425, mAP@0.5-0.95: 0.198170\n",
      "\n",
      "Epoch 786/1000\n",
      "----------\n",
      "Train: \n"
     ]
    },
    {
     "name": "stderr",
     "output_type": "stream",
     "text": [
      "3it [00:00,  3.81it/s]\n"
     ]
    },
    {
     "name": "stdout",
     "output_type": "stream",
     "text": [
      "    box loss-> 0.01032, object loss-> 0.01950, class loss-> 0.00000\n",
      "Validation:\n"
     ]
    },
    {
     "name": "stderr",
     "output_type": "stream",
     "text": [
      "1it [00:00,  4.82it/s]\n"
     ]
    },
    {
     "name": "stdout",
     "output_type": "stream",
     "text": [
      "    recall: 0.500000 precision: 0.942577 mAP@0.5: 0.495425, mAP@0.5-0.95: 0.198170\n",
      "\n",
      "Epoch 787/1000\n",
      "----------\n",
      "Train: \n"
     ]
    },
    {
     "name": "stderr",
     "output_type": "stream",
     "text": [
      "3it [00:00,  3.74it/s]\n"
     ]
    },
    {
     "name": "stdout",
     "output_type": "stream",
     "text": [
      "    box loss-> 0.00983, object loss-> 0.01909, class loss-> 0.00000\n",
      "Validation:\n"
     ]
    },
    {
     "name": "stderr",
     "output_type": "stream",
     "text": [
      "1it [00:00,  4.82it/s]\n"
     ]
    },
    {
     "name": "stdout",
     "output_type": "stream",
     "text": [
      "    recall: 0.500000 precision: 0.485649 mAP@0.5: 0.495425, mAP@0.5-0.95: 0.198170\n",
      "\n",
      "Epoch 788/1000\n",
      "----------\n",
      "Train: \n"
     ]
    },
    {
     "name": "stderr",
     "output_type": "stream",
     "text": [
      "3it [00:00,  3.74it/s]\n"
     ]
    },
    {
     "name": "stdout",
     "output_type": "stream",
     "text": [
      "    box loss-> 0.00942, object loss-> 0.01844, class loss-> 0.00000\n",
      "Validation:\n"
     ]
    },
    {
     "name": "stderr",
     "output_type": "stream",
     "text": [
      "1it [00:00,  4.81it/s]\n"
     ]
    },
    {
     "name": "stdout",
     "output_type": "stream",
     "text": [
      "    recall: 0.500000 precision: 0.918688 mAP@0.5: 0.495425, mAP@0.5-0.95: 0.198170\n",
      "\n",
      "Epoch 789/1000\n",
      "----------\n",
      "Train: \n"
     ]
    },
    {
     "name": "stderr",
     "output_type": "stream",
     "text": [
      "3it [00:00,  3.74it/s]\n"
     ]
    },
    {
     "name": "stdout",
     "output_type": "stream",
     "text": [
      "    box loss-> 0.00950, object loss-> 0.01837, class loss-> 0.00000\n",
      "Validation:\n"
     ]
    },
    {
     "name": "stderr",
     "output_type": "stream",
     "text": [
      "1it [00:00,  4.82it/s]\n"
     ]
    },
    {
     "name": "stdout",
     "output_type": "stream",
     "text": [
      "    recall: 0.500000 precision: 0.939435 mAP@0.5: 0.495425, mAP@0.5-0.95: 0.198170\n",
      "\n",
      "Epoch 790/1000\n",
      "----------\n",
      "Train: \n"
     ]
    },
    {
     "name": "stderr",
     "output_type": "stream",
     "text": [
      "3it [00:00,  3.77it/s]\n"
     ]
    },
    {
     "name": "stdout",
     "output_type": "stream",
     "text": [
      "    box loss-> 0.00975, object loss-> 0.01884, class loss-> 0.00000\n",
      "Validation:\n"
     ]
    },
    {
     "name": "stderr",
     "output_type": "stream",
     "text": [
      "1it [00:00,  4.88it/s]\n"
     ]
    },
    {
     "name": "stdout",
     "output_type": "stream",
     "text": [
      "    recall: 0.500000 precision: 0.928700 mAP@0.5: 0.495425, mAP@0.5-0.95: 0.198170\n",
      "\n",
      "Epoch 791/1000\n",
      "----------\n",
      "Train: \n"
     ]
    },
    {
     "name": "stderr",
     "output_type": "stream",
     "text": [
      "3it [00:00,  3.75it/s]\n"
     ]
    },
    {
     "name": "stdout",
     "output_type": "stream",
     "text": [
      "    box loss-> 0.00917, object loss-> 0.01846, class loss-> 0.00000\n",
      "Validation:\n"
     ]
    },
    {
     "name": "stderr",
     "output_type": "stream",
     "text": [
      "1it [00:00,  4.89it/s]\n"
     ]
    },
    {
     "name": "stdout",
     "output_type": "stream",
     "text": [
      "    recall: 0.500000 precision: 0.698205 mAP@0.5: 0.495425, mAP@0.5-0.95: 0.198170\n",
      "\n",
      "Epoch 792/1000\n",
      "----------\n",
      "Train: \n"
     ]
    },
    {
     "name": "stderr",
     "output_type": "stream",
     "text": [
      "3it [00:00,  3.70it/s]\n"
     ]
    },
    {
     "name": "stdout",
     "output_type": "stream",
     "text": [
      "    box loss-> 0.01005, object loss-> 0.01887, class loss-> 0.00000\n",
      "Validation:\n"
     ]
    },
    {
     "name": "stderr",
     "output_type": "stream",
     "text": [
      "1it [00:00,  4.88it/s]\n"
     ]
    },
    {
     "name": "stdout",
     "output_type": "stream",
     "text": [
      "    recall: 0.500000 precision: 0.858099 mAP@0.5: 0.495425, mAP@0.5-0.95: 0.297255\n",
      "\n",
      "Epoch 793/1000\n",
      "----------\n",
      "Train: \n"
     ]
    },
    {
     "name": "stderr",
     "output_type": "stream",
     "text": [
      "3it [00:00,  3.78it/s]\n"
     ]
    },
    {
     "name": "stdout",
     "output_type": "stream",
     "text": [
      "    box loss-> 0.01007, object loss-> 0.01920, class loss-> 0.00000\n",
      "Validation:\n"
     ]
    },
    {
     "name": "stderr",
     "output_type": "stream",
     "text": [
      "1it [00:00,  4.90it/s]\n"
     ]
    },
    {
     "name": "stdout",
     "output_type": "stream",
     "text": [
      "    recall: 0.500000 precision: 0.619885 mAP@0.5: 0.495425, mAP@0.5-0.95: 0.297255\n",
      "\n",
      "Epoch 794/1000\n",
      "----------\n",
      "Train: \n"
     ]
    },
    {
     "name": "stderr",
     "output_type": "stream",
     "text": [
      "3it [00:00,  3.77it/s]\n"
     ]
    },
    {
     "name": "stdout",
     "output_type": "stream",
     "text": [
      "    box loss-> 0.00976, object loss-> 0.01896, class loss-> 0.00000\n",
      "Validation:\n"
     ]
    },
    {
     "name": "stderr",
     "output_type": "stream",
     "text": [
      "1it [00:00,  4.87it/s]\n"
     ]
    },
    {
     "name": "stdout",
     "output_type": "stream",
     "text": [
      "    recall: 0.500000 precision: 0.967455 mAP@0.5: 0.495425, mAP@0.5-0.95: 0.297255\n",
      "\n",
      "Epoch 795/1000\n",
      "----------\n",
      "Train: \n"
     ]
    },
    {
     "name": "stderr",
     "output_type": "stream",
     "text": [
      "3it [00:00,  3.78it/s]\n"
     ]
    },
    {
     "name": "stdout",
     "output_type": "stream",
     "text": [
      "    box loss-> 0.01009, object loss-> 0.01821, class loss-> 0.00000\n",
      "Validation:\n"
     ]
    },
    {
     "name": "stderr",
     "output_type": "stream",
     "text": [
      "1it [00:00,  4.81it/s]\n"
     ]
    },
    {
     "name": "stdout",
     "output_type": "stream",
     "text": [
      "    recall: 0.500000 precision: 0.882934 mAP@0.5: 0.495425, mAP@0.5-0.95: 0.297255\n",
      "\n",
      "Epoch 796/1000\n",
      "----------\n",
      "Train: \n"
     ]
    },
    {
     "name": "stderr",
     "output_type": "stream",
     "text": [
      "3it [00:00,  3.80it/s]\n"
     ]
    },
    {
     "name": "stdout",
     "output_type": "stream",
     "text": [
      "    box loss-> 0.00973, object loss-> 0.01876, class loss-> 0.00000\n",
      "Validation:\n"
     ]
    },
    {
     "name": "stderr",
     "output_type": "stream",
     "text": [
      "1it [00:00,  4.83it/s]\n"
     ]
    },
    {
     "name": "stdout",
     "output_type": "stream",
     "text": [
      "    recall: 0.500000 precision: 0.840799 mAP@0.5: 0.495425, mAP@0.5-0.95: 0.346797\n",
      "\n",
      "Epoch 797/1000\n",
      "----------\n",
      "Train: \n"
     ]
    },
    {
     "name": "stderr",
     "output_type": "stream",
     "text": [
      "3it [00:00,  3.74it/s]\n"
     ]
    },
    {
     "name": "stdout",
     "output_type": "stream",
     "text": [
      "    box loss-> 0.00959, object loss-> 0.01884, class loss-> 0.00000\n",
      "Validation:\n"
     ]
    },
    {
     "name": "stderr",
     "output_type": "stream",
     "text": [
      "1it [00:00,  4.87it/s]\n"
     ]
    },
    {
     "name": "stdout",
     "output_type": "stream",
     "text": [
      "    recall: 0.500000 precision: 0.967903 mAP@0.5: 0.495425, mAP@0.5-0.95: 0.346797\n",
      "\n",
      "Epoch 798/1000\n",
      "----------\n",
      "Train: \n"
     ]
    },
    {
     "name": "stderr",
     "output_type": "stream",
     "text": [
      "3it [00:00,  3.82it/s]\n"
     ]
    },
    {
     "name": "stdout",
     "output_type": "stream",
     "text": [
      "    box loss-> 0.01180, object loss-> 0.02072, class loss-> 0.00000\n",
      "Validation:\n"
     ]
    },
    {
     "name": "stderr",
     "output_type": "stream",
     "text": [
      "1it [00:00,  4.81it/s]\n"
     ]
    },
    {
     "name": "stdout",
     "output_type": "stream",
     "text": [
      "    recall: 0.500000 precision: 0.941140 mAP@0.5: 0.495425, mAP@0.5-0.95: 0.346797\n",
      "\n",
      "Epoch 799/1000\n",
      "----------\n",
      "Train: \n"
     ]
    },
    {
     "name": "stderr",
     "output_type": "stream",
     "text": [
      "3it [00:00,  3.80it/s]\n"
     ]
    },
    {
     "name": "stdout",
     "output_type": "stream",
     "text": [
      "    box loss-> 0.01065, object loss-> 0.01946, class loss-> 0.00000\n",
      "Validation:\n"
     ]
    },
    {
     "name": "stderr",
     "output_type": "stream",
     "text": [
      "1it [00:00,  4.80it/s]\n"
     ]
    },
    {
     "name": "stdout",
     "output_type": "stream",
     "text": [
      "    recall: 0.500000 precision: 0.974711 mAP@0.5: 0.495425, mAP@0.5-0.95: 0.346797\n",
      "\n",
      "Epoch 800/1000\n",
      "----------\n",
      "Train: \n"
     ]
    },
    {
     "name": "stderr",
     "output_type": "stream",
     "text": [
      "3it [00:00,  3.84it/s]\n"
     ]
    },
    {
     "name": "stdout",
     "output_type": "stream",
     "text": [
      "    box loss-> 0.01047, object loss-> 0.01970, class loss-> 0.00000\n",
      "Validation:\n"
     ]
    },
    {
     "name": "stderr",
     "output_type": "stream",
     "text": [
      "1it [00:00,  4.84it/s]\n"
     ]
    },
    {
     "name": "stdout",
     "output_type": "stream",
     "text": [
      "    recall: 0.500000 precision: 0.474848 mAP@0.5: 0.495425, mAP@0.5-0.95: 0.346797\n",
      "\n",
      "Epoch 801/1000\n",
      "----------\n",
      "Train: \n"
     ]
    },
    {
     "name": "stderr",
     "output_type": "stream",
     "text": [
      "3it [00:00,  3.78it/s]\n"
     ]
    },
    {
     "name": "stdout",
     "output_type": "stream",
     "text": [
      "    box loss-> 0.01051, object loss-> 0.01976, class loss-> 0.00000\n",
      "Validation:\n"
     ]
    },
    {
     "name": "stderr",
     "output_type": "stream",
     "text": [
      "1it [00:00,  4.85it/s]\n"
     ]
    },
    {
     "name": "stdout",
     "output_type": "stream",
     "text": [
      "    recall: 0.500000 precision: 0.891143 mAP@0.5: 0.495425, mAP@0.5-0.95: 0.198170\n",
      "\n",
      "Epoch 802/1000\n",
      "----------\n",
      "Train: \n"
     ]
    },
    {
     "name": "stderr",
     "output_type": "stream",
     "text": [
      "3it [00:00,  3.79it/s]\n"
     ]
    },
    {
     "name": "stdout",
     "output_type": "stream",
     "text": [
      "    box loss-> 0.01077, object loss-> 0.01963, class loss-> 0.00000\n",
      "Validation:\n"
     ]
    },
    {
     "name": "stderr",
     "output_type": "stream",
     "text": [
      "1it [00:00,  4.80it/s]\n"
     ]
    },
    {
     "name": "stdout",
     "output_type": "stream",
     "text": [
      "    recall: 0.500000 precision: 0.825774 mAP@0.5: 0.495425, mAP@0.5-0.95: 0.198170\n",
      "\n",
      "Epoch 803/1000\n",
      "----------\n",
      "Train: \n"
     ]
    },
    {
     "name": "stderr",
     "output_type": "stream",
     "text": [
      "3it [00:00,  3.72it/s]\n"
     ]
    },
    {
     "name": "stdout",
     "output_type": "stream",
     "text": [
      "    box loss-> 0.01023, object loss-> 0.01922, class loss-> 0.00000\n",
      "Validation:\n"
     ]
    },
    {
     "name": "stderr",
     "output_type": "stream",
     "text": [
      "1it [00:00,  4.84it/s]\n"
     ]
    },
    {
     "name": "stdout",
     "output_type": "stream",
     "text": [
      "    recall: 0.500000 precision: 0.911455 mAP@0.5: 0.495425, mAP@0.5-0.95: 0.346797\n",
      "\n",
      "Epoch 804/1000\n",
      "----------\n",
      "Train: \n"
     ]
    },
    {
     "name": "stderr",
     "output_type": "stream",
     "text": [
      "3it [00:00,  3.81it/s]\n"
     ]
    },
    {
     "name": "stdout",
     "output_type": "stream",
     "text": [
      "    box loss-> 0.00917, object loss-> 0.01818, class loss-> 0.00000\n",
      "Validation:\n"
     ]
    },
    {
     "name": "stderr",
     "output_type": "stream",
     "text": [
      "1it [00:00,  4.88it/s]\n"
     ]
    },
    {
     "name": "stdout",
     "output_type": "stream",
     "text": [
      "    recall: 0.500000 precision: 0.786488 mAP@0.5: 0.495425, mAP@0.5-0.95: 0.198170\n",
      "\n",
      "Epoch 805/1000\n",
      "----------\n",
      "Train: \n"
     ]
    },
    {
     "name": "stderr",
     "output_type": "stream",
     "text": [
      "3it [00:00,  3.81it/s]\n"
     ]
    },
    {
     "name": "stdout",
     "output_type": "stream",
     "text": [
      "    box loss-> 0.00915, object loss-> 0.01799, class loss-> 0.00000\n",
      "Validation:\n"
     ]
    },
    {
     "name": "stderr",
     "output_type": "stream",
     "text": [
      "1it [00:00,  4.81it/s]\n"
     ]
    },
    {
     "name": "stdout",
     "output_type": "stream",
     "text": [
      "    recall: 0.500000 precision: 0.933672 mAP@0.5: 0.495425, mAP@0.5-0.95: 0.198170\n",
      "\n",
      "Epoch 806/1000\n",
      "----------\n",
      "Train: \n"
     ]
    },
    {
     "name": "stderr",
     "output_type": "stream",
     "text": [
      "3it [00:00,  3.83it/s]\n"
     ]
    },
    {
     "name": "stdout",
     "output_type": "stream",
     "text": [
      "    box loss-> 0.00902, object loss-> 0.01815, class loss-> 0.00000\n",
      "Validation:\n"
     ]
    },
    {
     "name": "stderr",
     "output_type": "stream",
     "text": [
      "1it [00:00,  4.76it/s]\n"
     ]
    },
    {
     "name": "stdout",
     "output_type": "stream",
     "text": [
      "    recall: 0.500000 precision: 0.914994 mAP@0.5: 0.495425, mAP@0.5-0.95: 0.198170\n",
      "\n",
      "Epoch 807/1000\n",
      "----------\n",
      "Train: \n"
     ]
    },
    {
     "name": "stderr",
     "output_type": "stream",
     "text": [
      "3it [00:00,  3.79it/s]\n"
     ]
    },
    {
     "name": "stdout",
     "output_type": "stream",
     "text": [
      "    box loss-> 0.00932, object loss-> 0.01829, class loss-> 0.00000\n",
      "Validation:\n"
     ]
    },
    {
     "name": "stderr",
     "output_type": "stream",
     "text": [
      "1it [00:00,  4.88it/s]\n"
     ]
    },
    {
     "name": "stdout",
     "output_type": "stream",
     "text": [
      "    recall: 0.500000 precision: 0.854236 mAP@0.5: 0.495425, mAP@0.5-0.95: 0.198170\n",
      "\n",
      "Epoch 808/1000\n",
      "----------\n",
      "Train: \n"
     ]
    },
    {
     "name": "stderr",
     "output_type": "stream",
     "text": [
      "3it [00:00,  3.77it/s]\n"
     ]
    },
    {
     "name": "stdout",
     "output_type": "stream",
     "text": [
      "    box loss-> 0.00988, object loss-> 0.01889, class loss-> 0.00000\n",
      "Validation:\n"
     ]
    },
    {
     "name": "stderr",
     "output_type": "stream",
     "text": [
      "1it [00:00,  4.83it/s]\n"
     ]
    },
    {
     "name": "stdout",
     "output_type": "stream",
     "text": [
      "    recall: 0.500000 precision: 0.968749 mAP@0.5: 0.495425, mAP@0.5-0.95: 0.297255\n",
      "\n",
      "Epoch 809/1000\n",
      "----------\n",
      "Train: \n"
     ]
    },
    {
     "name": "stderr",
     "output_type": "stream",
     "text": [
      "3it [00:00,  3.80it/s]\n"
     ]
    },
    {
     "name": "stdout",
     "output_type": "stream",
     "text": [
      "    box loss-> 0.00947, object loss-> 0.01867, class loss-> 0.00000\n",
      "Validation:\n"
     ]
    },
    {
     "name": "stderr",
     "output_type": "stream",
     "text": [
      "1it [00:00,  4.84it/s]\n"
     ]
    },
    {
     "name": "stdout",
     "output_type": "stream",
     "text": [
      "    recall: 0.500000 precision: 0.911965 mAP@0.5: 0.495425, mAP@0.5-0.95: 0.297255\n",
      "\n",
      "Epoch 810/1000\n",
      "----------\n",
      "Train: \n"
     ]
    },
    {
     "name": "stderr",
     "output_type": "stream",
     "text": [
      "3it [00:00,  3.80it/s]\n"
     ]
    },
    {
     "name": "stdout",
     "output_type": "stream",
     "text": [
      "    box loss-> 0.00916, object loss-> 0.01844, class loss-> 0.00000\n",
      "Validation:\n"
     ]
    },
    {
     "name": "stderr",
     "output_type": "stream",
     "text": [
      "1it [00:00,  4.91it/s]\n"
     ]
    },
    {
     "name": "stdout",
     "output_type": "stream",
     "text": [
      "    recall: 0.500000 precision: 0.926043 mAP@0.5: 0.495425, mAP@0.5-0.95: 0.297255\n",
      "\n",
      "Epoch 811/1000\n",
      "----------\n",
      "Train: \n"
     ]
    },
    {
     "name": "stderr",
     "output_type": "stream",
     "text": [
      "3it [00:00,  3.78it/s]\n"
     ]
    },
    {
     "name": "stdout",
     "output_type": "stream",
     "text": [
      "    box loss-> 0.00950, object loss-> 0.01832, class loss-> 0.00000\n",
      "Validation:\n"
     ]
    },
    {
     "name": "stderr",
     "output_type": "stream",
     "text": [
      "1it [00:00,  4.85it/s]\n"
     ]
    },
    {
     "name": "stdout",
     "output_type": "stream",
     "text": [
      "    recall: 0.500000 precision: 0.957627 mAP@0.5: 0.495425, mAP@0.5-0.95: 0.297255\n",
      "\n",
      "Epoch 812/1000\n",
      "----------\n",
      "Train: \n"
     ]
    },
    {
     "name": "stderr",
     "output_type": "stream",
     "text": [
      "3it [00:00,  3.83it/s]\n"
     ]
    },
    {
     "name": "stdout",
     "output_type": "stream",
     "text": [
      "    box loss-> 0.00964, object loss-> 0.01835, class loss-> 0.00000\n",
      "Validation:\n"
     ]
    },
    {
     "name": "stderr",
     "output_type": "stream",
     "text": [
      "1it [00:00,  4.86it/s]\n"
     ]
    },
    {
     "name": "stdout",
     "output_type": "stream",
     "text": [
      "    recall: 0.500000 precision: 0.864517 mAP@0.5: 0.495425, mAP@0.5-0.95: 0.297255\n",
      "\n",
      "Epoch 813/1000\n",
      "----------\n",
      "Train: \n"
     ]
    },
    {
     "name": "stderr",
     "output_type": "stream",
     "text": [
      "3it [00:00,  3.73it/s]\n"
     ]
    },
    {
     "name": "stdout",
     "output_type": "stream",
     "text": [
      "    box loss-> 0.00945, object loss-> 0.01813, class loss-> 0.00000\n",
      "Validation:\n"
     ]
    },
    {
     "name": "stderr",
     "output_type": "stream",
     "text": [
      "1it [00:00,  4.73it/s]\n"
     ]
    },
    {
     "name": "stdout",
     "output_type": "stream",
     "text": [
      "    recall: 0.500000 precision: 0.965263 mAP@0.5: 0.495425, mAP@0.5-0.95: 0.346797\n",
      "\n",
      "Epoch 814/1000\n",
      "----------\n",
      "Train: \n"
     ]
    },
    {
     "name": "stderr",
     "output_type": "stream",
     "text": [
      "3it [00:00,  3.81it/s]\n"
     ]
    },
    {
     "name": "stdout",
     "output_type": "stream",
     "text": [
      "    box loss-> 0.00961, object loss-> 0.01883, class loss-> 0.00000\n",
      "Validation:\n"
     ]
    },
    {
     "name": "stderr",
     "output_type": "stream",
     "text": [
      "1it [00:00,  4.80it/s]\n"
     ]
    },
    {
     "name": "stdout",
     "output_type": "stream",
     "text": [
      "    recall: 0.500000 precision: 0.862247 mAP@0.5: 0.495425, mAP@0.5-0.95: 0.346797\n",
      "\n",
      "Epoch 815/1000\n",
      "----------\n",
      "Train: \n"
     ]
    },
    {
     "name": "stderr",
     "output_type": "stream",
     "text": [
      "3it [00:00,  3.80it/s]\n"
     ]
    },
    {
     "name": "stdout",
     "output_type": "stream",
     "text": [
      "    box loss-> 0.00933, object loss-> 0.01843, class loss-> 0.00000\n",
      "Validation:\n"
     ]
    },
    {
     "name": "stderr",
     "output_type": "stream",
     "text": [
      "1it [00:00,  4.82it/s]\n"
     ]
    },
    {
     "name": "stdout",
     "output_type": "stream",
     "text": [
      "    recall: 0.500000 precision: 0.905717 mAP@0.5: 0.495425, mAP@0.5-0.95: 0.346797\n",
      "\n",
      "Epoch 816/1000\n",
      "----------\n",
      "Train: \n"
     ]
    },
    {
     "name": "stderr",
     "output_type": "stream",
     "text": [
      "3it [00:00,  3.79it/s]\n"
     ]
    },
    {
     "name": "stdout",
     "output_type": "stream",
     "text": [
      "    box loss-> 0.00950, object loss-> 0.01862, class loss-> 0.00000\n",
      "Validation:\n"
     ]
    },
    {
     "name": "stderr",
     "output_type": "stream",
     "text": [
      "1it [00:00,  4.73it/s]\n"
     ]
    },
    {
     "name": "stdout",
     "output_type": "stream",
     "text": [
      "    recall: 0.500000 precision: 0.877527 mAP@0.5: 0.495425, mAP@0.5-0.95: 0.346797\n",
      "\n",
      "Epoch 817/1000\n",
      "----------\n",
      "Train: \n"
     ]
    },
    {
     "name": "stderr",
     "output_type": "stream",
     "text": [
      "3it [00:00,  3.79it/s]\n"
     ]
    },
    {
     "name": "stdout",
     "output_type": "stream",
     "text": [
      "    box loss-> 0.00951, object loss-> 0.01884, class loss-> 0.00000\n",
      "Validation:\n"
     ]
    },
    {
     "name": "stderr",
     "output_type": "stream",
     "text": [
      "1it [00:00,  4.78it/s]\n"
     ]
    },
    {
     "name": "stdout",
     "output_type": "stream",
     "text": [
      "    recall: 0.500000 precision: 0.499052 mAP@0.5: 0.495425, mAP@0.5-0.95: 0.346797\n",
      "\n",
      "Epoch 818/1000\n",
      "----------\n",
      "Train: \n"
     ]
    },
    {
     "name": "stderr",
     "output_type": "stream",
     "text": [
      "3it [00:00,  3.80it/s]\n"
     ]
    },
    {
     "name": "stdout",
     "output_type": "stream",
     "text": [
      "    box loss-> 0.00982, object loss-> 0.01892, class loss-> 0.00000\n",
      "Validation:\n"
     ]
    },
    {
     "name": "stderr",
     "output_type": "stream",
     "text": [
      "1it [00:00,  4.92it/s]\n"
     ]
    },
    {
     "name": "stdout",
     "output_type": "stream",
     "text": [
      "    recall: 0.500000 precision: 0.884376 mAP@0.5: 0.495425, mAP@0.5-0.95: 0.346797\n",
      "\n",
      "Epoch 819/1000\n",
      "----------\n",
      "Train: \n"
     ]
    },
    {
     "name": "stderr",
     "output_type": "stream",
     "text": [
      "3it [00:00,  3.72it/s]\n"
     ]
    },
    {
     "name": "stdout",
     "output_type": "stream",
     "text": [
      "    box loss-> 0.00908, object loss-> 0.01768, class loss-> 0.00000\n",
      "Validation:\n"
     ]
    },
    {
     "name": "stderr",
     "output_type": "stream",
     "text": [
      "1it [00:00,  4.75it/s]\n"
     ]
    },
    {
     "name": "stdout",
     "output_type": "stream",
     "text": [
      "    recall: 0.500000 precision: 0.951930 mAP@0.5: 0.495425, mAP@0.5-0.95: 0.346797\n",
      "\n",
      "Epoch 820/1000\n",
      "----------\n",
      "Train: \n"
     ]
    },
    {
     "name": "stderr",
     "output_type": "stream",
     "text": [
      "3it [00:00,  3.75it/s]\n"
     ]
    },
    {
     "name": "stdout",
     "output_type": "stream",
     "text": [
      "    box loss-> 0.00891, object loss-> 0.01781, class loss-> 0.00000\n",
      "Validation:\n"
     ]
    },
    {
     "name": "stderr",
     "output_type": "stream",
     "text": [
      "1it [00:00,  4.78it/s]\n"
     ]
    },
    {
     "name": "stdout",
     "output_type": "stream",
     "text": [
      "    recall: 0.500000 precision: 0.975127 mAP@0.5: 0.495425, mAP@0.5-0.95: 0.346797\n",
      "\n",
      "Epoch 821/1000\n",
      "----------\n",
      "Train: \n"
     ]
    },
    {
     "name": "stderr",
     "output_type": "stream",
     "text": [
      "3it [00:00,  3.75it/s]\n"
     ]
    },
    {
     "name": "stdout",
     "output_type": "stream",
     "text": [
      "    box loss-> 0.00849, object loss-> 0.01698, class loss-> 0.00000\n",
      "Validation:\n"
     ]
    },
    {
     "name": "stderr",
     "output_type": "stream",
     "text": [
      "1it [00:00,  4.79it/s]\n"
     ]
    },
    {
     "name": "stdout",
     "output_type": "stream",
     "text": [
      "    recall: 0.500000 precision: 0.877435 mAP@0.5: 0.495425, mAP@0.5-0.95: 0.346797\n",
      "\n",
      "Epoch 822/1000\n",
      "----------\n",
      "Train: \n"
     ]
    },
    {
     "name": "stderr",
     "output_type": "stream",
     "text": [
      "3it [00:00,  3.77it/s]\n"
     ]
    },
    {
     "name": "stdout",
     "output_type": "stream",
     "text": [
      "    box loss-> 0.00862, object loss-> 0.01739, class loss-> 0.00000\n",
      "Validation:\n"
     ]
    },
    {
     "name": "stderr",
     "output_type": "stream",
     "text": [
      "1it [00:00,  4.60it/s]\n"
     ]
    },
    {
     "name": "stdout",
     "output_type": "stream",
     "text": [
      "    recall: 0.500000 precision: 0.983936 mAP@0.5: 0.495425, mAP@0.5-0.95: 0.346797\n",
      "\n",
      "Epoch 823/1000\n",
      "----------\n",
      "Train: \n"
     ]
    },
    {
     "name": "stderr",
     "output_type": "stream",
     "text": [
      "3it [00:00,  3.75it/s]\n"
     ]
    },
    {
     "name": "stdout",
     "output_type": "stream",
     "text": [
      "    box loss-> 0.00844, object loss-> 0.01733, class loss-> 0.00000\n",
      "Validation:\n"
     ]
    },
    {
     "name": "stderr",
     "output_type": "stream",
     "text": [
      "1it [00:00,  4.67it/s]\n"
     ]
    },
    {
     "name": "stdout",
     "output_type": "stream",
     "text": [
      "    recall: 0.500000 precision: 0.980711 mAP@0.5: 0.495425, mAP@0.5-0.95: 0.346797\n",
      "\n",
      "Epoch 824/1000\n",
      "----------\n",
      "Train: \n"
     ]
    },
    {
     "name": "stderr",
     "output_type": "stream",
     "text": [
      "3it [00:00,  3.74it/s]\n"
     ]
    },
    {
     "name": "stdout",
     "output_type": "stream",
     "text": [
      "    box loss-> 0.00903, object loss-> 0.01763, class loss-> 0.00000\n",
      "Validation:\n"
     ]
    },
    {
     "name": "stderr",
     "output_type": "stream",
     "text": [
      "1it [00:00,  4.90it/s]\n"
     ]
    },
    {
     "name": "stdout",
     "output_type": "stream",
     "text": [
      "    recall: 0.500000 precision: 0.938699 mAP@0.5: 0.495425, mAP@0.5-0.95: 0.297255\n",
      "\n",
      "Epoch 825/1000\n",
      "----------\n",
      "Train: \n"
     ]
    },
    {
     "name": "stderr",
     "output_type": "stream",
     "text": [
      "3it [00:00,  3.78it/s]\n"
     ]
    },
    {
     "name": "stdout",
     "output_type": "stream",
     "text": [
      "    box loss-> 0.01030, object loss-> 0.01960, class loss-> 0.00000\n",
      "Validation:\n"
     ]
    },
    {
     "name": "stderr",
     "output_type": "stream",
     "text": [
      "1it [00:00,  4.82it/s]\n"
     ]
    },
    {
     "name": "stdout",
     "output_type": "stream",
     "text": [
      "    recall: 0.500000 precision: 0.987295 mAP@0.5: 0.495425, mAP@0.5-0.95: 0.297255\n",
      "\n",
      "Epoch 826/1000\n",
      "----------\n",
      "Train: \n"
     ]
    },
    {
     "name": "stderr",
     "output_type": "stream",
     "text": [
      "3it [00:00,  3.81it/s]\n"
     ]
    },
    {
     "name": "stdout",
     "output_type": "stream",
     "text": [
      "    box loss-> 0.00960, object loss-> 0.01862, class loss-> 0.00000\n",
      "Validation:\n"
     ]
    },
    {
     "name": "stderr",
     "output_type": "stream",
     "text": [
      "1it [00:00,  4.72it/s]\n"
     ]
    },
    {
     "name": "stdout",
     "output_type": "stream",
     "text": [
      "    recall: 0.500000 precision: 0.988320 mAP@0.5: 0.495425, mAP@0.5-0.95: 0.297255\n",
      "\n",
      "Epoch 827/1000\n",
      "----------\n",
      "Train: \n"
     ]
    },
    {
     "name": "stderr",
     "output_type": "stream",
     "text": [
      "3it [00:00,  3.82it/s]\n"
     ]
    },
    {
     "name": "stdout",
     "output_type": "stream",
     "text": [
      "    box loss-> 0.00972, object loss-> 0.01894, class loss-> 0.00000\n",
      "Validation:\n"
     ]
    },
    {
     "name": "stderr",
     "output_type": "stream",
     "text": [
      "1it [00:00,  4.76it/s]\n"
     ]
    },
    {
     "name": "stdout",
     "output_type": "stream",
     "text": [
      "    recall: 0.500000 precision: 0.933055 mAP@0.5: 0.495425, mAP@0.5-0.95: 0.297255\n",
      "\n",
      "Epoch 828/1000\n",
      "----------\n",
      "Train: \n"
     ]
    },
    {
     "name": "stderr",
     "output_type": "stream",
     "text": [
      "3it [00:00,  3.83it/s]\n"
     ]
    },
    {
     "name": "stdout",
     "output_type": "stream",
     "text": [
      "    box loss-> 0.00907, object loss-> 0.01813, class loss-> 0.00000\n",
      "Validation:\n"
     ]
    },
    {
     "name": "stderr",
     "output_type": "stream",
     "text": [
      "1it [00:00,  4.79it/s]\n"
     ]
    },
    {
     "name": "stdout",
     "output_type": "stream",
     "text": [
      "    recall: 0.500000 precision: 0.884861 mAP@0.5: 0.495425, mAP@0.5-0.95: 0.297255\n",
      "\n",
      "Epoch 829/1000\n",
      "----------\n",
      "Train: \n"
     ]
    },
    {
     "name": "stderr",
     "output_type": "stream",
     "text": [
      "3it [00:00,  3.75it/s]\n"
     ]
    },
    {
     "name": "stdout",
     "output_type": "stream",
     "text": [
      "    box loss-> 0.01028, object loss-> 0.01958, class loss-> 0.00000\n",
      "Validation:\n"
     ]
    },
    {
     "name": "stderr",
     "output_type": "stream",
     "text": [
      "1it [00:00,  4.83it/s]\n"
     ]
    },
    {
     "name": "stdout",
     "output_type": "stream",
     "text": [
      "    recall: 0.500000 precision: 0.925692 mAP@0.5: 0.495425, mAP@0.5-0.95: 0.346797\n",
      "\n",
      "Epoch 830/1000\n",
      "----------\n",
      "Train: \n"
     ]
    },
    {
     "name": "stderr",
     "output_type": "stream",
     "text": [
      "3it [00:00,  3.79it/s]\n"
     ]
    },
    {
     "name": "stdout",
     "output_type": "stream",
     "text": [
      "    box loss-> 0.00890, object loss-> 0.01793, class loss-> 0.00000\n",
      "Validation:\n"
     ]
    },
    {
     "name": "stderr",
     "output_type": "stream",
     "text": [
      "1it [00:00,  4.87it/s]\n"
     ]
    },
    {
     "name": "stdout",
     "output_type": "stream",
     "text": [
      "    recall: 0.500000 precision: 0.937843 mAP@0.5: 0.495425, mAP@0.5-0.95: 0.346797\n",
      "\n",
      "Epoch 831/1000\n",
      "----------\n",
      "Train: \n"
     ]
    },
    {
     "name": "stderr",
     "output_type": "stream",
     "text": [
      "3it [00:00,  3.86it/s]\n"
     ]
    },
    {
     "name": "stdout",
     "output_type": "stream",
     "text": [
      "    box loss-> 0.00926, object loss-> 0.01841, class loss-> 0.00000\n",
      "Validation:\n"
     ]
    },
    {
     "name": "stderr",
     "output_type": "stream",
     "text": [
      "1it [00:00,  4.88it/s]\n"
     ]
    },
    {
     "name": "stdout",
     "output_type": "stream",
     "text": [
      "    recall: 0.500000 precision: 0.983066 mAP@0.5: 0.495425, mAP@0.5-0.95: 0.346797\n",
      "\n",
      "Epoch 832/1000\n",
      "----------\n",
      "Train: \n"
     ]
    },
    {
     "name": "stderr",
     "output_type": "stream",
     "text": [
      "3it [00:00,  3.82it/s]\n"
     ]
    },
    {
     "name": "stdout",
     "output_type": "stream",
     "text": [
      "    box loss-> 0.00958, object loss-> 0.01864, class loss-> 0.00000\n",
      "Validation:\n"
     ]
    },
    {
     "name": "stderr",
     "output_type": "stream",
     "text": [
      "1it [00:00,  4.82it/s]\n"
     ]
    },
    {
     "name": "stdout",
     "output_type": "stream",
     "text": [
      "    recall: 0.500000 precision: 0.942737 mAP@0.5: 0.495425, mAP@0.5-0.95: 0.346797\n",
      "\n",
      "Epoch 833/1000\n",
      "----------\n",
      "Train: \n"
     ]
    },
    {
     "name": "stderr",
     "output_type": "stream",
     "text": [
      "3it [00:00,  3.82it/s]\n"
     ]
    },
    {
     "name": "stdout",
     "output_type": "stream",
     "text": [
      "    box loss-> 0.00880, object loss-> 0.01792, class loss-> 0.00000\n",
      "Validation:\n"
     ]
    },
    {
     "name": "stderr",
     "output_type": "stream",
     "text": [
      "1it [00:00,  4.82it/s]\n"
     ]
    },
    {
     "name": "stdout",
     "output_type": "stream",
     "text": [
      "    recall: 0.500000 precision: 0.989858 mAP@0.5: 0.495425, mAP@0.5-0.95: 0.346797\n",
      "\n",
      "Epoch 834/1000\n",
      "----------\n",
      "Train: \n"
     ]
    },
    {
     "name": "stderr",
     "output_type": "stream",
     "text": [
      "3it [00:00,  3.82it/s]\n"
     ]
    },
    {
     "name": "stdout",
     "output_type": "stream",
     "text": [
      "    box loss-> 0.00933, object loss-> 0.01831, class loss-> 0.00000\n",
      "Validation:\n"
     ]
    },
    {
     "name": "stderr",
     "output_type": "stream",
     "text": [
      "1it [00:00,  4.92it/s]\n"
     ]
    },
    {
     "name": "stdout",
     "output_type": "stream",
     "text": [
      "    recall: 0.500000 precision: 0.893893 mAP@0.5: 0.495425, mAP@0.5-0.95: 0.346797\n",
      "\n",
      "Epoch 835/1000\n",
      "----------\n",
      "Train: \n"
     ]
    },
    {
     "name": "stderr",
     "output_type": "stream",
     "text": [
      "3it [00:00,  3.74it/s]\n"
     ]
    },
    {
     "name": "stdout",
     "output_type": "stream",
     "text": [
      "    box loss-> 0.00847, object loss-> 0.01724, class loss-> 0.00000\n",
      "Validation:\n"
     ]
    },
    {
     "name": "stderr",
     "output_type": "stream",
     "text": [
      "1it [00:00,  4.80it/s]\n"
     ]
    },
    {
     "name": "stdout",
     "output_type": "stream",
     "text": [
      "    recall: 0.500000 precision: 0.955914 mAP@0.5: 0.495425, mAP@0.5-0.95: 0.346797\n",
      "\n",
      "Epoch 836/1000\n",
      "----------\n",
      "Train: \n"
     ]
    },
    {
     "name": "stderr",
     "output_type": "stream",
     "text": [
      "3it [00:00,  3.82it/s]\n"
     ]
    },
    {
     "name": "stdout",
     "output_type": "stream",
     "text": [
      "    box loss-> 0.00845, object loss-> 0.01735, class loss-> 0.00000\n",
      "Validation:\n"
     ]
    },
    {
     "name": "stderr",
     "output_type": "stream",
     "text": [
      "1it [00:00,  4.86it/s]\n"
     ]
    },
    {
     "name": "stdout",
     "output_type": "stream",
     "text": [
      "    recall: 0.500000 precision: 0.998472 mAP@0.5: 0.495425, mAP@0.5-0.95: 0.346797\n",
      "\n",
      "Epoch 837/1000\n",
      "----------\n",
      "Train: \n"
     ]
    },
    {
     "name": "stderr",
     "output_type": "stream",
     "text": [
      "3it [00:00,  3.76it/s]\n"
     ]
    },
    {
     "name": "stdout",
     "output_type": "stream",
     "text": [
      "    box loss-> 0.00959, object loss-> 0.01867, class loss-> 0.00000\n",
      "Validation:\n"
     ]
    },
    {
     "name": "stderr",
     "output_type": "stream",
     "text": [
      "1it [00:00,  4.73it/s]\n"
     ]
    },
    {
     "name": "stdout",
     "output_type": "stream",
     "text": [
      "    recall: 0.500000 precision: 0.963077 mAP@0.5: 0.495425, mAP@0.5-0.95: 0.346797\n",
      "\n",
      "Epoch 838/1000\n",
      "----------\n",
      "Train: \n"
     ]
    },
    {
     "name": "stderr",
     "output_type": "stream",
     "text": [
      "3it [00:00,  3.83it/s]\n"
     ]
    },
    {
     "name": "stdout",
     "output_type": "stream",
     "text": [
      "    box loss-> 0.00816, object loss-> 0.01716, class loss-> 0.00000\n",
      "Validation:\n"
     ]
    },
    {
     "name": "stderr",
     "output_type": "stream",
     "text": [
      "1it [00:00,  4.86it/s]\n"
     ]
    },
    {
     "name": "stdout",
     "output_type": "stream",
     "text": [
      "    recall: 0.500000 precision: 0.974006 mAP@0.5: 0.495425, mAP@0.5-0.95: 0.346797\n",
      "\n",
      "Epoch 839/1000\n",
      "----------\n",
      "Train: \n"
     ]
    },
    {
     "name": "stderr",
     "output_type": "stream",
     "text": [
      "3it [00:00,  3.82it/s]\n"
     ]
    },
    {
     "name": "stdout",
     "output_type": "stream",
     "text": [
      "    box loss-> 0.00910, object loss-> 0.01771, class loss-> 0.00000\n",
      "Validation:\n"
     ]
    },
    {
     "name": "stderr",
     "output_type": "stream",
     "text": [
      "1it [00:00,  4.80it/s]\n"
     ]
    },
    {
     "name": "stdout",
     "output_type": "stream",
     "text": [
      "    recall: 0.500000 precision: 0.983583 mAP@0.5: 0.495425, mAP@0.5-0.95: 0.346797\n",
      "\n",
      "Epoch 840/1000\n",
      "----------\n",
      "Train: \n"
     ]
    },
    {
     "name": "stderr",
     "output_type": "stream",
     "text": [
      "3it [00:00,  3.76it/s]\n"
     ]
    },
    {
     "name": "stdout",
     "output_type": "stream",
     "text": [
      "    box loss-> 0.00891, object loss-> 0.01768, class loss-> 0.00000\n",
      "Validation:\n"
     ]
    },
    {
     "name": "stderr",
     "output_type": "stream",
     "text": [
      "1it [00:00,  4.79it/s]\n"
     ]
    },
    {
     "name": "stdout",
     "output_type": "stream",
     "text": [
      "    recall: 0.500000 precision: 0.983127 mAP@0.5: 0.495425, mAP@0.5-0.95: 0.297255\n",
      "\n",
      "Epoch 841/1000\n",
      "----------\n",
      "Train: \n"
     ]
    },
    {
     "name": "stderr",
     "output_type": "stream",
     "text": [
      "3it [00:00,  3.80it/s]\n"
     ]
    },
    {
     "name": "stdout",
     "output_type": "stream",
     "text": [
      "    box loss-> 0.00928, object loss-> 0.01836, class loss-> 0.00000\n",
      "Validation:\n"
     ]
    },
    {
     "name": "stderr",
     "output_type": "stream",
     "text": [
      "1it [00:00,  4.91it/s]\n"
     ]
    },
    {
     "name": "stdout",
     "output_type": "stream",
     "text": [
      "    recall: 0.500000 precision: 0.966741 mAP@0.5: 0.495425, mAP@0.5-0.95: 0.297255\n",
      "\n",
      "Epoch 842/1000\n",
      "----------\n",
      "Train: \n"
     ]
    },
    {
     "name": "stderr",
     "output_type": "stream",
     "text": [
      "3it [00:00,  3.81it/s]\n"
     ]
    },
    {
     "name": "stdout",
     "output_type": "stream",
     "text": [
      "    box loss-> 0.00951, object loss-> 0.01878, class loss-> 0.00000\n",
      "Validation:\n"
     ]
    },
    {
     "name": "stderr",
     "output_type": "stream",
     "text": [
      "1it [00:00,  4.82it/s]\n"
     ]
    },
    {
     "name": "stdout",
     "output_type": "stream",
     "text": [
      "    recall: 0.500000 precision: 0.952437 mAP@0.5: 0.495425, mAP@0.5-0.95: 0.297255\n",
      "\n",
      "Epoch 843/1000\n",
      "----------\n",
      "Train: \n"
     ]
    },
    {
     "name": "stderr",
     "output_type": "stream",
     "text": [
      "3it [00:00,  3.82it/s]\n"
     ]
    },
    {
     "name": "stdout",
     "output_type": "stream",
     "text": [
      "    box loss-> 0.00943, object loss-> 0.01848, class loss-> 0.00000\n",
      "Validation:\n"
     ]
    },
    {
     "name": "stderr",
     "output_type": "stream",
     "text": [
      "1it [00:00,  4.86it/s]\n"
     ]
    },
    {
     "name": "stdout",
     "output_type": "stream",
     "text": [
      "    recall: 0.500000 precision: 0.959294 mAP@0.5: 0.495425, mAP@0.5-0.95: 0.297255\n",
      "\n",
      "Epoch 844/1000\n",
      "----------\n",
      "Train: \n"
     ]
    },
    {
     "name": "stderr",
     "output_type": "stream",
     "text": [
      "3it [00:00,  3.78it/s]\n"
     ]
    },
    {
     "name": "stdout",
     "output_type": "stream",
     "text": [
      "    box loss-> 0.00921, object loss-> 0.01832, class loss-> 0.00000\n",
      "Validation:\n"
     ]
    },
    {
     "name": "stderr",
     "output_type": "stream",
     "text": [
      "1it [00:00,  4.81it/s]\n"
     ]
    },
    {
     "name": "stdout",
     "output_type": "stream",
     "text": [
      "    recall: 0.500000 precision: 0.998679 mAP@0.5: 0.495425, mAP@0.5-0.95: 0.297255\n",
      "\n",
      "Epoch 845/1000\n",
      "----------\n",
      "Train: \n"
     ]
    },
    {
     "name": "stderr",
     "output_type": "stream",
     "text": [
      "3it [00:00,  3.75it/s]\n"
     ]
    },
    {
     "name": "stdout",
     "output_type": "stream",
     "text": [
      "    box loss-> 0.00982, object loss-> 0.01883, class loss-> 0.00000\n",
      "Validation:\n"
     ]
    },
    {
     "name": "stderr",
     "output_type": "stream",
     "text": [
      "1it [00:00,  4.83it/s]\n"
     ]
    },
    {
     "name": "stdout",
     "output_type": "stream",
     "text": [
      "    recall: 0.500000 precision: 0.996645 mAP@0.5: 0.495425, mAP@0.5-0.95: 0.346797\n",
      "\n",
      "Epoch 846/1000\n",
      "----------\n",
      "Train: \n"
     ]
    },
    {
     "name": "stderr",
     "output_type": "stream",
     "text": [
      "3it [00:00,  3.82it/s]\n"
     ]
    },
    {
     "name": "stdout",
     "output_type": "stream",
     "text": [
      "    box loss-> 0.00991, object loss-> 0.01825, class loss-> 0.00000\n",
      "Validation:\n"
     ]
    },
    {
     "name": "stderr",
     "output_type": "stream",
     "text": [
      "1it [00:00,  4.79it/s]\n"
     ]
    },
    {
     "name": "stdout",
     "output_type": "stream",
     "text": [
      "    recall: 0.500000 precision: 0.969766 mAP@0.5: 0.495425, mAP@0.5-0.95: 0.346797\n",
      "\n",
      "Epoch 847/1000\n",
      "----------\n",
      "Train: \n"
     ]
    },
    {
     "name": "stderr",
     "output_type": "stream",
     "text": [
      "3it [00:00,  3.79it/s]\n"
     ]
    },
    {
     "name": "stdout",
     "output_type": "stream",
     "text": [
      "    box loss-> 0.00918, object loss-> 0.01774, class loss-> 0.00000\n",
      "Validation:\n"
     ]
    },
    {
     "name": "stderr",
     "output_type": "stream",
     "text": [
      "1it [00:00,  4.84it/s]\n"
     ]
    },
    {
     "name": "stdout",
     "output_type": "stream",
     "text": [
      "    recall: 0.500000 precision: 0.983445 mAP@0.5: 0.495425, mAP@0.5-0.95: 0.346797\n",
      "\n",
      "Epoch 848/1000\n",
      "----------\n",
      "Train: \n"
     ]
    },
    {
     "name": "stderr",
     "output_type": "stream",
     "text": [
      "3it [00:00,  3.79it/s]\n"
     ]
    },
    {
     "name": "stdout",
     "output_type": "stream",
     "text": [
      "    box loss-> 0.01039, object loss-> 0.01937, class loss-> 0.00000\n",
      "Validation:\n"
     ]
    },
    {
     "name": "stderr",
     "output_type": "stream",
     "text": [
      "1it [00:00,  4.74it/s]\n"
     ]
    },
    {
     "name": "stdout",
     "output_type": "stream",
     "text": [
      "    recall: 0.500000 precision: 0.969292 mAP@0.5: 0.495425, mAP@0.5-0.95: 0.346797\n",
      "\n",
      "Epoch 849/1000\n",
      "----------\n",
      "Train: \n"
     ]
    },
    {
     "name": "stderr",
     "output_type": "stream",
     "text": [
      "3it [00:00,  3.80it/s]\n"
     ]
    },
    {
     "name": "stdout",
     "output_type": "stream",
     "text": [
      "    box loss-> 0.01015, object loss-> 0.01858, class loss-> 0.00000\n",
      "Validation:\n"
     ]
    },
    {
     "name": "stderr",
     "output_type": "stream",
     "text": [
      "1it [00:00,  4.84it/s]\n"
     ]
    },
    {
     "name": "stdout",
     "output_type": "stream",
     "text": [
      "    recall: 0.500000 precision: 0.971184 mAP@0.5: 0.495425, mAP@0.5-0.95: 0.346797\n",
      "\n",
      "Epoch 850/1000\n",
      "----------\n",
      "Train: \n"
     ]
    },
    {
     "name": "stderr",
     "output_type": "stream",
     "text": [
      "3it [00:00,  3.74it/s]\n"
     ]
    },
    {
     "name": "stdout",
     "output_type": "stream",
     "text": [
      "    box loss-> 0.01006, object loss-> 0.01868, class loss-> 0.00000\n",
      "Validation:\n"
     ]
    },
    {
     "name": "stderr",
     "output_type": "stream",
     "text": [
      "1it [00:00,  4.49it/s]\n"
     ]
    },
    {
     "name": "stdout",
     "output_type": "stream",
     "text": [
      "    recall: 0.500000 precision: 0.947234 mAP@0.5: 0.495425, mAP@0.5-0.95: 0.346797\n",
      "\n",
      "Epoch 851/1000\n",
      "----------\n",
      "Train: \n"
     ]
    },
    {
     "name": "stderr",
     "output_type": "stream",
     "text": [
      "3it [00:00,  3.72it/s]\n"
     ]
    },
    {
     "name": "stdout",
     "output_type": "stream",
     "text": [
      "    box loss-> 0.00931, object loss-> 0.01794, class loss-> 0.00000\n",
      "Validation:\n"
     ]
    },
    {
     "name": "stderr",
     "output_type": "stream",
     "text": [
      "1it [00:00,  4.79it/s]\n"
     ]
    },
    {
     "name": "stdout",
     "output_type": "stream",
     "text": [
      "    recall: 0.500000 precision: 0.941805 mAP@0.5: 0.495425, mAP@0.5-0.95: 0.346797\n",
      "\n",
      "Epoch 852/1000\n",
      "----------\n",
      "Train: \n"
     ]
    },
    {
     "name": "stderr",
     "output_type": "stream",
     "text": [
      "3it [00:00,  3.77it/s]\n"
     ]
    },
    {
     "name": "stdout",
     "output_type": "stream",
     "text": [
      "    box loss-> 0.00920, object loss-> 0.01793, class loss-> 0.00000\n",
      "Validation:\n"
     ]
    },
    {
     "name": "stderr",
     "output_type": "stream",
     "text": [
      "1it [00:00,  4.87it/s]\n"
     ]
    },
    {
     "name": "stdout",
     "output_type": "stream",
     "text": [
      "    recall: 0.500000 precision: 0.954559 mAP@0.5: 0.495425, mAP@0.5-0.95: 0.346797\n",
      "\n",
      "Epoch 853/1000\n",
      "----------\n",
      "Train: \n"
     ]
    },
    {
     "name": "stderr",
     "output_type": "stream",
     "text": [
      "3it [00:00,  3.72it/s]\n"
     ]
    },
    {
     "name": "stdout",
     "output_type": "stream",
     "text": [
      "    box loss-> 0.00947, object loss-> 0.01815, class loss-> 0.00000\n",
      "Validation:\n"
     ]
    },
    {
     "name": "stderr",
     "output_type": "stream",
     "text": [
      "1it [00:00,  4.76it/s]\n"
     ]
    },
    {
     "name": "stdout",
     "output_type": "stream",
     "text": [
      "    recall: 0.500000 precision: 0.996365 mAP@0.5: 0.495425, mAP@0.5-0.95: 0.346797\n",
      "\n",
      "Epoch 854/1000\n",
      "----------\n",
      "Train: \n"
     ]
    },
    {
     "name": "stderr",
     "output_type": "stream",
     "text": [
      "3it [00:00,  3.71it/s]\n"
     ]
    },
    {
     "name": "stdout",
     "output_type": "stream",
     "text": [
      "    box loss-> 0.00903, object loss-> 0.01781, class loss-> 0.00000\n",
      "Validation:\n"
     ]
    },
    {
     "name": "stderr",
     "output_type": "stream",
     "text": [
      "1it [00:00,  4.86it/s]\n"
     ]
    },
    {
     "name": "stdout",
     "output_type": "stream",
     "text": [
      "    recall: 0.500000 precision: 0.873691 mAP@0.5: 0.495425, mAP@0.5-0.95: 0.346797\n",
      "\n",
      "Epoch 855/1000\n",
      "----------\n",
      "Train: \n"
     ]
    },
    {
     "name": "stderr",
     "output_type": "stream",
     "text": [
      "3it [00:00,  3.74it/s]\n"
     ]
    },
    {
     "name": "stdout",
     "output_type": "stream",
     "text": [
      "    box loss-> 0.00893, object loss-> 0.01796, class loss-> 0.00000\n",
      "Validation:\n"
     ]
    },
    {
     "name": "stderr",
     "output_type": "stream",
     "text": [
      "1it [00:00,  4.72it/s]\n"
     ]
    },
    {
     "name": "stdout",
     "output_type": "stream",
     "text": [
      "    recall: 0.500000 precision: 0.958954 mAP@0.5: 0.495425, mAP@0.5-0.95: 0.346797\n",
      "\n",
      "Epoch 856/1000\n",
      "----------\n",
      "Train: \n"
     ]
    },
    {
     "name": "stderr",
     "output_type": "stream",
     "text": [
      "3it [00:00,  3.72it/s]\n"
     ]
    },
    {
     "name": "stdout",
     "output_type": "stream",
     "text": [
      "    box loss-> 0.00920, object loss-> 0.01773, class loss-> 0.00000\n",
      "Validation:\n"
     ]
    },
    {
     "name": "stderr",
     "output_type": "stream",
     "text": [
      "1it [00:00,  4.77it/s]\n"
     ]
    },
    {
     "name": "stdout",
     "output_type": "stream",
     "text": [
      "    recall: 0.500000 precision: 0.997877 mAP@0.5: 0.495425, mAP@0.5-0.95: 0.297255\n",
      "\n",
      "Epoch 857/1000\n",
      "----------\n",
      "Train: \n"
     ]
    },
    {
     "name": "stderr",
     "output_type": "stream",
     "text": [
      "3it [00:00,  3.77it/s]\n"
     ]
    },
    {
     "name": "stdout",
     "output_type": "stream",
     "text": [
      "    box loss-> 0.00824, object loss-> 0.01667, class loss-> 0.00000\n",
      "Validation:\n"
     ]
    },
    {
     "name": "stderr",
     "output_type": "stream",
     "text": [
      "1it [00:00,  4.94it/s]\n"
     ]
    },
    {
     "name": "stdout",
     "output_type": "stream",
     "text": [
      "    recall: 0.500000 precision: 0.984879 mAP@0.5: 0.495425, mAP@0.5-0.95: 0.346797\n",
      "\n",
      "Epoch 858/1000\n",
      "----------\n",
      "Train: \n"
     ]
    },
    {
     "name": "stderr",
     "output_type": "stream",
     "text": [
      "3it [00:00,  3.76it/s]\n"
     ]
    },
    {
     "name": "stdout",
     "output_type": "stream",
     "text": [
      "    box loss-> 0.00810, object loss-> 0.01643, class loss-> 0.00000\n",
      "Validation:\n"
     ]
    },
    {
     "name": "stderr",
     "output_type": "stream",
     "text": [
      "1it [00:00,  4.67it/s]\n"
     ]
    },
    {
     "name": "stdout",
     "output_type": "stream",
     "text": [
      "    recall: 0.500000 precision: 0.937158 mAP@0.5: 0.495425, mAP@0.5-0.95: 0.346797\n",
      "\n",
      "Epoch 859/1000\n",
      "----------\n",
      "Train: \n"
     ]
    },
    {
     "name": "stderr",
     "output_type": "stream",
     "text": [
      "3it [00:00,  3.70it/s]\n"
     ]
    },
    {
     "name": "stdout",
     "output_type": "stream",
     "text": [
      "    box loss-> 0.00840, object loss-> 0.01689, class loss-> 0.00000\n",
      "Validation:\n"
     ]
    },
    {
     "name": "stderr",
     "output_type": "stream",
     "text": [
      "1it [00:00,  4.22it/s]\n"
     ]
    },
    {
     "name": "stdout",
     "output_type": "stream",
     "text": [
      "    recall: 0.500000 precision: 0.985094 mAP@0.5: 0.495425, mAP@0.5-0.95: 0.297255\n",
      "\n",
      "Epoch 860/1000\n",
      "----------\n",
      "Train: \n"
     ]
    },
    {
     "name": "stderr",
     "output_type": "stream",
     "text": [
      "3it [00:00,  3.76it/s]\n"
     ]
    },
    {
     "name": "stdout",
     "output_type": "stream",
     "text": [
      "    box loss-> 0.00849, object loss-> 0.01688, class loss-> 0.00000\n",
      "Validation:\n"
     ]
    },
    {
     "name": "stderr",
     "output_type": "stream",
     "text": [
      "1it [00:00,  4.41it/s]\n"
     ]
    },
    {
     "name": "stdout",
     "output_type": "stream",
     "text": [
      "    recall: 0.500000 precision: 0.947530 mAP@0.5: 0.495425, mAP@0.5-0.95: 0.346797\n",
      "\n",
      "Epoch 861/1000\n",
      "----------\n",
      "Train: \n"
     ]
    },
    {
     "name": "stderr",
     "output_type": "stream",
     "text": [
      "3it [00:00,  3.60it/s]\n"
     ]
    },
    {
     "name": "stdout",
     "output_type": "stream",
     "text": [
      "    box loss-> 0.00878, object loss-> 0.01738, class loss-> 0.00000\n",
      "Validation:\n"
     ]
    },
    {
     "name": "stderr",
     "output_type": "stream",
     "text": [
      "1it [00:00,  4.31it/s]\n"
     ]
    },
    {
     "name": "stdout",
     "output_type": "stream",
     "text": [
      "    recall: 0.500000 precision: 0.989827 mAP@0.5: 0.495425, mAP@0.5-0.95: 0.346797\n",
      "\n",
      "Epoch 862/1000\n",
      "----------\n",
      "Train: \n"
     ]
    },
    {
     "name": "stderr",
     "output_type": "stream",
     "text": [
      "3it [00:00,  3.67it/s]\n"
     ]
    },
    {
     "name": "stdout",
     "output_type": "stream",
     "text": [
      "    box loss-> 0.00877, object loss-> 0.01749, class loss-> 0.00000\n",
      "Validation:\n"
     ]
    },
    {
     "name": "stderr",
     "output_type": "stream",
     "text": [
      "1it [00:00,  4.34it/s]\n"
     ]
    },
    {
     "name": "stdout",
     "output_type": "stream",
     "text": [
      "    recall: 0.500000 precision: 0.955214 mAP@0.5: 0.495425, mAP@0.5-0.95: 0.346797\n",
      "\n",
      "Epoch 863/1000\n",
      "----------\n",
      "Train: \n"
     ]
    },
    {
     "name": "stderr",
     "output_type": "stream",
     "text": [
      "3it [00:00,  3.68it/s]\n"
     ]
    },
    {
     "name": "stdout",
     "output_type": "stream",
     "text": [
      "    box loss-> 0.00869, object loss-> 0.01742, class loss-> 0.00000\n",
      "Validation:\n"
     ]
    },
    {
     "name": "stderr",
     "output_type": "stream",
     "text": [
      "1it [00:00,  4.56it/s]\n"
     ]
    },
    {
     "name": "stdout",
     "output_type": "stream",
     "text": [
      "    recall: 0.500000 precision: 0.993032 mAP@0.5: 0.495425, mAP@0.5-0.95: 0.346797\n",
      "\n",
      "Epoch 864/1000\n",
      "----------\n",
      "Train: \n"
     ]
    },
    {
     "name": "stderr",
     "output_type": "stream",
     "text": [
      "3it [00:00,  3.63it/s]\n"
     ]
    },
    {
     "name": "stdout",
     "output_type": "stream",
     "text": [
      "    box loss-> 0.00815, object loss-> 0.01702, class loss-> 0.00000\n",
      "Validation:\n"
     ]
    },
    {
     "name": "stderr",
     "output_type": "stream",
     "text": [
      "1it [00:00,  4.13it/s]\n"
     ]
    },
    {
     "name": "stdout",
     "output_type": "stream",
     "text": [
      "    recall: 0.500000 precision: 0.988869 mAP@0.5: 0.495425, mAP@0.5-0.95: 0.346797\n",
      "\n",
      "Epoch 865/1000\n",
      "----------\n",
      "Train: \n"
     ]
    },
    {
     "name": "stderr",
     "output_type": "stream",
     "text": [
      "3it [00:00,  3.60it/s]\n"
     ]
    },
    {
     "name": "stdout",
     "output_type": "stream",
     "text": [
      "    box loss-> 0.00759, object loss-> 0.01626, class loss-> 0.00000\n",
      "Validation:\n"
     ]
    },
    {
     "name": "stderr",
     "output_type": "stream",
     "text": [
      "1it [00:00,  4.58it/s]\n"
     ]
    },
    {
     "name": "stdout",
     "output_type": "stream",
     "text": [
      "    recall: 0.500000 precision: 0.952407 mAP@0.5: 0.495425, mAP@0.5-0.95: 0.346797\n",
      "\n",
      "Epoch 866/1000\n",
      "----------\n",
      "Train: \n"
     ]
    },
    {
     "name": "stderr",
     "output_type": "stream",
     "text": [
      "3it [00:00,  3.69it/s]\n"
     ]
    },
    {
     "name": "stdout",
     "output_type": "stream",
     "text": [
      "    box loss-> 0.00859, object loss-> 0.01711, class loss-> 0.00000\n",
      "Validation:\n"
     ]
    },
    {
     "name": "stderr",
     "output_type": "stream",
     "text": [
      "1it [00:00,  4.31it/s]\n"
     ]
    },
    {
     "name": "stdout",
     "output_type": "stream",
     "text": [
      "    recall: 0.500000 precision: 0.996533 mAP@0.5: 0.495425, mAP@0.5-0.95: 0.346797\n",
      "\n",
      "Epoch 867/1000\n",
      "----------\n",
      "Train: \n"
     ]
    },
    {
     "name": "stderr",
     "output_type": "stream",
     "text": [
      "3it [00:00,  3.69it/s]\n"
     ]
    },
    {
     "name": "stdout",
     "output_type": "stream",
     "text": [
      "    box loss-> 0.00797, object loss-> 0.01655, class loss-> 0.00000\n",
      "Validation:\n"
     ]
    },
    {
     "name": "stderr",
     "output_type": "stream",
     "text": [
      "1it [00:00,  4.63it/s]\n"
     ]
    },
    {
     "name": "stdout",
     "output_type": "stream",
     "text": [
      "    recall: 0.500000 precision: 0.957141 mAP@0.5: 0.495425, mAP@0.5-0.95: 0.346797\n",
      "\n",
      "Epoch 868/1000\n",
      "----------\n",
      "Train: \n"
     ]
    },
    {
     "name": "stderr",
     "output_type": "stream",
     "text": [
      "3it [00:00,  3.76it/s]\n"
     ]
    },
    {
     "name": "stdout",
     "output_type": "stream",
     "text": [
      "    box loss-> 0.00770, object loss-> 0.01608, class loss-> 0.00000\n",
      "Validation:\n"
     ]
    },
    {
     "name": "stderr",
     "output_type": "stream",
     "text": [
      "1it [00:00,  4.50it/s]\n"
     ]
    },
    {
     "name": "stdout",
     "output_type": "stream",
     "text": [
      "    recall: 0.500000 precision: 0.983535 mAP@0.5: 0.495425, mAP@0.5-0.95: 0.346797\n",
      "\n",
      "Epoch 869/1000\n",
      "----------\n",
      "Train: \n"
     ]
    },
    {
     "name": "stderr",
     "output_type": "stream",
     "text": [
      "3it [00:00,  3.75it/s]\n"
     ]
    },
    {
     "name": "stdout",
     "output_type": "stream",
     "text": [
      "    box loss-> 0.00788, object loss-> 0.01628, class loss-> 0.00000\n",
      "Validation:\n"
     ]
    },
    {
     "name": "stderr",
     "output_type": "stream",
     "text": [
      "1it [00:00,  4.53it/s]\n"
     ]
    },
    {
     "name": "stdout",
     "output_type": "stream",
     "text": [
      "    recall: 0.500000 precision: 0.944685 mAP@0.5: 0.495425, mAP@0.5-0.95: 0.346797\n",
      "\n",
      "Epoch 870/1000\n",
      "----------\n",
      "Train: \n"
     ]
    },
    {
     "name": "stderr",
     "output_type": "stream",
     "text": [
      "3it [00:00,  3.73it/s]\n"
     ]
    },
    {
     "name": "stdout",
     "output_type": "stream",
     "text": [
      "    box loss-> 0.00833, object loss-> 0.01683, class loss-> 0.00000\n",
      "Validation:\n"
     ]
    },
    {
     "name": "stderr",
     "output_type": "stream",
     "text": [
      "1it [00:00,  4.70it/s]\n"
     ]
    },
    {
     "name": "stdout",
     "output_type": "stream",
     "text": [
      "    recall: 0.500000 precision: 0.982190 mAP@0.5: 0.495425, mAP@0.5-0.95: 0.346797\n",
      "\n",
      "Epoch 871/1000\n",
      "----------\n",
      "Train: \n"
     ]
    },
    {
     "name": "stderr",
     "output_type": "stream",
     "text": [
      "3it [00:00,  3.76it/s]\n"
     ]
    },
    {
     "name": "stdout",
     "output_type": "stream",
     "text": [
      "    box loss-> 0.00746, object loss-> 0.01617, class loss-> 0.00000\n",
      "Validation:\n"
     ]
    },
    {
     "name": "stderr",
     "output_type": "stream",
     "text": [
      "1it [00:00,  4.67it/s]\n"
     ]
    },
    {
     "name": "stdout",
     "output_type": "stream",
     "text": [
      "    recall: 0.500000 precision: 0.955650 mAP@0.5: 0.495425, mAP@0.5-0.95: 0.346797\n",
      "\n",
      "Epoch 872/1000\n",
      "----------\n",
      "Train: \n"
     ]
    },
    {
     "name": "stderr",
     "output_type": "stream",
     "text": [
      "3it [00:00,  3.73it/s]\n"
     ]
    },
    {
     "name": "stdout",
     "output_type": "stream",
     "text": [
      "    box loss-> 0.00805, object loss-> 0.01632, class loss-> 0.00000\n",
      "Validation:\n"
     ]
    },
    {
     "name": "stderr",
     "output_type": "stream",
     "text": [
      "1it [00:00,  4.84it/s]\n"
     ]
    },
    {
     "name": "stdout",
     "output_type": "stream",
     "text": [
      "    recall: 0.500000 precision: 0.963075 mAP@0.5: 0.495425, mAP@0.5-0.95: 0.346797\n",
      "\n",
      "Epoch 873/1000\n",
      "----------\n",
      "Train: \n"
     ]
    },
    {
     "name": "stderr",
     "output_type": "stream",
     "text": [
      "3it [00:00,  3.82it/s]\n"
     ]
    },
    {
     "name": "stdout",
     "output_type": "stream",
     "text": [
      "    box loss-> 0.00718, object loss-> 0.01567, class loss-> 0.00000\n",
      "Validation:\n"
     ]
    },
    {
     "name": "stderr",
     "output_type": "stream",
     "text": [
      "1it [00:00,  4.83it/s]\n"
     ]
    },
    {
     "name": "stdout",
     "output_type": "stream",
     "text": [
      "    recall: 0.500000 precision: 0.960864 mAP@0.5: 0.495425, mAP@0.5-0.95: 0.346797\n",
      "\n",
      "Epoch 874/1000\n",
      "----------\n",
      "Train: \n"
     ]
    },
    {
     "name": "stderr",
     "output_type": "stream",
     "text": [
      "3it [00:00,  3.77it/s]\n"
     ]
    },
    {
     "name": "stdout",
     "output_type": "stream",
     "text": [
      "    box loss-> 0.00780, object loss-> 0.01648, class loss-> 0.00000\n",
      "Validation:\n"
     ]
    },
    {
     "name": "stderr",
     "output_type": "stream",
     "text": [
      "1it [00:00,  4.77it/s]\n"
     ]
    },
    {
     "name": "stdout",
     "output_type": "stream",
     "text": [
      "    recall: 0.500000 precision: 0.990463 mAP@0.5: 0.495425, mAP@0.5-0.95: 0.346797\n",
      "\n",
      "Epoch 875/1000\n",
      "----------\n",
      "Train: \n"
     ]
    },
    {
     "name": "stderr",
     "output_type": "stream",
     "text": [
      "3it [00:00,  3.79it/s]\n"
     ]
    },
    {
     "name": "stdout",
     "output_type": "stream",
     "text": [
      "    box loss-> 0.00776, object loss-> 0.01655, class loss-> 0.00000\n",
      "Validation:\n"
     ]
    },
    {
     "name": "stderr",
     "output_type": "stream",
     "text": [
      "1it [00:00,  4.86it/s]\n"
     ]
    },
    {
     "name": "stdout",
     "output_type": "stream",
     "text": [
      "    recall: 0.500000 precision: 0.992339 mAP@0.5: 0.495425, mAP@0.5-0.95: 0.346797\n",
      "\n",
      "Epoch 876/1000\n",
      "----------\n",
      "Train: \n"
     ]
    },
    {
     "name": "stderr",
     "output_type": "stream",
     "text": [
      "3it [00:00,  3.79it/s]\n"
     ]
    },
    {
     "name": "stdout",
     "output_type": "stream",
     "text": [
      "    box loss-> 0.00727, object loss-> 0.01609, class loss-> 0.00000\n",
      "Validation:\n"
     ]
    },
    {
     "name": "stderr",
     "output_type": "stream",
     "text": [
      "1it [00:00,  4.83it/s]\n"
     ]
    },
    {
     "name": "stdout",
     "output_type": "stream",
     "text": [
      "    recall: 0.500000 precision: 0.968658 mAP@0.5: 0.495425, mAP@0.5-0.95: 0.346797\n",
      "\n",
      "Epoch 877/1000\n",
      "----------\n",
      "Train: \n"
     ]
    },
    {
     "name": "stderr",
     "output_type": "stream",
     "text": [
      "3it [00:00,  3.73it/s]\n"
     ]
    },
    {
     "name": "stdout",
     "output_type": "stream",
     "text": [
      "    box loss-> 0.00740, object loss-> 0.01630, class loss-> 0.00000\n",
      "Validation:\n"
     ]
    },
    {
     "name": "stderr",
     "output_type": "stream",
     "text": [
      "1it [00:00,  4.85it/s]\n"
     ]
    },
    {
     "name": "stdout",
     "output_type": "stream",
     "text": [
      "    recall: 0.500000 precision: 0.944936 mAP@0.5: 0.495425, mAP@0.5-0.95: 0.346797\n",
      "\n",
      "Epoch 878/1000\n",
      "----------\n",
      "Train: \n"
     ]
    },
    {
     "name": "stderr",
     "output_type": "stream",
     "text": [
      "3it [00:00,  3.75it/s]\n"
     ]
    },
    {
     "name": "stdout",
     "output_type": "stream",
     "text": [
      "    box loss-> 0.00787, object loss-> 0.01677, class loss-> 0.00000\n",
      "Validation:\n"
     ]
    },
    {
     "name": "stderr",
     "output_type": "stream",
     "text": [
      "1it [00:00,  4.66it/s]\n"
     ]
    },
    {
     "name": "stdout",
     "output_type": "stream",
     "text": [
      "    recall: 0.500000 precision: 0.940260 mAP@0.5: 0.495425, mAP@0.5-0.95: 0.346797\n",
      "\n",
      "Epoch 879/1000\n",
      "----------\n",
      "Train: \n"
     ]
    },
    {
     "name": "stderr",
     "output_type": "stream",
     "text": [
      "3it [00:00,  3.77it/s]\n"
     ]
    },
    {
     "name": "stdout",
     "output_type": "stream",
     "text": [
      "    box loss-> 0.00846, object loss-> 0.01766, class loss-> 0.00000\n",
      "Validation:\n"
     ]
    },
    {
     "name": "stderr",
     "output_type": "stream",
     "text": [
      "1it [00:00,  4.85it/s]\n"
     ]
    },
    {
     "name": "stdout",
     "output_type": "stream",
     "text": [
      "    recall: 0.500000 precision: 0.923949 mAP@0.5: 0.495425, mAP@0.5-0.95: 0.346797\n",
      "\n",
      "Epoch 880/1000\n",
      "----------\n",
      "Train: \n"
     ]
    },
    {
     "name": "stderr",
     "output_type": "stream",
     "text": [
      "3it [00:00,  3.77it/s]\n"
     ]
    },
    {
     "name": "stdout",
     "output_type": "stream",
     "text": [
      "    box loss-> 0.00874, object loss-> 0.01755, class loss-> 0.00000\n",
      "Validation:\n"
     ]
    },
    {
     "name": "stderr",
     "output_type": "stream",
     "text": [
      "1it [00:00,  4.86it/s]\n"
     ]
    },
    {
     "name": "stdout",
     "output_type": "stream",
     "text": [
      "    recall: 0.500000 precision: 0.982830 mAP@0.5: 0.495425, mAP@0.5-0.95: 0.346797\n",
      "\n",
      "Epoch 881/1000\n",
      "----------\n",
      "Train: \n"
     ]
    },
    {
     "name": "stderr",
     "output_type": "stream",
     "text": [
      "3it [00:00,  3.80it/s]\n"
     ]
    },
    {
     "name": "stdout",
     "output_type": "stream",
     "text": [
      "    box loss-> 0.00868, object loss-> 0.01728, class loss-> 0.00000\n",
      "Validation:\n"
     ]
    },
    {
     "name": "stderr",
     "output_type": "stream",
     "text": [
      "1it [00:00,  4.70it/s]\n"
     ]
    },
    {
     "name": "stdout",
     "output_type": "stream",
     "text": [
      "    recall: 0.500000 precision: 0.954622 mAP@0.5: 0.495425, mAP@0.5-0.95: 0.346797\n",
      "\n",
      "Epoch 882/1000\n",
      "----------\n",
      "Train: \n"
     ]
    },
    {
     "name": "stderr",
     "output_type": "stream",
     "text": [
      "3it [00:00,  3.81it/s]\n"
     ]
    },
    {
     "name": "stdout",
     "output_type": "stream",
     "text": [
      "    box loss-> 0.00787, object loss-> 0.01669, class loss-> 0.00000\n",
      "Validation:\n"
     ]
    },
    {
     "name": "stderr",
     "output_type": "stream",
     "text": [
      "1it [00:00,  4.77it/s]\n"
     ]
    },
    {
     "name": "stdout",
     "output_type": "stream",
     "text": [
      "    recall: 0.500000 precision: 0.975151 mAP@0.5: 0.495425, mAP@0.5-0.95: 0.346797\n",
      "\n",
      "Epoch 883/1000\n",
      "----------\n",
      "Train: \n"
     ]
    },
    {
     "name": "stderr",
     "output_type": "stream",
     "text": [
      "3it [00:00,  3.75it/s]\n"
     ]
    },
    {
     "name": "stdout",
     "output_type": "stream",
     "text": [
      "    box loss-> 0.00751, object loss-> 0.01645, class loss-> 0.00000\n",
      "Validation:\n"
     ]
    },
    {
     "name": "stderr",
     "output_type": "stream",
     "text": [
      "1it [00:00,  4.82it/s]\n"
     ]
    },
    {
     "name": "stdout",
     "output_type": "stream",
     "text": [
      "    recall: 0.500000 precision: 0.966674 mAP@0.5: 0.495425, mAP@0.5-0.95: 0.346797\n",
      "\n",
      "Epoch 884/1000\n",
      "----------\n",
      "Train: \n"
     ]
    },
    {
     "name": "stderr",
     "output_type": "stream",
     "text": [
      "3it [00:00,  3.79it/s]\n"
     ]
    },
    {
     "name": "stdout",
     "output_type": "stream",
     "text": [
      "    box loss-> 0.00672, object loss-> 0.01530, class loss-> 0.00000\n",
      "Validation:\n"
     ]
    },
    {
     "name": "stderr",
     "output_type": "stream",
     "text": [
      "1it [00:00,  4.84it/s]\n"
     ]
    },
    {
     "name": "stdout",
     "output_type": "stream",
     "text": [
      "    recall: 0.500000 precision: 0.995289 mAP@0.5: 0.495425, mAP@0.5-0.95: 0.346797\n",
      "\n",
      "Epoch 885/1000\n",
      "----------\n",
      "Train: \n"
     ]
    },
    {
     "name": "stderr",
     "output_type": "stream",
     "text": [
      "3it [00:00,  3.78it/s]\n"
     ]
    },
    {
     "name": "stdout",
     "output_type": "stream",
     "text": [
      "    box loss-> 0.00738, object loss-> 0.01601, class loss-> 0.00000\n",
      "Validation:\n"
     ]
    },
    {
     "name": "stderr",
     "output_type": "stream",
     "text": [
      "1it [00:00,  4.80it/s]\n"
     ]
    },
    {
     "name": "stdout",
     "output_type": "stream",
     "text": [
      "    recall: 0.500000 precision: 0.979253 mAP@0.5: 0.495425, mAP@0.5-0.95: 0.346797\n",
      "\n",
      "Epoch 886/1000\n",
      "----------\n",
      "Train: \n"
     ]
    },
    {
     "name": "stderr",
     "output_type": "stream",
     "text": [
      "3it [00:00,  3.79it/s]\n"
     ]
    },
    {
     "name": "stdout",
     "output_type": "stream",
     "text": [
      "    box loss-> 0.00740, object loss-> 0.01592, class loss-> 0.00000\n",
      "Validation:\n"
     ]
    },
    {
     "name": "stderr",
     "output_type": "stream",
     "text": [
      "1it [00:00,  4.80it/s]\n"
     ]
    },
    {
     "name": "stdout",
     "output_type": "stream",
     "text": [
      "    recall: 0.500000 precision: 0.962644 mAP@0.5: 0.495425, mAP@0.5-0.95: 0.346797\n",
      "\n",
      "Epoch 887/1000\n",
      "----------\n",
      "Train: \n"
     ]
    },
    {
     "name": "stderr",
     "output_type": "stream",
     "text": [
      "3it [00:00,  3.81it/s]\n"
     ]
    },
    {
     "name": "stdout",
     "output_type": "stream",
     "text": [
      "    box loss-> 0.00750, object loss-> 0.01582, class loss-> 0.00000\n",
      "Validation:\n"
     ]
    },
    {
     "name": "stderr",
     "output_type": "stream",
     "text": [
      "1it [00:00,  4.81it/s]\n"
     ]
    },
    {
     "name": "stdout",
     "output_type": "stream",
     "text": [
      "    recall: 0.500000 precision: 0.962629 mAP@0.5: 0.495425, mAP@0.5-0.95: 0.346797\n",
      "\n",
      "Epoch 888/1000\n",
      "----------\n",
      "Train: \n"
     ]
    },
    {
     "name": "stderr",
     "output_type": "stream",
     "text": [
      "3it [00:00,  3.74it/s]\n"
     ]
    },
    {
     "name": "stdout",
     "output_type": "stream",
     "text": [
      "    box loss-> 0.00734, object loss-> 0.01595, class loss-> 0.00000\n",
      "Validation:\n"
     ]
    },
    {
     "name": "stderr",
     "output_type": "stream",
     "text": [
      "1it [00:00,  4.86it/s]\n"
     ]
    },
    {
     "name": "stdout",
     "output_type": "stream",
     "text": [
      "    recall: 0.500000 precision: 0.966542 mAP@0.5: 0.495425, mAP@0.5-0.95: 0.346797\n",
      "\n",
      "Epoch 889/1000\n",
      "----------\n",
      "Train: \n"
     ]
    },
    {
     "name": "stderr",
     "output_type": "stream",
     "text": [
      "3it [00:00,  3.83it/s]\n"
     ]
    },
    {
     "name": "stdout",
     "output_type": "stream",
     "text": [
      "    box loss-> 0.00742, object loss-> 0.01594, class loss-> 0.00000\n",
      "Validation:\n"
     ]
    },
    {
     "name": "stderr",
     "output_type": "stream",
     "text": [
      "1it [00:00,  4.73it/s]\n"
     ]
    },
    {
     "name": "stdout",
     "output_type": "stream",
     "text": [
      "    recall: 0.500000 precision: 0.974211 mAP@0.5: 0.495425, mAP@0.5-0.95: 0.346797\n",
      "\n",
      "Epoch 890/1000\n",
      "----------\n",
      "Train: \n"
     ]
    },
    {
     "name": "stderr",
     "output_type": "stream",
     "text": [
      "3it [00:00,  3.83it/s]\n"
     ]
    },
    {
     "name": "stdout",
     "output_type": "stream",
     "text": [
      "    box loss-> 0.00854, object loss-> 0.01692, class loss-> 0.00000\n",
      "Validation:\n"
     ]
    },
    {
     "name": "stderr",
     "output_type": "stream",
     "text": [
      "1it [00:00,  4.87it/s]\n"
     ]
    },
    {
     "name": "stdout",
     "output_type": "stream",
     "text": [
      "    recall: 0.500000 precision: 0.974733 mAP@0.5: 0.495425, mAP@0.5-0.95: 0.346797\n",
      "\n",
      "Epoch 891/1000\n",
      "----------\n",
      "Train: \n"
     ]
    },
    {
     "name": "stderr",
     "output_type": "stream",
     "text": [
      "3it [00:00,  3.77it/s]\n"
     ]
    },
    {
     "name": "stdout",
     "output_type": "stream",
     "text": [
      "    box loss-> 0.00783, object loss-> 0.01659, class loss-> 0.00000\n",
      "Validation:\n"
     ]
    },
    {
     "name": "stderr",
     "output_type": "stream",
     "text": [
      "1it [00:00,  4.83it/s]\n"
     ]
    },
    {
     "name": "stdout",
     "output_type": "stream",
     "text": [
      "    recall: 0.500000 precision: 0.953380 mAP@0.5: 0.495425, mAP@0.5-0.95: 0.346797\n",
      "\n",
      "Epoch 892/1000\n",
      "----------\n",
      "Train: \n"
     ]
    },
    {
     "name": "stderr",
     "output_type": "stream",
     "text": [
      "3it [00:00,  3.78it/s]\n"
     ]
    },
    {
     "name": "stdout",
     "output_type": "stream",
     "text": [
      "    box loss-> 0.00702, object loss-> 0.01580, class loss-> 0.00000\n",
      "Validation:\n"
     ]
    },
    {
     "name": "stderr",
     "output_type": "stream",
     "text": [
      "1it [00:00,  4.69it/s]\n"
     ]
    },
    {
     "name": "stdout",
     "output_type": "stream",
     "text": [
      "    recall: 0.500000 precision: 0.990021 mAP@0.5: 0.495425, mAP@0.5-0.95: 0.346797\n",
      "\n",
      "Epoch 893/1000\n",
      "----------\n",
      "Train: \n"
     ]
    },
    {
     "name": "stderr",
     "output_type": "stream",
     "text": [
      "3it [00:00,  3.72it/s]\n"
     ]
    },
    {
     "name": "stdout",
     "output_type": "stream",
     "text": [
      "    box loss-> 0.00798, object loss-> 0.01676, class loss-> 0.00000\n",
      "Validation:\n"
     ]
    },
    {
     "name": "stderr",
     "output_type": "stream",
     "text": [
      "1it [00:00,  4.82it/s]\n"
     ]
    },
    {
     "name": "stdout",
     "output_type": "stream",
     "text": [
      "    recall: 0.500000 precision: 0.934653 mAP@0.5: 0.495425, mAP@0.5-0.95: 0.297255\n",
      "\n",
      "Epoch 894/1000\n",
      "----------\n",
      "Train: \n"
     ]
    },
    {
     "name": "stderr",
     "output_type": "stream",
     "text": [
      "3it [00:00,  3.78it/s]\n"
     ]
    },
    {
     "name": "stdout",
     "output_type": "stream",
     "text": [
      "    box loss-> 0.00822, object loss-> 0.01711, class loss-> 0.00000\n",
      "Validation:\n"
     ]
    },
    {
     "name": "stderr",
     "output_type": "stream",
     "text": [
      "1it [00:00,  4.94it/s]\n"
     ]
    },
    {
     "name": "stdout",
     "output_type": "stream",
     "text": [
      "    recall: 0.500000 precision: 0.971663 mAP@0.5: 0.495425, mAP@0.5-0.95: 0.297255\n",
      "\n",
      "Epoch 895/1000\n",
      "----------\n",
      "Train: \n"
     ]
    },
    {
     "name": "stderr",
     "output_type": "stream",
     "text": [
      "3it [00:00,  3.86it/s]\n"
     ]
    },
    {
     "name": "stdout",
     "output_type": "stream",
     "text": [
      "    box loss-> 0.00856, object loss-> 0.01747, class loss-> 0.00000\n",
      "Validation:\n"
     ]
    },
    {
     "name": "stderr",
     "output_type": "stream",
     "text": [
      "1it [00:00,  4.84it/s]\n"
     ]
    },
    {
     "name": "stdout",
     "output_type": "stream",
     "text": [
      "    recall: 0.500000 precision: 0.946040 mAP@0.5: 0.495425, mAP@0.5-0.95: 0.297255\n",
      "\n",
      "Epoch 896/1000\n",
      "----------\n",
      "Train: \n"
     ]
    },
    {
     "name": "stderr",
     "output_type": "stream",
     "text": [
      "3it [00:00,  3.81it/s]\n"
     ]
    },
    {
     "name": "stdout",
     "output_type": "stream",
     "text": [
      "    box loss-> 0.00849, object loss-> 0.01729, class loss-> 0.00000\n",
      "Validation:\n"
     ]
    },
    {
     "name": "stderr",
     "output_type": "stream",
     "text": [
      "1it [00:00,  4.89it/s]\n"
     ]
    },
    {
     "name": "stdout",
     "output_type": "stream",
     "text": [
      "    recall: 0.500000 precision: 0.978920 mAP@0.5: 0.495425, mAP@0.5-0.95: 0.297255\n",
      "\n",
      "Epoch 897/1000\n",
      "----------\n",
      "Train: \n"
     ]
    },
    {
     "name": "stderr",
     "output_type": "stream",
     "text": [
      "3it [00:00,  3.85it/s]\n"
     ]
    },
    {
     "name": "stdout",
     "output_type": "stream",
     "text": [
      "    box loss-> 0.00862, object loss-> 0.01756, class loss-> 0.00000\n",
      "Validation:\n"
     ]
    },
    {
     "name": "stderr",
     "output_type": "stream",
     "text": [
      "1it [00:00,  4.91it/s]\n"
     ]
    },
    {
     "name": "stdout",
     "output_type": "stream",
     "text": [
      "    recall: 0.500000 precision: 0.996648 mAP@0.5: 0.495425, mAP@0.5-0.95: 0.297255\n",
      "\n",
      "Epoch 898/1000\n",
      "----------\n",
      "Train: \n"
     ]
    },
    {
     "name": "stderr",
     "output_type": "stream",
     "text": [
      "3it [00:00,  3.81it/s]\n"
     ]
    },
    {
     "name": "stdout",
     "output_type": "stream",
     "text": [
      "    box loss-> 0.00874, object loss-> 0.01782, class loss-> 0.00000\n",
      "Validation:\n"
     ]
    },
    {
     "name": "stderr",
     "output_type": "stream",
     "text": [
      "1it [00:00,  4.85it/s]\n"
     ]
    },
    {
     "name": "stdout",
     "output_type": "stream",
     "text": [
      "    recall: 0.500000 precision: 0.993944 mAP@0.5: 0.495425, mAP@0.5-0.95: 0.297255\n",
      "\n",
      "Epoch 899/1000\n",
      "----------\n",
      "Train: \n"
     ]
    },
    {
     "name": "stderr",
     "output_type": "stream",
     "text": [
      "3it [00:00,  3.71it/s]\n"
     ]
    },
    {
     "name": "stdout",
     "output_type": "stream",
     "text": [
      "    box loss-> 0.00924, object loss-> 0.01793, class loss-> 0.00000\n",
      "Validation:\n"
     ]
    },
    {
     "name": "stderr",
     "output_type": "stream",
     "text": [
      "1it [00:00,  4.77it/s]\n"
     ]
    },
    {
     "name": "stdout",
     "output_type": "stream",
     "text": [
      "    recall: 0.500000 precision: 0.955956 mAP@0.5: 0.495425, mAP@0.5-0.95: 0.297255\n",
      "\n",
      "Epoch 900/1000\n",
      "----------\n",
      "Train: \n"
     ]
    },
    {
     "name": "stderr",
     "output_type": "stream",
     "text": [
      "3it [00:00,  3.77it/s]\n"
     ]
    },
    {
     "name": "stdout",
     "output_type": "stream",
     "text": [
      "    box loss-> 0.00744, object loss-> 0.01620, class loss-> 0.00000\n",
      "Validation:\n"
     ]
    },
    {
     "name": "stderr",
     "output_type": "stream",
     "text": [
      "1it [00:00,  4.82it/s]\n"
     ]
    },
    {
     "name": "stdout",
     "output_type": "stream",
     "text": [
      "    recall: 0.500000 precision: 0.977477 mAP@0.5: 0.495425, mAP@0.5-0.95: 0.297255\n",
      "\n",
      "Epoch 901/1000\n",
      "----------\n",
      "Train: \n"
     ]
    },
    {
     "name": "stderr",
     "output_type": "stream",
     "text": [
      "3it [00:00,  3.83it/s]\n"
     ]
    },
    {
     "name": "stdout",
     "output_type": "stream",
     "text": [
      "    box loss-> 0.00851, object loss-> 0.01702, class loss-> 0.00000\n",
      "Validation:\n"
     ]
    },
    {
     "name": "stderr",
     "output_type": "stream",
     "text": [
      "1it [00:00,  4.81it/s]\n"
     ]
    },
    {
     "name": "stdout",
     "output_type": "stream",
     "text": [
      "    recall: 0.500000 precision: 0.981828 mAP@0.5: 0.495425, mAP@0.5-0.95: 0.346797\n",
      "\n",
      "Epoch 902/1000\n",
      "----------\n",
      "Train: \n"
     ]
    },
    {
     "name": "stderr",
     "output_type": "stream",
     "text": [
      "3it [00:00,  3.80it/s]\n"
     ]
    },
    {
     "name": "stdout",
     "output_type": "stream",
     "text": [
      "    box loss-> 0.00805, object loss-> 0.01647, class loss-> 0.00000\n",
      "Validation:\n"
     ]
    },
    {
     "name": "stderr",
     "output_type": "stream",
     "text": [
      "1it [00:00,  4.81it/s]\n"
     ]
    },
    {
     "name": "stdout",
     "output_type": "stream",
     "text": [
      "    recall: 0.500000 precision: 0.961679 mAP@0.5: 0.495425, mAP@0.5-0.95: 0.297255\n",
      "\n",
      "Epoch 903/1000\n",
      "----------\n",
      "Train: \n"
     ]
    },
    {
     "name": "stderr",
     "output_type": "stream",
     "text": [
      "3it [00:00,  3.78it/s]\n"
     ]
    },
    {
     "name": "stdout",
     "output_type": "stream",
     "text": [
      "    box loss-> 0.00806, object loss-> 0.01661, class loss-> 0.00000\n",
      "Validation:\n"
     ]
    },
    {
     "name": "stderr",
     "output_type": "stream",
     "text": [
      "1it [00:00,  4.83it/s]\n"
     ]
    },
    {
     "name": "stdout",
     "output_type": "stream",
     "text": [
      "    recall: 0.500000 precision: 0.986832 mAP@0.5: 0.495425, mAP@0.5-0.95: 0.297255\n",
      "\n",
      "Epoch 904/1000\n",
      "----------\n",
      "Train: \n"
     ]
    },
    {
     "name": "stderr",
     "output_type": "stream",
     "text": [
      "3it [00:00,  3.72it/s]\n"
     ]
    },
    {
     "name": "stdout",
     "output_type": "stream",
     "text": [
      "    box loss-> 0.00753, object loss-> 0.01596, class loss-> 0.00000\n",
      "Validation:\n"
     ]
    },
    {
     "name": "stderr",
     "output_type": "stream",
     "text": [
      "1it [00:00,  4.82it/s]\n"
     ]
    },
    {
     "name": "stdout",
     "output_type": "stream",
     "text": [
      "    recall: 0.500000 precision: 0.953980 mAP@0.5: 0.495425, mAP@0.5-0.95: 0.346797\n",
      "\n",
      "Epoch 905/1000\n",
      "----------\n",
      "Train: \n"
     ]
    },
    {
     "name": "stderr",
     "output_type": "stream",
     "text": [
      "3it [00:00,  3.82it/s]\n"
     ]
    },
    {
     "name": "stdout",
     "output_type": "stream",
     "text": [
      "    box loss-> 0.00658, object loss-> 0.01497, class loss-> 0.00000\n",
      "Validation:\n"
     ]
    },
    {
     "name": "stderr",
     "output_type": "stream",
     "text": [
      "1it [00:00,  4.83it/s]\n"
     ]
    },
    {
     "name": "stdout",
     "output_type": "stream",
     "text": [
      "    recall: 0.500000 precision: 0.962148 mAP@0.5: 0.495425, mAP@0.5-0.95: 0.346797\n",
      "\n",
      "Epoch 906/1000\n",
      "----------\n",
      "Train: \n"
     ]
    },
    {
     "name": "stderr",
     "output_type": "stream",
     "text": [
      "3it [00:00,  3.76it/s]\n"
     ]
    },
    {
     "name": "stdout",
     "output_type": "stream",
     "text": [
      "    box loss-> 0.00727, object loss-> 0.01555, class loss-> 0.00000\n",
      "Validation:\n"
     ]
    },
    {
     "name": "stderr",
     "output_type": "stream",
     "text": [
      "1it [00:00,  4.89it/s]\n"
     ]
    },
    {
     "name": "stdout",
     "output_type": "stream",
     "text": [
      "    recall: 0.500000 precision: 0.947261 mAP@0.5: 0.495425, mAP@0.5-0.95: 0.346797\n",
      "\n",
      "Epoch 907/1000\n",
      "----------\n",
      "Train: \n"
     ]
    },
    {
     "name": "stderr",
     "output_type": "stream",
     "text": [
      "3it [00:00,  3.79it/s]\n"
     ]
    },
    {
     "name": "stdout",
     "output_type": "stream",
     "text": [
      "    box loss-> 0.00680, object loss-> 0.01516, class loss-> 0.00000\n",
      "Validation:\n"
     ]
    },
    {
     "name": "stderr",
     "output_type": "stream",
     "text": [
      "1it [00:00,  4.90it/s]\n"
     ]
    },
    {
     "name": "stdout",
     "output_type": "stream",
     "text": [
      "    recall: 0.500000 precision: 0.966249 mAP@0.5: 0.495425, mAP@0.5-0.95: 0.346797\n",
      "\n",
      "Epoch 908/1000\n",
      "----------\n",
      "Train: \n"
     ]
    },
    {
     "name": "stderr",
     "output_type": "stream",
     "text": [
      "3it [00:00,  3.82it/s]\n"
     ]
    },
    {
     "name": "stdout",
     "output_type": "stream",
     "text": [
      "    box loss-> 0.00722, object loss-> 0.01588, class loss-> 0.00000\n",
      "Validation:\n"
     ]
    },
    {
     "name": "stderr",
     "output_type": "stream",
     "text": [
      "1it [00:00,  4.79it/s]\n"
     ]
    },
    {
     "name": "stdout",
     "output_type": "stream",
     "text": [
      "    recall: 0.500000 precision: 0.963180 mAP@0.5: 0.495425, mAP@0.5-0.95: 0.346797\n",
      "\n",
      "Epoch 909/1000\n",
      "----------\n",
      "Train: \n"
     ]
    },
    {
     "name": "stderr",
     "output_type": "stream",
     "text": [
      "3it [00:00,  3.71it/s]\n"
     ]
    },
    {
     "name": "stdout",
     "output_type": "stream",
     "text": [
      "    box loss-> 0.00756, object loss-> 0.01589, class loss-> 0.00000\n",
      "Validation:\n"
     ]
    },
    {
     "name": "stderr",
     "output_type": "stream",
     "text": [
      "1it [00:00,  4.81it/s]\n"
     ]
    },
    {
     "name": "stdout",
     "output_type": "stream",
     "text": [
      "    recall: 0.500000 precision: 0.969580 mAP@0.5: 0.495425, mAP@0.5-0.95: 0.297255\n",
      "\n",
      "Epoch 910/1000\n",
      "----------\n",
      "Train: \n"
     ]
    },
    {
     "name": "stderr",
     "output_type": "stream",
     "text": [
      "3it [00:00,  3.79it/s]\n"
     ]
    },
    {
     "name": "stdout",
     "output_type": "stream",
     "text": [
      "    box loss-> 0.00756, object loss-> 0.01646, class loss-> 0.00000\n",
      "Validation:\n"
     ]
    },
    {
     "name": "stderr",
     "output_type": "stream",
     "text": [
      "1it [00:00,  4.79it/s]\n"
     ]
    },
    {
     "name": "stdout",
     "output_type": "stream",
     "text": [
      "    recall: 0.500000 precision: 0.992812 mAP@0.5: 0.495425, mAP@0.5-0.95: 0.297255\n",
      "\n",
      "Epoch 911/1000\n",
      "----------\n",
      "Train: \n"
     ]
    },
    {
     "name": "stderr",
     "output_type": "stream",
     "text": [
      "3it [00:00,  3.79it/s]\n"
     ]
    },
    {
     "name": "stdout",
     "output_type": "stream",
     "text": [
      "    box loss-> 0.00757, object loss-> 0.01628, class loss-> 0.00000\n",
      "Validation:\n"
     ]
    },
    {
     "name": "stderr",
     "output_type": "stream",
     "text": [
      "1it [00:00,  4.78it/s]\n"
     ]
    },
    {
     "name": "stdout",
     "output_type": "stream",
     "text": [
      "    recall: 0.500000 precision: 0.996438 mAP@0.5: 0.495425, mAP@0.5-0.95: 0.297255\n",
      "\n",
      "Epoch 912/1000\n",
      "----------\n",
      "Train: \n"
     ]
    },
    {
     "name": "stderr",
     "output_type": "stream",
     "text": [
      "3it [00:00,  3.77it/s]\n"
     ]
    },
    {
     "name": "stdout",
     "output_type": "stream",
     "text": [
      "    box loss-> 0.00783, object loss-> 0.01633, class loss-> 0.00000\n",
      "Validation:\n"
     ]
    },
    {
     "name": "stderr",
     "output_type": "stream",
     "text": [
      "1it [00:00,  4.87it/s]\n"
     ]
    },
    {
     "name": "stdout",
     "output_type": "stream",
     "text": [
      "    recall: 0.500000 precision: 0.998993 mAP@0.5: 0.495425, mAP@0.5-0.95: 0.297255\n",
      "\n",
      "Epoch 913/1000\n",
      "----------\n",
      "Train: \n"
     ]
    },
    {
     "name": "stderr",
     "output_type": "stream",
     "text": [
      "3it [00:00,  3.74it/s]\n"
     ]
    },
    {
     "name": "stdout",
     "output_type": "stream",
     "text": [
      "    box loss-> 0.00807, object loss-> 0.01705, class loss-> 0.00000\n",
      "Validation:\n"
     ]
    },
    {
     "name": "stderr",
     "output_type": "stream",
     "text": [
      "1it [00:00,  4.82it/s]\n"
     ]
    },
    {
     "name": "stdout",
     "output_type": "stream",
     "text": [
      "    recall: 0.500000 precision: 0.972789 mAP@0.5: 0.495425, mAP@0.5-0.95: 0.297255\n",
      "\n",
      "Epoch 914/1000\n",
      "----------\n",
      "Train: \n"
     ]
    },
    {
     "name": "stderr",
     "output_type": "stream",
     "text": [
      "3it [00:00,  3.79it/s]\n"
     ]
    },
    {
     "name": "stdout",
     "output_type": "stream",
     "text": [
      "    box loss-> 0.00742, object loss-> 0.01609, class loss-> 0.00000\n",
      "Validation:\n"
     ]
    },
    {
     "name": "stderr",
     "output_type": "stream",
     "text": [
      "1it [00:00,  4.82it/s]\n"
     ]
    },
    {
     "name": "stdout",
     "output_type": "stream",
     "text": [
      "    recall: 0.500000 precision: 0.970348 mAP@0.5: 0.495425, mAP@0.5-0.95: 0.297255\n",
      "\n",
      "Epoch 915/1000\n",
      "----------\n",
      "Train: \n"
     ]
    },
    {
     "name": "stderr",
     "output_type": "stream",
     "text": [
      "3it [00:00,  3.74it/s]\n"
     ]
    },
    {
     "name": "stdout",
     "output_type": "stream",
     "text": [
      "    box loss-> 0.00721, object loss-> 0.01576, class loss-> 0.00000\n",
      "Validation:\n"
     ]
    },
    {
     "name": "stderr",
     "output_type": "stream",
     "text": [
      "1it [00:00,  4.78it/s]\n"
     ]
    },
    {
     "name": "stdout",
     "output_type": "stream",
     "text": [
      "    recall: 0.500000 precision: 0.989852 mAP@0.5: 0.495425, mAP@0.5-0.95: 0.346797\n",
      "\n",
      "Epoch 916/1000\n",
      "----------\n",
      "Train: \n"
     ]
    },
    {
     "name": "stderr",
     "output_type": "stream",
     "text": [
      "3it [00:00,  3.81it/s]\n"
     ]
    },
    {
     "name": "stdout",
     "output_type": "stream",
     "text": [
      "    box loss-> 0.00769, object loss-> 0.01639, class loss-> 0.00000\n",
      "Validation:\n"
     ]
    },
    {
     "name": "stderr",
     "output_type": "stream",
     "text": [
      "1it [00:00,  4.90it/s]\n"
     ]
    },
    {
     "name": "stdout",
     "output_type": "stream",
     "text": [
      "    recall: 0.500000 precision: 0.999457 mAP@0.5: 0.495425, mAP@0.5-0.95: 0.346797\n",
      "\n",
      "Epoch 917/1000\n",
      "----------\n",
      "Train: \n"
     ]
    },
    {
     "name": "stderr",
     "output_type": "stream",
     "text": [
      "3it [00:00,  3.84it/s]\n"
     ]
    },
    {
     "name": "stdout",
     "output_type": "stream",
     "text": [
      "    box loss-> 0.00677, object loss-> 0.01511, class loss-> 0.00000\n",
      "Validation:\n"
     ]
    },
    {
     "name": "stderr",
     "output_type": "stream",
     "text": [
      "1it [00:00,  4.79it/s]\n"
     ]
    },
    {
     "name": "stdout",
     "output_type": "stream",
     "text": [
      "    recall: 0.500000 precision: 0.994876 mAP@0.5: 0.495425, mAP@0.5-0.95: 0.346797\n",
      "\n",
      "Epoch 918/1000\n",
      "----------\n",
      "Train: \n"
     ]
    },
    {
     "name": "stderr",
     "output_type": "stream",
     "text": [
      "3it [00:00,  3.81it/s]\n"
     ]
    },
    {
     "name": "stdout",
     "output_type": "stream",
     "text": [
      "    box loss-> 0.00758, object loss-> 0.01594, class loss-> 0.00000\n",
      "Validation:\n"
     ]
    },
    {
     "name": "stderr",
     "output_type": "stream",
     "text": [
      "1it [00:00,  4.70it/s]\n"
     ]
    },
    {
     "name": "stdout",
     "output_type": "stream",
     "text": [
      "    recall: 0.500000 precision: 0.981891 mAP@0.5: 0.495425, mAP@0.5-0.95: 0.346797\n",
      "\n",
      "Epoch 919/1000\n",
      "----------\n",
      "Train: \n"
     ]
    },
    {
     "name": "stderr",
     "output_type": "stream",
     "text": [
      "3it [00:00,  3.81it/s]\n"
     ]
    },
    {
     "name": "stdout",
     "output_type": "stream",
     "text": [
      "    box loss-> 0.00685, object loss-> 0.01512, class loss-> 0.00000\n",
      "Validation:\n"
     ]
    },
    {
     "name": "stderr",
     "output_type": "stream",
     "text": [
      "1it [00:00,  4.84it/s]\n"
     ]
    },
    {
     "name": "stdout",
     "output_type": "stream",
     "text": [
      "    recall: 0.500000 precision: 0.999978 mAP@0.5: 0.495425, mAP@0.5-0.95: 0.346797\n",
      "\n",
      "Epoch 920/1000\n",
      "----------\n",
      "Train: \n"
     ]
    },
    {
     "name": "stderr",
     "output_type": "stream",
     "text": [
      "3it [00:00,  3.73it/s]\n"
     ]
    },
    {
     "name": "stdout",
     "output_type": "stream",
     "text": [
      "    box loss-> 0.00713, object loss-> 0.01557, class loss-> 0.00000\n",
      "Validation:\n"
     ]
    },
    {
     "name": "stderr",
     "output_type": "stream",
     "text": [
      "1it [00:00,  4.72it/s]\n"
     ]
    },
    {
     "name": "stdout",
     "output_type": "stream",
     "text": [
      "    recall: 0.500000 precision: 0.984980 mAP@0.5: 0.495425, mAP@0.5-0.95: 0.346797\n",
      "\n",
      "Epoch 921/1000\n",
      "----------\n",
      "Train: \n"
     ]
    },
    {
     "name": "stderr",
     "output_type": "stream",
     "text": [
      "3it [00:00,  3.81it/s]\n"
     ]
    },
    {
     "name": "stdout",
     "output_type": "stream",
     "text": [
      "    box loss-> 0.00722, object loss-> 0.01544, class loss-> 0.00000\n",
      "Validation:\n"
     ]
    },
    {
     "name": "stderr",
     "output_type": "stream",
     "text": [
      "1it [00:00,  4.78it/s]\n"
     ]
    },
    {
     "name": "stdout",
     "output_type": "stream",
     "text": [
      "    recall: 0.500000 precision: 0.973320 mAP@0.5: 0.495425, mAP@0.5-0.95: 0.346797\n",
      "\n",
      "Epoch 922/1000\n",
      "----------\n",
      "Train: \n"
     ]
    },
    {
     "name": "stderr",
     "output_type": "stream",
     "text": [
      "3it [00:00,  3.84it/s]\n"
     ]
    },
    {
     "name": "stdout",
     "output_type": "stream",
     "text": [
      "    box loss-> 0.00672, object loss-> 0.01508, class loss-> 0.00000\n",
      "Validation:\n"
     ]
    },
    {
     "name": "stderr",
     "output_type": "stream",
     "text": [
      "1it [00:00,  4.74it/s]\n"
     ]
    },
    {
     "name": "stdout",
     "output_type": "stream",
     "text": [
      "    recall: 0.500000 precision: 0.995776 mAP@0.5: 0.495425, mAP@0.5-0.95: 0.346797\n",
      "\n",
      "Epoch 923/1000\n",
      "----------\n",
      "Train: \n"
     ]
    },
    {
     "name": "stderr",
     "output_type": "stream",
     "text": [
      "3it [00:00,  3.77it/s]\n"
     ]
    },
    {
     "name": "stdout",
     "output_type": "stream",
     "text": [
      "    box loss-> 0.00784, object loss-> 0.01694, class loss-> 0.00000\n",
      "Validation:\n"
     ]
    },
    {
     "name": "stderr",
     "output_type": "stream",
     "text": [
      "1it [00:00,  4.77it/s]\n"
     ]
    },
    {
     "name": "stdout",
     "output_type": "stream",
     "text": [
      "    recall: 0.500000 precision: 0.966476 mAP@0.5: 0.495425, mAP@0.5-0.95: 0.346797\n",
      "\n",
      "Epoch 924/1000\n",
      "----------\n",
      "Train: \n"
     ]
    },
    {
     "name": "stderr",
     "output_type": "stream",
     "text": [
      "3it [00:00,  3.82it/s]\n"
     ]
    },
    {
     "name": "stdout",
     "output_type": "stream",
     "text": [
      "    box loss-> 0.00776, object loss-> 0.01606, class loss-> 0.00000\n",
      "Validation:\n"
     ]
    },
    {
     "name": "stderr",
     "output_type": "stream",
     "text": [
      "1it [00:00,  4.87it/s]\n"
     ]
    },
    {
     "name": "stdout",
     "output_type": "stream",
     "text": [
      "    recall: 0.500000 precision: 0.998267 mAP@0.5: 0.495425, mAP@0.5-0.95: 0.346797\n",
      "\n",
      "Epoch 925/1000\n",
      "----------\n",
      "Train: \n"
     ]
    },
    {
     "name": "stderr",
     "output_type": "stream",
     "text": [
      "3it [00:00,  3.76it/s]\n"
     ]
    },
    {
     "name": "stdout",
     "output_type": "stream",
     "text": [
      "    box loss-> 0.00663, object loss-> 0.01508, class loss-> 0.00000\n",
      "Validation:\n"
     ]
    },
    {
     "name": "stderr",
     "output_type": "stream",
     "text": [
      "1it [00:00,  4.84it/s]\n"
     ]
    },
    {
     "name": "stdout",
     "output_type": "stream",
     "text": [
      "    recall: 0.500000 precision: 0.967257 mAP@0.5: 0.495425, mAP@0.5-0.95: 0.346797\n",
      "\n",
      "Epoch 926/1000\n",
      "----------\n",
      "Train: \n"
     ]
    },
    {
     "name": "stderr",
     "output_type": "stream",
     "text": [
      "3it [00:00,  3.79it/s]\n"
     ]
    },
    {
     "name": "stdout",
     "output_type": "stream",
     "text": [
      "    box loss-> 0.00759, object loss-> 0.01574, class loss-> 0.00000\n",
      "Validation:\n"
     ]
    },
    {
     "name": "stderr",
     "output_type": "stream",
     "text": [
      "1it [00:00,  4.79it/s]\n"
     ]
    },
    {
     "name": "stdout",
     "output_type": "stream",
     "text": [
      "    recall: 0.500000 precision: 0.984578 mAP@0.5: 0.495425, mAP@0.5-0.95: 0.346797\n",
      "\n",
      "Epoch 927/1000\n",
      "----------\n",
      "Train: \n"
     ]
    },
    {
     "name": "stderr",
     "output_type": "stream",
     "text": [
      "3it [00:00,  3.80it/s]\n"
     ]
    },
    {
     "name": "stdout",
     "output_type": "stream",
     "text": [
      "    box loss-> 0.00787, object loss-> 0.01622, class loss-> 0.00000\n",
      "Validation:\n"
     ]
    },
    {
     "name": "stderr",
     "output_type": "stream",
     "text": [
      "1it [00:00,  4.62it/s]\n"
     ]
    },
    {
     "name": "stdout",
     "output_type": "stream",
     "text": [
      "    recall: 0.500000 precision: 0.974640 mAP@0.5: 0.495425, mAP@0.5-0.95: 0.297255\n",
      "\n",
      "Epoch 928/1000\n",
      "----------\n",
      "Train: \n"
     ]
    },
    {
     "name": "stderr",
     "output_type": "stream",
     "text": [
      "3it [00:00,  3.80it/s]\n"
     ]
    },
    {
     "name": "stdout",
     "output_type": "stream",
     "text": [
      "    box loss-> 0.00730, object loss-> 0.01531, class loss-> 0.00000\n",
      "Validation:\n"
     ]
    },
    {
     "name": "stderr",
     "output_type": "stream",
     "text": [
      "1it [00:00,  4.77it/s]\n"
     ]
    },
    {
     "name": "stdout",
     "output_type": "stream",
     "text": [
      "    recall: 0.500000 precision: 0.995845 mAP@0.5: 0.495425, mAP@0.5-0.95: 0.346797\n",
      "\n",
      "Epoch 929/1000\n",
      "----------\n",
      "Train: \n"
     ]
    },
    {
     "name": "stderr",
     "output_type": "stream",
     "text": [
      "3it [00:00,  3.75it/s]\n"
     ]
    },
    {
     "name": "stdout",
     "output_type": "stream",
     "text": [
      "    box loss-> 0.00633, object loss-> 0.01462, class loss-> 0.00000\n",
      "Validation:\n"
     ]
    },
    {
     "name": "stderr",
     "output_type": "stream",
     "text": [
      "1it [00:00,  4.85it/s]\n"
     ]
    },
    {
     "name": "stdout",
     "output_type": "stream",
     "text": [
      "    recall: 0.500000 precision: 0.953547 mAP@0.5: 0.495425, mAP@0.5-0.95: 0.346797\n",
      "\n",
      "Epoch 930/1000\n",
      "----------\n",
      "Train: \n"
     ]
    },
    {
     "name": "stderr",
     "output_type": "stream",
     "text": [
      "3it [00:00,  3.83it/s]\n"
     ]
    },
    {
     "name": "stdout",
     "output_type": "stream",
     "text": [
      "    box loss-> 0.00762, object loss-> 0.01619, class loss-> 0.00000\n",
      "Validation:\n"
     ]
    },
    {
     "name": "stderr",
     "output_type": "stream",
     "text": [
      "1it [00:00,  4.65it/s]\n"
     ]
    },
    {
     "name": "stdout",
     "output_type": "stream",
     "text": [
      "    recall: 0.500000 precision: 0.984149 mAP@0.5: 0.495425, mAP@0.5-0.95: 0.346797\n",
      "\n",
      "Epoch 931/1000\n",
      "----------\n",
      "Train: \n"
     ]
    },
    {
     "name": "stderr",
     "output_type": "stream",
     "text": [
      "3it [00:00,  3.73it/s]\n"
     ]
    },
    {
     "name": "stdout",
     "output_type": "stream",
     "text": [
      "    box loss-> 0.00656, object loss-> 0.01489, class loss-> 0.00000\n",
      "Validation:\n"
     ]
    },
    {
     "name": "stderr",
     "output_type": "stream",
     "text": [
      "1it [00:00,  4.85it/s]\n"
     ]
    },
    {
     "name": "stdout",
     "output_type": "stream",
     "text": [
      "    recall: 0.500000 precision: 0.997885 mAP@0.5: 0.495425, mAP@0.5-0.95: 0.346797\n",
      "\n",
      "Epoch 932/1000\n",
      "----------\n",
      "Train: \n"
     ]
    },
    {
     "name": "stderr",
     "output_type": "stream",
     "text": [
      "3it [00:00,  3.78it/s]\n"
     ]
    },
    {
     "name": "stdout",
     "output_type": "stream",
     "text": [
      "    box loss-> 0.00779, object loss-> 0.01611, class loss-> 0.00000\n",
      "Validation:\n"
     ]
    },
    {
     "name": "stderr",
     "output_type": "stream",
     "text": [
      "1it [00:00,  4.76it/s]\n"
     ]
    },
    {
     "name": "stdout",
     "output_type": "stream",
     "text": [
      "    recall: 0.500000 precision: 0.994280 mAP@0.5: 0.495425, mAP@0.5-0.95: 0.346797\n",
      "\n",
      "Epoch 933/1000\n",
      "----------\n",
      "Train: \n"
     ]
    },
    {
     "name": "stderr",
     "output_type": "stream",
     "text": [
      "3it [00:00,  3.80it/s]\n"
     ]
    },
    {
     "name": "stdout",
     "output_type": "stream",
     "text": [
      "    box loss-> 0.00698, object loss-> 0.01553, class loss-> 0.00000\n",
      "Validation:\n"
     ]
    },
    {
     "name": "stderr",
     "output_type": "stream",
     "text": [
      "1it [00:00,  4.69it/s]\n"
     ]
    },
    {
     "name": "stdout",
     "output_type": "stream",
     "text": [
      "    recall: 0.500000 precision: 0.997945 mAP@0.5: 0.495425, mAP@0.5-0.95: 0.297255\n",
      "\n",
      "Epoch 934/1000\n",
      "----------\n",
      "Train: \n"
     ]
    },
    {
     "name": "stderr",
     "output_type": "stream",
     "text": [
      "3it [00:00,  3.79it/s]\n"
     ]
    },
    {
     "name": "stdout",
     "output_type": "stream",
     "text": [
      "    box loss-> 0.00681, object loss-> 0.01514, class loss-> 0.00000\n",
      "Validation:\n"
     ]
    },
    {
     "name": "stderr",
     "output_type": "stream",
     "text": [
      "1it [00:00,  4.81it/s]\n"
     ]
    },
    {
     "name": "stdout",
     "output_type": "stream",
     "text": [
      "    recall: 0.500000 precision: 0.961268 mAP@0.5: 0.495425, mAP@0.5-0.95: 0.346797\n",
      "\n",
      "Epoch 935/1000\n",
      "----------\n",
      "Train: \n"
     ]
    },
    {
     "name": "stderr",
     "output_type": "stream",
     "text": [
      "3it [00:00,  3.84it/s]\n"
     ]
    },
    {
     "name": "stdout",
     "output_type": "stream",
     "text": [
      "    box loss-> 0.00665, object loss-> 0.01493, class loss-> 0.00000\n",
      "Validation:\n"
     ]
    },
    {
     "name": "stderr",
     "output_type": "stream",
     "text": [
      "1it [00:00,  4.74it/s]\n"
     ]
    },
    {
     "name": "stdout",
     "output_type": "stream",
     "text": [
      "    recall: 0.500000 precision: 0.999110 mAP@0.5: 0.495425, mAP@0.5-0.95: 0.346797\n",
      "\n",
      "Epoch 936/1000\n",
      "----------\n",
      "Train: \n"
     ]
    },
    {
     "name": "stderr",
     "output_type": "stream",
     "text": [
      "3it [00:00,  3.73it/s]\n"
     ]
    },
    {
     "name": "stdout",
     "output_type": "stream",
     "text": [
      "    box loss-> 0.00680, object loss-> 0.01533, class loss-> 0.00000\n",
      "Validation:\n"
     ]
    },
    {
     "name": "stderr",
     "output_type": "stream",
     "text": [
      "1it [00:00,  4.77it/s]\n"
     ]
    },
    {
     "name": "stdout",
     "output_type": "stream",
     "text": [
      "    recall: 0.500000 precision: 0.953976 mAP@0.5: 0.495425, mAP@0.5-0.95: 0.346797\n",
      "\n",
      "Epoch 937/1000\n",
      "----------\n",
      "Train: \n"
     ]
    },
    {
     "name": "stderr",
     "output_type": "stream",
     "text": [
      "3it [00:00,  3.82it/s]\n"
     ]
    },
    {
     "name": "stdout",
     "output_type": "stream",
     "text": [
      "    box loss-> 0.00688, object loss-> 0.01502, class loss-> 0.00000\n",
      "Validation:\n"
     ]
    },
    {
     "name": "stderr",
     "output_type": "stream",
     "text": [
      "1it [00:00,  4.73it/s]\n"
     ]
    },
    {
     "name": "stdout",
     "output_type": "stream",
     "text": [
      "    recall: 0.500000 precision: 0.986691 mAP@0.5: 0.495425, mAP@0.5-0.95: 0.346797\n",
      "\n",
      "Epoch 938/1000\n",
      "----------\n",
      "Train: \n"
     ]
    },
    {
     "name": "stderr",
     "output_type": "stream",
     "text": [
      "3it [00:00,  3.75it/s]\n"
     ]
    },
    {
     "name": "stdout",
     "output_type": "stream",
     "text": [
      "    box loss-> 0.00706, object loss-> 0.01498, class loss-> 0.00000\n",
      "Validation:\n"
     ]
    },
    {
     "name": "stderr",
     "output_type": "stream",
     "text": [
      "1it [00:00,  4.80it/s]\n"
     ]
    },
    {
     "name": "stdout",
     "output_type": "stream",
     "text": [
      "    recall: 0.500000 precision: 0.972212 mAP@0.5: 0.495425, mAP@0.5-0.95: 0.346797\n",
      "\n",
      "Epoch 939/1000\n",
      "----------\n",
      "Train: \n"
     ]
    },
    {
     "name": "stderr",
     "output_type": "stream",
     "text": [
      "3it [00:00,  3.76it/s]\n"
     ]
    },
    {
     "name": "stdout",
     "output_type": "stream",
     "text": [
      "    box loss-> 0.00815, object loss-> 0.01663, class loss-> 0.00000\n",
      "Validation:\n"
     ]
    },
    {
     "name": "stderr",
     "output_type": "stream",
     "text": [
      "1it [00:00,  4.82it/s]\n"
     ]
    },
    {
     "name": "stdout",
     "output_type": "stream",
     "text": [
      "    recall: 0.500000 precision: 0.989587 mAP@0.5: 0.495425, mAP@0.5-0.95: 0.346797\n",
      "\n",
      "Epoch 940/1000\n",
      "----------\n",
      "Train: \n"
     ]
    },
    {
     "name": "stderr",
     "output_type": "stream",
     "text": [
      "3it [00:00,  3.79it/s]\n"
     ]
    },
    {
     "name": "stdout",
     "output_type": "stream",
     "text": [
      "    box loss-> 0.00627, object loss-> 0.01472, class loss-> 0.00000\n",
      "Validation:\n"
     ]
    },
    {
     "name": "stderr",
     "output_type": "stream",
     "text": [
      "1it [00:00,  4.77it/s]\n"
     ]
    },
    {
     "name": "stdout",
     "output_type": "stream",
     "text": [
      "    recall: 0.500000 precision: 0.973889 mAP@0.5: 0.495425, mAP@0.5-0.95: 0.346797\n",
      "\n",
      "Epoch 941/1000\n",
      "----------\n",
      "Train: \n"
     ]
    },
    {
     "name": "stderr",
     "output_type": "stream",
     "text": [
      "3it [00:00,  3.68it/s]\n"
     ]
    },
    {
     "name": "stdout",
     "output_type": "stream",
     "text": [
      "    box loss-> 0.00660, object loss-> 0.01515, class loss-> 0.00000\n",
      "Validation:\n"
     ]
    },
    {
     "name": "stderr",
     "output_type": "stream",
     "text": [
      "1it [00:00,  4.77it/s]\n"
     ]
    },
    {
     "name": "stdout",
     "output_type": "stream",
     "text": [
      "    recall: 0.500000 precision: 0.990584 mAP@0.5: 0.495425, mAP@0.5-0.95: 0.346797\n",
      "\n",
      "Epoch 942/1000\n",
      "----------\n",
      "Train: \n"
     ]
    },
    {
     "name": "stderr",
     "output_type": "stream",
     "text": [
      "3it [00:00,  3.76it/s]\n"
     ]
    },
    {
     "name": "stdout",
     "output_type": "stream",
     "text": [
      "    box loss-> 0.00642, object loss-> 0.01485, class loss-> 0.00000\n",
      "Validation:\n"
     ]
    },
    {
     "name": "stderr",
     "output_type": "stream",
     "text": [
      "1it [00:00,  4.76it/s]\n"
     ]
    },
    {
     "name": "stdout",
     "output_type": "stream",
     "text": [
      "    recall: 0.500000 precision: 0.968203 mAP@0.5: 0.495425, mAP@0.5-0.95: 0.346797\n",
      "\n",
      "Epoch 943/1000\n",
      "----------\n",
      "Train: \n"
     ]
    },
    {
     "name": "stderr",
     "output_type": "stream",
     "text": [
      "3it [00:00,  3.81it/s]\n"
     ]
    },
    {
     "name": "stdout",
     "output_type": "stream",
     "text": [
      "    box loss-> 0.00698, object loss-> 0.01549, class loss-> 0.00000\n",
      "Validation:\n"
     ]
    },
    {
     "name": "stderr",
     "output_type": "stream",
     "text": [
      "1it [00:00,  4.90it/s]\n"
     ]
    },
    {
     "name": "stdout",
     "output_type": "stream",
     "text": [
      "    recall: 0.500000 precision: 0.987413 mAP@0.5: 0.495425, mAP@0.5-0.95: 0.346797\n",
      "\n",
      "Epoch 944/1000\n",
      "----------\n",
      "Train: \n"
     ]
    },
    {
     "name": "stderr",
     "output_type": "stream",
     "text": [
      "3it [00:00,  3.80it/s]\n"
     ]
    },
    {
     "name": "stdout",
     "output_type": "stream",
     "text": [
      "    box loss-> 0.00721, object loss-> 0.01576, class loss-> 0.00000\n",
      "Validation:\n"
     ]
    },
    {
     "name": "stderr",
     "output_type": "stream",
     "text": [
      "1it [00:00,  4.85it/s]\n"
     ]
    },
    {
     "name": "stdout",
     "output_type": "stream",
     "text": [
      "    recall: 0.500000 precision: 0.963070 mAP@0.5: 0.495425, mAP@0.5-0.95: 0.346797\n",
      "\n",
      "Epoch 945/1000\n",
      "----------\n",
      "Train: \n"
     ]
    },
    {
     "name": "stderr",
     "output_type": "stream",
     "text": [
      "3it [00:00,  3.82it/s]\n"
     ]
    },
    {
     "name": "stdout",
     "output_type": "stream",
     "text": [
      "    box loss-> 0.00724, object loss-> 0.01534, class loss-> 0.00000\n",
      "Validation:\n"
     ]
    },
    {
     "name": "stderr",
     "output_type": "stream",
     "text": [
      "1it [00:00,  4.84it/s]\n"
     ]
    },
    {
     "name": "stdout",
     "output_type": "stream",
     "text": [
      "    recall: 0.500000 precision: 0.998831 mAP@0.5: 0.495425, mAP@0.5-0.95: 0.346797\n",
      "\n",
      "Epoch 946/1000\n",
      "----------\n",
      "Train: \n"
     ]
    },
    {
     "name": "stderr",
     "output_type": "stream",
     "text": [
      "3it [00:00,  3.82it/s]\n"
     ]
    },
    {
     "name": "stdout",
     "output_type": "stream",
     "text": [
      "    box loss-> 0.00710, object loss-> 0.01562, class loss-> 0.00000\n",
      "Validation:\n"
     ]
    },
    {
     "name": "stderr",
     "output_type": "stream",
     "text": [
      "1it [00:00,  4.83it/s]\n"
     ]
    },
    {
     "name": "stdout",
     "output_type": "stream",
     "text": [
      "    recall: 0.500000 precision: 0.994972 mAP@0.5: 0.495425, mAP@0.5-0.95: 0.346797\n",
      "\n",
      "Epoch 947/1000\n",
      "----------\n",
      "Train: \n"
     ]
    },
    {
     "name": "stderr",
     "output_type": "stream",
     "text": [
      "3it [00:00,  3.75it/s]\n"
     ]
    },
    {
     "name": "stdout",
     "output_type": "stream",
     "text": [
      "    box loss-> 0.00643, object loss-> 0.01466, class loss-> 0.00000\n",
      "Validation:\n"
     ]
    },
    {
     "name": "stderr",
     "output_type": "stream",
     "text": [
      "1it [00:00,  4.87it/s]\n"
     ]
    },
    {
     "name": "stdout",
     "output_type": "stream",
     "text": [
      "    recall: 0.500000 precision: 0.993480 mAP@0.5: 0.495425, mAP@0.5-0.95: 0.346797\n",
      "\n",
      "Epoch 948/1000\n",
      "----------\n",
      "Train: \n"
     ]
    },
    {
     "name": "stderr",
     "output_type": "stream",
     "text": [
      "3it [00:00,  3.78it/s]\n"
     ]
    },
    {
     "name": "stdout",
     "output_type": "stream",
     "text": [
      "    box loss-> 0.00666, object loss-> 0.01492, class loss-> 0.00000\n",
      "Validation:\n"
     ]
    },
    {
     "name": "stderr",
     "output_type": "stream",
     "text": [
      "1it [00:00,  4.81it/s]\n"
     ]
    },
    {
     "name": "stdout",
     "output_type": "stream",
     "text": [
      "    recall: 0.500000 precision: 0.976914 mAP@0.5: 0.495425, mAP@0.5-0.95: 0.346797\n",
      "\n",
      "Epoch 949/1000\n",
      "----------\n",
      "Train: \n"
     ]
    },
    {
     "name": "stderr",
     "output_type": "stream",
     "text": [
      "3it [00:00,  3.76it/s]\n"
     ]
    },
    {
     "name": "stdout",
     "output_type": "stream",
     "text": [
      "    box loss-> 0.00646, object loss-> 0.01452, class loss-> 0.00000\n",
      "Validation:\n"
     ]
    },
    {
     "name": "stderr",
     "output_type": "stream",
     "text": [
      "1it [00:00,  4.86it/s]\n"
     ]
    },
    {
     "name": "stdout",
     "output_type": "stream",
     "text": [
      "    recall: 0.500000 precision: 0.991277 mAP@0.5: 0.495425, mAP@0.5-0.95: 0.346797\n",
      "\n",
      "Epoch 950/1000\n",
      "----------\n",
      "Train: \n"
     ]
    },
    {
     "name": "stderr",
     "output_type": "stream",
     "text": [
      "3it [00:00,  3.78it/s]\n"
     ]
    },
    {
     "name": "stdout",
     "output_type": "stream",
     "text": [
      "    box loss-> 0.00600, object loss-> 0.01440, class loss-> 0.00000\n",
      "Validation:\n"
     ]
    },
    {
     "name": "stderr",
     "output_type": "stream",
     "text": [
      "1it [00:00,  4.83it/s]\n"
     ]
    },
    {
     "name": "stdout",
     "output_type": "stream",
     "text": [
      "    recall: 0.500000 precision: 0.981824 mAP@0.5: 0.495425, mAP@0.5-0.95: 0.346797\n",
      "\n",
      "Epoch 951/1000\n",
      "----------\n",
      "Train: \n"
     ]
    },
    {
     "name": "stderr",
     "output_type": "stream",
     "text": [
      "3it [00:00,  3.82it/s]\n"
     ]
    },
    {
     "name": "stdout",
     "output_type": "stream",
     "text": [
      "    box loss-> 0.00644, object loss-> 0.01467, class loss-> 0.00000\n",
      "Validation:\n"
     ]
    },
    {
     "name": "stderr",
     "output_type": "stream",
     "text": [
      "1it [00:00,  4.81it/s]\n"
     ]
    },
    {
     "name": "stdout",
     "output_type": "stream",
     "text": [
      "    recall: 0.500000 precision: 0.970923 mAP@0.5: 0.495425, mAP@0.5-0.95: 0.346797\n",
      "\n",
      "Epoch 952/1000\n",
      "----------\n",
      "Train: \n"
     ]
    },
    {
     "name": "stderr",
     "output_type": "stream",
     "text": [
      "3it [00:00,  3.72it/s]\n"
     ]
    },
    {
     "name": "stdout",
     "output_type": "stream",
     "text": [
      "    box loss-> 0.00629, object loss-> 0.01450, class loss-> 0.00000\n",
      "Validation:\n"
     ]
    },
    {
     "name": "stderr",
     "output_type": "stream",
     "text": [
      "1it [00:00,  4.84it/s]\n"
     ]
    },
    {
     "name": "stdout",
     "output_type": "stream",
     "text": [
      "    recall: 0.500000 precision: 0.985964 mAP@0.5: 0.495425, mAP@0.5-0.95: 0.346797\n",
      "\n",
      "Epoch 953/1000\n",
      "----------\n",
      "Train: \n"
     ]
    },
    {
     "name": "stderr",
     "output_type": "stream",
     "text": [
      "3it [00:00,  3.75it/s]\n"
     ]
    },
    {
     "name": "stdout",
     "output_type": "stream",
     "text": [
      "    box loss-> 0.00793, object loss-> 0.01618, class loss-> 0.00000\n",
      "Validation:\n"
     ]
    },
    {
     "name": "stderr",
     "output_type": "stream",
     "text": [
      "1it [00:00,  4.79it/s]\n"
     ]
    },
    {
     "name": "stdout",
     "output_type": "stream",
     "text": [
      "    recall: 0.500000 precision: 0.974636 mAP@0.5: 0.495425, mAP@0.5-0.95: 0.346797\n",
      "\n",
      "Epoch 954/1000\n",
      "----------\n",
      "Train: \n"
     ]
    },
    {
     "name": "stderr",
     "output_type": "stream",
     "text": [
      "3it [00:00,  3.82it/s]\n"
     ]
    },
    {
     "name": "stdout",
     "output_type": "stream",
     "text": [
      "    box loss-> 0.00653, object loss-> 0.01511, class loss-> 0.00000\n",
      "Validation:\n"
     ]
    },
    {
     "name": "stderr",
     "output_type": "stream",
     "text": [
      "1it [00:00,  4.78it/s]\n"
     ]
    },
    {
     "name": "stdout",
     "output_type": "stream",
     "text": [
      "    recall: 0.500000 precision: 0.972248 mAP@0.5: 0.495425, mAP@0.5-0.95: 0.346797\n",
      "\n",
      "Epoch 955/1000\n",
      "----------\n",
      "Train: \n"
     ]
    },
    {
     "name": "stderr",
     "output_type": "stream",
     "text": [
      "3it [00:00,  3.81it/s]\n"
     ]
    },
    {
     "name": "stdout",
     "output_type": "stream",
     "text": [
      "    box loss-> 0.00580, object loss-> 0.01395, class loss-> 0.00000\n",
      "Validation:\n"
     ]
    },
    {
     "name": "stderr",
     "output_type": "stream",
     "text": [
      "1it [00:00,  4.79it/s]\n"
     ]
    },
    {
     "name": "stdout",
     "output_type": "stream",
     "text": [
      "    recall: 0.500000 precision: 0.969865 mAP@0.5: 0.495425, mAP@0.5-0.95: 0.346797\n",
      "\n",
      "Epoch 956/1000\n",
      "----------\n",
      "Train: \n"
     ]
    },
    {
     "name": "stderr",
     "output_type": "stream",
     "text": [
      "3it [00:00,  3.79it/s]\n"
     ]
    },
    {
     "name": "stdout",
     "output_type": "stream",
     "text": [
      "    box loss-> 0.00641, object loss-> 0.01462, class loss-> 0.00000\n",
      "Validation:\n"
     ]
    },
    {
     "name": "stderr",
     "output_type": "stream",
     "text": [
      "1it [00:00,  4.89it/s]\n"
     ]
    },
    {
     "name": "stdout",
     "output_type": "stream",
     "text": [
      "    recall: 0.500000 precision: 0.982016 mAP@0.5: 0.495425, mAP@0.5-0.95: 0.346797\n",
      "\n",
      "Epoch 957/1000\n",
      "----------\n",
      "Train: \n"
     ]
    },
    {
     "name": "stderr",
     "output_type": "stream",
     "text": [
      "3it [00:00,  3.72it/s]\n"
     ]
    },
    {
     "name": "stdout",
     "output_type": "stream",
     "text": [
      "    box loss-> 0.00648, object loss-> 0.01455, class loss-> 0.00000\n",
      "Validation:\n"
     ]
    },
    {
     "name": "stderr",
     "output_type": "stream",
     "text": [
      "1it [00:00,  4.89it/s]\n"
     ]
    },
    {
     "name": "stdout",
     "output_type": "stream",
     "text": [
      "    recall: 0.500000 precision: 0.982015 mAP@0.5: 0.495425, mAP@0.5-0.95: 0.346797\n",
      "\n",
      "Epoch 958/1000\n",
      "----------\n",
      "Train: \n"
     ]
    },
    {
     "name": "stderr",
     "output_type": "stream",
     "text": [
      "3it [00:00,  3.80it/s]\n"
     ]
    },
    {
     "name": "stdout",
     "output_type": "stream",
     "text": [
      "    box loss-> 0.00731, object loss-> 0.01542, class loss-> 0.00000\n",
      "Validation:\n"
     ]
    },
    {
     "name": "stderr",
     "output_type": "stream",
     "text": [
      "1it [00:00,  4.83it/s]\n"
     ]
    },
    {
     "name": "stdout",
     "output_type": "stream",
     "text": [
      "    recall: 0.500000 precision: 0.965915 mAP@0.5: 0.495425, mAP@0.5-0.95: 0.346797\n",
      "\n",
      "Epoch 959/1000\n",
      "----------\n",
      "Train: \n"
     ]
    },
    {
     "name": "stderr",
     "output_type": "stream",
     "text": [
      "3it [00:00,  3.80it/s]\n"
     ]
    },
    {
     "name": "stdout",
     "output_type": "stream",
     "text": [
      "    box loss-> 0.00666, object loss-> 0.01499, class loss-> 0.00000\n",
      "Validation:\n"
     ]
    },
    {
     "name": "stderr",
     "output_type": "stream",
     "text": [
      "1it [00:00,  4.79it/s]\n"
     ]
    },
    {
     "name": "stdout",
     "output_type": "stream",
     "text": [
      "    recall: 0.500000 precision: 0.982092 mAP@0.5: 0.495425, mAP@0.5-0.95: 0.346797\n",
      "\n",
      "Epoch 960/1000\n",
      "----------\n",
      "Train: \n"
     ]
    },
    {
     "name": "stderr",
     "output_type": "stream",
     "text": [
      "3it [00:00,  3.77it/s]\n"
     ]
    },
    {
     "name": "stdout",
     "output_type": "stream",
     "text": [
      "    box loss-> 0.00616, object loss-> 0.01427, class loss-> 0.00000\n",
      "Validation:\n"
     ]
    },
    {
     "name": "stderr",
     "output_type": "stream",
     "text": [
      "1it [00:00,  4.84it/s]\n"
     ]
    },
    {
     "name": "stdout",
     "output_type": "stream",
     "text": [
      "    recall: 0.500000 precision: 0.980744 mAP@0.5: 0.495425, mAP@0.5-0.95: 0.346797\n",
      "\n",
      "Epoch 961/1000\n",
      "----------\n",
      "Train: \n"
     ]
    },
    {
     "name": "stderr",
     "output_type": "stream",
     "text": [
      "3it [00:00,  3.82it/s]\n"
     ]
    },
    {
     "name": "stdout",
     "output_type": "stream",
     "text": [
      "    box loss-> 0.00698, object loss-> 0.01521, class loss-> 0.00000\n",
      "Validation:\n"
     ]
    },
    {
     "name": "stderr",
     "output_type": "stream",
     "text": [
      "1it [00:00,  4.84it/s]\n"
     ]
    },
    {
     "name": "stdout",
     "output_type": "stream",
     "text": [
      "    recall: 0.500000 precision: 0.979660 mAP@0.5: 0.495425, mAP@0.5-0.95: 0.346797\n",
      "\n",
      "Epoch 962/1000\n",
      "----------\n",
      "Train: \n"
     ]
    },
    {
     "name": "stderr",
     "output_type": "stream",
     "text": [
      "3it [00:00,  3.78it/s]\n"
     ]
    },
    {
     "name": "stdout",
     "output_type": "stream",
     "text": [
      "    box loss-> 0.00687, object loss-> 0.01486, class loss-> 0.00000\n",
      "Validation:\n"
     ]
    },
    {
     "name": "stderr",
     "output_type": "stream",
     "text": [
      "1it [00:00,  4.86it/s]\n"
     ]
    },
    {
     "name": "stdout",
     "output_type": "stream",
     "text": [
      "    recall: 0.500000 precision: 0.985742 mAP@0.5: 0.495425, mAP@0.5-0.95: 0.346797\n",
      "\n",
      "Epoch 963/1000\n",
      "----------\n",
      "Train: \n"
     ]
    },
    {
     "name": "stderr",
     "output_type": "stream",
     "text": [
      "3it [00:00,  3.76it/s]\n"
     ]
    },
    {
     "name": "stdout",
     "output_type": "stream",
     "text": [
      "    box loss-> 0.00611, object loss-> 0.01431, class loss-> 0.00000\n",
      "Validation:\n"
     ]
    },
    {
     "name": "stderr",
     "output_type": "stream",
     "text": [
      "1it [00:00,  4.83it/s]\n"
     ]
    },
    {
     "name": "stdout",
     "output_type": "stream",
     "text": [
      "    recall: 0.500000 precision: 0.988976 mAP@0.5: 0.495425, mAP@0.5-0.95: 0.346797\n",
      "\n",
      "Epoch 964/1000\n",
      "----------\n",
      "Train: \n"
     ]
    },
    {
     "name": "stderr",
     "output_type": "stream",
     "text": [
      "3it [00:00,  3.83it/s]\n"
     ]
    },
    {
     "name": "stdout",
     "output_type": "stream",
     "text": [
      "    box loss-> 0.00775, object loss-> 0.01587, class loss-> 0.00000\n",
      "Validation:\n"
     ]
    },
    {
     "name": "stderr",
     "output_type": "stream",
     "text": [
      "1it [00:00,  4.96it/s]\n"
     ]
    },
    {
     "name": "stdout",
     "output_type": "stream",
     "text": [
      "    recall: 0.500000 precision: 0.981477 mAP@0.5: 0.495425, mAP@0.5-0.95: 0.346797\n",
      "\n",
      "Epoch 965/1000\n",
      "----------\n",
      "Train: \n"
     ]
    },
    {
     "name": "stderr",
     "output_type": "stream",
     "text": [
      "3it [00:00,  3.84it/s]\n"
     ]
    },
    {
     "name": "stdout",
     "output_type": "stream",
     "text": [
      "    box loss-> 0.00620, object loss-> 0.01453, class loss-> 0.00000\n",
      "Validation:\n"
     ]
    },
    {
     "name": "stderr",
     "output_type": "stream",
     "text": [
      "1it [00:00,  4.92it/s]\n"
     ]
    },
    {
     "name": "stdout",
     "output_type": "stream",
     "text": [
      "    recall: 0.500000 precision: 0.973689 mAP@0.5: 0.495425, mAP@0.5-0.95: 0.346797\n",
      "\n",
      "Epoch 966/1000\n",
      "----------\n",
      "Train: \n"
     ]
    },
    {
     "name": "stderr",
     "output_type": "stream",
     "text": [
      "3it [00:00,  3.83it/s]\n"
     ]
    },
    {
     "name": "stdout",
     "output_type": "stream",
     "text": [
      "    box loss-> 0.00688, object loss-> 0.01464, class loss-> 0.00000\n",
      "Validation:\n"
     ]
    },
    {
     "name": "stderr",
     "output_type": "stream",
     "text": [
      "1it [00:00,  4.94it/s]\n"
     ]
    },
    {
     "name": "stdout",
     "output_type": "stream",
     "text": [
      "    recall: 0.500000 precision: 0.987184 mAP@0.5: 0.495425, mAP@0.5-0.95: 0.346797\n",
      "\n",
      "Epoch 967/1000\n",
      "----------\n",
      "Train: \n"
     ]
    },
    {
     "name": "stderr",
     "output_type": "stream",
     "text": [
      "3it [00:00,  3.84it/s]\n"
     ]
    },
    {
     "name": "stdout",
     "output_type": "stream",
     "text": [
      "    box loss-> 0.00602, object loss-> 0.01421, class loss-> 0.00000\n",
      "Validation:\n"
     ]
    },
    {
     "name": "stderr",
     "output_type": "stream",
     "text": [
      "1it [00:00,  4.81it/s]\n"
     ]
    },
    {
     "name": "stdout",
     "output_type": "stream",
     "text": [
      "    recall: 0.500000 precision: 0.983214 mAP@0.5: 0.495425, mAP@0.5-0.95: 0.346797\n",
      "\n",
      "Epoch 968/1000\n",
      "----------\n",
      "Train: \n"
     ]
    },
    {
     "name": "stderr",
     "output_type": "stream",
     "text": [
      "3it [00:00,  3.71it/s]\n"
     ]
    },
    {
     "name": "stdout",
     "output_type": "stream",
     "text": [
      "    box loss-> 0.00709, object loss-> 0.01556, class loss-> 0.00000\n",
      "Validation:\n"
     ]
    },
    {
     "name": "stderr",
     "output_type": "stream",
     "text": [
      "1it [00:00,  4.71it/s]\n"
     ]
    },
    {
     "name": "stdout",
     "output_type": "stream",
     "text": [
      "    recall: 0.500000 precision: 0.990192 mAP@0.5: 0.495425, mAP@0.5-0.95: 0.346797\n",
      "\n",
      "Epoch 969/1000\n",
      "----------\n",
      "Train: \n"
     ]
    },
    {
     "name": "stderr",
     "output_type": "stream",
     "text": [
      "3it [00:00,  3.70it/s]\n"
     ]
    },
    {
     "name": "stdout",
     "output_type": "stream",
     "text": [
      "    box loss-> 0.00632, object loss-> 0.01462, class loss-> 0.00000\n",
      "Validation:\n"
     ]
    },
    {
     "name": "stderr",
     "output_type": "stream",
     "text": [
      "1it [00:00,  4.77it/s]\n"
     ]
    },
    {
     "name": "stdout",
     "output_type": "stream",
     "text": [
      "    recall: 0.500000 precision: 0.992330 mAP@0.5: 0.495425, mAP@0.5-0.95: 0.346797\n",
      "\n",
      "Epoch 970/1000\n",
      "----------\n",
      "Train: \n"
     ]
    },
    {
     "name": "stderr",
     "output_type": "stream",
     "text": [
      "3it [00:00,  3.75it/s]\n"
     ]
    },
    {
     "name": "stdout",
     "output_type": "stream",
     "text": [
      "    box loss-> 0.00637, object loss-> 0.01460, class loss-> 0.00000\n",
      "Validation:\n"
     ]
    },
    {
     "name": "stderr",
     "output_type": "stream",
     "text": [
      "1it [00:00,  4.86it/s]\n"
     ]
    },
    {
     "name": "stdout",
     "output_type": "stream",
     "text": [
      "    recall: 0.500000 precision: 0.988633 mAP@0.5: 0.495425, mAP@0.5-0.95: 0.346797\n",
      "\n",
      "Epoch 971/1000\n",
      "----------\n",
      "Train: \n"
     ]
    },
    {
     "name": "stderr",
     "output_type": "stream",
     "text": [
      "3it [00:00,  3.76it/s]\n"
     ]
    },
    {
     "name": "stdout",
     "output_type": "stream",
     "text": [
      "    box loss-> 0.00617, object loss-> 0.01415, class loss-> 0.00000\n",
      "Validation:\n"
     ]
    },
    {
     "name": "stderr",
     "output_type": "stream",
     "text": [
      "1it [00:00,  4.74it/s]\n"
     ]
    },
    {
     "name": "stdout",
     "output_type": "stream",
     "text": [
      "    recall: 0.500000 precision: 0.973507 mAP@0.5: 0.495425, mAP@0.5-0.95: 0.346797\n",
      "\n",
      "Epoch 972/1000\n",
      "----------\n",
      "Train: \n"
     ]
    },
    {
     "name": "stderr",
     "output_type": "stream",
     "text": [
      "3it [00:00,  3.75it/s]\n"
     ]
    },
    {
     "name": "stdout",
     "output_type": "stream",
     "text": [
      "    box loss-> 0.00642, object loss-> 0.01469, class loss-> 0.00000\n",
      "Validation:\n"
     ]
    },
    {
     "name": "stderr",
     "output_type": "stream",
     "text": [
      "1it [00:00,  4.69it/s]\n"
     ]
    },
    {
     "name": "stdout",
     "output_type": "stream",
     "text": [
      "    recall: 0.500000 precision: 0.969406 mAP@0.5: 0.495425, mAP@0.5-0.95: 0.346797\n",
      "\n",
      "Epoch 973/1000\n",
      "----------\n",
      "Train: \n"
     ]
    },
    {
     "name": "stderr",
     "output_type": "stream",
     "text": [
      "3it [00:00,  3.71it/s]\n"
     ]
    },
    {
     "name": "stdout",
     "output_type": "stream",
     "text": [
      "    box loss-> 0.00598, object loss-> 0.01409, class loss-> 0.00000\n",
      "Validation:\n"
     ]
    },
    {
     "name": "stderr",
     "output_type": "stream",
     "text": [
      "1it [00:00,  4.85it/s]\n"
     ]
    },
    {
     "name": "stdout",
     "output_type": "stream",
     "text": [
      "    recall: 0.500000 precision: 0.964725 mAP@0.5: 0.495425, mAP@0.5-0.95: 0.346797\n",
      "\n",
      "Epoch 974/1000\n",
      "----------\n",
      "Train: \n"
     ]
    },
    {
     "name": "stderr",
     "output_type": "stream",
     "text": [
      "3it [00:00,  3.83it/s]\n"
     ]
    },
    {
     "name": "stdout",
     "output_type": "stream",
     "text": [
      "    box loss-> 0.00597, object loss-> 0.01384, class loss-> 0.00000\n",
      "Validation:\n"
     ]
    },
    {
     "name": "stderr",
     "output_type": "stream",
     "text": [
      "1it [00:00,  4.87it/s]\n"
     ]
    },
    {
     "name": "stdout",
     "output_type": "stream",
     "text": [
      "    recall: 0.500000 precision: 0.970870 mAP@0.5: 0.495425, mAP@0.5-0.95: 0.346797\n",
      "\n",
      "Epoch 975/1000\n",
      "----------\n",
      "Train: \n"
     ]
    },
    {
     "name": "stderr",
     "output_type": "stream",
     "text": [
      "3it [00:00,  3.82it/s]\n"
     ]
    },
    {
     "name": "stdout",
     "output_type": "stream",
     "text": [
      "    box loss-> 0.00598, object loss-> 0.01399, class loss-> 0.00000\n",
      "Validation:\n"
     ]
    },
    {
     "name": "stderr",
     "output_type": "stream",
     "text": [
      "1it [00:00,  4.73it/s]\n"
     ]
    },
    {
     "name": "stdout",
     "output_type": "stream",
     "text": [
      "    recall: 0.500000 precision: 0.969156 mAP@0.5: 0.495425, mAP@0.5-0.95: 0.346797\n",
      "\n",
      "Epoch 976/1000\n",
      "----------\n",
      "Train: \n"
     ]
    },
    {
     "name": "stderr",
     "output_type": "stream",
     "text": [
      "3it [00:00,  3.77it/s]\n"
     ]
    },
    {
     "name": "stdout",
     "output_type": "stream",
     "text": [
      "    box loss-> 0.00575, object loss-> 0.01392, class loss-> 0.00000\n",
      "Validation:\n"
     ]
    },
    {
     "name": "stderr",
     "output_type": "stream",
     "text": [
      "1it [00:00,  4.91it/s]\n"
     ]
    },
    {
     "name": "stdout",
     "output_type": "stream",
     "text": [
      "    recall: 0.500000 precision: 0.988106 mAP@0.5: 0.495425, mAP@0.5-0.95: 0.346797\n",
      "\n",
      "Epoch 977/1000\n",
      "----------\n",
      "Train: \n"
     ]
    },
    {
     "name": "stderr",
     "output_type": "stream",
     "text": [
      "3it [00:00,  3.86it/s]\n"
     ]
    },
    {
     "name": "stdout",
     "output_type": "stream",
     "text": [
      "    box loss-> 0.00657, object loss-> 0.01470, class loss-> 0.00000\n",
      "Validation:\n"
     ]
    },
    {
     "name": "stderr",
     "output_type": "stream",
     "text": [
      "1it [00:00,  4.95it/s]\n"
     ]
    },
    {
     "name": "stdout",
     "output_type": "stream",
     "text": [
      "    recall: 0.500000 precision: 0.983855 mAP@0.5: 0.495425, mAP@0.5-0.95: 0.346797\n",
      "\n",
      "Epoch 978/1000\n",
      "----------\n",
      "Train: \n"
     ]
    },
    {
     "name": "stderr",
     "output_type": "stream",
     "text": [
      "3it [00:00,  3.80it/s]\n"
     ]
    },
    {
     "name": "stdout",
     "output_type": "stream",
     "text": [
      "    box loss-> 0.00731, object loss-> 0.01542, class loss-> 0.00000\n",
      "Validation:\n"
     ]
    },
    {
     "name": "stderr",
     "output_type": "stream",
     "text": [
      "1it [00:00,  4.86it/s]\n"
     ]
    },
    {
     "name": "stdout",
     "output_type": "stream",
     "text": [
      "    recall: 0.500000 precision: 0.985578 mAP@0.5: 0.495425, mAP@0.5-0.95: 0.346797\n",
      "\n",
      "Epoch 979/1000\n",
      "----------\n",
      "Train: \n"
     ]
    },
    {
     "name": "stderr",
     "output_type": "stream",
     "text": [
      "3it [00:00,  3.74it/s]\n"
     ]
    },
    {
     "name": "stdout",
     "output_type": "stream",
     "text": [
      "    box loss-> 0.00692, object loss-> 0.01539, class loss-> 0.00000\n",
      "Validation:\n"
     ]
    },
    {
     "name": "stderr",
     "output_type": "stream",
     "text": [
      "1it [00:00,  4.91it/s]\n"
     ]
    },
    {
     "name": "stdout",
     "output_type": "stream",
     "text": [
      "    recall: 0.500000 precision: 0.974488 mAP@0.5: 0.495425, mAP@0.5-0.95: 0.346797\n",
      "\n",
      "Epoch 980/1000\n",
      "----------\n",
      "Train: \n"
     ]
    },
    {
     "name": "stderr",
     "output_type": "stream",
     "text": [
      "3it [00:00,  3.78it/s]\n"
     ]
    },
    {
     "name": "stdout",
     "output_type": "stream",
     "text": [
      "    box loss-> 0.00699, object loss-> 0.01534, class loss-> 0.00000\n",
      "Validation:\n"
     ]
    },
    {
     "name": "stderr",
     "output_type": "stream",
     "text": [
      "1it [00:00,  4.79it/s]\n"
     ]
    },
    {
     "name": "stdout",
     "output_type": "stream",
     "text": [
      "    recall: 0.500000 precision: 0.983057 mAP@0.5: 0.495425, mAP@0.5-0.95: 0.346797\n",
      "\n",
      "Epoch 981/1000\n",
      "----------\n",
      "Train: \n"
     ]
    },
    {
     "name": "stderr",
     "output_type": "stream",
     "text": [
      "3it [00:00,  3.84it/s]\n"
     ]
    },
    {
     "name": "stdout",
     "output_type": "stream",
     "text": [
      "    box loss-> 0.00623, object loss-> 0.01418, class loss-> 0.00000\n",
      "Validation:\n"
     ]
    },
    {
     "name": "stderr",
     "output_type": "stream",
     "text": [
      "1it [00:00,  4.87it/s]\n"
     ]
    },
    {
     "name": "stdout",
     "output_type": "stream",
     "text": [
      "    recall: 0.500000 precision: 0.972522 mAP@0.5: 0.495425, mAP@0.5-0.95: 0.346797\n",
      "\n",
      "Epoch 982/1000\n",
      "----------\n",
      "Train: \n"
     ]
    },
    {
     "name": "stderr",
     "output_type": "stream",
     "text": [
      "3it [00:00,  3.80it/s]\n"
     ]
    },
    {
     "name": "stdout",
     "output_type": "stream",
     "text": [
      "    box loss-> 0.00579, object loss-> 0.01407, class loss-> 0.00000\n",
      "Validation:\n"
     ]
    },
    {
     "name": "stderr",
     "output_type": "stream",
     "text": [
      "1it [00:00,  4.82it/s]\n"
     ]
    },
    {
     "name": "stdout",
     "output_type": "stream",
     "text": [
      "    recall: 0.500000 precision: 0.978227 mAP@0.5: 0.495425, mAP@0.5-0.95: 0.346797\n",
      "\n",
      "Epoch 983/1000\n",
      "----------\n",
      "Train: \n"
     ]
    },
    {
     "name": "stderr",
     "output_type": "stream",
     "text": [
      "3it [00:00,  3.79it/s]\n"
     ]
    },
    {
     "name": "stdout",
     "output_type": "stream",
     "text": [
      "    box loss-> 0.00618, object loss-> 0.01442, class loss-> 0.00000\n",
      "Validation:\n"
     ]
    },
    {
     "name": "stderr",
     "output_type": "stream",
     "text": [
      "1it [00:00,  4.85it/s]\n"
     ]
    },
    {
     "name": "stdout",
     "output_type": "stream",
     "text": [
      "    recall: 0.500000 precision: 0.966937 mAP@0.5: 0.495425, mAP@0.5-0.95: 0.346797\n",
      "\n",
      "Epoch 984/1000\n",
      "----------\n",
      "Train: \n"
     ]
    },
    {
     "name": "stderr",
     "output_type": "stream",
     "text": [
      "3it [00:00,  3.74it/s]\n"
     ]
    },
    {
     "name": "stdout",
     "output_type": "stream",
     "text": [
      "    box loss-> 0.00650, object loss-> 0.01473, class loss-> 0.00000\n",
      "Validation:\n"
     ]
    },
    {
     "name": "stderr",
     "output_type": "stream",
     "text": [
      "1it [00:00,  4.94it/s]\n"
     ]
    },
    {
     "name": "stdout",
     "output_type": "stream",
     "text": [
      "    recall: 0.500000 precision: 0.985461 mAP@0.5: 0.495425, mAP@0.5-0.95: 0.346797\n",
      "\n",
      "Epoch 985/1000\n",
      "----------\n",
      "Train: \n"
     ]
    },
    {
     "name": "stderr",
     "output_type": "stream",
     "text": [
      "3it [00:00,  3.79it/s]\n"
     ]
    },
    {
     "name": "stdout",
     "output_type": "stream",
     "text": [
      "    box loss-> 0.00577, object loss-> 0.01392, class loss-> 0.00000\n",
      "Validation:\n"
     ]
    },
    {
     "name": "stderr",
     "output_type": "stream",
     "text": [
      "1it [00:00,  4.80it/s]\n"
     ]
    },
    {
     "name": "stdout",
     "output_type": "stream",
     "text": [
      "    recall: 0.500000 precision: 0.988871 mAP@0.5: 0.495425, mAP@0.5-0.95: 0.346797\n",
      "\n",
      "Epoch 986/1000\n",
      "----------\n",
      "Train: \n"
     ]
    },
    {
     "name": "stderr",
     "output_type": "stream",
     "text": [
      "3it [00:00,  3.80it/s]\n"
     ]
    },
    {
     "name": "stdout",
     "output_type": "stream",
     "text": [
      "    box loss-> 0.00612, object loss-> 0.01421, class loss-> 0.00000\n",
      "Validation:\n"
     ]
    },
    {
     "name": "stderr",
     "output_type": "stream",
     "text": [
      "1it [00:00,  4.77it/s]\n"
     ]
    },
    {
     "name": "stdout",
     "output_type": "stream",
     "text": [
      "    recall: 0.500000 precision: 0.993265 mAP@0.5: 0.495425, mAP@0.5-0.95: 0.346797\n",
      "\n",
      "Epoch 987/1000\n",
      "----------\n",
      "Train: \n"
     ]
    },
    {
     "name": "stderr",
     "output_type": "stream",
     "text": [
      "3it [00:00,  3.81it/s]\n"
     ]
    },
    {
     "name": "stdout",
     "output_type": "stream",
     "text": [
      "    box loss-> 0.00607, object loss-> 0.01433, class loss-> 0.00000\n",
      "Validation:\n"
     ]
    },
    {
     "name": "stderr",
     "output_type": "stream",
     "text": [
      "1it [00:00,  4.91it/s]\n"
     ]
    },
    {
     "name": "stdout",
     "output_type": "stream",
     "text": [
      "    recall: 0.500000 precision: 0.981622 mAP@0.5: 0.495425, mAP@0.5-0.95: 0.346797\n",
      "\n",
      "Epoch 988/1000\n",
      "----------\n",
      "Train: \n"
     ]
    },
    {
     "name": "stderr",
     "output_type": "stream",
     "text": [
      "3it [00:00,  3.79it/s]\n"
     ]
    },
    {
     "name": "stdout",
     "output_type": "stream",
     "text": [
      "    box loss-> 0.00630, object loss-> 0.01451, class loss-> 0.00000\n",
      "Validation:\n"
     ]
    },
    {
     "name": "stderr",
     "output_type": "stream",
     "text": [
      "1it [00:00,  4.96it/s]\n"
     ]
    },
    {
     "name": "stdout",
     "output_type": "stream",
     "text": [
      "    recall: 0.500000 precision: 0.987001 mAP@0.5: 0.495425, mAP@0.5-0.95: 0.346797\n",
      "\n",
      "Epoch 989/1000\n",
      "----------\n",
      "Train: \n"
     ]
    },
    {
     "name": "stderr",
     "output_type": "stream",
     "text": [
      "3it [00:00,  3.75it/s]\n"
     ]
    },
    {
     "name": "stdout",
     "output_type": "stream",
     "text": [
      "    box loss-> 0.00592, object loss-> 0.01408, class loss-> 0.00000\n",
      "Validation:\n"
     ]
    },
    {
     "name": "stderr",
     "output_type": "stream",
     "text": [
      "1it [00:00,  4.81it/s]\n"
     ]
    },
    {
     "name": "stdout",
     "output_type": "stream",
     "text": [
      "    recall: 0.500000 precision: 0.985842 mAP@0.5: 0.495425, mAP@0.5-0.95: 0.346797\n",
      "\n",
      "Epoch 990/1000\n",
      "----------\n",
      "Train: \n"
     ]
    },
    {
     "name": "stderr",
     "output_type": "stream",
     "text": [
      "3it [00:00,  3.78it/s]\n"
     ]
    },
    {
     "name": "stdout",
     "output_type": "stream",
     "text": [
      "    box loss-> 0.00627, object loss-> 0.01479, class loss-> 0.00000\n",
      "Validation:\n"
     ]
    },
    {
     "name": "stderr",
     "output_type": "stream",
     "text": [
      "1it [00:00,  4.90it/s]\n"
     ]
    },
    {
     "name": "stdout",
     "output_type": "stream",
     "text": [
      "    recall: 0.500000 precision: 0.996272 mAP@0.5: 0.495425, mAP@0.5-0.95: 0.346797\n",
      "\n",
      "Epoch 991/1000\n",
      "----------\n",
      "Train: \n"
     ]
    },
    {
     "name": "stderr",
     "output_type": "stream",
     "text": [
      "3it [00:00,  3.79it/s]\n"
     ]
    },
    {
     "name": "stdout",
     "output_type": "stream",
     "text": [
      "    box loss-> 0.00631, object loss-> 0.01452, class loss-> 0.00000\n",
      "Validation:\n"
     ]
    },
    {
     "name": "stderr",
     "output_type": "stream",
     "text": [
      "1it [00:00,  4.83it/s]\n"
     ]
    },
    {
     "name": "stdout",
     "output_type": "stream",
     "text": [
      "    recall: 0.500000 precision: 0.981261 mAP@0.5: 0.495425, mAP@0.5-0.95: 0.346797\n",
      "\n",
      "Epoch 992/1000\n",
      "----------\n",
      "Train: \n"
     ]
    },
    {
     "name": "stderr",
     "output_type": "stream",
     "text": [
      "3it [00:00,  3.78it/s]\n"
     ]
    },
    {
     "name": "stdout",
     "output_type": "stream",
     "text": [
      "    box loss-> 0.00605, object loss-> 0.01394, class loss-> 0.00000\n",
      "Validation:\n"
     ]
    },
    {
     "name": "stderr",
     "output_type": "stream",
     "text": [
      "1it [00:00,  4.97it/s]\n"
     ]
    },
    {
     "name": "stdout",
     "output_type": "stream",
     "text": [
      "    recall: 0.500000 precision: 0.973253 mAP@0.5: 0.495425, mAP@0.5-0.95: 0.346797\n",
      "\n",
      "Epoch 993/1000\n",
      "----------\n",
      "Train: \n"
     ]
    },
    {
     "name": "stderr",
     "output_type": "stream",
     "text": [
      "3it [00:00,  3.77it/s]\n"
     ]
    },
    {
     "name": "stdout",
     "output_type": "stream",
     "text": [
      "    box loss-> 0.00636, object loss-> 0.01423, class loss-> 0.00000\n",
      "Validation:\n"
     ]
    },
    {
     "name": "stderr",
     "output_type": "stream",
     "text": [
      "1it [00:00,  4.97it/s]\n"
     ]
    },
    {
     "name": "stdout",
     "output_type": "stream",
     "text": [
      "    recall: 0.500000 precision: 0.978165 mAP@0.5: 0.495425, mAP@0.5-0.95: 0.346797\n",
      "\n",
      "Epoch 994/1000\n",
      "----------\n",
      "Train: \n"
     ]
    },
    {
     "name": "stderr",
     "output_type": "stream",
     "text": [
      "3it [00:00,  3.83it/s]\n"
     ]
    },
    {
     "name": "stdout",
     "output_type": "stream",
     "text": [
      "    box loss-> 0.00626, object loss-> 0.01439, class loss-> 0.00000\n",
      "Validation:\n"
     ]
    },
    {
     "name": "stderr",
     "output_type": "stream",
     "text": [
      "1it [00:00,  4.96it/s]\n"
     ]
    },
    {
     "name": "stdout",
     "output_type": "stream",
     "text": [
      "    recall: 0.500000 precision: 0.993155 mAP@0.5: 0.495425, mAP@0.5-0.95: 0.346797\n",
      "\n",
      "Epoch 995/1000\n",
      "----------\n",
      "Train: \n"
     ]
    },
    {
     "name": "stderr",
     "output_type": "stream",
     "text": [
      "3it [00:00,  3.76it/s]\n"
     ]
    },
    {
     "name": "stdout",
     "output_type": "stream",
     "text": [
      "    box loss-> 0.00645, object loss-> 0.01472, class loss-> 0.00000\n",
      "Validation:\n"
     ]
    },
    {
     "name": "stderr",
     "output_type": "stream",
     "text": [
      "1it [00:00,  4.89it/s]\n"
     ]
    },
    {
     "name": "stdout",
     "output_type": "stream",
     "text": [
      "    recall: 0.500000 precision: 0.985593 mAP@0.5: 0.495425, mAP@0.5-0.95: 0.346797\n",
      "\n",
      "Epoch 996/1000\n",
      "----------\n",
      "Train: \n"
     ]
    },
    {
     "name": "stderr",
     "output_type": "stream",
     "text": [
      "3it [00:00,  3.80it/s]\n"
     ]
    },
    {
     "name": "stdout",
     "output_type": "stream",
     "text": [
      "    box loss-> 0.00618, object loss-> 0.01441, class loss-> 0.00000\n",
      "Validation:\n"
     ]
    },
    {
     "name": "stderr",
     "output_type": "stream",
     "text": [
      "1it [00:00,  4.93it/s]\n"
     ]
    },
    {
     "name": "stdout",
     "output_type": "stream",
     "text": [
      "    recall: 0.500000 precision: 0.975092 mAP@0.5: 0.495425, mAP@0.5-0.95: 0.346797\n",
      "\n",
      "Epoch 997/1000\n",
      "----------\n",
      "Train: \n"
     ]
    },
    {
     "name": "stderr",
     "output_type": "stream",
     "text": [
      "3it [00:00,  3.75it/s]\n"
     ]
    },
    {
     "name": "stdout",
     "output_type": "stream",
     "text": [
      "    box loss-> 0.00750, object loss-> 0.01584, class loss-> 0.00000\n",
      "Validation:\n"
     ]
    },
    {
     "name": "stderr",
     "output_type": "stream",
     "text": [
      "1it [00:00,  4.91it/s]\n"
     ]
    },
    {
     "name": "stdout",
     "output_type": "stream",
     "text": [
      "    recall: 0.500000 precision: 0.997081 mAP@0.5: 0.495425, mAP@0.5-0.95: 0.346797\n",
      "\n",
      "Epoch 998/1000\n",
      "----------\n",
      "Train: \n"
     ]
    },
    {
     "name": "stderr",
     "output_type": "stream",
     "text": [
      "3it [00:00,  3.82it/s]\n"
     ]
    },
    {
     "name": "stdout",
     "output_type": "stream",
     "text": [
      "    box loss-> 0.00610, object loss-> 0.01430, class loss-> 0.00000\n",
      "Validation:\n"
     ]
    },
    {
     "name": "stderr",
     "output_type": "stream",
     "text": [
      "1it [00:00,  4.74it/s]\n"
     ]
    },
    {
     "name": "stdout",
     "output_type": "stream",
     "text": [
      "    recall: 0.500000 precision: 0.985123 mAP@0.5: 0.495425, mAP@0.5-0.95: 0.346797\n",
      "\n",
      "Epoch 999/1000\n",
      "----------\n",
      "Train: \n"
     ]
    },
    {
     "name": "stderr",
     "output_type": "stream",
     "text": [
      "3it [00:00,  3.75it/s]\n"
     ]
    },
    {
     "name": "stdout",
     "output_type": "stream",
     "text": [
      "    box loss-> 0.00615, object loss-> 0.01442, class loss-> 0.00000\n",
      "Validation:\n"
     ]
    },
    {
     "name": "stderr",
     "output_type": "stream",
     "text": [
      "1it [00:00,  4.97it/s]\n"
     ]
    },
    {
     "name": "stdout",
     "output_type": "stream",
     "text": [
      "    recall: 0.500000 precision: 0.992770 mAP@0.5: 0.495425, mAP@0.5-0.95: 0.346797\n",
      "\n",
      "Epoch 1000/1000\n",
      "----------\n",
      "Train: \n"
     ]
    },
    {
     "name": "stderr",
     "output_type": "stream",
     "text": [
      "3it [00:00,  3.69it/s]\n"
     ]
    },
    {
     "name": "stdout",
     "output_type": "stream",
     "text": [
      "    box loss-> 0.00632, object loss-> 0.01466, class loss-> 0.00000\n",
      "Validation:\n"
     ]
    },
    {
     "name": "stderr",
     "output_type": "stream",
     "text": [
      "1it [00:00,  4.88it/s]"
     ]
    },
    {
     "name": "stdout",
     "output_type": "stream",
     "text": [
      "    recall: 0.500000 precision: 0.978128 mAP@0.5: 0.495425, mAP@0.5-0.95: 0.346797\n",
      "\n",
      "Training completed in 17m 5s\n"
     ]
    },
    {
     "name": "stderr",
     "output_type": "stream",
     "text": [
      "\n"
     ]
    }
   ],
   "source": [
    "train.trainModel()"
   ]
  },
  {
   "cell_type": "code",
   "execution_count": 7,
   "metadata": {},
   "outputs": [],
   "source": [
    "from imageai.Detection.Custom import CustomObjectDetection\n",
    "\n",
    "detector = CustomObjectDetection()\n",
    "detector.setModelTypeAsTinyYOLOv3()\n",
    "detector.setModelPath(\"./pics/models/tiny-yolov3_pics_last.pt\")\n",
    "detector.setJsonPath(\"./pics/json/pics_tiny-yolov3_detection_config.json\")\n",
    "detector.loadModel()\n",
    "input_image = r\"C:\\Users\\Matt\\Desktop\\imgs\\julia\\IMG_2681.JPEG\"\n",
    "detections = detector.detectObjectsFromImage(\n",
    "    objectness_treshold=.5,\n",
    "    minimum_percentage_probability=.5,\n",
    "    input_image=input_image, \n",
    "    output_image_path='image2.jpg')\n"
   ]
  },
  {
   "cell_type": "code",
   "execution_count": 1,
   "metadata": {},
   "outputs": [
    {
     "ename": "NameError",
     "evalue": "name 'detections' is not defined",
     "output_type": "error",
     "traceback": [
      "\u001b[1;31m---------------------------------------------------------------------------\u001b[0m",
      "\u001b[1;31mNameError\u001b[0m                                 Traceback (most recent call last)",
      "Cell \u001b[1;32mIn[1], line 1\u001b[0m\n\u001b[1;32m----> 1\u001b[0m \u001b[39mprint\u001b[39m(detections)\n",
      "\u001b[1;31mNameError\u001b[0m: name 'detections' is not defined"
     ]
    }
   ],
   "source": [
    "print(detections)"
   ]
  },
  {
   "cell_type": "code",
   "execution_count": 1,
   "metadata": {},
   "outputs": [
    {
     "ename": "NameError",
     "evalue": "name 'detections' is not defined",
     "output_type": "error",
     "traceback": [
      "\u001b[1;31m---------------------------------------------------------------------------\u001b[0m",
      "\u001b[1;31mNameError\u001b[0m                                 Traceback (most recent call last)",
      "Cell \u001b[1;32mIn[1], line 1\u001b[0m\n\u001b[1;32m----> 1\u001b[0m \u001b[39mfor\u001b[39;00m detection \u001b[39min\u001b[39;00m detections:\n\u001b[0;32m      2\u001b[0m     \u001b[39mprint\u001b[39m(detection[\u001b[39m\"\u001b[39m\u001b[39mname\u001b[39m\u001b[39m\"\u001b[39m], \u001b[39m\"\u001b[39m\u001b[39m : \u001b[39m\u001b[39m\"\u001b[39m, detection[\u001b[39m\"\u001b[39m\u001b[39mpercentage_probability\u001b[39m\u001b[39m\"\u001b[39m], \u001b[39m\"\u001b[39m\u001b[39m : \u001b[39m\u001b[39m\"\u001b[39m, detection[\u001b[39m\"\u001b[39m\u001b[39mbox_points\u001b[39m\u001b[39m\"\u001b[39m])\n",
      "\u001b[1;31mNameError\u001b[0m: name 'detections' is not defined"
     ]
    }
   ],
   "source": [
    "for detection in detections:\n",
    "    print(detection[\"name\"], \" : \", detection[\"percentage_probability\"], \" : \", detection[\"box_points\"])"
   ]
  },
  {
   "cell_type": "code",
   "execution_count": 2,
   "metadata": {},
   "outputs": [
    {
     "name": "stdout",
     "output_type": "stream",
     "text": [
      "HELLO WRODL\n"
     ]
    }
   ],
   "source": [
    "print(\"HELLO WRODL\")"
   ]
  },
  {
   "cell_type": "code",
   "execution_count": null,
   "metadata": {},
   "outputs": [],
   "source": []
  }
 ],
 "metadata": {
  "kernelspec": {
   "display_name": "nlp",
   "language": "python",
   "name": "python3"
  },
  "language_info": {
   "codemirror_mode": {
    "name": "ipython",
    "version": 3
   },
   "file_extension": ".py",
   "mimetype": "text/x-python",
   "name": "python",
   "nbconvert_exporter": "python",
   "pygments_lexer": "ipython3",
   "version": "3.10.8"
  },
  "orig_nbformat": 4,
  "vscode": {
   "interpreter": {
    "hash": "fb4c56a0391368e6ecc204d5e2c1a0c83bc4d2562e1657dcef0b2a9ce3227154"
   }
  }
 },
 "nbformat": 4,
 "nbformat_minor": 2
}
